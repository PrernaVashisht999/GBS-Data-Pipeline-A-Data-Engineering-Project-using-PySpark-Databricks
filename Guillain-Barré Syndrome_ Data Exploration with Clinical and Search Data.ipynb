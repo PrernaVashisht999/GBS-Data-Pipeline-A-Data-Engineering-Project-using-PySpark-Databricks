{
 "cells": [
  {
   "cell_type": "markdown",
   "metadata": {
    "application/vnd.databricks.v1+cell": {
     "cellMetadata": {},
     "inputWidgets": {},
     "nuid": "6df4df21-e6d1-4958-90fe-e0c6f8b0a921",
     "showTitle": false,
     "tableResultSettingsMap": {},
     "title": ""
    }
   },
   "source": [
    "**PROJECT DESCRIPTION**\n",
    "\n",
    "This project explores data related to Guillain-Barré Syndrome from two sources clinical research data and search engine results. Using PySpark, I perform data cleaning, transformation, and exploratory analysis to understand patterns and insights from each dataset independently."
   ]
  },
  {
   "cell_type": "markdown",
   "metadata": {
    "application/vnd.databricks.v1+cell": {
     "cellMetadata": {
      "byteLimit": 2048000,
      "rowLimit": 10000
     },
     "inputWidgets": {},
     "nuid": "2419e18b-2d04-4023-920a-2c61fcb94612",
     "showTitle": false,
     "tableResultSettingsMap": {},
     "title": ""
    }
   },
   "source": [
    "**Fetching and Setting Up Data from Clinical and SerpApi APIs**"
   ]
  },
  {
   "cell_type": "code",
   "execution_count": 0,
   "metadata": {
    "application/vnd.databricks.v1+cell": {
     "cellMetadata": {
      "byteLimit": 2048000,
      "rowLimit": 10000
     },
     "inputWidgets": {},
     "nuid": "8651c7ff-8ef4-456a-8a8d-f8c6b7519f45",
     "showTitle": false,
     "tableResultSettingsMap": {},
     "title": ""
    }
   },
   "outputs": [
    {
     "output_type": "stream",
     "name": "stdout",
     "output_type": "stream",
     "text": [
      "{'studies': [{'protocolSection': {'identificationModule': {'nctId': 'NCT05212792',\n     'orgStudyIdInfo': {'id': 'H21-03404'},\n     'organization': {'fullName': 'University of British Columbia',\n      'class': 'OTHER'},\n     'briefTitle': 'Genomics and COVID-19 Vaccine Adverse Events',\n     'officialTitle': 'Genomics of COVID-19 Vaccine-induced Adverse Events (Guillain-Barré Syndrome [GBS], Vaccine-induced Immune Thrombotic Thrombocytopenia [VITT]/thrombosis with Thrombocytopenia Syndrome [TTS], and Myocarditis/pericarditis)'},\n    'statusModule': {'statusVerifiedDate': '2024-12',\n     'overallStatus': 'RECRUITING',\n     'expandedAccessInfo': {'hasExpandedAccess': False},\n     'startDateStruct': {'date': '2022-06-24', 'type': 'ACTUAL'},\n     'primaryCompletionDateStruct': {'date': '2025-12', 'type': 'ESTIMATED'},\n     'completionDateStruct': {'date': '2025-12', 'type': 'ESTIMATED'},\n     'studyFirstSubmitDate': '2022-01-25',\n     'studyFirstSubmitQcDate': '2022-01-25',\n     'studyFirstPostDateStruct': {'date': '2022-01-28', 'type': 'ACTUAL'},\n     'lastUpdateSubmitDate': '2024-12-03',\n     'lastUpdatePostDateStruct': {'date': '2024-12-05', 'type': 'ACTUAL'}},\n    'sponsorCollaboratorsModule': {'responsibleParty': {'type': 'PRINCIPAL_INVESTIGATOR',\n      'investigatorFullName': 'Bruce Carleton',\n      'investigatorTitle': \"Director, Pharmaceutical Outcomes Programme, BC Children's Hospital; Division Head, Translational Therapeutics, Department of Pediatrics, University of British Columbia\",\n      'investigatorAffiliation': 'University of British Columbia'},\n     'leadSponsor': {'name': 'University of British Columbia',\n      'class': 'OTHER'},\n     'collaborators': [{'name': 'Centers for Disease Control and Prevention',\n       'class': 'FED'}]},\n    'oversightModule': {'oversightHasDmc': False,\n     'isFdaRegulatedDrug': True,\n     'isFdaRegulatedDevice': False,\n     'isUsExport': True},\n    'descriptionModule': {'briefSummary': 'Vaccines routinely used are extremely safe; however, severe adverse events to vaccines do occur. As vaccination against COVID-19 has begun, adverse events to the vaccine, particularly Guillain-Barré syndrome (GBS), vaccine-induced immune thrombotic thrombocytopenia (VITT)/thrombosis with thrombocytopenia syndrome (TTS), and myocarditis/pericarditis, after COVID-19 vaccination have been reported worldwide.\\n\\nStudy hypothesis: there are genetic factors that contribute to increased risks of particular COVID-19 vaccine-induced adverse events.\\n\\nThe objective of the study is to determine if there are specific genetic factors strongly associated with each of the COVID-19 vaccine-induced adverse events (i.e., GBS, VITT/TTS, and myocarditis/pericarditis).',\n     'detailedDescription': 'Purpose:\\n\\nReduce the risk of COVID-19 vaccine-induced adverse events (i.e., GBS, VITT/TTS, and myocarditis/pericarditis) through improved understanding of the biology underlying these severe adverse events and the genetic contribution to their cause\\n\\nResearch Design:\\n\\n* Prospective case-control study designs will be performed to investigate the genetic associations of Guillain-Barré syndrome (GBS), vaccine-induced immune thrombotic thrombocytopenia (VITT)/thrombosis with thrombocytopenia syndrome (TTS), and myocarditis/pericarditis strongly associated (OR ≥ 3.0) with COVID-19 vaccination.\\n* Determined cases of specific COVID-19 vaccine-induced GBS, VITT/TTS, and myocarditis/pericarditis, and vaccinated controls without these adverse events will be included.\\n* Saliva DNA samples from eligible adverse event cases and vaccinated controls will be collected.\\n* Candidate gene and genome-wide association studies (GWAS) approaches will be conducted.\\n* Genomics analyses will be stratified by severity, age, sex, vaccine, and other critical covariates as determined by the GVDN Work Group for each adverse event and as adequately powered analyses allow.\\n* To complement GWAS, particularly in protein-coding regions, additional whole-exome sequencing (WES) will be performed on the most severe patients who are categorized as Brighton Collaboration Level One case of COVID-19 vaccine-induced adverse events to identify the most possible disease-causing mutations.'},\n    'conditionsModule': {'conditions': ['Vaccine Adverse Reaction'],\n     'keywords': ['Genomics',\n      'COVID-19 vaccine adverse event',\n      'Guillain-Barré syndrome (GBS)',\n      'Vaccine-induced Immune Thrombotic Thrombocytopenia (VITT)',\n      'Thrombosis with thrombocytopenia syndrome (TTS)',\n      'Myocarditis',\n      'Pericarditis']},\n    'designModule': {'studyType': 'OBSERVATIONAL',\n     'patientRegistry': False,\n     'designInfo': {'observationalModel': 'CASE_CONTROL',\n      'timePerspective': 'PROSPECTIVE'},\n     'bioSpec': {'retention': 'SAMPLES_WITH_DNA', 'description': 'Saliva'},\n     'enrollmentInfo': {'count': 6325, 'type': 'ESTIMATED'}},\n    'armsInterventionsModule': {'armGroups': [{'label': 'Case with COVID-19 vaccine adverse event',\n       'description': 'Patients with GBS, VITT/TTS, or myocarditis/pericarditis after COVID-19 vaccination',\n       'interventionNames': ['Biological: COVID-19 vaccines']},\n      {'label': 'Control without COVID-19 vaccine adverse event',\n       'description': 'Participants without experiencing GBS, VITT/TTS, or myocarditis/pericarditis after COVID-19 vaccination',\n       'interventionNames': ['Biological: COVID-19 vaccines']}],\n     'interventions': [{'type': 'BIOLOGICAL',\n       'name': 'COVID-19 vaccines',\n       'description': 'Any licensing COVID-19 vaccine platform',\n       'armGroupLabels': ['Case with COVID-19 vaccine adverse event',\n        'Control without COVID-19 vaccine adverse event']}]},\n    'outcomesModule': {'primaryOutcomes': [{'measure': 'Determine specific genetic factors associated with particular COVID-19 vaccine-induced Guillain-Barré syndrome (GBS), vaccine-induced immune thrombotic thrombocytopenia (VITT)/thrombosis with thrombocytopenia syndrome (TTS), and myocarditis/pericarditis',\n       'timeFrame': 'December 2025'}]},\n    'eligibilityModule': {'eligibilityCriteria': 'Inclusion Criteria:\\n\\n* Case: Any patient who received COVID-19 vaccines and developed GBS, VITT/TTS, or myocarditis/pericarditis after vaccination\\n* Control: Any participant who received COVID-19 vaccines and does not experience GBS, VITT/TTS, or myocarditis/pericarditis.\\n\\nExclusion Criteria:\\n\\n* Individuals who have not received a COVID-19 vaccine\\n* Individuals who are unable to provide informed consent',\n     'healthyVolunteers': True,\n     'sex': 'ALL',\n     'minimumAge': '5 Years',\n     'maximumAge': '99 Years',\n     'stdAges': ['CHILD', 'ADULT', 'OLDER_ADULT'],\n     'studyPopulation': 'Any individual who received a COVID-19 vaccine.\\n\\nA total of 825 adverse event cases (n=275 each for GBS, VITT/TTS, and myocarditis/pericarditis) and 5,500 vaccine-matched controls (n=2,750 each for mRNA and adenovirus vector COVID-19 vaccine platforms) will be recruited.',\n     'samplingMethod': 'NON_PROBABILITY_SAMPLE'},\n    'contactsLocationsModule': {'centralContacts': [{'name': 'Bruce Carleton, PharmD',\n       'role': 'CONTACT',\n       'phone': '1.877.878.4131',\n       'email': 'bcarleton@popi.ubc.ca'}],\n     'overallOfficials': [{'name': 'Bruce Carleton, PharmD',\n       'affiliation': 'University of British Columbia',\n       'role': 'PRINCIPAL_INVESTIGATOR'}],\n     'locations': [{'facility': \"British Columbia Children's Hospital Research Institute\",\n       'status': 'RECRUITING',\n       'city': 'Vancouver',\n       'state': 'British Columbia',\n       'zip': 'V5Z 4H4',\n       'country': 'Canada',\n       'contacts': [{'name': 'Bruce Carleton, PharmD', 'role': 'CONTACT'}],\n       'geoPoint': {'lat': 49.24966, 'lon': -123.11934}}]},\n    'referencesModule': {'seeAlsoLinks': [{'label': 'Global Vaccine Data Network and project information',\n       'url': 'https://www.globalvaccinedatanetwork.org/'}]}},\n   'derivedSection': {'miscInfoModule': {'versionHolder': '2025-05-23'},\n    'conditionBrowseModule': {'meshes': [{'id': 'D000086382',\n       'term': 'COVID-19'},\n      {'id': 'D020275', 'term': 'Guillain-Barre Syndrome'},\n      {'id': 'D013921', 'term': 'Thrombocytopenia'}],\n     'ancestors': [{'id': 'D011024', 'term': 'Pneumonia, Viral'},\n      {'id': 'D011014', 'term': 'Pneumonia'},\n      {'id': 'D012141', 'term': 'Respiratory Tract Infections'},\n      {'id': 'D007239', 'term': 'Infections'},\n      {'id': 'D014777', 'term': 'Virus Diseases'},\n      {'id': 'D018352', 'term': 'Coronavirus Infections'},\n      {'id': 'D003333', 'term': 'Coronaviridae Infections'},\n      {'id': 'D030341', 'term': 'Nidovirales Infections'},\n      {'id': 'D012327', 'term': 'RNA Virus Infections'},\n      {'id': 'D008171', 'term': 'Lung Diseases'},\n      {'id': 'D012140', 'term': 'Respiratory Tract Diseases'},\n      {'id': 'D001791', 'term': 'Blood Platelet Disorders'},\n      {'id': 'D006402', 'term': 'Hematologic Diseases'},\n      {'id': 'D000095542', 'term': 'Cytopenia'},\n      {'id': 'D011129', 'term': 'Polyradiculoneuropathy'},\n      {'id': 'D020274', 'term': 'Autoimmune Diseases of the Nervous System'},\n      {'id': 'D009422', 'term': 'Nervous System Diseases'},\n      {'id': 'D003711', 'term': 'Demyelinating Diseases'},\n      {'id': 'D011115', 'term': 'Polyneuropathies'},\n      {'id': 'D010523', 'term': 'Peripheral Nervous System Diseases'},\n      {'id': 'D009468', 'term': 'Neuromuscular Diseases'},\n      {'id': 'D001327', 'term': 'Autoimmune Diseases'},\n      {'id': 'D007154', 'term': 'Immune System Diseases'},\n      {'id': 'D000094025', 'term': 'Post-Infectious Disorders'},\n      {'id': 'D002908', 'term': 'Chronic Disease'},\n      {'id': 'D020969', 'term': 'Disease Attributes'},\n      {'id': 'D010335', 'term': 'Pathologic Processes'}],\n     'browseLeaves': [{'id': 'M16355', 'name': 'Syndrome', 'relevance': 'LOW'},\n      {'id': 'M16686', 'name': 'Thrombosis', 'relevance': 'LOW'},\n      {'id': 'M16680',\n       'name': 'Thrombocytopenia',\n       'asFound': 'Thrombocytopenia',\n       'relevance': 'HIGH'},\n      {'id': 'M2561',\n       'name': 'COVID-19',\n       'asFound': 'COVID-19',\n       'relevance': 'HIGH'},\n      {'id': 'M12157', 'name': 'Myocarditis', 'relevance': 'LOW'},\n      {'id': 'M22095',\n       'name': 'Guillain-Barre Syndrome',\n       'asFound': 'Guillain-Barre Syndrome',\n       'relevance': 'HIGH'},\n      {'id': 'M13403', 'name': 'Pericarditis', 'relevance': 'LOW'},\n      {'id': 'M13904', 'name': 'Pneumonia', 'relevance': 'LOW'},\n      {'id': 'M13914', 'name': 'Pneumonia, Viral', 'relevance': 'LOW'},\n      {'id': 'M10283', 'name': 'Infections', 'relevance': 'LOW'},\n      {'id': 'M6368', 'name': 'Communicable Diseases', 'relevance': 'LOW'},\n      {'id': 'M14978',\n       'name': 'Respiratory Tract Infections',\n       'relevance': 'LOW'},\n      {'id': 'M17522', 'name': 'Virus Diseases', 'relevance': 'LOW'},\n      {'id': 'M20490', 'name': 'Coronavirus Infections', 'relevance': 'LOW'},\n      {'id': 'M6555', 'name': 'Coronaviridae Infections', 'relevance': 'LOW'},\n      {'id': 'M23685', 'name': 'Nidovirales Infections', 'relevance': 'LOW'},\n      {'id': 'M15149', 'name': 'RNA Virus Infections', 'relevance': 'LOW'},\n      {'id': 'M11168', 'name': 'Lung Diseases', 'relevance': 'LOW'},\n      {'id': 'M14977',\n       'name': 'Respiratory Tract Diseases',\n       'relevance': 'LOW'},\n      {'id': 'M5072', 'name': 'Blood Platelet Disorders', 'relevance': 'LOW'},\n      {'id': 'M9490', 'name': 'Hematologic Diseases', 'relevance': 'LOW'},\n      {'id': 'M3170', 'name': 'Cytopenia', 'relevance': 'LOW'},\n      {'id': 'M14013', 'name': 'Polyradiculoneuropathy', 'relevance': 'LOW'},\n      {'id': 'M4629', 'name': 'Autoimmune Diseases', 'relevance': 'LOW'},\n      {'id': 'M22094',\n       'name': 'Autoimmune Diseases of the Nervous System',\n       'relevance': 'LOW'},\n      {'id': 'M6909', 'name': 'Demyelinating Diseases', 'relevance': 'LOW'},\n      {'id': 'M13999', 'name': 'Polyneuropathies', 'relevance': 'LOW'},\n      {'id': 'M13432',\n       'name': 'Peripheral Nervous System Diseases',\n       'relevance': 'LOW'},\n      {'id': 'M12411', 'name': 'Neuromuscular Diseases', 'relevance': 'LOW'},\n      {'id': 'M10200', 'name': 'Immune System Diseases', 'relevance': 'LOW'},\n      {'id': 'M3014', 'name': 'Post-Infectious Disorders', 'relevance': 'LOW'},\n      {'id': 'M6147', 'name': 'Chronic Disease', 'relevance': 'LOW'},\n      {'id': 'M22700', 'name': 'Disease Attributes', 'relevance': 'LOW'},\n      {'id': 'T4005', 'name': 'Myocarditis', 'relevance': 'LOW'},\n      {'id': 'T2640',\n       'name': 'Guillain-Barre Syndrome',\n       'asFound': 'Guillain-Barre Syndrome',\n       'relevance': 'HIGH'},\n      {'id': 'T1303',\n       'name': 'Chronic Graft Versus Host Disease',\n       'relevance': 'LOW'}],\n     'browseBranches': [{'abbrev': 'BC23',\n       'name': 'Symptoms and General Pathology'},\n      {'abbrev': 'All', 'name': 'All Conditions'},\n      {'abbrev': 'BC14', 'name': 'Heart and Blood Diseases'},\n      {'abbrev': 'BC15', 'name': 'Blood and Lymph Conditions'},\n      {'abbrev': 'BC01', 'name': 'Infections'},\n      {'abbrev': 'BC08',\n       'name': 'Respiratory Tract (Lung and Bronchial) Diseases'},\n      {'abbrev': 'BC10', 'name': 'Nervous System Diseases'},\n      {'abbrev': 'BC20', 'name': 'Immune System Diseases'},\n      {'abbrev': 'Rare', 'name': 'Rare Diseases'}]},\n    'interventionBrowseModule': {'browseLeaves': [{'id': 'M17360',\n       'name': 'Vaccines',\n       'relevance': 'LOW'}],\n     'browseBranches': [{'abbrev': 'All',\n       'name': 'All Drugs and Chemicals'}]}},\n   'hasResults': False},\n  {'protocolSection': {'identificationModule': {'nctId': 'NCT04166357',\n     'orgStudyIdInfo': {'id': 'Mansoura University Hospital 5'},\n     'organization': {'fullName': 'Mansoura University Hospital',\n      'class': 'OTHER'},\n     'briefTitle': 'Early Prediction of Respiratory and Autonomic Complications of GBS Using Neuromuscular Ultrasound',\n     'officialTitle': 'Early Prediction of Respiratory and Autonomic Complications of GBS Using Neuromuscular Ultrasound'},\n    'statusModule': {'statusVerifiedDate': '2019-11',\n     'overallStatus': 'UNKNOWN',\n     'lastKnownStatus': 'RECRUITING',\n     'expandedAccessInfo': {'hasExpandedAccess': False},\n     'startDateStruct': {'date': '2019-07-01', 'type': 'ACTUAL'},\n     'primaryCompletionDateStruct': {'date': '2020-07-01',\n      'type': 'ESTIMATED'},\n     'completionDateStruct': {'date': '2020-11-01', 'type': 'ESTIMATED'},\n     'studyFirstSubmitDate': '2019-11-12',\n     'studyFirstSubmitQcDate': '2019-11-15',\n     'studyFirstPostDateStruct': {'date': '2019-11-18', 'type': 'ACTUAL'},\n     'lastUpdateSubmitDate': '2019-11-15',\n     'lastUpdatePostDateStruct': {'date': '2019-11-18', 'type': 'ACTUAL'}},\n    'sponsorCollaboratorsModule': {'responsibleParty': {'type': 'PRINCIPAL_INVESTIGATOR',\n      'investigatorFullName': 'Ahmed Esmael',\n      'investigatorTitle': 'Assistant Prof of Neurology',\n      'investigatorAffiliation': 'Mansoura University Hospital'},\n     'leadSponsor': {'name': 'Mansoura University Hospital',\n      'class': 'OTHER'}},\n    'oversightModule': {'oversightHasDmc': False,\n     'isFdaRegulatedDrug': False,\n     'isFdaRegulatedDevice': False},\n    'descriptionModule': {'briefSummary': 'Neuromuscular US will be a good and non invasive predictor for respiratory and autonomic dysfunctions in GBS through evaluation of diaphragmatic thickness, phrenic and vagus nerve cross sectional area.',\n     'detailedDescription': \"Patients presented in the ER with clinical manifestations and examination suggesting GBS are admitted to neurology department. Confirmation of the diagnosis of GBS is done by fulfilling the clinical diagnostic criteria, CSF examination is done searching for cytoalbuminous dissociation ,serum electrolytes, toxicological screening ,virology to exclude mimics of GBS.\\n\\nPatients will undergo electrophysiological study (motor NCS of both median ulnar ,tibial ,and peroneal nerves ). Distal motor latency (dmL), nerve conduction velocity (CV) and compound muscle action potential (CMAP)amplitude measurements were undertaken as well as measurements of the mean F-M-latencies of both median ,ulnar and tibial nerves (F-wave latency-dmL). Similarly, sensory nerve conduction study is applied on both median and ulnar nerves ,(dml is assessed. According to the electophysiological study results, patients will be grouped into:\\n\\n* AIDP: If two or more nerves showed demyelinating features (distal latency prolongation, slow nerve conduction velocity, conduction block, or prolonged F wave latency) on motor nerve conduction study.\\n* AMAN: Normal sensory conduction studies and unrecordable or reduced compound muscle action potential on motor nerve conduction study. There should not be more than one demyelinating feature in any nerve.\\n* AMSAN: If both motor and sensory nerve conduction studies revealed features of axonal neuropathy such as reduced or absent CMAP and SNAP, marginal slowing or normal conduction velocity and absence of conduction block.\\n* Inexcitable: Absent CMAP in all motor nerves (or present in only one nerve with CMAP \\\\<10%of lower limit of normal).\\n* Equivocal: GBS patients not fulfilling the above neurophysiologic criteria.\\n\\nThen patients will be assessed clinically using the Medical Research Council (MRC) grading for power and Hughes functional grading scale scores.\\n\\nMuscle groups (right and left) assessed in the measurement of the MRC sums core are:\\n\\n* Abduction of the arm\\n* Flexion of the forearm\\n* Extension of the wrist\\n* Flexion of the leg\\n* Extension of the knee\\n* Dorsal flexion of the foot 0 = No visible contraction\\n\\n  1. = Visible contraction without movement of the limb\\n  2. = Movement of the limb but not against gravity\\n  3. = Movement against gravity over (almost) the full range\\n  4. = Movement against gravity and resistance\\n  5. = Normal The MRC-sums core ranges from 0 (paralytic) to 60 (normal strength). (Kleyweg RP et al.,1988)\\n\\nGuillain-Barré syndrome disability scale 0 A healthy state\\n\\n1. Minor symptoms and capable of running\\n2. Able to walk 10 m or more without assistance but unable to run\\n3. Able to walk 10 m across an open space with help\\n4. Bedridden or chair bound\\n5. Requiring assisted ventilation for at least part of the day\\n6. Dead\\n\\nBasal and every day arterial blood gases unless new respiratory event occurs. Basal pulmonary function test is done. Clinical assessment for autonomic dysfunction: In addition to reported or clinically evaluated symptoms (sweating problems, orthostatic dysregulation, sexual dysfunction). ECG is done day after day and blood pressure measurements five times daily for at least the first seven days of acute hospitalization.\\n\\nUltrasonography is done on diaphragm, phrenic nerve and vagus nerve. As regard diaphragmatic ultrasound:\\n\\nthe index test (ultrasound imaging of the diaphragm) is used. A high-resolution portable ultrasound machine is used, with a 7- to 13-MHz linear array transducer. Patients will be examined in the supine position. The diaphragm was identified as a 3-layered structure lying deep to the intercostals muscles and subcutaneous tissue. 3 images captured at end-expiration and 3 images captured after the patient is asked to inhale as deeply as possible. The transducer is positioned in a sagittal oblique plane, spanning 2 ribs, at approximately the anterior axillary line, overlying one of the most caudal intercostal spaces. Measurements of diaphragm thickness are made using electronic calipers, and the 3 images for each position are then averaged to give a thickness at resting end-expiration (TMIN) and at maximal inspiration (TMAX), from which a diaphragm thickening ratio is derived: TMAX/TMIN. Normal diaphragm thickness is defined as ≥0.14 cm and the normal diaphragm thickening ratio is defined as ≥1.2.\\n\\nAs regard phrenic nerve US:\\n\\nUnder the guidance of a high resolution ultrasound with the patient's head towards the left, the ultrasound probe (frequency, 7-13MHz) was placed on the right side of the neck. The axial scanning of the neck along the surface of the anterior scalene muscle, showed that the phrenic nerve rounded the anterior scalene muscle from the outside to the inside, and coursed through the trench between the common carotid artery and anterior scalene muscle.\\n\\nAs regard vagus us:\\n\\nAll participants were examined with HRUS by a(7-12) MHz transducer. Each VN was visualized in the axial plane at the level of the thyroid gland, and three images were recorded at each side. To assess the VN-CSA its contour within the hyperechoic epineural rim was outlined.. The median of the three VN-CSA measurements was used for statistical analyses.\\n\\nPatients then undergo plasmapharesis 50 mL/kg, on 5 separate occasions over 1-2 weeks.\\n\\nPatients after that are evaluated again (4 weeks from the onset of the condition)ie at the end of the acute stage of Guillan Barre syndrome by MRC and Hughes clinical scores and clinical evaluation of autonomic and respiratory dysfunctions will be also assessed . Ultrasound will be done on diaphragm, phrenic nerve and vagus nerve again.\"},\n    'conditionsModule': {'conditions': ['Guillain Barre Syndrome'],\n     'keywords': ['Guillain Barre Syndrome, neuromuscular ultrasound']},\n    'designModule': {'studyType': 'OBSERVATIONAL',\n     'patientRegistry': False,\n     'designInfo': {'observationalModel': 'CASE_ONLY',\n      'timePerspective': 'RETROSPECTIVE'},\n     'enrollmentInfo': {'count': 100, 'type': 'ESTIMATED'}},\n    'armsInterventionsModule': {'armGroups': [{'label': 'Respiratory and autonomic complications of GBS',\n       'description': 'Early detection of respiratory failure is among the main challenges raised by the management of GBS. Careful monitoring by an experienced team of nurses and physicians is crucial. The classic signs of respiratory failure occur late, and the early manifestations consist only of tachypnea, tachycardia, air hunger, broken sentences, and a need to pause between sentences; later, use of the accessory respiratory muscles, paradoxical breathing, and orthopnea indicate severe diaphragmatic weakness.\\n\\nAutonomic dysfunction occurred in the affected patients, including cardiac arrhythmia, hypertension or hypotension, ileus, and urinary retention.',\n       'interventionNames': ['Diagnostic Test: neuromuscular ultrasound']}],\n     'interventions': [{'type': 'DIAGNOSTIC_TEST',\n       'name': 'neuromuscular ultrasound',\n       'description': 'Neuromuscular ultrasound refers to a field in medicine in which ultrasound is used to diagnosis and guide treatment for people with neuromuscular diseases. Neuromuscular ultrasound is often combined with electrodiagnosis, and particularly nerve conduction studies and EMG, to improve the accuracy of diagnosis and add anatomic information to the functional information obtained with electrodiagnosis. It has been demonstrated that neuromuscular ultrasound adds value to the diagnosis of nerve disease in over 80% of cases.',\n       'armGroupLabels': ['Respiratory and autonomic complications of GBS']}]},\n    'outcomesModule': {'primaryOutcomes': [{'measure': 'Neuromuscular ultrasound',\n       'description': 'Sensitivity and specificity of US in predicting respiratory and autonomic complications in Guillain Barre Syndrome',\n       'timeFrame': '24-48 hours'}],\n     'secondaryOutcomes': [{'measure': 'Respiratory and autonomic complications',\n       'description': 'Incidence of cases developing respiratory and autonomic complications through the course of the disease.',\n       'timeFrame': '1 month'},\n      {'measure': 'Correlation between clinical scores and reference US values',\n       'description': 'Correlation between clinical scores and reference US values of diaphragm, phrenic and vagus nerves in prediction of respiratory and autonomic complications of Guillain Barre Syndrome',\n       'timeFrame': '48-72 hours'}]},\n    'eligibilityModule': {'eligibilityCriteria': 'Inclusion Criteria:\\n\\n* Patients that will fulfill the published diagnostic criteria of GBS.\\n* Age: 18-65\\n* Both sexes\\n\\nExclusion Criteria:\\n\\n* History of cardiopulmonary dysfunction\\n* BMI\\\\>30 Kg/m2\\n* Renal or hepatic failure\\n* Sepsis\\n* Autonomic or respiratory dysfunction from the start\\n* Patients with hypo- or hyperkalemic paralysis, porphyria, viral myositis, botulism, diphtheritic neuropathy, and history of potential toxic exposure were excluded.\\n* Abnormal pulmonary function test from the start.',\n     'healthyVolunteers': False,\n     'sex': 'ALL',\n     'minimumAge': '18 Years',\n     'maximumAge': '65 Years',\n     'stdAges': ['ADULT', 'OLDER_ADULT'],\n     'studyPopulation': '100 Patients that will fulfill the published diagnostic criteria of GBS.',\n     'samplingMethod': 'PROBABILITY_SAMPLE'},\n    'contactsLocationsModule': {'centralContacts': [{'name': 'Esmael M Ahmed, MD',\n       'role': 'CONTACT',\n       'phone': '00201000372787'\n\n*** WARNING: max output size exceeded, skipping output. ***\n\nological, and electrophysiology criteria for Guillain-barre syndrome.\\n\\nExclusion Criteria:\\n\\n* nonidiopathic Guillain-barre syndrome and Miller Fisher syndrome',\n     'healthyVolunteers': False,\n     'sex': 'ALL',\n     'stdAges': ['CHILD', 'ADULT', 'OLDER_ADULT']},\n    'contactsLocationsModule': {'centralContacts': [{'name': 'Binbin Deng',\n       'role': 'CONTACT',\n       'phone': 'dbinbin@aliyun.com'}],\n     'locations': [{'facility': 'First Affiliated Hospital of Wenzhou Medical University',\n       'status': 'RECRUITING',\n       'city': 'Wenzhou',\n       'state': 'Zhejiang',\n       'zip': '325000',\n       'country': 'China',\n       'contacts': [{'name': 'Binbin Deng, Doctor',\n         'role': 'CONTACT',\n         'phone': '+8613695720610',\n         'email': 'dbinbin@aliyun.com'}],\n       'geoPoint': {'lat': 27.99942, 'lon': 120.66682}}]}},\n   'derivedSection': {'miscInfoModule': {'versionHolder': '2025-05-23'},\n    'conditionBrowseModule': {'meshes': [{'id': 'D020275',\n       'term': 'Guillain-Barre Syndrome'},\n      {'id': 'D013577', 'term': 'Syndrome'}],\n     'ancestors': [{'id': 'D004194', 'term': 'Disease'},\n      {'id': 'D010335', 'term': 'Pathologic Processes'},\n      {'id': 'D011129', 'term': 'Polyradiculoneuropathy'},\n      {'id': 'D020274', 'term': 'Autoimmune Diseases of the Nervous System'},\n      {'id': 'D009422', 'term': 'Nervous System Diseases'},\n      {'id': 'D003711', 'term': 'Demyelinating Diseases'},\n      {'id': 'D011115', 'term': 'Polyneuropathies'},\n      {'id': 'D010523', 'term': 'Peripheral Nervous System Diseases'},\n      {'id': 'D009468', 'term': 'Neuromuscular Diseases'},\n      {'id': 'D001327', 'term': 'Autoimmune Diseases'},\n      {'id': 'D007154', 'term': 'Immune System Diseases'},\n      {'id': 'D000094025', 'term': 'Post-Infectious Disorders'},\n      {'id': 'D002908', 'term': 'Chronic Disease'},\n      {'id': 'D020969', 'term': 'Disease Attributes'}],\n     'browseLeaves': [{'id': 'M16355',\n       'name': 'Syndrome',\n       'asFound': 'Syndrome',\n       'relevance': 'HIGH'},\n      {'id': 'M22095',\n       'name': 'Guillain-Barre Syndrome',\n       'asFound': 'Guillain-Barre Syndrome',\n       'relevance': 'HIGH'},\n      {'id': 'M14013', 'name': 'Polyradiculoneuropathy', 'relevance': 'LOW'},\n      {'id': 'M4629', 'name': 'Autoimmune Diseases', 'relevance': 'LOW'},\n      {'id': 'M22094',\n       'name': 'Autoimmune Diseases of the Nervous System',\n       'relevance': 'LOW'},\n      {'id': 'M6909', 'name': 'Demyelinating Diseases', 'relevance': 'LOW'},\n      {'id': 'M13999', 'name': 'Polyneuropathies', 'relevance': 'LOW'},\n      {'id': 'M13432',\n       'name': 'Peripheral Nervous System Diseases',\n       'relevance': 'LOW'},\n      {'id': 'M12411', 'name': 'Neuromuscular Diseases', 'relevance': 'LOW'},\n      {'id': 'M10200', 'name': 'Immune System Diseases', 'relevance': 'LOW'},\n      {'id': 'M10283', 'name': 'Infections', 'relevance': 'LOW'},\n      {'id': 'M6368', 'name': 'Communicable Diseases', 'relevance': 'LOW'},\n      {'id': 'M3014', 'name': 'Post-Infectious Disorders', 'relevance': 'LOW'},\n      {'id': 'M6147', 'name': 'Chronic Disease', 'relevance': 'LOW'},\n      {'id': 'M22700', 'name': 'Disease Attributes', 'relevance': 'LOW'},\n      {'id': 'T2640',\n       'name': 'Guillain-Barre Syndrome',\n       'asFound': 'Guillain-Barre Syndrome',\n       'relevance': 'HIGH'},\n      {'id': 'T1303',\n       'name': 'Chronic Graft Versus Host Disease',\n       'relevance': 'LOW'}],\n     'browseBranches': [{'abbrev': 'BC23',\n       'name': 'Symptoms and General Pathology'},\n      {'abbrev': 'All', 'name': 'All Conditions'},\n      {'abbrev': 'BC10', 'name': 'Nervous System Diseases'},\n      {'abbrev': 'BC20', 'name': 'Immune System Diseases'},\n      {'abbrev': 'BC01', 'name': 'Infections'},\n      {'abbrev': 'Rare', 'name': 'Rare Diseases'}]},\n    'interventionBrowseModule': {'meshes': [{'id': 'D008775',\n       'term': 'Methylprednisolone'},\n      {'id': 'D007136', 'term': 'Immunoglobulins'},\n      {'id': 'D016756', 'term': 'Immunoglobulins, Intravenous'},\n      {'id': 'D005719', 'term': 'gamma-Globulins'},\n      {'id': 'D018029', 'term': 'Rho(D) Immune Globulin'}],\n     'ancestors': [{'id': 'D000893', 'term': 'Anti-Inflammatory Agents'},\n      {'id': 'D000932', 'term': 'Antiemetics'},\n      {'id': 'D001337', 'term': 'Autonomic Agents'},\n      {'id': 'D018373', 'term': 'Peripheral Nervous System Agents'},\n      {'id': 'D045505', 'term': 'Physiological Effects of Drugs'},\n      {'id': 'D005765', 'term': 'Gastrointestinal Agents'},\n      {'id': 'D005938', 'term': 'Glucocorticoids'},\n      {'id': 'D006728', 'term': 'Hormones'},\n      {'id': 'D006730',\n       'term': 'Hormones, Hormone Substitutes, and Hormone Antagonists'},\n      {'id': 'D018696', 'term': 'Neuroprotective Agents'},\n      {'id': 'D020011', 'term': 'Protective Agents'},\n      {'id': 'D007155', 'term': 'Immunologic Factors'}],\n     'browseLeaves': [{'id': 'M19117',\n       'name': 'Immunoglobulins, Intravenous',\n       'asFound': 'Anamorelin',\n       'relevance': 'HIGH'},\n      {'id': 'M4225', 'name': 'Antibodies', 'relevance': 'LOW'},\n      {'id': 'M10184',\n       'name': 'Immunoglobulins',\n       'asFound': 'Central',\n       'relevance': 'HIGH'},\n      {'id': 'M11749',\n       'name': 'Methylprednisolone',\n       'asFound': 'Replacement',\n       'relevance': 'HIGH'},\n      {'id': 'M1833',\n       'name': 'Methylprednisolone Acetate',\n       'relevance': 'LOW'},\n      {'id': 'M11750',\n       'name': 'Methylprednisolone Hemisuccinate',\n       'relevance': 'LOW'},\n      {'id': 'M14120', 'name': 'Prednisolone', 'relevance': 'LOW'},\n      {'id': 'M229449', 'name': 'Prednisolone acetate', 'relevance': 'LOW'},\n      {'id': 'M211887',\n       'name': 'Prednisolone hemisuccinate',\n       'relevance': 'LOW'},\n      {'id': 'M248881', 'name': 'Prednisolone phosphate', 'relevance': 'LOW'},\n      {'id': 'M9789', 'name': 'Hormones', 'relevance': 'LOW'},\n      {'id': 'M8836',\n       'name': 'gamma-Globulins',\n       'asFound': 'Regeneration',\n       'relevance': 'HIGH'},\n      {'id': 'M20191',\n       'name': 'Rho(D) Immune Globulin',\n       'asFound': 'Regeneration',\n       'relevance': 'HIGH'},\n      {'id': 'M4217', 'name': 'Anti-Inflammatory Agents', 'relevance': 'LOW'},\n      {'id': 'M4251', 'name': 'Antiemetics', 'relevance': 'LOW'},\n      {'id': 'M8881', 'name': 'Gastrointestinal Agents', 'relevance': 'LOW'},\n      {'id': 'M9047', 'name': 'Glucocorticoids', 'relevance': 'LOW'},\n      {'id': 'M9788', 'name': 'Hormone Antagonists', 'relevance': 'LOW'},\n      {'id': 'M20773', 'name': 'Neuroprotective Agents', 'relevance': 'LOW'},\n      {'id': 'M21869', 'name': 'Protective Agents', 'relevance': 'LOW'},\n      {'id': 'M10201', 'name': 'Immunologic Factors', 'relevance': 'LOW'}],\n     'browseBranches': [{'abbrev': 'All', 'name': 'All Drugs and Chemicals'},\n      {'abbrev': 'Infl', 'name': 'Anti-Inflammatory Agents'},\n      {'abbrev': 'AnEm', 'name': 'Antiemetics'},\n      {'abbrev': 'NeuroAg', 'name': 'Neuroprotective Agents'},\n      {'abbrev': 'Gast', 'name': 'Gastrointestinal Agents'},\n      {'abbrev': 'ANeo', 'name': 'Antineoplastic Agents'}]}},\n   'hasResults': False},\n  {'protocolSection': {'identificationModule': {'nctId': 'NCT00575653',\n     'orgStudyIdInfo': {'id': 'PH000274A'},\n     'organization': {'fullName': 'Harvard Pilgrim Health Care',\n      'class': 'OTHER'},\n     'briefTitle': 'Safety Study of GBS Following Menactra Meningococcal Vaccination',\n     'officialTitle': 'Risk of Guillain-Barré Syndrome Following Meningococcal Conjugate (MCV4) Vaccination'},\n    'statusModule': {'statusVerifiedDate': '2007-12',\n     'overallStatus': 'COMPLETED',\n     'expandedAccessInfo': {'hasExpandedAccess': False},\n     'startDateStruct': {'date': '2005-03'},\n     'primaryCompletionDateStruct': {'date': '2009-12-31', 'type': 'ACTUAL'},\n     'completionDateStruct': {'date': '2010-12-31', 'type': 'ACTUAL'},\n     'studyFirstSubmitDate': '2007-12-17',\n     'studyFirstSubmitQcDate': '2007-12-17',\n     'studyFirstPostDateStruct': {'date': '2007-12-18', 'type': 'ESTIMATED'},\n     'lastUpdateSubmitDate': '2017-03-15',\n     'lastUpdatePostDateStruct': {'date': '2017-03-16', 'type': 'ACTUAL'}},\n    'sponsorCollaboratorsModule': {'responsibleParty': {'type': 'PRINCIPAL_INVESTIGATOR',\n      'investigatorFullName': 'Richard Platt',\n      'investigatorTitle': 'Professor',\n      'investigatorAffiliation': 'Harvard Pilgrim Health Care'},\n     'leadSponsor': {'name': 'Harvard Pilgrim Health Care', 'class': 'OTHER'},\n     'collaborators': [{'name': 'Aetna, Inc.', 'class': 'INDUSTRY'},\n      {'name': 'HealthCore, Inc.', 'class': 'INDUSTRY'},\n      {'name': 'Highmark Blue Cross Blue Shield', 'class': 'UNKNOWN'},\n      {'name': 'i3 Drug Safety', 'class': 'OTHER'},\n      {'name': 'Kaiser Permanente', 'class': 'OTHER'}]},\n    'oversightModule': {'oversightHasDmc': False},\n    'descriptionModule': {'briefSummary': \"We are conducting a large, record-based study to assess the risk of Guillain-Barré Syndrome (GBS), a serious demyelinating disease, following immunization with the tetravalent meningococcal conjugate vaccine (Menactra) that is currently recommended for all adolescents. The study was requested by CDC and FDA because of an unexpected number of case reports to the CDC's Vaccine Adverse Event Reporting System (VAERS).\\n\\nThe study protocol was designed by the investigators, with input from FDA, CDC, and the vaccine's manufacturer, Sanofi-Pasteur. An external advisory board that includes CDC representation, provides input regarding important decisions. The manufacturer is not participating in the conduct of the study and has no control over the analysis or dissemination of results.\\n\\nThe study is derived from five large US health plans with a total membership of approximately 50 million over the study time period. America's Health Insurance Plans (AHIP) serves as liaison between the health plans and the Coordinating Center at the Department of Ambulatory Care and Prevention of Harvard Medical School and Harvard Pilgrim Health Care, and is the contracting organization with the health plans.\",\n     'detailedDescription': 'Through a partnership that uses the data and other resources of three national and two regional health plans and insurers, we are conducting a multi-site retrospective study of the relationship between immunization with tetravalent meningococcal conjugate vaccine (MCV4) and Guillain-Barré syndrome (GBS) in adolescents (ages 11-21 years of age) over the 42-month period of March 1, 2005 to August 31, 2008. This collaboration has several features of a distributed data network, and so provides an instructive example of the feasibility of large scale population-based post-market evidence development.\\n\\nParticipants include five research organizations that are either part of, or closely affiliated with, a health plan or insurer: HealthCore Inc. (affiliated with WellPoint), Highmark Blue Cross Blue Shield of Pennsylvania, i3 Drug Safety, Aetna, Inc., and Kaiser Permanente Center for Health Research of Hawaii. There is a coordinating center at the Harvard Medical School Department of Ambulatory Care and Prevention at Harvard Pilgrim Health Care.\\n\\nThe organizations provide coverage for approximately 80 million individuals (all ages), of whom the information for approximately 50 million will be available for analysis. Each organization provides scientific, informatics, and management expertise regarding its own population and data, and the overall design and conduct of the study.\\n\\nThis retrospective study uses a hybrid design with three analytic components: 1) characterization of the entire cohort with regard to demographics, eligible time under observation, immunization status, incidence rates of GBS during various categories of person time (never immunized, before immunization, during the 42 days after immunization, etc.), and comorbidities and other covariates, 2) a nested case-control study assessing risk associated with immunization, and 3) a self-controlled case series assessing immunization associated risk.\\n\\nCohort analysis\\n\\nSites will use programs distributed by the coordinating center to compute incidence rates of GBS according to age, sex, season, and MCV4 vaccination status among the full base population (health plan enrollees who meet age and cohort eligibility criteria). Additionally, vaccination rates for MCV4 according to age, sex, and calendar year will be computed among all cohort members. Incidence rates of GBS provided by these analyses will be used to calculate the attributable risk of GBS following MCV4 vaccination should a significant relationship be identified.\\n\\nNested case control analysis\\n\\nA nested case-control analysis utilizing pooled analytic datasets from all sites will be used to estimate the risk of GBS during the 42 days after MCV4 vaccination relative to the risk of GBS among vaccines and non-vaccinees at other times (the study\\'s primary objective), adjusted for age, sex, and other vaccinations among 11-\\\\<19 year olds.\\n\\nAll potential cases of GBS among the cohort members will be identified, and a sample of 100 non-cases from the same risk set as each case will be randomly selected and matched on age, sex, and state of residence. Their vaccination histories and other covariates will be included in analytic datasets to be transferred to the coordinating center for pooled multivariate analysis. Covariates will be estimated as of an index date assigned within each case-control set which is the date of GBS onset for the associated case.\\n\\nThe relative risk of GBS associated with MCV4 vaccination will be estimated using conditional logistic regression analysis in SAS.\\n\\nVariables will include:\\n\\n* Dependent variable: GBS case status\\n* Main independent variable: Analysis A: MCV4 vaccination in 1-42 days prior to index date; Analysis B: MCV4 vaccination in 1-7, 8-14, 15-28, 29-42 days prior to index date\\n* Matching factors: Age; sex; study site; state of residence\\n* Other covariates: Exposure to Tdap, Td, Hepatitis B, HPV, tetanus, and influenza vaccine during the 42 days prior to the GBS onset date; exposure to MPSV4 vaccine during the 42 days prior to the GBS onset date(separate model from model with MCV4 exposure)\\n\\nWe also will assess the potential effect modification between the different vaccines, and according to age, season, and geographic region, through stratified analysis and the testing of interaction terms within the conditional logistic regression model.\\n\\nSelf-Control Analysis\\n\\nAn additional case-series analysis (to be referred to as \"Analysis C\") will be performed among the subset of adjudicated GBS cases with prior MCV4 vaccination. Date of MCV4 vaccination will serve as the index date for each patient. The relative incidence rate of GBS during a \"control\" period of 43 or more days following vaccination will be compared to the incidence during the \"exposed\" risk window of 1-42 days following vaccination using log linear modeling with terms for the exposed and control periods.\\n\\nVariables will include:\\n\\n* Dependent variable: Time to GBS\\n* Main independent variable: Analysis C: Time period 1-42 days post vaccination compared with 43 or more days post vaccination\\n* Other covariates (to be included as sample size permits): Time periods corresponding to 1-42 days following each of: Tdap, Td, Hepatitis B, HPV, tetanus, and influenza vaccinations\\n\\nWe also will assess the potential effect modification between the different vaccines, and according to age, season, geographic region, and race/ethnicity, through stratified analysis and the testing of interaction terms within the log linear model, as sample size permits.\\n\\nAnalysis C will be performed once at the end of the study period.\\n\\nGBS Case Descriptive Analysis\\n\\nSeveral additional secondary objectives will be addressed from evaluation of GBS cases based on review of abstracted information from their medical charts, and administrative claims data.\\n\\nCases of GBS identified among cohort members 19-\\\\<22 years old will be identified from administrative claims data, and adjudicated through review of abstracted medical record information in a manner equivalent to that for cohort members 11-\\\\<19 years old. These cases will be quantified, and their clinical presentation described and compared with that of cases among 11-\\\\<19 year olds, with regard to at least the following factors: proportion of cases classified as definite GBS cases, severity of illness as measured by mortality, hospitalization for GBS, total duration of hospitalizations in days, mechanical ventilation required, total number of days of mechanical ventilation, intravenous immunoglobulin therapy, plasmapheresis, and immunosuppressive therapy. Similar comparisons will be made regarding the clinical presentation of GBS among MCV4 vaccinees compared to non-vaccinees.\\n\\nThe number of GBS cases with history of each of the other vaccines included in the study in the 42 days prior to GBS onset will also be described.\\n\\nA line list will be created for all potential cases of GBS. For adjudicated cases of GBS, the listing will indicate the final case status, elements of the case definition that were and were not met, immunization status (MCV4, MPSV4, Tdap, Td, HepB, HPV, tetanus, and influenza) and indicators of infection or febrile illness in the prior 42 days, gender, age, month and year of GBS onset, and a brief description of disease severity. Additional line lists will be created for censored cases (adjudicated non-cases) that include the reason for censoring, and for potential cases for which charts could not be obtained or insufficient information was obtained from the chart to adjudicate case status.'},\n    'conditionsModule': {'conditions': ['Guillain-Barre Syndrome'],\n     'keywords': ['Guillain-Barre Syndrome',\n      'Meningococcal vaccines',\n      'Tetravalent Meningococcal Vaccine',\n      'Vaccination',\n      'Vaccines',\n      'Vaccines, Conjugate']},\n    'designModule': {'studyType': 'OBSERVATIONAL',\n     'designInfo': {'observationalModel': 'COHORT',\n      'timePerspective': 'RETROSPECTIVE'},\n     'enrollmentInfo': {'count': 6000000, 'type': 'ACTUAL'}},\n    'armsInterventionsModule': {'armGroups': [{'label': '11-18 (Primary)',\n       'description': 'Enrolled members of one of the participating health plans who are ages 11-18 at any time during the study period, March 1, 2005 through August 31, 2008.'},\n      {'label': '19-21 (Secondary)',\n       'description': 'Enrolled members of one of the participating health plans who are ages 19-21 at any time during the study period, March 1, 2005 through August 31, 2008.'}]},\n    'outcomesModule': {'primaryOutcomes': [{'measure': 'Guillain-Barré syndrome (GBS), verified through neurologist review of medical records',\n       'timeFrame': 'within 42 days following vaccination'}],\n     'secondaryOutcomes': [{'measure': 'Clinical presentation and severity of GBS',\n       'timeFrame': 'following vaccination'}]},\n    'eligibilityModule': {'eligibilityCriteria': 'Inclusion Criteria:\\n\\n* Enrolled health plan members for at least 6 months prior to cohort entry\\n* Enrolled between March 1, 2005 and August 31, 2008\\n* Birth dates between March 2, 1986 and August 30, 1997 for the primary study cohort\\n* Birth dates between March 2, 1983 to March 1, 1986 for the secondary cohort\\n\\nExclusion Criteria:\\n\\n-None',\n     'healthyVolunteers': False,\n     'sex': 'ALL',\n     'minimumAge': '11 Years',\n     'maximumAge': '21 Years',\n     'stdAges': ['CHILD', 'ADULT'],\n     'studyPopulation': 'The primary study population will include adolescent health plan members 11-\\\\<19 years of age. A secondary cohort will include members 19-\\\\<22 years of age. Older adolescents are excluded from the primary cohort because an unknown proportion of immunizations to older individuals may be provided by colleges or other out-of-plan providers, and not be identifiable in health plan records.',\n     'samplingMethod': 'NON_PROBABILITY_SAMPLE'},\n    'contactsLocationsModule': {'overallOfficials': [{'name': 'Richard Platt, MD, MS',\n       'affiliation': 'Dept. of Ambulatory Care and Prevention, HMS/HPHC',\n       'role': 'PRINCIPAL_INVESTIGATOR'},\n      {'name': 'Priscilla Velentgas, PhD',\n       'affiliation': 'Dept. of Ambulatory Care and Prevention, HMS/HPHC',\n       'role': 'STUDY_DIRECTOR'}],\n     'locations': [{'facility': 'HealthCore, Inc.',\n       'city': 'Wilmington',\n       'state': 'Delaware',\n       'zip': '19801',\n       'country': 'United States',\n       'geoPoint': {'lat': 39.74595, 'lon': -75.54659}},\n      {'facility': 'Kaiser Permanente Center for Health Research Hawaii',\n       'city': 'Honolulu',\n       'state': 'Hawaii',\n       'zip': '96817',\n       'country': 'United States',\n       'geoPoint': {'lat': 21.30694, 'lon': -157.85833}},\n      {'facility': 'Department of Ambulatory Care and Prevention, Harvard Medical School and Harvard Pilgrim Health Care',\n       'city': 'Boston',\n       'state': 'Massachusetts',\n       'zip': '02215',\n       'country': 'United States',\n       'geoPoint': {'lat': 42.35843, 'lon': -71.05977}},\n      {'facility': 'i3 Drug Safety',\n       'city': 'Waltham',\n       'state': 'Massachusetts',\n       'zip': '02451',\n       'country': 'United States',\n       'geoPoint': {'lat': 42.37649, 'lon': -71.23561}},\n      {'facility': 'Aetna, Inc.',\n       'city': 'Blue Bell',\n       'state': 'Pennsylvania',\n       'country': 'United States',\n       'geoPoint': {'lat': 40.15233, 'lon': -75.26629}},\n      {'facility': 'Highmark Blue Cross Blue Shield',\n       'city': 'Pittsburgh',\n       'state': 'Pennsylvania',\n       'country': 'United States',\n       'geoPoint': {'lat': 40.44062, 'lon': -79.99589}}]}},\n   'derivedSection': {'miscInfoModule': {'versionHolder': '2025-05-23'},\n    'conditionBrowseModule': {'meshes': [{'id': 'D020275',\n       'term': 'Guillain-Barre Syndrome'},\n      {'id': 'D013577', 'term': 'Syndrome'}],\n     'ancestors': [{'id': 'D004194', 'term': 'Disease'},\n      {'id': 'D010335', 'term': 'Pathologic Processes'},\n      {'id': 'D011129', 'term': 'Polyradiculoneuropathy'},\n      {'id': 'D020274', 'term': 'Autoimmune Diseases of the Nervous System'},\n      {'id': 'D009422', 'term': 'Nervous System Diseases'},\n      {'id': 'D003711', 'term': 'Demyelinating Diseases'},\n      {'id': 'D011115', 'term': 'Polyneuropathies'},\n      {'id': 'D010523', 'term': 'Peripheral Nervous System Diseases'},\n      {'id': 'D009468', 'term': 'Neuromuscular Diseases'},\n      {'id': 'D001327', 'term': 'Autoimmune Diseases'},\n      {'id': 'D007154', 'term': 'Immune System Diseases'},\n      {'id': 'D000094025', 'term': 'Post-Infectious Disorders'},\n      {'id': 'D002908', 'term': 'Chronic Disease'},\n      {'id': 'D020969', 'term': 'Disease Attributes'}],\n     'browseLeaves': [{'id': 'M16355',\n       'name': 'Syndrome',\n       'asFound': 'Syndrome',\n       'relevance': 'HIGH'},\n      {'id': 'M22095',\n       'name': 'Guillain-Barre Syndrome',\n       'asFound': 'Guillain-Barre Syndrome',\n       'relevance': 'HIGH'},\n      {'id': 'M14013', 'name': 'Polyradiculoneuropathy', 'relevance': 'LOW'},\n      {'id': 'M4629', 'name': 'Autoimmune Diseases', 'relevance': 'LOW'},\n      {'id': 'M22094',\n       'name': 'Autoimmune Diseases of the Nervous System',\n       'relevance': 'LOW'},\n      {'id': 'M6909', 'name': 'Demyelinating Diseases', 'relevance': 'LOW'},\n      {'id': 'M13999', 'name': 'Polyneuropathies', 'relevance': 'LOW'},\n      {'id': 'M13432',\n       'name': 'Peripheral Nervous System Diseases',\n       'relevance': 'LOW'},\n      {'id': 'M12411', 'name': 'Neuromuscular Diseases', 'relevance': 'LOW'},\n      {'id': 'M10200', 'name': 'Immune System Diseases', 'relevance': 'LOW'},\n      {'id': 'M10283', 'name': 'Infections', 'relevance': 'LOW'},\n      {'id': 'M6368', 'name': 'Communicable Diseases', 'relevance': 'LOW'},\n      {'id': 'M3014', 'name': 'Post-Infectious Disorders', 'relevance': 'LOW'},\n      {'id': 'M6147', 'name': 'Chronic Disease', 'relevance': 'LOW'},\n      {'id': 'M22700', 'name': 'Disease Attributes', 'relevance': 'LOW'},\n      {'id': 'T2640',\n       'name': 'Guillain-Barre Syndrome',\n       'asFound': 'Guillain-Barre Syndrome',\n       'relevance': 'HIGH'},\n      {'id': 'T1303',\n       'name': 'Chronic Graft Versus Host Disease',\n       'relevance': 'LOW'}],\n     'browseBranches': [{'abbrev': 'BC23',\n       'name': 'Symptoms and General Pathology'},\n      {'abbrev': 'All', 'name': 'All Conditions'},\n      {'abbrev': 'BC10', 'name': 'Nervous System Diseases'},\n      {'abbrev': 'BC20', 'name': 'Immune System Diseases'},\n      {'abbrev': 'BC01', 'name': 'Infections'},\n      {'abbrev': 'Rare', 'name': 'Rare Diseases'}]},\n    'interventionBrowseModule': {'browseLeaves': [{'id': 'M17360',\n       'name': 'Vaccines',\n       'relevance': 'LOW'}],\n     'browseBranches': [{'abbrev': 'All',\n       'name': 'All Drugs and Chemicals'}]}},\n   'hasResults': False}]}"
     ]
    }
   ],
   "source": [
    "# Fetching Clinical Trials Data for Guillain-Barré Syndrome using Clinicaltrials.gov API\n",
    "\n",
    "import requests\n",
    "\n",
    "# URL and parameters\n",
    "url = \"https://clinicaltrials.gov/api/v2/studies\"\n",
    "params = {\n",
    "    \"query.cond\": \"Guillain-Barre\",\n",
    "    \"pageSize\": \"100\"\n",
    "}\n",
    "\n",
    "# To store all results\n",
    "all_studies = []  \n",
    "\n",
    "while True:\n",
    "    # API request\n",
    "    response = requests.get(url, params=params)\n",
    "    data = response.json()\n",
    "    \n",
    "    # Append current page studies\n",
    "    all_studies.extend(data.get(\"studies\", []))\n",
    "    \n",
    "    # Check for next page\n",
    "    next_token = data.get(\"nextPageToken\")\n",
    "    if not next_token:\n",
    "        break\n",
    "    \n",
    "    # Set token for next page\n",
    "    params[\"pageToken\"] = next_token\n",
    "\n",
    "# Store full JSON response\n",
    "clinical_data = {\"studies\": all_studies}\n",
    "\n",
    "# Display the results in JSON format\n",
    "display(clinical_data)\n"
   ]
  },
  {
   "cell_type": "code",
   "execution_count": 0,
   "metadata": {
    "application/vnd.databricks.v1+cell": {
     "cellMetadata": {
      "byteLimit": 2048000,
      "rowLimit": 10000
     },
     "inputWidgets": {},
     "nuid": "f1ff7990-92b2-4ea2-9ed4-ce067cc811d8",
     "showTitle": false,
     "tableResultSettingsMap": {},
     "title": ""
    }
   },
   "outputs": [
    {
     "output_type": "stream",
     "name": "stdout",
     "output_type": "stream",
     "text": [
      "[\n  {\n    \"position\": 1,\n    \"title\": \"Guillain-Barre syndrome - Symptoms and causes\",\n    \"link\": \"https://www.mayoclinic.org/diseases-conditions/guillain-barre-syndrome/symptoms-causes/syc-20362793\",\n    \"redirect_link\": \"https://www.google.co.in/url?sa=t&source=web&rct=j&opi=89978449&url=https://www.mayoclinic.org/diseases-conditions/guillain-barre-syndrome/symptoms-causes/syc-20362793&ved=2ahUKEwiDqMejusONAxXK48kDHVAIC5IQFnoECBcQAQ\",\n    \"displayed_link\": \"https://www.mayoclinic.org › ...\",\n    \"favicon\": \"https://serpapi.com/searches/683595b9683863ff96684307/images/0d6cc8c82e5038e13c997e42de84add2ca730e8d348b329fa7508194cb2eb761.png\",\n    \"date\": \"7 जून 2024\",\n    \"snippet\": \"Guillain-Barre syndrome often begins with tingling and weakness starting in the feet and legs and spreading to the upper body and arms. Some ...\",\n    \"snippet_highlighted_words\": [\n      \"Guillain-Barre syndrome often begins with tingling and weakness\"\n    ],\n    \"source\": \"Mayo Clinic\"\n  },\n  {\n    \"position\": 2,\n    \"title\": \"Guillain-Barré Syndrome (GBS): Symptoms & Treatment\",\n    \"link\": \"https://my.clevelandclinic.org/health/diseases/15838-guillain-barre-syndrome\",\n    \"redirect_link\": \"https://www.google.co.in/url?sa=t&source=web&rct=j&opi=89978449&url=https://my.clevelandclinic.org/health/diseases/15838-guillain-barre-syndrome&ved=2ahUKEwiDqMejusONAxXK48kDHVAIC5IQFnoECBYQAQ\",\n    \"displayed_link\": \"https://my.clevelandclinic.org › ...\",\n    \"favicon\": \"https://serpapi.com/searches/683595b9683863ff96684307/images/0d6cc8c82e5038e13c997e42de84add2bd49124f964e162291e5f39bd9ce76c9.png\",\n    \"snippet\": \"Guillain-Barré syndrome is a rare autoimmune condition in which your immune system attacks your peripheral nerves. It causes numbness and muscle weakness.\",\n    \"snippet_highlighted_words\": [\n      \"Guillain-Barré syndrome is a rare autoimmune condition\"\n    ],\n    \"source\": \"Cleveland Clinic\"\n  },\n  {\n    \"position\": 3,\n    \"title\": \"Guillain-Barré Syndrome\",\n    \"link\": \"https://www.ninds.nih.gov/health-information/disorders/guillain-barre-syndrome\",\n    \"redirect_link\": \"https://www.google.co.in/url?sa=t&source=web&rct=j&opi=89978449&url=https://www.ninds.nih.gov/health-information/disorders/guillain-barre-syndrome&ved=2ahUKEwiDqMejusONAxXK48kDHVAIC5IQFnoECGoQAQ\",\n    \"displayed_link\": \"https://www.ninds.nih.gov › ...\",\n    \"favicon\": \"https://serpapi.com/searches/683595b9683863ff96684307/images/0d6cc8c82e5038e13c997e42de84add2f6342141eaae4e044e1c80587abd1509.png\",\n    \"date\": \"31 जन॰ 2025\",\n    \"snippet\": \"Symptoms of Guillain-Barré syndrome · Difficulty with eye muscles and vision · Difficulty swallowing, speaking, or chewing · Pricking or pins ...\",\n    \"snippet_highlighted_words\": [\n      \"Guillain\",\n      \"Barré syndrome\"\n    ],\n    \"sitelinks\": {\n      \"inline\": [\n        {\n          \"title\": \"What is Guillain-Barré...\",\n          \"link\": \"https://www.ninds.nih.gov/health-information/disorders/guillain-barre-syndrome#toc-what-is-guillain-barr-syndrome-\"\n        },\n        {\n          \"title\": \"How is Guillain-Barré...\",\n          \"link\": \"https://www.ninds.nih.gov/health-information/disorders/guillain-barre-syndrome#toc-how-is-guillain-barr-syndrome-diagnosed-and-treated-\"\n        },\n        {\n          \"title\": \"What are the latest updates on...\",\n          \"link\": \"https://www.ninds.nih.gov/health-information/disorders/guillain-barre-syndrome#toc-what-are-the-latest-updates-on-guillain-barr-syndrome-\"\n        }\n      ]\n    },\n    \"source\": \"National Institute of Neurological Disorders and Stroke (.gov)\"\n  },\n  {\n    \"position\": 4,\n    \"title\": \"Guillain–Barré syndrome\",\n    \"link\": \"https://en.wikipedia.org/wiki/Guillain%E2%80%93Barr%C3%A9_syndrome\",\n    \"redirect_link\": \"https://www.google.co.in/url?sa=t&source=web&rct=j&opi=89978449&url=https://en.wikipedia.org/wiki/Guillain%25E2%2580%2593Barr%25C3%25A9_syndrome&ved=2ahUKEwiDqMejusONAxXK48kDHVAIC5IQFnoECGIQAQ\",\n    \"displayed_link\": \"https://en.wikipedia.org › ...\",\n    \"favicon\": \"https://serpapi.com/searches/683595b9683863ff96684307/images/0d6cc8c82e5038e13c997e42de84add25f339d6766418a4e1f4e599b51f5ae5f.png\",\n    \"snippet\": \"Guillain–Barré syndrome (GBS) is a rapid-onset muscle weakness caused by the immune system damaging the peripheral nervous system.\",\n    \"snippet_highlighted_words\": [\n      \"a rapid-onset muscle weakness\"\n    ],\n    \"source\": \"Wikipedia\"\n  },\n  {\n    \"position\": 5,\n    \"title\": \"Guillain–Barré syndrome\",\n    \"link\": \"https://www.who.int/news-room/fact-sheets/detail/guillain-barr%C3%A9-syndrome\",\n    \"redirect_link\": \"https://www.google.co.in/url?sa=t&source=web&rct=j&opi=89978449&url=https://www.who.int/news-room/fact-sheets/detail/guillain-barr%25C3%25A9-syndrome&ved=2ahUKEwiDqMejusONAxXK48kDHVAIC5IQFnoECGYQAQ\",\n    \"displayed_link\": \"https://www.who.int › ...\",\n    \"favicon\": \"https://serpapi.com/searches/683595b9683863ff96684307/images/0d6cc8c82e5038e13c997e42de84add2d3c5648fc164c5b4ffab6d03e036eeda.png\",\n    \"date\": \"15 अग॰ 2023\",\n    \"snippet\": \"Guillain-Barré syndrome (GBS) is a rare condition in which a person's immune system attacks the peripheral nerves.\",\n    \"snippet_highlighted_words\": [\n      \"Guillain\",\n      \"Barré syndrome\",\n      \"GBS\"\n    ],\n    \"source\": \"World Health Organization (WHO)\"\n  },\n  {\n    \"position\": 6,\n    \"title\": \"Guillain-Barré Syndrome\",\n    \"link\": \"https://www.hopkinsmedicine.org/health/conditions-and-diseases/guillainbarr-syndrome\",\n    \"redirect_link\": \"https://www.google.co.in/url?sa=t&source=web&rct=j&opi=89978449&url=https://www.hopkinsmedicine.org/health/conditions-and-diseases/guillainbarr-syndrome&ved=2ahUKEwiDqMejusONAxXK48kDHVAIC5IQFnoECGAQAQ\",\n    \"displayed_link\": \"https://www.hopkinsmedicine.org › ...\",\n    \"favicon\": \"https://serpapi.com/searches/683595b9683863ff96684307/images/0d6cc8c82e5038e13c997e42de84add250a3e32f9a427329e7733b29ea52f66e.png\",\n    \"snippet\": \"Guillain-Barré syndrome (GBS) is a rare neurological disorder in which the body's immune system attacks the peripheral nervous system.\",\n    \"snippet_highlighted_words\": [\n      \"a rare neurological disorder\"\n    ],\n    \"source\": \"Johns Hopkins Medicine\"\n  },\n  {\n    \"position\": 7,\n    \"title\": \"Guillain-Barre syndrome - Diagnosis and treatment\",\n    \"link\": \"https://www.mayoclinic.org/diseases-conditions/guillain-barre-syndrome/diagnosis-treatment/drc-20363006\",\n    \"redirect_link\": \"https://www.google.co.in/url?sa=t&source=web&rct=j&opi=89978449&url=https://www.mayoclinic.org/diseases-conditions/guillain-barre-syndrome/diagnosis-treatment/drc-20363006&ved=2ahUKEwiDqMejusONAxXK48kDHVAIC5IQFnoECGkQAQ\",\n    \"displayed_link\": \"https://www.mayoclinic.org › ...\",\n    \"favicon\": \"https://serpapi.com/searches/683595b9683863ff96684307/images/0d6cc8c82e5038e13c997e42de84add200d48b32aa6ea8e19cbddbff63f91cfe.png\",\n    \"date\": \"7 जून 2024\",\n    \"snippet\": \"This rare autoimmune condition affects the nerves, causing weakness and tingling in the arms and legs that quickly spreads throughout the ...\",\n    \"snippet_highlighted_words\": [\n      \"affects the nerves, causing weakness and tingling in the arms and legs\"\n    ],\n    \"sitelinks\": {\n      \"inline\": [\n        {\n          \"title\": \"Symptoms and causes\",\n          \"link\": \"https://www.mayoclinic.org/diseases-conditions/guillain-barre-syndrome/symptoms-causes/syc-20362793\"\n        },\n        {\n          \"title\": \"Doctors and departments\",\n          \"link\": \"https://www.mayoclinic.org/diseases-conditions/guillain-barre-syndrome/doctors-departments/ddc-20363037\"\n        },\n        {\n          \"title\": \"Care at Mayo Clinic\",\n          \"link\": \"https://www.mayoclinic.org/diseases-conditions/guillain-barre-syndrome/care-at-mayo-clinic/mac-20363049\"\n        }\n      ]\n    },\n    \"source\": \"Mayo Clinic\"\n  },\n  {\n    \"position\": 8,\n    \"title\": \"Guillain-Barre Syndrome\",\n    \"link\": \"https://www.physio-pedia.com/Guillain-Barre_Syndrome\",\n    \"redirect_link\": \"https://www.google.co.in/url?sa=t&source=web&rct=j&opi=89978449&url=https://www.physio-pedia.com/Guillain-Barre_Syndrome&ved=2ahUKEwiDqMejusONAxXK48kDHVAIC5IQFnoECGgQAQ\",\n    \"displayed_link\": \"https://www.physio-pedia.com › ...\",\n    \"favicon\": \"https://serpapi.com/searches/683595b9683863ff96684307/images/0d6cc8c82e5038e13c997e42de84add2268f77fa053b7f5c17b1d62f5a36decb.png\",\n    \"snippet\": \"Guillain-Barré syndrome (GBS) is a condition characterised by the autoimmune destruction of the peripheral sensory system.\",\n    \"snippet_highlighted_words\": [\n      \"Guillain-Barré syndrome (GBS\"\n    ],\n    \"sitelinks\": {\n      \"inline\": [\n        {\n          \"title\": \"Case Study\",\n          \"link\": \"https://www.physio-pedia.com/Case_Study:_Guillain-Barre_Syndrome_(Sub-Acute)\"\n        },\n        {\n          \"title\": \"Acute Motor Axonal...\",\n          \"link\": \"https://www.physio-pedia.com/Acute_Motor_Axonal_Neuropathy_(AMAN),_a_Variant_of_Guillain-Barre_Syndrome:_A_Case_Study\"\n        },\n        {\n          \"title\": \"Edit\",\n          \"link\": \"https://www.physio-pedia.com/Guillain-Barre_Syndrome?veaction=edit\"\n        }\n      ]\n    },\n    \"source\": \"Physiopedia\"\n  },\n  {\n    \"position\": 9,\n    \"title\": \"Guillain-Barre Syndrome: Practice Essentials, Background, ...\",\n    \"link\": \"https://emedicine.medscape.com/article/315632-overview\",\n    \"redirect_link\": \"https://www.google.co.in/url?sa=t&source=web&rct=j&opi=89978449&url=https://emedicine.medscape.com/article/315632-overview&ved=2ahUKEwiDqMejusONAxXK48kDHVAIC5IQFnoECGcQAQ\",\n    \"displayed_link\": \"https://emedicine.medscape.com › ...\",\n    \"favicon\": \"https://serpapi.com/searches/683595b9683863ff96684307/images/0d6cc8c82e5038e13c997e42de84add258c9b9574cf823b66c14afd79a8d63bc.png\",\n    \"date\": \"29 जुल॰ 2024\",\n    \"snippet\": \"Guillain-Barré syndrome (GBS) can be described as a collection of clinical syndromes that manifests as an acute inflammatory ...\",\n    \"snippet_highlighted_words\": [\n      \"Guillain-Barré syndrome (GBS\"\n    ],\n    \"source\": \"Medscape\"\n  },\n  {\n    \"position\": 10,\n    \"title\": \"Guillain-Barré Syndrome | Campylobacter\",\n    \"link\": \"https://www.cdc.gov/campylobacter/signs-symptoms/guillain-barre-syndrome.html\",\n    \"redirect_link\": \"https://www.google.co.in/url?sa=t&source=web&rct=j&opi=89978449&url=https://www.cdc.gov/campylobacter/signs-symptoms/guillain-barre-syndrome.html&ved=2ahUKEwiDqMejusONAxXK48kDHVAIC5IQFnoECGwQAQ\",\n    \"displayed_link\": \"https://www.cdc.gov › ...\",\n    \"thumbnail\": \"https://encrypted-tbn0.gstatic.com/images?q=tbn:ANd9GcQDBiD5imYB7iWi3gFRA-CLmn2agb0TJeuINNCBivNPdZoUz70Qjqshy7o&usqp=CAE&s\",\n    \"favicon\": \"https://serpapi.com/searches/683595b9683863ff96684307/images/0d6cc8c82e5038e13c997e42de84add277d04f37aaaac5249439c5e14eb87f6e.png\",\n    \"date\": \"10 मई 2024\",\n    \"snippet\": \"Guillain-Barré (Ghee-YAN Bah-RAY) syndrome happens when a person's immune system harms their nerves. This harm causes muscle weakness and ...\",\n    \"snippet_highlighted_words\": [\n      \"Guillain-Barré (Ghee-YAN Bah-RAY) syndrome\"\n    ],\n    \"source\": \"Centers for Disease Control and Prevention | CDC (.gov)\"\n  },\n  {\n    \"position\": 1,\n    \"title\": \"Guillain-Barré Syndrome | Campylobacter\",\n    \"link\": \"https://www.cdc.gov/campylobacter/signs-symptoms/guillain-barre-syndrome.html\",\n    \"redirect_link\": \"https://www.google.co.in/url?sa=t&source=web&rct=j&opi=89978449&url=https://www.cdc.gov/campylobacter/signs-symptoms/guillain-barre-syndrome.html&ved=2ahUKEwjmlJ6kusONAxXgRjABHRM3IJA4ChAWegQIGRAB\",\n    \"displayed_link\": \"https://www.cdc.gov › ...\",\n    \"thumbnail\": \"https://serpapi.com/searches/683595c3d355cc451df1bd62/images/91e2dc40482c86945107c42c722ea68c610d8a6ede611ec905cd0fea5820320f.jpeg\",\n    \"favicon\": \"https://serpapi.com/searches/683595c3d355cc451df1bd62/images/91e2dc40482c86945107c42c722ea68c7583807dfc0093d15b61f3fdc95ec573.png\",\n    \"date\": \"10 मई 2024\",\n    \"snippet\": \"Guillain-Barré (Ghee-YAN Bah-RAY) syndrome happens when a person's immune system harms their nerves. This harm causes muscle weakness and ...\",\n    \"snippet_highlighted_words\": [\n      \"Guillain-Barré (Ghee-YAN Bah-RAY) syndrome\"\n    ],\n    \"source\": \"Centers for Disease Control and Prevention | CDC (.gov)\"\n  },\n  {\n    \"position\": 2,\n    \"title\": \"Guillain-Barré syndrome Information - Mount Sinai\",\n    \"link\": \"https://www.mountsinai.org/health-library/diseases-conditions/guillain-barr-syndrome\",\n    \"redirect_link\": \"https://www.google.co.in/url?sa=t&source=web&rct=j&opi=89978449&url=https://www.mountsinai.org/health-library/diseases-conditions/guillain-barr-syndrome&ved=2ahUKEwjmlJ6kusONAxXgRjABHRM3IJA4ChAWegQIFxAB\",\n    \"displayed_link\": \"https://www.mountsinai.org › ...\",\n    \"thumbnail\": \"https://serpapi.com/searches/683595c3d355cc451df1bd62/images/91e2dc40482c86945107c42c722ea68cc47bbc28eea1079578a23c3d3e52852b.jpeg\",\n    \"favicon\": \"https://serpapi.com/searches/683595c3d355cc451df1bd62/images/91e2dc40482c86945107c42c722ea68c3f73c2000d340086e806fb814665300c.png\",\n    \"snippet\": \"GBS damages parts of nerves. This nerve damage causes tingling, muscle weakness, loss of balance, and paralysis. GBS most often affects the nerve covering ( ...\",\n    \"snippet_highlighted_words\": [\n      \"GBS damages parts of nerves\"\n    ],\n    \"source\": \"Mount Sinai\"\n  },\n  {\n    \"position\": 3,\n    \"title\": \"Guillain-Barré Syndrome: Causes, Symptoms, ... - WebMD\",\n    \"link\": \"https://www.webmd.com/brain/what-is-guillain-barre\",\n    \"redirect_link\": \"https://www.google.co.in/url?sa=t&source=web&rct=j&opi=89978449&url=https://www.webmd.com/brain/what-is-guillain-barre&ved=2ahUKEwjmlJ6kusONAxXgRjABHRM3IJA4ChAWegQIGxAB\",\n    \"displayed_link\": \"https://www.webmd.com › ...\",\n    \"thumbnail\": \"https://serpapi.com/searches/683595c3d355cc451df1bd62/images/91e2dc40482c86945107c42c722ea68cc8a500fca55c474262c07cf585e3fd5a.jpeg\",\n    \"favicon\": \"https://serpapi.com/searches/683595c3d355cc451df1bd62/images/91e2dc40482c86945107c42c722ea68cf145cff818fee6539a702f0b169ef5da.png\",\n    \"date\": \"14 मार्च 2024\",\n    \"snippet\": \"Guillain-Barré Syndrome (GBS) is a rare disorder in which your immune system suddenly attacks your nerves, often after you've had a stomach ...\",\n    \"snippet_highlighted_words\": [\n      \"Guillain-Barré Syndrome (GBS\"\n    ],\n    \"source\": \"WebMD\"\n  },\n  {\n    \"position\": 4,\n    \"title\": \"Guillain–Barré syndrome | Nature Reviews Disease Primers\",\n    \"link\": \"https://www.nature.com/articles/s41572-024-00580-4\",\n    \"redirect_link\": \"https://www.google.co.in/url?sa=t&source=web&rct=j&opi=89978449&url=https://www.nature.com/articles/s41572-024-00580-4&ved=2ahUKEwjmlJ6kusONAxXgRjABHRM3IJA4ChAWegQIGhAB\",\n    \"displayed_link\": \"https://www.nature.com › ...\",\n    \"thumbnail\": \"https://serpapi.com/searches/683595c3d355cc451df1bd62/images/91e2dc40482c86945107c42c722ea68c8643d1a987ff0bae234e64c65fef609e.png\",\n    \"favicon\": \"https://serpapi.com/searches/683595c3d355cc451df1bd62/images/91e2dc40482c86945107c42c722ea68ca4576444b480e128cb0ac5066a942cba.png\",\n    \"author\": \"SE Leonhard ने लिखी\",\n    \"snippet\": \"Guillain–Barré syndrome (GBS) is a rare immune-mediated polyradiculoneuropathy. Patients typically develop rapidly progressive weakness and ...\",\n    \"snippet_highlighted_words\": [\n      \"Guillain–Barré syndrome (GBS\"\n    ],\n    \"source\": \"Nature\"\n  },\n  {\n    \"position\": 5,\n    \"title\": \"Guillain-Barré syndrome\",\n    \"link\": \"https://www.sciencedirect.com/science/article/abs/pii/S0140673621005171\",\n    \"redirect_link\": \"https://www.google.co.in/url?sa=t&source=web&rct=j&opi=89978449&url=https://www.sciencedirect.com/science/article/abs/pii/S0140673621005171&ved=2ahUKEwjmlJ6kusONAxXgRjABHRM3IJA4ChAWegQIMxAB\",\n    \"displayed_link\": \"https://www.sciencedirect.com › ...\",\n    \"favicon\": \"https://serpapi.com/searches/683595c3d355cc451df1bd62/images/91e2dc40482c86945107c42c722ea68c0aaa14add96d78bcece84bfbcc301817.png\",\n    \"author\": \"N Shahrizaila ने लिखी\",\n    \"snippet\": \"Guillain-Barré syndrome is an immune-mediated polyradiculoneuropathy that accounts for an estimated 100 000 new cases annually worldwide.1 In ...\",\n    \"snippet_highlighted_words\": [\n      \"an immune-mediated polyradiculoneuropathy\"\n    ],\n    \"source\": \"ScienceDirect.com\"\n  },\n  {\n    \"position\": 6,\n    \"title\": \"Guillain-Barré Syndrome : CONTINUUM\",\n    \"link\": \"https://journals.lww.com/continuum/fulltext/2020/10000/guillain_barr__syndrome.6.aspx\",\n    \"redirect_link\": \"https://www.google.co.in/url?sa=t&source=web&rct=j&opi=89978449&url=https://journals.lww.com/continuum/fulltext/2020/10000/guillain_barr__syndrome.6.aspx&ved=2ahUKEwjmlJ6kusONAxXgRjABHRM3IJA4ChAWegQIMRAB\",\n    \"displayed_link\": \"https://journals.lww.com › ...\",\n    \"favicon\": \"https://serpapi.com/searches/683595c3d355cc451df1bd62/images/91e2dc40482c86945107c42c722ea68c32a30885251aceddeef8fa5cfa51bf54.png\",\n    \"author\": \"KA Sheikh ने लिखी\",\n    \"snippet\": \"Guillain-Barré syndrome (GBS) encompasses a spectrum of acute neuropathic disorders, with muscle weakness being the cardinal manifestation in the majority of ...\",\n    \"snippet_highlighted_words\": [\n      \"Guillain-Barré syndrome (GBS\"\n    ],\n    \"source\": \"Lippincott\"\n  },\n  {\n    \"position\": 7,\n    \"title\": \"Guillain-Barre Syndrome - GBS\",\n    \"link\": \"https://medlineplus.gov/guillainbarresyndrome.html\",\n    \"redirect_link\": \"https://www.google.co.in/url?sa=t&source=web&rct=j&opi=89978449&url=https://medlineplus.gov/guillainbarresyndrome.html&ved=2ahUKEwjmlJ6kusONAxXgRjABHRM3IJA4ChAWegQINBAB\",\n    \"displayed_link\": \"https://medlineplus.gov › ...\",\n    \"thumbnail\": \"https://serpapi.com/searches/683595c3d355cc451df1bd62/images/91e2dc40482c86945107c42c722ea68cba504b4ae5c7e0fab9ebbf2ed5fdb76b.jpeg\",\n    \"favicon\": \"https://serpapi.com/searches/683595c3d355cc451df1bd62/images/91e2dc40482c86945107c42c722ea68ce507287fd914ee6f509a32c6e2237372.png\",\n    \"date\": \"23 अग॰ 2024\",\n    \"snippet\": \"Guillain-Barre syndrome is a rare disorder that causes your immune system to attack your peripheral nervous system (PNS).\",\n    \"snippet_highlighted_words\": [\n      \"Guillain-Barre syndrome is a rare disorder\"\n    ],\n    \"source\": \"MedlinePlus (.gov)\"\n  },\n  {\n    \"position\": 8,\n    \"title\": \"Guillain-Barré Syndrome (GBS) - Brain, Spinal Cord, and ...\",\n    \"link\": \"https://www.msdmanuals.com/home/brain-spinal-cord-and-nerve-disorders/peripheral-nerve-and-related-disorders/guillain-barr%C3%A9-syndrome-gbs\",\n    \"redirect_link\": \"https://www.google.co.in/url?sa=t&source=web&rct=j&opi=89978449&url=https://www.msdmanuals.com/home/brain-spinal-cord-and-nerve-disorders/peripheral-nerve-and-related-disorders/guillain-barr%25C3%25A9-syndrome-gbs&ved=2ahUKEwjmlJ6kusONAxXgRjABHRM3IJA4ChAWegQINhAB\",\n    \"displayed_link\": \"https://www.msdmanuals.com › ...\",\n    \"thumbnail\": \"https://serpapi.com/searches/683595c3d355cc451df1bd62/images/91e2dc40482c86945107c42c722ea68cbdad3cb2311ee89f10b185c65c903894.jpeg\",\n    \"favicon\": \"https://serpapi.com/searches/683595c3d355cc451df1bd62/images/91e2dc40482c86945107c42c722ea68c47016ac26b1ff836542586b70a40ea5c.png\",\n    \"snippet\": \"Guillain-Barré syndrome is a form of polyneuropathy causing muscle weakness, which usually worsens over a few days to weeks, then slowly improves or returns ...\",\n    \"snippet_highlighted_words\": [\n      \"Guillain-Barré syndrome is a form of polyneuropathy causing muscle weakness\"\n    ],\n    \"source\": \"MSD Manuals\"\n  },\n  {\n    \"position\": 9,\n    \"title\": \"Guillain-Barré syndrome: Symptoms, causes, diagnosis, ...\",\n    \"link\": \"https://www.medicalnewstoday.com/articles/167892\",\n    \"redirect_link\": \"https://www.google.co.in/url?sa=t&source=web&rct=j&opi=89978449&url=https://www.medicalnewstoday.com/articles/167892&ved=2ahUKEwjmlJ6kusONAxXgRjABHRM3IJA4ChAWegQIMBAB\",\n    \"displayed_link\": \"https://www.medicalnewstoday.com › ...\",\n    \"favicon\": \"https://serpapi.com/searches/683595c3d355cc451df1bd62/images/91e2dc40482c86945107c42c722ea68c691b9c0c51fee4b3e4f8e114abb89e47.png\",\n    \"snippet\": \"Guillain-Barré syndrome is a neurological disorder and autoimmune disease that affects the peripheral nervous system. Guillain-Barré syndrome can lead to ...\",\n    \"snippet_highlighted_words\": [\n      \"Guillain-Barré syndrome is a neurological disorder and autoimmune disease\"\n    ],\n    \"source\": \"Medical News Today\"\n  },\n  {\n    \"position\": 1,\n    \"title\": \"Guillain-Barré syndrome (GBS)\",\n    \"link\": \"https://www.healthline.com/health/guillain-barre-syndrome\",\n    \"redirect_link\": \"https://www.google.co.in/url?sa=t&source=web&rct=j&opi=89978449&url=https://www.healthline.com/health/guillain-barre-syndrome&ved=2ahUKEwi-q6inusONAxWo5TQHHQRzEVI4FBAWegQIFBAB\",\n    \"displayed_link\": \"https://www.healthline.com › ...\",\n    \"thumbnail\": \"https://serpapi.com/searches/683595c52ddc4393c3b2e26f/images/9b9bef012a28c96c230f956f104b02a688cfc164d32f1660effecb59e22dcd23.jpeg\",\n    \"favicon\": \"https://serpapi.com/searches/683595c52ddc4393c3b2e26f/images/9b9bef012a28c96c230f956f104b02a61080edeb03af737c3d900533b6f0830f.png\",\n    \"snippet\": \"The first symptom of Guillain-Barré syndrome is usually a tingling sensation in your toes, feet, and legs. The tingling spreads upward to your arms and fingers.\",\n    \"snippet_highlighted_words\": [\n      \"tingling sensation in your toes, feet, and legs\"\n    ],\n    \"source\": \"Healthline\"\n  },\n  {\n    \"position\": 2,\n    \"title\": \"Understanding Guillain-Barré Syndrome\",\n    \"link\": \"https://www.youtube.com/watch?v=KUEunZYZgII\",\n    \"displayed_link\": \"20 लाख+ व्यू · 4 वर्ष पहले\",\n    \"thumbnail\": \"https://serpapi.com/searches/683595c52ddc4393c3b2e26f/images/9b9bef012a28c96c230f956f104b02a6f41ea713dbcf2dd8974f4b8323b90c14.jpeg\",\n    \"favicon\": \"https://serpapi.com/searches/683595c52ddc4393c3b2e26f/images/9b9bef012a28c96c230f956f104b02a62da536d1d29f188a7efb1561fc7ecb5a.png\",\n    \"snippet\": \"26:57 Go to channel Guillain Barre Syndrome (GBS) Treatment, Pathophysiology, Symptoms, Neurology Medicine Lecture USMLE MedNerd - Dr. Waqas Fazal\",\n    \"duration\": \"5:44\",\n    \"key_moments\": [\n      {\n        \"time\": \"00:09\",\n        \"title\": \"Intro\",\n        \"link\": \"https://www.youtube.com/watch?v=KUEunZYZgII&t=9\",\n        \"thumbnail\": \"https://encrypted-tbn0.gstatic.com/images?q=tbn:ANd9GcS863bq8C9e7PmaHoBsRW0w18qKkNym-7ISPPjjOMNWuA&s\"\n      },\n      {\n        \"time\": \"00:27\",\n        \"title\": \"What is Guillain-Barr Syndrome?\",\n        \"link\": \"https://www.youtube.com/watch?v=KUEunZYZgII&t=27\",\n        \"thumbnail\": \"https://encrypted-tbn0.gstatic.com/images?q=tbn:ANd9GcRNF8AyMpK9APNVo0ukoFg1_cUjfscMWO-HBCkA67DfLQ&s\"\n      },\n      {\n        \"time\": \"01:19\",\n        \"title\": \"Pathophysiology\",\n        \"link\": \"https://www.youtube.com/watch?v=KUEunZYZgII&t=79\",\n        \"thumbnail\": \"https://encrypted-tbn0.gstatic.com/images?q=tbn:ANd9GcSq8za20_a9VXmc6QYFiFR3cQzQn9rKkPxczPjWDu_Rvw&s\"\n      },\n      {\n        \"time\": \"02:15\",\n        \"title\": \"Clinical Features\",\n        \"link\": \"https://www.youtube.com/watch?v=KUEunZYZgII&t=135\",\n        \"thumbnail\": \"https://encrypted-tbn0.gstatic.com/images?q=tbn:ANd9GcR5c7BNCc-tpHDPksxlMrvdcBo3b2rZuWnYWXxCYREj2Q&s\"\n      },\n      {\n        \"time\": \"02:47\",\n        \"title\": \"Clinical course\",\n        \"link\": \"https://www.youtube.com/watch?v=KUEunZYZgII&t=167\",\n        \"thumbnail\": \"https://encrypted-tbn0.gstatic.com/images?q=tbn:ANd9GcQSxNoIBkAOT4_Ef0RPJCq566tCJ4EZMFp0XJoTh5bzMA&s\"\n      },\n      {\n        \"time\": \"03:15\",\n        \"title\": \"How do you make a diagnosis?\",\n        \"link\": \"https://www.youtube.com/watch?v=KUEunZYZgII&t=195\",\n        \"thumbnail\": \"https://encrypted-tbn0.gstatic.com/images?q=tbn:ANd9GcTzUTmAnNaQscFuz4pXGZ_gIdUC_qLcofeTh0_VumLcrg&s\"\n      },\n      {\n        \"time\": \"03:54\",\n        \"title\": \"Management\",\n        \"link\": \"https://www.youtube.com/watch?v=KUEunZYZgII&t=234\",\n        \"thumbnail\": \"https://encrypted-tbn0.gstatic.com/images?q=tbn:ANd9GcResebQYzZqEkXZNv9awX78JrrQ3foEk9-SBd8QgIFSBQ&s\"\n      },\n      {\n        \"time\": \"04:39\",\n        \"title\": \"Prognosis\",\n        \"link\": \"https://www.youtube.com/watch?v=KUEunZYZgII&t=279\",\n        \"thumbnail\": \"https://encrypted-tbn0.gstatic.com/images?q=tbn:ANd9GcQ9NgF_zK3F5Pntl7-Ui2pnajaXWSJm16VutomoQMG-7w&s\"\n      },\n      {\n        \"time\": \"05:06\",\n        \"title\": \"Conclusion\",\n        \"link\": \"https://www.youtube.com/watch?v=KUEunZYZgII&t=306\",\n        \"thumbnail\": \"https://encrypted-tbn0.gstatic.com/images?q=tbn:ANd9GcRmBBe9c-DifmL1NtGTbDlJA7pFbmTMT2AM_QgxhsuiLw&s\"\n      }\n    ],\n    \"video_link\": \"https://encrypted-vtbn0.gstatic.com/video?q=tbn:ANd9GcQs8Dsz3mbrK7nyCePaoW9C0sdxzbIjIgq0pw\",\n    \"source\": \"YouTube · Zero To Finals\"\n  },\n  {\n    \"position\": 3,\n    \"title\": \"Guillain-Barré Syndrome (GBS) and Vaccines\",\n    \"link\": \"https://www.cdc.gov/vaccine-safety/about/guillain-barre.html\",\n    \"redirect_link\": \"https://www.google.co.in/url?sa=t&source=web&rct=j&opi=89978449&url=https://www.cdc.gov/vaccine-safety/about/guillain-barre.html&ved=2ahUKEwi-q6inusONAxWo5TQHHQRzEVI4FBAWegQIHBAB\",\n    \"displayed_link\": \"https://www.cdc.gov › ...\",\n    \"favicon\": \"https://serpapi.com/searches/683595c52ddc4393c3b2e26f/images/9b9bef012a28c96c230f956f10\n\n*** WARNING: max output size exceeded, skipping output. ***\n\nGuillain-Barré Syndrome? First symptoms include weakness and tingling in the legs that often spread to the arms and upper body. These ...\",\n    \"snippet_highlighted_words\": [\n      \"Guillain\",\n      \"Barré Syndrome\"\n    ],\n    \"source\": \"Carle Health\"\n  },\n  {\n    \"position\": 3,\n    \"title\": \"India faces Guillain-Barré outbreak\",\n    \"link\": \"https://avinews.com/en/india-faces-guillain-barre-outbreak/\",\n    \"redirect_link\": \"https://www.google.co.in/url?sa=t&source=web&rct=j&opi=89978449&url=https://avinews.com/en/india-faces-guillain-barre-outbreak/&ved=2ahUKEwiJrYGyusONAxXWGVkFHensG9Q4RhAWegQIFxAB\",\n    \"displayed_link\": \"https://avinews.com › ...\",\n    \"favicon\": \"https://serpapi.com/searches/683595dbb8b4a55101397d73/images/4117cccc52dba13cc29642cacbca3f9726e840d91967e7a03ea4d12089ac0216.jpeg\",\n    \"date\": \"5 फ़र॰ 2025\",\n    \"snippet\": \"India is currently grappling with an alarming outbreak of Guillain-Barré Syndrome (GBS), a rare neurological disorder that can lead to sudden and severe ...\",\n    \"snippet_highlighted_words\": [\n      \"Guillain\",\n      \"Barré Syndrome\",\n      \"a rare neurological disorder that can lead to sudden\"\n    ],\n    \"source\": \"aviNews\"\n  },\n  {\n    \"position\": 4,\n    \"title\": \"Guillain-Barre syndrome (GBS)\",\n    \"link\": \"https://gpnotebook.com/pages/infectious-disease/guillain-barre-syndrome-gbs\",\n    \"redirect_link\": \"https://www.google.co.in/url?sa=t&source=web&rct=j&opi=89978449&url=https://gpnotebook.com/pages/infectious-disease/guillain-barre-syndrome-gbs&ved=2ahUKEwiJrYGyusONAxXWGVkFHensG9Q4RhAWegQIFRAB\",\n    \"displayed_link\": \"https://gpnotebook.com › ...\",\n    \"favicon\": \"https://serpapi.com/searches/683595dbb8b4a55101397d73/images/4117cccc52dba13cc29642cacbca3f979c17b0b62708ff99f507c17cb827bdcb.png\",\n    \"date\": \"26 फ़र॰ 2025\",\n    \"snippet\": \"Guillain-Barre syndrome (GBS) ... A prodromal malaise with vomiting, headache, fever and limb pains is rapidly surmounted by a progressive and ...\",\n    \"snippet_highlighted_words\": [\n      \"Guillain\",\n      \"Barre syndrome\"\n    ],\n    \"source\": \"GPnotebook\"\n  },\n  {\n    \"position\": 5,\n    \"title\": \"Guillain–Barre syndrome and link with COVID-19 infection ...\",\n    \"link\": \"https://www.frontiersin.org/journals/neurology/articles/10.3389/fneur.2024.1396642/full\",\n    \"redirect_link\": \"https://www.google.co.in/url?sa=t&source=web&rct=j&opi=89978449&url=https://www.frontiersin.org/journals/neurology/articles/10.3389/fneur.2024.1396642/full&ved=2ahUKEwiJrYGyusONAxXWGVkFHensG9Q4RhAWegQIGRAB\",\n    \"displayed_link\": \"https://www.frontiersin.org › ...\",\n    \"favicon\": \"https://serpapi.com/searches/683595dbb8b4a55101397d73/images/4117cccc52dba13cc29642cacbca3f97bfda7e36b47c29e771695be2dd6361f3.png\",\n    \"author\": \"VL Valaparla ने लिखी\",\n    \"snippet\": \"Our study aims to review the literature on GBS and its epidemiological and pathophysiological association with COVID-19.\",\n    \"snippet_highlighted_words\": [\n      \"GBS\"\n    ],\n    \"source\": \"Frontiers\"\n  },\n  {\n    \"position\": 6,\n    \"title\": \"Guillain-Barre Syndrome Causes & Symptoms\",\n    \"link\": \"https://www.beaumont.org/conditions/guillain-barre-syndrome\",\n    \"redirect_link\": \"https://www.google.co.in/url?sa=t&source=web&rct=j&opi=89978449&url=https://www.beaumont.org/conditions/guillain-barre-syndrome&ved=2ahUKEwiJrYGyusONAxXWGVkFHensG9Q4RhAWegQIFhAB\",\n    \"displayed_link\": \"https://www.beaumont.org › ...\",\n    \"favicon\": \"https://serpapi.com/searches/683595dbb8b4a55101397d73/images/4117cccc52dba13cc29642cacbca3f97d7f9d784e48a3c194df40bb54d3ae174.png\",\n    \"snippet\": \"Signs and symptoms. GBS symptoms are characterized by weakness and tingling that is equal on both sides of the body, which usually affects the lower limbs and ...\",\n    \"snippet_highlighted_words\": [\n      \"GBS\"\n    ],\n    \"source\": \"Beaumont.org\"\n  },\n  {\n    \"position\": 7,\n    \"title\": \"Guillain-Barre syndrome | UCSF Neuromuscular Division\",\n    \"link\": \"https://neuromuscular.ucsf.edu/guillain-barre-syndrome\",\n    \"redirect_link\": \"https://www.google.co.in/url?sa=t&source=web&rct=j&opi=89978449&url=https://neuromuscular.ucsf.edu/guillain-barre-syndrome&ved=2ahUKEwiJrYGyusONAxXWGVkFHensG9Q4RhAWegQIGhAB\",\n    \"displayed_link\": \"https://neuromuscular.ucsf.edu › ...\",\n    \"snippet\": \"The UCSF Neuromuscular Clinic provides comprehensive treatment for patients with various neuromuscular diseases, including Guillain-Barre syndrome. The ...\",\n    \"snippet_highlighted_words\": [\n      \"Guillain\",\n      \"Barre syndrome\"\n    ],\n    \"source\": \"UC San Francisco\"\n  },\n  {\n    \"position\": 8,\n    \"title\": \"Guillain-Barre Syndrome (GBS)\",\n    \"link\": \"https://www.yalemedicine.org/clinical-keywords/guillain-barre-syndrome\",\n    \"redirect_link\": \"https://www.google.co.in/url?sa=t&source=web&rct=j&opi=89978449&url=https://www.yalemedicine.org/clinical-keywords/guillain-barre-syndrome&ved=2ahUKEwiJrYGyusONAxXWGVkFHensG9Q4RhAWegQINRAB\",\n    \"displayed_link\": \"https://www.yalemedicine.org › ...\",\n    \"favicon\": \"https://serpapi.com/searches/683595dbb8b4a55101397d73/images/4117cccc52dba13cc29642cacbca3f97b8b913f67ff211b891de843367a1e6a9.png\",\n    \"snippet\": \"Definition. Guillain-Barre syndrome (GBS) is a rare neurological disorder in which the body's immune system mistakenly attacks the peripheral nerves, leading to ...\",\n    \"snippet_highlighted_words\": [\n      \"Guillain\",\n      \"Barre syndrome\"\n    ],\n    \"source\": \"Yale Medicine\"\n  },\n  {\n    \"position\": 9,\n    \"title\": \"Listing: Guillain-Barré Syndrome Resources\",\n    \"link\": \"https://www.sralab.org/lifecenter/resources/listing-guillain-barre-syndrome-resources\",\n    \"redirect_link\": \"https://www.google.co.in/url?sa=t&source=web&rct=j&opi=89978449&url=https://www.sralab.org/lifecenter/resources/listing-guillain-barre-syndrome-resources&ved=2ahUKEwiJrYGyusONAxXWGVkFHensG9Q4RhAWegQIOBAB\",\n    \"displayed_link\": \"https://www.sralab.org › ...\",\n    \"favicon\": \"https://serpapi.com/searches/683595dbb8b4a55101397d73/images/4117cccc52dba13cc29642cacbca3f97f4e51d142aa026c671b200fe4f1ee86a.png\",\n    \"snippet\": \"The following Guillain-Barré syndrome resources included in this listing provides information from the national and local programs level that focus primarily ...\",\n    \"snippet_highlighted_words\": [\n      \"Guillain\",\n      \"Barré syndrome\"\n    ],\n    \"source\": \"Shirley Ryan AbilityLab\"\n  },\n  {\n    \"position\": 10,\n    \"title\": \"Guillain-Barré Syndrome\",\n    \"link\": \"https://uvahealth.com/services/neurology/guillain-barre-syndrome\",\n    \"redirect_link\": \"https://www.google.co.in/url?sa=t&source=web&rct=j&opi=89978449&url=https://uvahealth.com/services/neurology/guillain-barre-syndrome&ved=2ahUKEwiJrYGyusONAxXWGVkFHensG9Q4RhAWegQIMhAB\",\n    \"displayed_link\": \"https://uvahealth.com › ...\",\n    \"favicon\": \"https://serpapi.com/searches/683595dbb8b4a55101397d73/images/4117cccc52dba13cc29642cacbca3f972dddaf8a6d39941c944bfda246037dc5.png\",\n    \"snippet\": \"GBS Treatment at UVA Health. The GBS-CIDP Foundation has designated UVA as a Center of Excellence, meaning we offer expert diagnosis and management of ...\",\n    \"snippet_highlighted_words\": [\n      \"GBS\",\n      \"GBS\"\n    ],\n    \"source\": \"UVA Health\"\n  },\n  {\n    \"position\": 1,\n    \"title\": \"Listing: Guillain-Barré Syndrome Resources\",\n    \"link\": \"https://www.sralab.org/lifecenter/resources/listing-guillain-barre-syndrome-resources\",\n    \"redirect_link\": \"https://www.google.co.in/url?sa=t&source=web&rct=j&opi=89978449&url=https://www.sralab.org/lifecenter/resources/listing-guillain-barre-syndrome-resources&ved=2ahUKEwjytsazusONAxVuRvEDHZnsAwE4UBAWegQIExAB\",\n    \"displayed_link\": \"https://www.sralab.org › ...\",\n    \"favicon\": \"https://serpapi.com/searches/683595e21de0649ed113ada5/images/08a081bf1bff6ae76209cf9fc94f503a0828030985d67b57a58ca84f63723988.png\",\n    \"snippet\": \"The following Guillain-Barré syndrome resources included in this listing provides information from the national and local programs level that focus primarily ...\",\n    \"snippet_highlighted_words\": [\n      \"Guillain\",\n      \"Barré syndrome\"\n    ],\n    \"source\": \"Shirley Ryan AbilityLab\"\n  },\n  {\n    \"position\": 2,\n    \"title\": \"Guillain-Barré Syndrome\",\n    \"link\": \"https://www.templehealth.org/services/conditions/guillain-barre-syndrome\",\n    \"redirect_link\": \"https://www.google.co.in/url?sa=t&source=web&rct=j&opi=89978449&url=https://www.templehealth.org/services/conditions/guillain-barre-syndrome&ved=2ahUKEwjytsazusONAxVuRvEDHZnsAwE4UBAWegQIFhAB\",\n    \"displayed_link\": \"https://www.templehealth.org › ...\",\n    \"favicon\": \"https://serpapi.com/searches/683595e21de0649ed113ada5/images/08a081bf1bff6ae76209cf9fc94f503af243c4c743a9e9b7f4101ade3f6cefa6.png\",\n    \"snippet\": \"Symptoms · Abnormal blood pressure — Blood pressure is temporarily affected, and dangerously low pressure can occur. · Bladder incontinence — Some people with ...\",\n    \"source\": \"Temple Health\"\n  },\n  {\n    \"position\": 3,\n    \"title\": \"When Your Child Has Guillain-Barre Syndrome (GBS)\",\n    \"link\": \"https://www.saintlukeskc.org/health-library/when-your-child-has-guillain-barre-syndrome-gbs\",\n    \"redirect_link\": \"https://www.google.co.in/url?sa=t&source=web&rct=j&opi=89978449&url=https://www.saintlukeskc.org/health-library/when-your-child-has-guillain-barre-syndrome-gbs&ved=2ahUKEwjytsazusONAxVuRvEDHZnsAwE4UBAWegQIFRAB\",\n    \"displayed_link\": \"https://www.saintlukeskc.org › ...\",\n    \"favicon\": \"https://serpapi.com/searches/683595e21de0649ed113ada5/images/08a081bf1bff6ae76209cf9fc94f503af18aef1a1e1f6f7ca9d12dd0c0e03929.png\",\n    \"snippet\": \"Your child has been diagnosed with Guillain-Barré syndrome (GBS). This is an illness that affects the peripheral nerves, often both the sensory and motor ...\",\n    \"snippet_highlighted_words\": [\n      \"Guillain\",\n      \"Barré syndrome\"\n    ],\n    \"source\": \"Saint Luke's Health System Kansas City\"\n  },\n  {\n    \"position\": 4,\n    \"title\": \"Guillain-Barré Syndrome vs. Myasthenia Gravis\",\n    \"link\": \"https://ameripharmaspecialty.com/myasthenia-gravis/guillain-barre-syndrome-vs-myasthenia-gravis/\",\n    \"redirect_link\": \"https://www.google.co.in/url?sa=t&source=web&rct=j&opi=89978449&url=https://ameripharmaspecialty.com/myasthenia-gravis/guillain-barre-syndrome-vs-myasthenia-gravis/&ved=2ahUKEwjytsazusONAxVuRvEDHZnsAwE4UBAWegQIGhAB\",\n    \"displayed_link\": \"https://ameripharmaspecialty.com › ...\",\n    \"favicon\": \"https://serpapi.com/searches/683595e21de0649ed113ada5/images/08a081bf1bff6ae76209cf9fc94f503a50673fd43467a93f8a165ce31b09d86e.png\",\n    \"author\": \"PDJ Saba Rassouli ने लिखी\",\n    \"snippet\": \"In conclusion, Guillain-barré syndrome and myasthenia gravis are both neurological autoimmune disorders and share some similarities in their ...\",\n    \"snippet_highlighted_words\": [\n      \"Guillain\",\n      \"barré syndrome\"\n    ],\n    \"source\": \"AmeriPharma® Specialty Care\"\n  },\n  {\n    \"position\": 5,\n    \"title\": \"Guillain-Barré Syndrome (GBS) Facts & Resources\",\n    \"link\": \"https://www.csl.com/patients-public-health/rare-and-serious-diseases/immunodeficiency-and-autoimmune-diseases/guillain-barre-syndrome\",\n    \"redirect_link\": \"https://www.google.co.in/url?sa=t&source=web&rct=j&opi=89978449&url=https://www.csl.com/patients-public-health/rare-and-serious-diseases/immunodeficiency-and-autoimmune-diseases/guillain-barre-syndrome&ved=2ahUKEwjytsazusONAxVuRvEDHZnsAwE4UBAWegQIFBAB\",\n    \"displayed_link\": \"https://www.csl.com › ...\",\n    \"favicon\": \"https://serpapi.com/searches/683595e21de0649ed113ada5/images/08a081bf1bff6ae76209cf9fc94f503a53df8a803cc1c6ef85033f220b394aa7.png\",\n    \"snippet\": \"What is Guillain-Barré Syndrome (GBS)?. Guillain-Barré Syndrome (GBS; pronounced: ghee-YAN bah-RAY) is a rare autoimmune disorder in which the body's immune ...\",\n    \"snippet_highlighted_words\": [\n      \"Guillain\",\n      \"Barré Syndrome\",\n      \"Guillain\",\n      \"Barré Syndrome\"\n    ],\n    \"source\": \"Global Biotechnology Company\"\n  },\n  {\n    \"position\": 6,\n    \"title\": \"Guillain-Barré Syndrome (GBS): Symptoms & Treatment - Health\",\n    \"link\": \"https://www.health.com/guillain-barre-syndrome-8604619\",\n    \"redirect_link\": \"https://www.google.co.in/url?sa=t&source=web&rct=j&opi=89978449&url=https://www.health.com/guillain-barre-syndrome-8604619&ved=2ahUKEwjytsazusONAxVuRvEDHZnsAwE4UBAWegQIGBAB\",\n    \"displayed_link\": \"https://www.health.com › ...\",\n    \"favicon\": \"https://serpapi.com/searches/683595e21de0649ed113ada5/images/08a081bf1bff6ae76209cf9fc94f503a033ea2e04963773078d1c9c4055e8da1.png\",\n    \"date\": \"24 मार्च 2024\",\n    \"snippet\": \"Guillain-Barré syndrome (GBS) is an autoimmune disease that usually happens after a viral illness, vaccination, or infection with a specific bacteria called ...\",\n    \"snippet_highlighted_words\": [\n      \"Guillain\",\n      \"Barré syndrome\",\n      \"GBS\"\n    ],\n    \"source\": \"health.com\"\n  },\n  {\n    \"position\": 7,\n    \"title\": \"Guillain-Barré Syndrome\",\n    \"link\": \"https://www.childneurologyfoundation.org/disorder/guillain-barre-syndrome/\",\n    \"redirect_link\": \"https://www.google.co.in/url?sa=t&source=web&rct=j&opi=89978449&url=https://www.childneurologyfoundation.org/disorder/guillain-barre-syndrome/&ved=2ahUKEwjytsazusONAxVuRvEDHZnsAwE4UBAWegQIFxAB\",\n    \"displayed_link\": \"https://www.childneurologyfoundation.org › ...\",\n    \"favicon\": \"https://serpapi.com/searches/683595e21de0649ed113ada5/images/08a081bf1bff6ae76209cf9fc94f503a40fd25c3513cdffc3ffb7f7318b63a95.png\",\n    \"snippet\": \"The symptoms of GBS usually get worse over the first 2 to 4 weeks. Recovery usually starts after 4 weeks. Symptoms can continue to improve for 6 to 12 months.\",\n    \"snippet_highlighted_words\": [\n      \"GBS\"\n    ],\n    \"source\": \"Child Neurology Foundation\"\n  },\n  {\n    \"position\": 8,\n    \"title\": \"Miller Fisher variant of Guillain-Barre Syndrome\",\n    \"link\": \"https://eyewiki.org/Miller_Fisher_variant_of_Guillain-Barre_Syndrome\",\n    \"redirect_link\": \"https://www.google.co.in/url?sa=t&source=web&rct=j&opi=89978449&url=https://eyewiki.org/Miller_Fisher_variant_of_Guillain-Barre_Syndrome&ved=2ahUKEwjytsazusONAxVuRvEDHZnsAwE4UBAWegQIORAB\",\n    \"displayed_link\": \"https://eyewiki.org › ...\",\n    \"favicon\": \"https://serpapi.com/searches/683595e21de0649ed113ada5/images/08a081bf1bff6ae76209cf9fc94f503a4e1e3cb5807e950951d88b8b751a924f.png\",\n    \"snippet\": \"Disease Entity · Disease. Miller Fisher syndrome (MFS), also known as Fisher syndrome and the Miller Fisher Variant of Guillain-Barré syndrome, is an autoimmune ...\",\n    \"snippet_highlighted_words\": [\n      \"Guillain\",\n      \"Barré syndrome\"\n    ],\n    \"source\": \"EyeWiki\"\n  },\n  {\n    \"position\": 9,\n    \"title\": \"Guillain Barre Syndrome (GBS)\",\n    \"link\": \"https://emcrit.org/ibcc/gbs/\",\n    \"redirect_link\": \"https://www.google.co.in/url?sa=t&source=web&rct=j&opi=89978449&url=https://emcrit.org/ibcc/gbs/&ved=2ahUKEwjytsazusONAxVuRvEDHZnsAwE4UBAWegQIMRAB\",\n    \"displayed_link\": \"https://emcrit.org › ...\",\n    \"favicon\": \"https://serpapi.com/searches/683595e21de0649ed113ada5/images/08a081bf1bff6ae76209cf9fc94f503afa2262382c73ad0e23ceb8d07982ef44.png\",\n    \"author\": \"GBS GBS ने लिखी\",\n    \"snippet\": \"albuminocytologic dissociation · The classic finding in GBS is albuminocytologic dissociation (elevated protein, despite normal cell count).\",\n    \"snippet_highlighted_words\": [\n      \"GBS\"\n    ],\n    \"source\": \"EMCrit Blog\"\n  },\n  {\n    \"position\": 10,\n    \"title\": \"Guillain–Barré Syndrome\",\n    \"link\": \"https://iapindia.org/pdf/Ch-053-stg-guillain-barre-syndrome.pdf\",\n    \"redirect_link\": \"https://www.google.co.in/url?sa=t&source=web&rct=j&opi=89978449&url=https://iapindia.org/pdf/Ch-053-stg-guillain-barre-syndrome.pdf&ved=2ahUKEwjytsazusONAxVuRvEDHZnsAwE4UBAWegQIMxAB\",\n    \"displayed_link\": \"https://iapindia.org › pdf › Ch-053-stg-guillain-b...\",\n    \"favicon\": \"https://serpapi.com/searches/683595e21de0649ed113ada5/images/08a081bf1bff6ae76209cf9fc94f503a39b5f60f3ee1c0221b4c20a0840c4708.png\",\n    \"author\": \"S Shah ने लिखी\",\n    \"snippet\": \"GBS is the most common cause of acute flaccid paralysis in childhood. C linical Signs and Symptoms. ☑ Guillain–Barré syndrome presents with acute onset weakness ...\",\n    \"snippet_highlighted_words\": [\n      \"Guillain\",\n      \"Barré syndrome\"\n    ],\n    \"source\": \"Indian Academy of Pediatrics (IAP)\"\n  },\n  {\n    \"position\": 1,\n    \"title\": \"Miller Fisher variant of Guillain-Barre Syndrome\",\n    \"link\": \"https://eyewiki.org/Miller_Fisher_variant_of_Guillain-Barre_Syndrome\",\n    \"redirect_link\": \"https://www.google.co.in/url?sa=t&source=web&rct=j&opi=89978449&url=https://eyewiki.org/Miller_Fisher_variant_of_Guillain-Barre_Syndrome&ved=2ahUKEwi2-a60usONAxWIGtAFHTUMLlQ4WhAWegQIFxAB\",\n    \"displayed_link\": \"https://eyewiki.org › ...\",\n    \"favicon\": \"https://serpapi.com/searches/683595e503610a8c461f51dd/images/407fc46f2f03a8f9513b56e9a23919330dc0a1a99502cf0244d617b58e927bdf.png\",\n    \"snippet\": \"Disease Entity · Disease. Miller Fisher syndrome (MFS), also known as Fisher syndrome and the Miller Fisher Variant of Guillain-Barré syndrome, is an autoimmune ...\",\n    \"snippet_highlighted_words\": [\n      \"Guillain\",\n      \"Barré syndrome\"\n    ],\n    \"source\": \"EyeWiki\"\n  },\n  {\n    \"position\": 2,\n    \"title\": \"Guillain-Barré syndrome in adults: Treatment and prognosis\",\n    \"link\": \"https://www.uptodate.com/contents/guillain-barre-syndrome-in-adults-treatment-and-prognosis\",\n    \"redirect_link\": \"https://www.google.co.in/url?sa=t&source=web&rct=j&opi=89978449&url=https://www.uptodate.com/contents/guillain-barre-syndrome-in-adults-treatment-and-prognosis&ved=2ahUKEwi2-a60usONAxWIGtAFHTUMLlQ4WhAWegQIHxAB\",\n    \"displayed_link\": \"https://www.uptodate.com › ...\",\n    \"favicon\": \"https://serpapi.com/searches/683595e503610a8c461f51dd/images/407fc46f2f03a8f9513b56e9a2391933598e14c9362b32910777f95b5dd21df1.png\",\n    \"author\": \"SA Muley ने लिखी\",\n    \"snippet\": \"INTRODUCTION. The acute immune-mediated polyneuropathies are classified under the eponym Guillain-Barré syndrome (GBS), after the authors of ...\",\n    \"snippet_highlighted_words\": [\n      \"Guillain\",\n      \"Barré syndrome\"\n    ],\n    \"source\": \"Wolters Kluwer\"\n  },\n  {\n    \"position\": 3,\n    \"title\": \"Guillain Barre Syndrome (GBS)\",\n    \"link\": \"https://emcrit.org/ibcc/gbs/\",\n    \"redirect_link\": \"https://www.google.co.in/url?sa=t&source=web&rct=j&opi=89978449&url=https://emcrit.org/ibcc/gbs/&ved=2ahUKEwi2-a60usONAxWIGtAFHTUMLlQ4WhAWegQIGRAB\",\n    \"displayed_link\": \"https://emcrit.org › ...\",\n    \"favicon\": \"https://serpapi.com/searches/683595e503610a8c461f51dd/images/407fc46f2f03a8f9513b56e9a239193346bd2cbbc50c4f1d7d939cca1d0e0d97.png\",\n    \"author\": \"GBS GBS ने लिखी\",\n    \"snippet\": \"albuminocytologic dissociation · The classic finding in GBS is albuminocytologic dissociation (elevated protein, despite normal cell count).\",\n    \"snippet_highlighted_words\": [\n      \"GBS\"\n    ],\n    \"source\": \"EMCrit Blog\"\n  },\n  {\n    \"position\": 4,\n    \"title\": \"Guillain–Barré Syndrome\",\n    \"link\": \"https://iapindia.org/pdf/Ch-053-stg-guillain-barre-syndrome.pdf\",\n    \"redirect_link\": \"https://www.google.co.in/url?sa=t&source=web&rct=j&opi=89978449&url=https://iapindia.org/pdf/Ch-053-stg-guillain-barre-syndrome.pdf&ved=2ahUKEwi2-a60usONAxWIGtAFHTUMLlQ4WhAWegQIExAB\",\n    \"displayed_link\": \"https://iapindia.org › pdf › Ch-053-stg-guillain-b...\",\n    \"favicon\": \"https://serpapi.com/searches/683595e503610a8c461f51dd/images/407fc46f2f03a8f9513b56e9a23919339c42c6f04db005c0424e2bd39e2ce9b6.png\",\n    \"author\": \"S Shah ने लिखी\",\n    \"snippet\": \"GBS is the most common cause of acute flaccid paralysis in childhood. C linical Signs and Symptoms. ☑ Guillain–Barré syndrome presents with acute onset weakness ...\",\n    \"snippet_highlighted_words\": [\n      \"Guillain\",\n      \"Barré syndrome\"\n    ],\n    \"source\": \"Indian Academy of Pediatrics (IAP)\"\n  },\n  {\n    \"position\": 5,\n    \"title\": \"Guillain-Barré syndrome related to COVID-19 infection\",\n    \"link\": \"https://www.neurology.org/doi/10.1212/NXI.0000000000000741\",\n    \"redirect_link\": \"https://www.google.co.in/url?sa=t&source=web&rct=j&opi=89978449&url=https://www.neurology.org/doi/10.1212/NXI.0000000000000741&ved=2ahUKEwi2-a60usONAxWIGtAFHTUMLlQ4WhAWegQIFBAB\",\n    \"displayed_link\": \"https://www.neurology.org › ...\",\n    \"favicon\": \"https://serpapi.com/searches/683595e503610a8c461f51dd/images/407fc46f2f03a8f9513b56e9a2391933e2f2254db8d203fef67c275e98054c32.png\",\n    \"snippet\": \"We want to comment on a similar Guillain- Barré Syndrome (GBS) case following bilateral SARS-CoV2 pneumonia and to highlight the evolution of post-infectious ...\",\n    \"snippet_highlighted_words\": [\n      \"Guillain\",\n      \"Barré Syndrome\"\n    ],\n    \"source\": \"Neurology® Journals\"\n  },\n  {\n    \"position\": 6,\n    \"title\": \"Guillain-Barré Syndrome Lawyers and Lawsuits\",\n    \"link\": \"https://marlerclark.com/foodborne-illnesses/guillain-barre-syndrome\",\n    \"redirect_link\": \"https://www.google.co.in/url?sa=t&source=web&rct=j&opi=89978449&url=https://marlerclark.com/foodborne-illnesses/guillain-barre-syndrome&ved=2ahUKEwi2-a60usONAxWIGtAFHTUMLlQ4WhAWegQIFhAB\",\n    \"displayed_link\": \"https://marlerclark.com › ...\",\n    \"snippet\": \"We at Marler Clark provide Guillain-Barré syndrome lawyers and information to guide clients in the right direction.\",\n    \"snippet_highlighted_words\": [\n      \"Guillain\",\n      \"Barré syndrome\"\n    ],\n    \"source\": \"Marler Clark\"\n  },\n  {\n    \"position\": 7,\n    \"title\": \"Guillain-Barré Syndrome (GBS) - Neurologic Disorders\",\n    \"link\": \"https://www.msdmanuals.com/professional/neurologic-disorders/peripheral-nervous-system-and-motor-unit-disorders/guillain-barr%C3%A9-syndrome-gbs\",\n    \"redirect_link\": \"https://www.google.co.in/url?sa=t&source=web&rct=j&opi=89978449&url=https://www.msdmanuals.com/professional/neurologic-disorders/peripheral-nervous-system-and-motor-unit-disorders/guillain-barr%25C3%25A9-syndrome-gbs&ved=2ahUKEwi2-a60usONAxWIGtAFHTUMLlQ4WhAWegQIGBAB\",\n    \"displayed_link\": \"https://www.msdmanuals.com › ...\",\n    \"favicon\": \"https://serpapi.com/searches/683595e503610a8c461f51dd/images/407fc46f2f03a8f9513b56e9a239193307264556644695c0059e5b2840f879f5.png\",\n    \"snippet\": \"(Acute Idiopathic Polyneuritis; Acute Inflammatory Demyelinating Polyradiculoneuropathy) ... Guillain-Barré syndrome is an acute, usually rapidly progressive but ...\",\n    \"snippet_highlighted_words\": [\n      \"Guillain\",\n      \"Barré syndrome\"\n    ],\n    \"source\": \"MSD Manuals\"\n  },\n  {\n    \"position\": 8,\n    \"title\": \"Guillain-Barré Syndrome | Upstate Neurological Institute\",\n    \"link\": \"https://www.upstate.edu/neuroinstitute/symptoms-conditions/guillain-barre-syndrome.php\",\n    \"redirect_link\": \"https://www.google.co.in/url?sa=t&source=web&rct=j&opi=89978449&url=https://www.upstate.edu/neuroinstitute/symptoms-conditions/guillain-barre-syndrome.php&ved=2ahUKEwi2-a60usONAxWIGtAFHTUMLlQ4WhAWegQIMhAB\",\n    \"displayed_link\": \"https://www.upstate.edu › ...\",\n    \"favicon\": \"https://serpapi.com/searches/683595e503610a8c461f51dd/images/407fc46f2f03a8f9513b56e9a2391933e3448e9ea76fa1ec1dacde50f9822258.png\",\n    \"snippet\": \"Symptoms · Weakness and tingling in the legs, arms, and face · Pain in the legs or back · Problems walking or climbing stairs · Problems breathing · Eyesight ...\",\n    \"source\": \"SUNY Upstate Medical University\"\n  },\n  {\n    \"position\": 9,\n    \"title\": \"A rare paralysis syndrome is spiking in India this year. ...\",\n    \"link\": \"https://www.gavi.org/vaccineswork/cases-infection-linked-paralysis-syndrome-have-spiked-india-year-whats-story\",\n    \"redirect_link\": \"https://www.google.co.in/url?sa=t&source=web&rct=j&opi=89978449&url=https://www.gavi.org/vaccineswork/cases-infection-linked-paralysis-syndrome-have-spiked-india-year-whats-story&ved=2ahUKEwi2-a60usONAxWIGtAFHTUMLlQ4WhAWegQINxAB\",\n    \"displayed_link\": \"https://www.gavi.org › ...\",\n    \"favicon\": \"https://serpapi.com/searches/683595e503610a8c461f51dd/images/407fc46f2f03a8f9513b56e9a239193364321afd21b55656afcbe0ca8d15d028.png\",\n    \"date\": \"19 फ़र॰ 2025\",\n    \"snippet\": \"The symptoms of GBS typically begin with weakness, often starting in the legs and progressing upward, or 'ascending paralysis, says Debnath. The ...\",\n    \"snippet_highlighted_words\": [\n      \"GBS\"\n    ],\n    \"source\": \"Gavi, the Vaccine Alliance\"\n  },\n  {\n    \"position\": 10,\n    \"title\": \"Guillain-Barre Syndrome - Neurology\",\n    \"link\": \"https://step2.medbullets.com/neurology/120319/guillain-barre-syndrome\",\n    \"redirect_link\": \"https://www.google.co.in/url?sa=t&source=web&rct=j&opi=89978449&url=https://step2.medbullets.com/neurology/120319/guillain-barre-syndrome&ved=2ahUKEwi2-a60usONAxWIGtAFHTUMLlQ4WhAWegQIMRAB\",\n    \"displayed_link\": \"https://step2.medbullets.com › ...\",\n    \"favicon\": \"https://serpapi.com/searches/683595e503610a8c461f51dd/images/407fc46f2f03a8f9513b56e9a23919337930c2a782bc20f6fb329b3186d1f71b.png\",\n    \"date\": \"13 अक्टू॰ 2024\",\n    \"snippet\": \"Definition: an immune-mediated polyneuropathy that has many variant forms. Miller Fisher syndrome.\",\n    \"snippet_highlighted_words\": [\n      \"syndrome\"\n    ],\n    \"source\": \"Medbullets\"\n  }\n]\n"
     ]
    }
   ],
   "source": [
    "# Fetching Google Search Results for Guillain-Barré Syndrome using SerpApi\n",
    "\n",
    "#%pip install google-search-results==2.4.2\n",
    "\n",
    "from serpapi import GoogleSearch\n",
    "import json\n",
    "\n",
    "api_key = \"1e9e3313e442d407a5bb0f40096ff8633cfd38190089299db0626007b6c08632\"\n",
    "\n",
    "# To store all results\n",
    "fetched_results_raw = []\n",
    "\n",
    "page_size = 10\n",
    "max_pages = 10\n",
    "\n",
    "# Loop over pages to fetch results\n",
    "for page in range(max_pages):\n",
    "    params = {\n",
    "        \"api_key\": api_key,\n",
    "        \"engine\": \"google\",\n",
    "        \"q\": \"Guillain Barre Syndrome\",\n",
    "        \"location\": \"India\",\n",
    "        \"google_domain\": \"google.co.in\",\n",
    "        \"gl\": \"in\",\n",
    "        \"hl\": \"hi\",\n",
    "        \"cr\": \"countryUS\",\n",
    "        \"start\": page * page_size\n",
    "    }\n",
    "\n",
    "    search = GoogleSearch(params)\n",
    "    results = search.get_dict()\n",
    "\n",
    "    fetched_results_raw += results.get(\"organic_results\", [])\n",
    "\n",
    "# Display the results in JSON format\n",
    "print(json.dumps(fetched_results_raw, indent=2, ensure_ascii=False))\n"
   ]
  },
  {
   "cell_type": "markdown",
   "metadata": {
    "application/vnd.databricks.v1+cell": {
     "cellMetadata": {
      "byteLimit": 2048000,
      "rowLimit": 10000
     },
     "inputWidgets": {},
     "nuid": "d784a5b2-9f37-45a6-9c17-32f31be10fcc",
     "showTitle": false,
     "tableResultSettingsMap": {},
     "title": ""
    }
   },
   "source": [
    "**Convert Clinical Trials and SerpApi JSON Data to Pandas DataFrames (Normalization)**"
   ]
  },
  {
   "cell_type": "code",
   "execution_count": 0,
   "metadata": {
    "application/vnd.databricks.v1+cell": {
     "cellMetadata": {
      "byteLimit": 2048000,
      "rowLimit": 10000
     },
     "inputWidgets": {},
     "nuid": "2f41f252-ef0e-4a76-92c9-839b227bbdfc",
     "showTitle": false,
     "tableResultSettingsMap": {},
     "title": ""
    }
   },
   "outputs": [
    {
     "output_type": "display_data",
     "data": {
      "application/vnd.databricks.v1+bamboolib_hint": "{\"pd.DataFrames\": [], \"version\": \"0.0.1\"}",
      "text/plain": []
     },
     "metadata": {},
     "output_type": "display_data"
    },
    {
     "output_type": "display_data",
     "data": {
      "text/html": [
       "<style scoped>\n",
       "  .table-result-container {\n",
       "    max-height: 300px;\n",
       "    overflow: auto;\n",
       "  }\n",
       "  table, th, td {\n",
       "    border: 1px solid black;\n",
       "    border-collapse: collapse;\n",
       "  }\n",
       "  th, td {\n",
       "    padding: 5px;\n",
       "  }\n",
       "  th {\n",
       "    text-align: left;\n",
       "  }\n",
       "</style><div class='table-result-container'><table class='table-result'><thead style='background-color: white'><tr><th>nctId</th><th>briefTitle</th><th>overallStatus</th><th>hasResults</th></tr></thead><tbody><tr><td>NCT05212792</td><td>Genomics and COVID-19 Vaccine Adverse Events</td><td>RECRUITING</td><td>false</td></tr><tr><td>NCT04166357</td><td>Early Prediction of Respiratory and Autonomic Complications of GBS Using Neuromuscular Ultrasound</td><td>UNKNOWN</td><td>false</td></tr><tr><td>NCT04829526</td><td>Firm Observational Clinical Unicenter Study on Guillain Barré Syndrome</td><td>RECRUITING</td><td>false</td></tr><tr><td>NCT04303962</td><td>Efficacy of Intravenous Gamma Globulin on Guillain-Barre Syndrome</td><td>UNKNOWN</td><td>false</td></tr><tr><td>NCT00271791</td><td>Prednisone Treatment for Vestibular Neuronitis</td><td>COMPLETED</td><td>false</td></tr><tr><td>NCT01655394</td><td>Change of Nerve Conduction Properties in IVIg Dependent Neuropathies</td><td>UNKNOWN</td><td>false</td></tr><tr><td>NCT05324176</td><td>Diaphragm Thickness by Ultrasonography in Neurological Disorders</td><td>COMPLETED</td><td>false</td></tr><tr><td>NCT03943589</td><td>A Study of Imlifidase in Patients With Guillain-Barré Syndrome</td><td>COMPLETED</td><td>true</td></tr><tr><td>NCT04752566</td><td>A Study to Evaluate the Efficacy and Safety of Eculizumab in Guillain-Barré Syndrome</td><td>COMPLETED</td><td>true</td></tr><tr><td>NCT02493725</td><td>JET-GBS - Japanese Eculizumab Trial for GBS</td><td>COMPLETED</td><td>false</td></tr><tr><td>NCT06167239</td><td>Ventilator Trigger Sensitivity Adjustment Versus Threshold Inspiratory Muscle Training on Arterial Blood Gases</td><td>RECRUITING</td><td>false</td></tr><tr><td>NCT05284786</td><td>Ultrasonography and Electrophysiology in GBS</td><td>UNKNOWN</td><td>false</td></tr><tr><td>NCT05701189</td><td>Evaluating Efgartigimod in Patients with Guillain-Barré Syndrome</td><td>RECRUITING</td><td>false</td></tr><tr><td>NCT06885762</td><td>Efgartigimod for the Treatment of Guillain-Barré Syndrome</td><td>NOT_YET_RECRUITING</td><td>false</td></tr><tr><td>NCT05104762</td><td>IVIG Versus Plasmapheresis in the Treatment of Guillian Barrie Syndrome Patients</td><td>COMPLETED</td><td>false</td></tr><tr><td>NCT06615622</td><td>Our Study Aims to Determine If Nerve Alterations in Acute GBS and CIDP Detectable by Ultrasound Match Electrodiagnostic Findings and If This Method Aids Early Diagnosis, Predict Their Outcomes and Differentiate Between Axonal and Demyelinating Subtypes.</td><td>RECRUITING</td><td>false</td></tr><tr><td>NCT05940922</td><td>RWE-based Treatment Patterns and Outcomes in CIDP</td><td>NOT_YET_RECRUITING</td><td>false</td></tr><tr><td>NCT06822231</td><td>High-Tech Rehabilitation Pathway for Acute Adult Neuromuscular Diseases - Fit4MedRob-Acute MND Project</td><td>NOT_YET_RECRUITING</td><td>false</td></tr><tr><td>NCT06334796</td><td>Artificial Intelligence-powered Virtual Assistant for Emergency Triage in Neurology</td><td>COMPLETED</td><td>false</td></tr><tr><td>NCT00411216</td><td>Recovery of Visual Acuity in People With Vestibular Deficits</td><td>COMPLETED</td><td>true</td></tr><tr><td>NCT00167622</td><td>Early Mechanical Ventilation for Guillain Barré Syndrome</td><td>COMPLETED</td><td>false</td></tr><tr><td>NCT02459808</td><td>Gastrointestinal Transit Time in Patients With Guillain-Barré Syndrome</td><td>WITHDRAWN</td><td>false</td></tr><tr><td>NCT04092140</td><td>Neuromuscular Ultrasound in Correlation to Neurophysiological Findings</td><td>UNKNOWN</td><td>false</td></tr><tr><td>NCT05095844</td><td>National Vaccine Adverse Event Reporting Survey and Etiology</td><td>UNKNOWN</td><td>false</td></tr><tr><td>NCT00056810</td><td>Assessment of Chronic Guillain-Barre Syndrome Improvement With Use of 4-aminopyridine</td><td>COMPLETED</td><td>false</td></tr><tr><td>NCT03268304</td><td>Feasibility of Two New Software Modules for the Rehabilitation of Patients With Neuromuscular Upper Limb Impairments</td><td>WITHDRAWN</td><td>false</td></tr><tr><td>NCT01005524</td><td>Brain Computer Interface for Communication in ICU: a Feasibility Study</td><td>COMPLETED</td><td>false</td></tr><tr><td>NCT04871035</td><td>Immunoadsorption Versus Plasma Exchange for Treatment of Guillain-Barré Syndrome (GBS)</td><td>RECRUITING</td><td>false</td></tr><tr><td>NCT04674163</td><td>Expression Profile of ERK5 and PKM2 Kinases in Neuroinflammatory Diseases.</td><td>WITHDRAWN</td><td>false</td></tr><tr><td>NCT04035135</td><td>A Clinical Study of ANX005 and IVIG in Subjects With Guillain Barré Syndrome (GBS)</td><td>COMPLETED</td><td>false</td></tr><tr><td>NCT01582763</td><td>International Guillain-Barré Syndrome Outcome Study</td><td>COMPLETED</td><td>false</td></tr><tr><td>NCT03801135</td><td>Changes in Haemostasis After Therapeutic Plasmapheresis With Citrate Anticoagulation</td><td>UNKNOWN</td><td>false</td></tr><tr><td>NCT06939634</td><td>Evaluation of Usability and Safety of the System Atalante in Patients With High Paraplegia and Tetraplegia</td><td>COMPLETED</td><td>false</td></tr><tr><td>NCT05491096</td><td>Effects of Proprioceptive Neuromuscular Training on Sensory and Motor Function in Guillain Barre Syndrome</td><td>COMPLETED</td><td>false</td></tr><tr><td>NCT06032741</td><td>Prognosis in Patients With Guillain-Barre Syndrome</td><td>UNKNOWN</td><td>false</td></tr><tr><td>NCT05494619</td><td>A Study to Evaluate the Efficacy, Safety, Pharmacokinetics, and Pharmacodynamics of Crovalimab in Participants With Guillain-Barré Syndrome (GBS)</td><td>WITHDRAWN</td><td>false</td></tr><tr><td>NCT01469858</td><td>Perception and Multisensory Integration in Neurological Patients Using fMRI</td><td>UNKNOWN</td><td>false</td></tr><tr><td>NCT06605612</td><td>Development and Validation of the FBIndex to Determine the Risk of Falls for Patients with Neuromuscular Disorders</td><td>ENROLLING_BY_INVITATION</td><td>false</td></tr><tr><td>NCT06612242</td><td>Early vs. Late Tracheostomy in Patients With Guillain -Barre Syndrome</td><td>RECRUITING</td><td>false</td></tr><tr><td>NCT05630313</td><td>Gene Sequencing as a Strategy for Identifying Genetic Factors Associated With Serious Adverse Events After Covid-19 Vaccines in Use in Brazil</td><td>RECRUITING</td><td>false</td></tr><tr><td>NCT03941184</td><td>Spontaneous Coronary Artery Dissection (SCAD) and Autoimmunity</td><td>COMPLETED</td><td>false</td></tr><tr><td>NCT06940908</td><td>Living With Guillain-Barré Syndrome as Children.</td><td>RECRUITING</td><td>false</td></tr><tr><td>NCT04053452</td><td>Peripheral Nerve Ultrasound for Diagnosis and Prognosis of Guillain-Barre Syndrome</td><td>TERMINATED</td><td>true</td></tr><tr><td>NCT04249752</td><td>Biomarkers in Polyradiculoneuropathies</td><td>UNKNOWN</td><td>false</td></tr><tr><td>NCT02342184</td><td>Efficacy and Safety Study of GB-0998 for Guillain-Barré Syndrome</td><td>COMPLETED</td><td>false</td></tr><tr><td>NCT05945784</td><td>Exploring Accessible Beauty for Individuals With Upper Extremity Deficits</td><td>COMPLETED</td><td>false</td></tr><tr><td>NCT05292690</td><td>An Assistive Powered Wheelchair: Stage 2 Trial</td><td>COMPLETED</td><td>false</td></tr><tr><td>NCT04701164</td><td>Efficacy and Safety of ANX005 in Subjects With Guillain-Barré Syndrome</td><td>COMPLETED</td><td>false</td></tr><tr><td>NCT00173199</td><td>The Changes of Cytokines in Guillain Barré Syndrome: the Correlation With Clinical Manifestations and Skin Innervation</td><td>UNKNOWN</td><td>false</td></tr><tr><td>NCT05114941</td><td>Comparison of the Efficacy and Safety of Immunoadsorption and Intravenous Immunoglobulin for Guillain-Barre Syndrome</td><td>NOT_YET_RECRUITING</td><td>false</td></tr><tr><td>NCT03206541</td><td>Neurologic Manifestations of the Arbovirus Infection in Colombia</td><td>COMPLETED</td><td>false</td></tr><tr><td>NCT02422875</td><td>Comparative Autoantibody and Immunologic Cell Marker Study</td><td>ENROLLING_BY_INVITATION</td><td>false</td></tr><tr><td>NCT01370200</td><td>Regional Citrate Anticoagulation in Plasma Exchange Treatment</td><td>COMPLETED</td><td>false</td></tr><tr><td>NCT06300359</td><td>Prognostic Indicators of Gullian-Barre Syndrome</td><td>NOT_YET_RECRUITING</td><td>false</td></tr><tr><td>NCT06502015</td><td>Biomarkers in Autoimmune Disease of Nervous System</td><td>RECRUITING</td><td>false</td></tr><tr><td>NCT02780570</td><td>Small Volume Plasma Exchange (SVPE) for Guillain-Barré Syndrome (GBS) Patients</td><td>COMPLETED</td><td>false</td></tr><tr><td>NCT02883270</td><td>Effects of Robotic-assisted Gait Training In Non-Ambulatory Patients After Guillain-Barré Syndrome</td><td>COMPLETED</td><td>false</td></tr><tr><td>NCT02722070</td><td>Processing Integration in Neurological Patients Using fMRI</td><td>UNKNOWN</td><td>false</td></tr><tr><td>NCT01024088</td><td>Prospective Study on Swallowing/Breathing Interactions in Severe Guillain Barre Syndrome.</td><td>COMPLETED</td><td>false</td></tr><tr><td>NCT02221271</td><td>Phase III Clinical Trial of NPB-01 in Patients With Guillain-Barré Syndrome</td><td>COMPLETED</td><td>false</td></tr><tr><td>NCT06740656</td><td>Neuromuscular Complications of MEK Inhibitors: a French Case Series and a Systematic Review of the Literature</td><td>NOT_YET_RECRUITING</td><td>false</td></tr><tr><td>NCT03826056</td><td>Neurology Inpatient Clinical Education Trial</td><td>COMPLETED</td><td>false</td></tr><tr><td>NCT04550611</td><td>Mini-pool Intravenous Immunoglobulin (MP-IVIG) in Guillain-Barré Syndrome</td><td>UNKNOWN</td><td>false</td></tr><tr><td>NCT02029378</td><td>Inhibition of Complement Activation (Eculizumab) in Guillain-Barre Syndrome Study</td><td>UNKNOWN</td><td>false</td></tr><tr><td>NCT01306578</td><td>Intravenous Immunoglobulin (IVIG) Versus Plasma Exchange (PE) for Ventilated Children With Guillain Barre Syndrome (GBS)</td><td>COMPLETED</td><td>false</td></tr><tr><td>NCT03710278</td><td>The Effectiveness and Safety of Human Lumbar Puncture Assist Device (LPat)</td><td>COMPLETED</td><td>false</td></tr><tr><td>NCT03773328</td><td>A Clinical Trial of CK0801 (a New Drug) In Patients With Treatment-Resistant Guillain-Barré Syndrome (GBS)</td><td>WITHDRAWN</td><td>false</td></tr><tr><td>NCT03840928</td><td>PatientSpot Formerly Known as ArthritisPower</td><td>RECRUITING</td><td>false</td></tr><tr><td>NCT00004833</td><td>Randomized Study of Plasmapheresis or Human Immunoglobulin Infusion in Childhood Guillain-Barre Syndrome</td><td>TERMINATED</td><td>false</td></tr><tr><td>NCT06200454</td><td>Predictive Value of Neuromuscular Ultrasound of Cranial Nerves in Guillain-Barré Syndrome</td><td>NOT_YET_RECRUITING</td><td>false</td></tr><tr><td>NCT04927598</td><td>Predictors and Prognostic Factors of Gullian Barrie Syndrome Outcome</td><td>COMPLETED</td><td>false</td></tr><tr><td>NCT05461898</td><td>RehabGBs: Rehabilitation in People With Guillain-Barré Syndrome</td><td>RECRUITING</td><td>false</td></tr><tr><td>NCT02582853</td><td>sCD163 as a Potential Biomarker in Guillain- Barré Syndrome</td><td>UNKNOWN</td><td>false</td></tr><tr><td>NCT06620198</td><td>Upper Limb Robot-Assisted Therapy in Patients with Guillain-Barré Syndrome</td><td>ACTIVE_NOT_RECRUITING</td><td>false</td></tr><tr><td>NCT06041451</td><td>Early and Late Prognosis in Patients With Guillain-Barre Syndrome</td><td>UNKNOWN</td><td>false</td></tr><tr><td>NCT00575653</td><td>Safety Study of GBS Following Menactra Meningococcal Vaccination</td><td>COMPLETED</td><td>false</td></tr></tbody></table></div>"
      ]
     },
     "metadata": {
      "application/vnd.databricks.v1+output": {
       "addedWidgets": {},
       "aggData": [],
       "aggError": "",
       "aggOverflow": false,
       "aggSchema": [],
       "aggSeriesLimitReached": false,
       "aggType": "",
       "arguments": {},
       "columnCustomDisplayInfos": {},
       "data": [
        [
         "NCT05212792",
         "Genomics and COVID-19 Vaccine Adverse Events",
         "RECRUITING",
         false
        ],
        [
         "NCT04166357",
         "Early Prediction of Respiratory and Autonomic Complications of GBS Using Neuromuscular Ultrasound",
         "UNKNOWN",
         false
        ],
        [
         "NCT04829526",
         "Firm Observational Clinical Unicenter Study on Guillain Barré Syndrome",
         "RECRUITING",
         false
        ],
        [
         "NCT04303962",
         "Efficacy of Intravenous Gamma Globulin on Guillain-Barre Syndrome",
         "UNKNOWN",
         false
        ],
        [
         "NCT00271791",
         "Prednisone Treatment for Vestibular Neuronitis",
         "COMPLETED",
         false
        ],
        [
         "NCT01655394",
         "Change of Nerve Conduction Properties in IVIg Dependent Neuropathies",
         "UNKNOWN",
         false
        ],
        [
         "NCT05324176",
         "Diaphragm Thickness by Ultrasonography in Neurological Disorders",
         "COMPLETED",
         false
        ],
        [
         "NCT03943589",
         "A Study of Imlifidase in Patients With Guillain-Barré Syndrome",
         "COMPLETED",
         true
        ],
        [
         "NCT04752566",
         "A Study to Evaluate the Efficacy and Safety of Eculizumab in Guillain-Barré Syndrome",
         "COMPLETED",
         true
        ],
        [
         "NCT02493725",
         "JET-GBS - Japanese Eculizumab Trial for GBS",
         "COMPLETED",
         false
        ],
        [
         "NCT06167239",
         "Ventilator Trigger Sensitivity Adjustment Versus Threshold Inspiratory Muscle Training on Arterial Blood Gases",
         "RECRUITING",
         false
        ],
        [
         "NCT05284786",
         "Ultrasonography and Electrophysiology in GBS",
         "UNKNOWN",
         false
        ],
        [
         "NCT05701189",
         "Evaluating Efgartigimod in Patients with Guillain-Barré Syndrome",
         "RECRUITING",
         false
        ],
        [
         "NCT06885762",
         "Efgartigimod for the Treatment of Guillain-Barré Syndrome",
         "NOT_YET_RECRUITING",
         false
        ],
        [
         "NCT05104762",
         "IVIG Versus Plasmapheresis in the Treatment of Guillian Barrie Syndrome Patients",
         "COMPLETED",
         false
        ],
        [
         "NCT06615622",
         "Our Study Aims to Determine If Nerve Alterations in Acute GBS and CIDP Detectable by Ultrasound Match Electrodiagnostic Findings and If This Method Aids Early Diagnosis, Predict Their Outcomes and Differentiate Between Axonal and Demyelinating Subtypes.",
         "RECRUITING",
         false
        ],
        [
         "NCT05940922",
         "RWE-based Treatment Patterns and Outcomes in CIDP",
         "NOT_YET_RECRUITING",
         false
        ],
        [
         "NCT06822231",
         "High-Tech Rehabilitation Pathway for Acute Adult Neuromuscular Diseases - Fit4MedRob-Acute MND Project",
         "NOT_YET_RECRUITING",
         false
        ],
        [
         "NCT06334796",
         "Artificial Intelligence-powered Virtual Assistant for Emergency Triage in Neurology",
         "COMPLETED",
         false
        ],
        [
         "NCT00411216",
         "Recovery of Visual Acuity in People With Vestibular Deficits",
         "COMPLETED",
         true
        ],
        [
         "NCT00167622",
         "Early Mechanical Ventilation for Guillain Barré Syndrome",
         "COMPLETED",
         false
        ],
        [
         "NCT02459808",
         "Gastrointestinal Transit Time in Patients With Guillain-Barré Syndrome",
         "WITHDRAWN",
         false
        ],
        [
         "NCT04092140",
         "Neuromuscular Ultrasound in Correlation to Neurophysiological Findings",
         "UNKNOWN",
         false
        ],
        [
         "NCT05095844",
         "National Vaccine Adverse Event Reporting Survey and Etiology",
         "UNKNOWN",
         false
        ],
        [
         "NCT00056810",
         "Assessment of Chronic Guillain-Barre Syndrome Improvement With Use of 4-aminopyridine",
         "COMPLETED",
         false
        ],
        [
         "NCT03268304",
         "Feasibility of Two New Software Modules for the Rehabilitation of Patients With Neuromuscular Upper Limb Impairments",
         "WITHDRAWN",
         false
        ],
        [
         "NCT01005524",
         "Brain Computer Interface for Communication in ICU: a Feasibility Study",
         "COMPLETED",
         false
        ],
        [
         "NCT04871035",
         "Immunoadsorption Versus Plasma Exchange for Treatment of Guillain-Barré Syndrome (GBS)",
         "RECRUITING",
         false
        ],
        [
         "NCT04674163",
         "Expression Profile of ERK5 and PKM2 Kinases in Neuroinflammatory Diseases.",
         "WITHDRAWN",
         false
        ],
        [
         "NCT04035135",
         "A Clinical Study of ANX005 and IVIG in Subjects With Guillain Barré Syndrome (GBS)",
         "COMPLETED",
         false
        ],
        [
         "NCT01582763",
         "International Guillain-Barré Syndrome Outcome Study",
         "COMPLETED",
         false
        ],
        [
         "NCT03801135",
         "Changes in Haemostasis After Therapeutic Plasmapheresis With Citrate Anticoagulation",
         "UNKNOWN",
         false
        ],
        [
         "NCT06939634",
         "Evaluation of Usability and Safety of the System Atalante in Patients With High Paraplegia and Tetraplegia",
         "COMPLETED",
         false
        ],
        [
         "NCT05491096",
         "Effects of Proprioceptive Neuromuscular Training on Sensory and Motor Function in Guillain Barre Syndrome",
         "COMPLETED",
         false
        ],
        [
         "NCT06032741",
         "Prognosis in Patients With Guillain-Barre Syndrome",
         "UNKNOWN",
         false
        ],
        [
         "NCT05494619",
         "A Study to Evaluate the Efficacy, Safety, Pharmacokinetics, and Pharmacodynamics of Crovalimab in Participants With Guillain-Barré Syndrome (GBS)",
         "WITHDRAWN",
         false
        ],
        [
         "NCT01469858",
         "Perception and Multisensory Integration in Neurological Patients Using fMRI",
         "UNKNOWN",
         false
        ],
        [
         "NCT06605612",
         "Development and Validation of the FBIndex to Determine the Risk of Falls for Patients with Neuromuscular Disorders",
         "ENROLLING_BY_INVITATION",
         false
        ],
        [
         "NCT06612242",
         "Early vs. Late Tracheostomy in Patients With Guillain -Barre Syndrome",
         "RECRUITING",
         false
        ],
        [
         "NCT05630313",
         "Gene Sequencing as a Strategy for Identifying Genetic Factors Associated With Serious Adverse Events After Covid-19 Vaccines in Use in Brazil",
         "RECRUITING",
         false
        ],
        [
         "NCT03941184",
         "Spontaneous Coronary Artery Dissection (SCAD) and Autoimmunity",
         "COMPLETED",
         false
        ],
        [
         "NCT06940908",
         "Living With Guillain-Barré Syndrome as Children.",
         "RECRUITING",
         false
        ],
        [
         "NCT04053452",
         "Peripheral Nerve Ultrasound for Diagnosis and Prognosis of Guillain-Barre Syndrome",
         "TERMINATED",
         true
        ],
        [
         "NCT04249752",
         "Biomarkers in Polyradiculoneuropathies",
         "UNKNOWN",
         false
        ],
        [
         "NCT02342184",
         "Efficacy and Safety Study of GB-0998 for Guillain-Barré Syndrome",
         "COMPLETED",
         false
        ],
        [
         "NCT05945784",
         "Exploring Accessible Beauty for Individuals With Upper Extremity Deficits",
         "COMPLETED",
         false
        ],
        [
         "NCT05292690",
         "An Assistive Powered Wheelchair: Stage 2 Trial",
         "COMPLETED",
         false
        ],
        [
         "NCT04701164",
         "Efficacy and Safety of ANX005 in Subjects With Guillain-Barré Syndrome",
         "COMPLETED",
         false
        ],
        [
         "NCT00173199",
         "The Changes of Cytokines in Guillain Barré Syndrome: the Correlation With Clinical Manifestations and Skin Innervation",
         "UNKNOWN",
         false
        ],
        [
         "NCT05114941",
         "Comparison of the Efficacy and Safety of Immunoadsorption and Intravenous Immunoglobulin for Guillain-Barre Syndrome",
         "NOT_YET_RECRUITING",
         false
        ],
        [
         "NCT03206541",
         "Neurologic Manifestations of the Arbovirus Infection in Colombia",
         "COMPLETED",
         false
        ],
        [
         "NCT02422875",
         "Comparative Autoantibody and Immunologic Cell Marker Study",
         "ENROLLING_BY_INVITATION",
         false
        ],
        [
         "NCT01370200",
         "Regional Citrate Anticoagulation in Plasma Exchange Treatment",
         "COMPLETED",
         false
        ],
        [
         "NCT06300359",
         "Prognostic Indicators of Gullian-Barre Syndrome",
         "NOT_YET_RECRUITING",
         false
        ],
        [
         "NCT06502015",
         "Biomarkers in Autoimmune Disease of Nervous System",
         "RECRUITING",
         false
        ],
        [
         "NCT02780570",
         "Small Volume Plasma Exchange (SVPE) for Guillain-Barré Syndrome (GBS) Patients",
         "COMPLETED",
         false
        ],
        [
         "NCT02883270",
         "Effects of Robotic-assisted Gait Training In Non-Ambulatory Patients After Guillain-Barré Syndrome",
         "COMPLETED",
         false
        ],
        [
         "NCT02722070",
         "Processing Integration in Neurological Patients Using fMRI",
         "UNKNOWN",
         false
        ],
        [
         "NCT01024088",
         "Prospective Study on Swallowing/Breathing Interactions in Severe Guillain Barre Syndrome.",
         "COMPLETED",
         false
        ],
        [
         "NCT02221271",
         "Phase III Clinical Trial of NPB-01 in Patients With Guillain-Barré Syndrome",
         "COMPLETED",
         false
        ],
        [
         "NCT06740656",
         "Neuromuscular Complications of MEK Inhibitors: a French Case Series and a Systematic Review of the Literature",
         "NOT_YET_RECRUITING",
         false
        ],
        [
         "NCT03826056",
         "Neurology Inpatient Clinical Education Trial",
         "COMPLETED",
         false
        ],
        [
         "NCT04550611",
         "Mini-pool Intravenous Immunoglobulin (MP-IVIG) in Guillain-Barré Syndrome",
         "UNKNOWN",
         false
        ],
        [
         "NCT02029378",
         "Inhibition of Complement Activation (Eculizumab) in Guillain-Barre Syndrome Study",
         "UNKNOWN",
         false
        ],
        [
         "NCT01306578",
         "Intravenous Immunoglobulin (IVIG) Versus Plasma Exchange (PE) for Ventilated Children With Guillain Barre Syndrome (GBS)",
         "COMPLETED",
         false
        ],
        [
         "NCT03710278",
         "The Effectiveness and Safety of Human Lumbar Puncture Assist Device (LPat)",
         "COMPLETED",
         false
        ],
        [
         "NCT03773328",
         "A Clinical Trial of CK0801 (a New Drug) In Patients With Treatment-Resistant Guillain-Barré Syndrome (GBS)",
         "WITHDRAWN",
         false
        ],
        [
         "NCT03840928",
         "PatientSpot Formerly Known as ArthritisPower",
         "RECRUITING",
         false
        ],
        [
         "NCT00004833",
         "Randomized Study of Plasmapheresis or Human Immunoglobulin Infusion in Childhood Guillain-Barre Syndrome",
         "TERMINATED",
         false
        ],
        [
         "NCT06200454",
         "Predictive Value of Neuromuscular Ultrasound of Cranial Nerves in Guillain-Barré Syndrome",
         "NOT_YET_RECRUITING",
         false
        ],
        [
         "NCT04927598",
         "Predictors and Prognostic Factors of Gullian Barrie Syndrome Outcome",
         "COMPLETED",
         false
        ],
        [
         "NCT05461898",
         "RehabGBs: Rehabilitation in People With Guillain-Barré Syndrome",
         "RECRUITING",
         false
        ],
        [
         "NCT02582853",
         "sCD163 as a Potential Biomarker in Guillain- Barré Syndrome",
         "UNKNOWN",
         false
        ],
        [
         "NCT06620198",
         "Upper Limb Robot-Assisted Therapy in Patients with Guillain-Barré Syndrome",
         "ACTIVE_NOT_RECRUITING",
         false
        ],
        [
         "NCT06041451",
         "Early and Late Prognosis in Patients With Guillain-Barre Syndrome",
         "UNKNOWN",
         false
        ],
        [
         "NCT00575653",
         "Safety Study of GBS Following Menactra Meningococcal Vaccination",
         "COMPLETED",
         false
        ]
       ],
       "datasetInfos": [],
       "dbfsResultPath": null,
       "isJsonSchema": true,
       "metadata": {},
       "overflow": false,
       "plotOptions": {
        "customPlotOptions": {},
        "displayType": "table",
        "pivotAggregation": null,
        "pivotColumns": null,
        "xColumns": null,
        "yColumns": null
       },
       "removedWidgets": [],
       "schema": [
        {
         "metadata": "{}",
         "name": "nctId",
         "type": "\"string\""
        },
        {
         "metadata": "{}",
         "name": "briefTitle",
         "type": "\"string\""
        },
        {
         "metadata": "{}",
         "name": "overallStatus",
         "type": "\"string\""
        },
        {
         "metadata": "{}",
         "name": "hasResults",
         "type": "\"boolean\""
        }
       ],
       "type": "table"
      }
     },
     "output_type": "display_data"
    }
   ],
   "source": [
    "# Convert Clinical Trials JSON Data to Pandas DataFrame for Analysis\n",
    "\n",
    "import requests\n",
    "import pandas as pd\n",
    "\n",
    "url = \"https://clinicaltrials.gov/api/v2/studies\"\n",
    "params = {\n",
    "    \"query.cond\": \"Guillain-Barre\",\n",
    "    \"pageSize\": \"100\"  \n",
    "}\n",
    "\n",
    "response = requests.get(url, params=params)\n",
    "data = response.json()\n",
    "\n",
    "studies = data.get(\"studies\", [])\n",
    "\n",
    "# Creating an empty list to collect trial records\n",
    "trials_list = []\n",
    "\n",
    "# Loop through each study\n",
    "for study in studies:\n",
    "    try:\n",
    "        id_module = study.get('protocolSection', {}).get('identificationModule', {})\n",
    "        status_module = study.get('protocolSection', {}).get('statusModule', {})\n",
    "\n",
    "        trials_list.append({\n",
    "            \"nctId\": id_module.get('nctId', ''),\n",
    "            \"briefTitle\": id_module.get('briefTitle', ''),\n",
    "            \"overallStatus\": status_module.get('overallStatus', ''),\n",
    "            \"hasResults\": study.get('hasResults', False)\n",
    "        })\n",
    "\n",
    "    except Exception as e:\n",
    "        print(f\"Error processing a study: {e}\")\n",
    "\n",
    "# Convert to DataFrame\n",
    "df = pd.DataFrame(trials_list)\n",
    "\n",
    "# Display the DataFrame\n",
    "display(df.head(100))\n",
    "\n",
    "\n"
   ]
  },
  {
   "cell_type": "code",
   "execution_count": 0,
   "metadata": {
    "application/vnd.databricks.v1+cell": {
     "cellMetadata": {
      "byteLimit": 2048000,
      "rowLimit": 10000
     },
     "inputWidgets": {},
     "nuid": "d705de4d-dfd4-423f-b063-a8010a035853",
     "showTitle": false,
     "tableResultSettingsMap": {},
     "title": ""
    }
   },
   "outputs": [
    {
     "output_type": "stream",
     "name": "stdout",
     "output_type": "stream",
     "text": [
      "Length of fetched_results_raw: 99\n"
     ]
    },
    {
     "output_type": "display_data",
     "data": {
      "text/html": [
       "<style scoped>\n",
       "  .table-result-container {\n",
       "    max-height: 300px;\n",
       "    overflow: auto;\n",
       "  }\n",
       "  table, th, td {\n",
       "    border: 1px solid black;\n",
       "    border-collapse: collapse;\n",
       "  }\n",
       "  th, td {\n",
       "    padding: 5px;\n",
       "  }\n",
       "  th {\n",
       "    text-align: left;\n",
       "  }\n",
       "</style><div class='table-result-container'><table class='table-result'><thead style='background-color: white'><tr><th>Position</th><th>Title</th><th>Link</th><th>Snippet</th><th>Source</th><th>Displayed Link</th><th>Sitelinks</th></tr></thead><tbody><tr><td>1</td><td>Guillain-Barre syndrome - Symptoms and causes</td><td>https://www.mayoclinic.org/diseases-conditions/guillain-barre-syndrome/symptoms-causes/syc-20362793</td><td>Guillain-Barre syndrome often begins with tingling and weakness starting in the feet and legs and spreading to the upper body and arms. Some ...</td><td>Mayo Clinic</td><td>https://www.mayoclinic.org › ...</td><td></td></tr><tr><td>2</td><td>Guillain-Barré Syndrome (GBS): Symptoms & Treatment</td><td>https://my.clevelandclinic.org/health/diseases/15838-guillain-barre-syndrome</td><td>Guillain-Barré syndrome is a rare autoimmune condition in which your immune system attacks your peripheral nerves. It causes numbness and muscle weakness.</td><td>Cleveland Clinic</td><td>https://my.clevelandclinic.org › ...</td><td></td></tr><tr><td>3</td><td>Guillain-Barré Syndrome</td><td>https://www.ninds.nih.gov/health-information/disorders/guillain-barre-syndrome</td><td>Symptoms of Guillain-Barré syndrome · Difficulty with eye muscles and vision · Difficulty swallowing, speaking, or chewing · Pricking or pins ...</td><td>National Institute of Neurological Disorders and Stroke (.gov)</td><td>https://www.ninds.nih.gov › ...</td><td>{'inline': [{'title': 'What is Guillain-Barré...', 'link': 'https://www.ninds.nih.gov/health-information/disorders/guillain-barre-syndrome#toc-what-is-guillain-barr-syndrome-'}, {'title': 'How is Guillain-Barré...', 'link': 'https://www.ninds.nih.gov/health-information/disorders/guillain-barre-syndrome#toc-how-is-guillain-barr-syndrome-diagnosed-and-treated-'}, {'title': 'What are the latest updates on...', 'link': 'https://www.ninds.nih.gov/health-information/disorders/guillain-barre-syndrome#toc-what-are-the-latest-updates-on-guillain-barr-syndrome-'}]}</td></tr><tr><td>4</td><td>Guillain–Barré syndrome</td><td>https://en.wikipedia.org/wiki/Guillain%E2%80%93Barr%C3%A9_syndrome</td><td>Guillain–Barré syndrome (GBS) is a rapid-onset muscle weakness caused by the immune system damaging the peripheral nervous system.</td><td>Wikipedia</td><td>https://en.wikipedia.org › ...</td><td></td></tr><tr><td>5</td><td>Guillain–Barré syndrome</td><td>https://www.who.int/news-room/fact-sheets/detail/guillain-barr%C3%A9-syndrome</td><td>Guillain-Barré syndrome (GBS) is a rare condition in which a person's immune system attacks the peripheral nerves.</td><td>World Health Organization (WHO)</td><td>https://www.who.int › ...</td><td></td></tr><tr><td>6</td><td>Guillain-Barré Syndrome</td><td>https://www.hopkinsmedicine.org/health/conditions-and-diseases/guillainbarr-syndrome</td><td>Guillain-Barré syndrome (GBS) is a rare neurological disorder in which the body's immune system attacks the peripheral nervous system.</td><td>Johns Hopkins Medicine</td><td>https://www.hopkinsmedicine.org › ...</td><td></td></tr><tr><td>7</td><td>Guillain-Barre syndrome - Diagnosis and treatment</td><td>https://www.mayoclinic.org/diseases-conditions/guillain-barre-syndrome/diagnosis-treatment/drc-20363006</td><td>This rare autoimmune condition affects the nerves, causing weakness and tingling in the arms and legs that quickly spreads throughout the ...</td><td>Mayo Clinic</td><td>https://www.mayoclinic.org › ...</td><td>{'inline': [{'title': 'Symptoms and causes', 'link': 'https://www.mayoclinic.org/diseases-conditions/guillain-barre-syndrome/symptoms-causes/syc-20362793'}, {'title': 'Doctors and departments', 'link': 'https://www.mayoclinic.org/diseases-conditions/guillain-barre-syndrome/doctors-departments/ddc-20363037'}, {'title': 'Care at Mayo Clinic', 'link': 'https://www.mayoclinic.org/diseases-conditions/guillain-barre-syndrome/care-at-mayo-clinic/mac-20363049'}]}</td></tr><tr><td>8</td><td>Guillain-Barre Syndrome</td><td>https://www.physio-pedia.com/Guillain-Barre_Syndrome</td><td>Guillain-Barré syndrome (GBS) is a condition characterised by the autoimmune destruction of the peripheral sensory system.</td><td>Physiopedia</td><td>https://www.physio-pedia.com › ...</td><td>{'inline': [{'title': 'Case Study', 'link': 'https://www.physio-pedia.com/Case_Study:_Guillain-Barre_Syndrome_(Sub-Acute)'}, {'title': 'Acute Motor Axonal...', 'link': 'https://www.physio-pedia.com/Acute_Motor_Axonal_Neuropathy_(AMAN),_a_Variant_of_Guillain-Barre_Syndrome:_A_Case_Study'}, {'title': 'Edit', 'link': 'https://www.physio-pedia.com/Guillain-Barre_Syndrome?veaction=edit'}]}</td></tr><tr><td>9</td><td>Guillain-Barre Syndrome: Practice Essentials, Background, ...</td><td>https://emedicine.medscape.com/article/315632-overview</td><td>Guillain-Barré syndrome (GBS) can be described as a collection of clinical syndromes that manifests as an acute inflammatory ...</td><td>Medscape</td><td>https://emedicine.medscape.com › ...</td><td></td></tr><tr><td>10</td><td>Guillain-Barré Syndrome | Campylobacter</td><td>https://www.cdc.gov/campylobacter/signs-symptoms/guillain-barre-syndrome.html</td><td>Guillain-Barré (Ghee-YAN Bah-RAY) syndrome happens when a person's immune system harms their nerves. This harm causes muscle weakness and ...</td><td>Centers for Disease Control and Prevention | CDC (.gov)</td><td>https://www.cdc.gov › ...</td><td></td></tr><tr><td>1</td><td>Guillain-Barré Syndrome | Campylobacter</td><td>https://www.cdc.gov/campylobacter/signs-symptoms/guillain-barre-syndrome.html</td><td>Guillain-Barré (Ghee-YAN Bah-RAY) syndrome happens when a person's immune system harms their nerves. This harm causes muscle weakness and ...</td><td>Centers for Disease Control and Prevention | CDC (.gov)</td><td>https://www.cdc.gov › ...</td><td></td></tr><tr><td>2</td><td>Guillain-Barré syndrome Information - Mount Sinai</td><td>https://www.mountsinai.org/health-library/diseases-conditions/guillain-barr-syndrome</td><td>GBS damages parts of nerves. This nerve damage causes tingling, muscle weakness, loss of balance, and paralysis. GBS most often affects the nerve covering ( ...</td><td>Mount Sinai</td><td>https://www.mountsinai.org › ...</td><td></td></tr><tr><td>3</td><td>Guillain-Barré Syndrome: Causes, Symptoms, ... - WebMD</td><td>https://www.webmd.com/brain/what-is-guillain-barre</td><td>Guillain-Barré Syndrome (GBS) is a rare disorder in which your immune system suddenly attacks your nerves, often after you've had a stomach ...</td><td>WebMD</td><td>https://www.webmd.com › ...</td><td></td></tr><tr><td>4</td><td>Guillain–Barré syndrome | Nature Reviews Disease Primers</td><td>https://www.nature.com/articles/s41572-024-00580-4</td><td>Guillain–Barré syndrome (GBS) is a rare immune-mediated polyradiculoneuropathy. Patients typically develop rapidly progressive weakness and ...</td><td>Nature</td><td>https://www.nature.com › ...</td><td></td></tr><tr><td>5</td><td>Guillain-Barré syndrome</td><td>https://www.sciencedirect.com/science/article/abs/pii/S0140673621005171</td><td>Guillain-Barré syndrome is an immune-mediated polyradiculoneuropathy that accounts for an estimated 100 000 new cases annually worldwide.1 In ...</td><td>ScienceDirect.com</td><td>https://www.sciencedirect.com › ...</td><td></td></tr><tr><td>6</td><td>Guillain-Barré Syndrome : CONTINUUM</td><td>https://journals.lww.com/continuum/fulltext/2020/10000/guillain_barr__syndrome.6.aspx</td><td>Guillain-Barré syndrome (GBS) encompasses a spectrum of acute neuropathic disorders, with muscle weakness being the cardinal manifestation in the majority of ...</td><td>Lippincott</td><td>https://journals.lww.com › ...</td><td></td></tr><tr><td>7</td><td>Guillain-Barre Syndrome - GBS</td><td>https://medlineplus.gov/guillainbarresyndrome.html</td><td>Guillain-Barre syndrome is a rare disorder that causes your immune system to attack your peripheral nervous system (PNS).</td><td>MedlinePlus (.gov)</td><td>https://medlineplus.gov › ...</td><td></td></tr><tr><td>8</td><td>Guillain-Barré Syndrome (GBS) - Brain, Spinal Cord, and ...</td><td>https://www.msdmanuals.com/home/brain-spinal-cord-and-nerve-disorders/peripheral-nerve-and-related-disorders/guillain-barr%C3%A9-syndrome-gbs</td><td>Guillain-Barré syndrome is a form of polyneuropathy causing muscle weakness, which usually worsens over a few days to weeks, then slowly improves or returns ...</td><td>MSD Manuals</td><td>https://www.msdmanuals.com › ...</td><td></td></tr><tr><td>9</td><td>Guillain-Barré syndrome: Symptoms, causes, diagnosis, ...</td><td>https://www.medicalnewstoday.com/articles/167892</td><td>Guillain-Barré syndrome is a neurological disorder and autoimmune disease that affects the peripheral nervous system. Guillain-Barré syndrome can lead to ...</td><td>Medical News Today</td><td>https://www.medicalnewstoday.com › ...</td><td></td></tr><tr><td>1</td><td>Guillain-Barré syndrome (GBS)</td><td>https://www.healthline.com/health/guillain-barre-syndrome</td><td>The first symptom of Guillain-Barré syndrome is usually a tingling sensation in your toes, feet, and legs. The tingling spreads upward to your arms and fingers.</td><td>Healthline</td><td>https://www.healthline.com › ...</td><td></td></tr><tr><td>2</td><td>Understanding Guillain-Barré Syndrome</td><td>https://www.youtube.com/watch?v=KUEunZYZgII</td><td>26:57 Go to channel Guillain Barre Syndrome (GBS) Treatment, Pathophysiology, Symptoms, Neurology Medicine Lecture USMLE MedNerd - Dr. Waqas Fazal</td><td>YouTube · Zero To Finals</td><td>20 लाख+ व्यू · 4 वर्ष पहले</td><td></td></tr><tr><td>3</td><td>Guillain-Barré Syndrome (GBS) and Vaccines</td><td>https://www.cdc.gov/vaccine-safety/about/guillain-barre.html</td><td>Guillain-Barré syndrome (GBS) is a rare disorder where the body's immune system damages nerve. To study whether a new vaccine might be ...</td><td>Centers for Disease Control and Prevention | CDC (.gov)</td><td>https://www.cdc.gov › ...</td><td></td></tr><tr><td>4</td><td>Diagnosis and management of Guillain–Barré syndrome ...</td><td>https://www.nature.com/articles/s41582-019-0250-9</td><td>Guillain–Barré syndrome (GBS) is a rare, but potentially fatal, immune-mediated disease of the peripheral nerves and nerve roots that is ...</td><td>Nature</td><td>https://www.nature.com › ...</td><td></td></tr><tr><td>5</td><td>Guillain–Barré Syndrome | NEJM</td><td>https://www.nejm.org/doi/full/10.1056/NEJMra1114525</td><td>The Guillain–Barré syndrome is the most frequent cause of acute flaccid paralysis worldwide and constitutes a neurologic emergency.</td><td>The New England Journal of Medicine</td><td>https://www.nejm.org › ...</td><td></td></tr><tr><td>6</td><td>Guillain-Barré syndrome</td><td>https://www.sciencedirect.com/science/article/pii/S0140673621005171</td><td>Guillain-Barré syndrome is an immune-mediated polyradiculoneuropathy that accounts for an estimated 100 000 new cases annually worldwide.</td><td>ScienceDirect.com</td><td>https://www.sciencedirect.com › ...</td><td></td></tr><tr><td>7</td><td>Guillain-Barré Syndrome | Diagnosis & Disease Information</td><td>https://www.pulmonologyadvisor.com/ddi/guillain-barre-syndrome/</td><td>Guillain-Barré syndrome is an autoimmune disorder that results in inflammatory demyelination.1 The condition was first described in 1916 by ...</td><td>Pulmonology Advisor</td><td>https://www.pulmonologyadvisor.com › ...</td><td></td></tr><tr><td>8</td><td>Guillain‐Barré syndrome: a comprehensive review - Bellanti</td><td>https://onlinelibrary.wiley.com/doi/10.1111/ene.16365</td><td>Guillain-Barré syndrome is a postinfectious, immune-mediated peripheral neuropathy. As our knowledge continues to expand, its pathophysiological ...</td><td>Wiley Online Library</td><td>https://onlinelibrary.wiley.com › ...</td><td></td></tr><tr><td>9</td><td>Guillain-Barré Syndrome (GBS)</td><td>https://www.childrenshospital.org/conditions/guillain-barre-syndrome</td><td>Guillain-Barré syndrome (GBS) occurs when the immune system attacks the peripheral nervous system. Learn more from Boston Children's Hospital.</td><td>Boston Children's Hospital</td><td>https://www.childrenshospital.org › ...</td><td></td></tr><tr><td>10</td><td>Guillain–Barré syndrome outbreak in Pune - The Lancet</td><td>https://www.thelancet.com/journals/lancet/article/PIIS0140-6736(25)00414-3/fulltext</td><td>As of March 8, 2025, the total number of Guillain–Barré syndrome cases in Pune was 225, with 197 confirmed diagnoses and 28 suspected cases, ...</td><td>The Lancet</td><td>https://www.thelancet.com › ...</td><td></td></tr><tr><td>1</td><td>Guillain–Barré syndrome outbreak in Pune - The Lancet</td><td>https://www.thelancet.com/journals/lancet/article/PIIS0140-6736(25)00414-3/fulltext</td><td>As of March 8, 2025, the total number of Guillain–Barré syndrome cases in Pune was 225, with 197 confirmed diagnoses and 28 suspected cases, ...</td><td>The Lancet</td><td>https://www.thelancet.com › ...</td><td></td></tr><tr><td>2</td><td>What is Guillain-Barré Syndrome or GBS</td><td>https://www.gbs-cidp.org/gbs/</td><td>GBS is characterized by the rapid onset of numbness, weakness, and often paralysis of the legs, arms, breathing muscles, and face. Paralysis is ascending, ...</td><td>GBS/CIDP Foundation International</td><td>https://www.gbs-cidp.org › ...</td><td></td></tr><tr><td>3</td><td>Guillain-Barré Syndrome - Symptoms, Causes, Treatment</td><td>https://rarediseases.org/rare-diseases/guillain-barre-syndrome/</td><td>Guillain-Barré syndrome (GBS) is a rare, rapidly progressive disease due to inflammation of the nerves causing muscle weakness, sometimes ...</td><td>National Organization for Rare Disorders</td><td>https://rarediseases.org › ...</td><td></td></tr><tr><td>4</td><td>Current treatment practice of Guillain-Barré syndrome</td><td>https://www.neurology.org/doi/10.1212/WNL.0000000000007719</td><td>Plasma exchange (PE) and IV immunoglobulin (IVIg) are the only proven effective treatments for Guillain-Barré syndrome (GBS), although there has been little ...</td><td>Neurology® Journals</td><td>https://www.neurology.org › ...</td><td></td></tr><tr><td>5</td><td>Guillain-Barre syndrome: Video, Causes, & Meaning</td><td>https://www.osmosis.org/learn/Guillain-Barre_syndrome</td><td>The cause of Guillain- Barré syndrome is unknown, but it's known to develop after a bacterial infection, like Campylobacter jejuni and Mycoplasma pneumoniae, or ...</td><td>Osmosis</td><td>https://www.osmosis.org › ...</td><td></td></tr><tr><td>6</td><td>Guillain-Barré Syndrome</td><td>https://www.americanbrainfoundation.org/diseases/guillain-barre-syndrome/</td><td>Guillain-Barré syndrome (GBS) is a rare neurologic disorder in which the body's autoimmune response attacks the peripheral nervous system.</td><td>American Brain Foundation</td><td>https://www.americanbrainfoundation.org › ...</td><td></td></tr><tr><td>7</td><td>Guillain-Barré syndrome in adults: Pathogenesis, clinical ...</td><td>https://www.uptodate.com/contents/guillain-barre-syndrome-in-adults-pathogenesis-clinical-features-and-diagnosis</td><td>Time course of symptoms · Examination findings · - Weakness · - Deep tendon reflexes · - Other findings · Variant forms of Guillain-Barré syndrome.</td><td>Wolters Kluwer</td><td>https://www.uptodate.com › ...</td><td></td></tr><tr><td>8</td><td>Guillain-Barré Syndrome</td><td>https://uvahealth.com/services/neurology/guillain-barre-syndrome</td><td>Guillain-Barré syndrome (GBS) is a rare autoimmune condition that causes the immune system to attack the nerves outside of the brain and spinal cord.</td><td>UVA Health</td><td>https://uvahealth.com › ...</td><td></td></tr><tr><td>9</td><td>Guillain-Barre Syndrome</td><td>https://www.dynamed.com/condition/guillain-barre-syndrome</td><td>Guillain-Barre Syndrome (GBS) is a rare immune-mediated acute polyradiculoneuropathy, usually following an infection or other ...</td><td>DynaMed</td><td>https://www.dynamed.com › ...</td><td></td></tr><tr><td>10</td><td>What is Guillain-Barré Syndrome (GBS)? - By Adhikari Lifeline</td><td>https://www.adhikarilifeline.com/what-is-guillain-barre-syndrome-gbs/</td><td>Guillain-Barré Syndrome (GBS) is a rare but serious neurological disorder in which the body's immune system mistakenly attacks the nervous system.</td><td>adhikarilifeline.com</td><td>https://www.adhikarilifeline.com › ...</td><td></td></tr><tr><td>1</td><td>What is Guillain-Barré Syndrome (GBS)? - By Adhikari Lifeline</td><td>https://www.adhikarilifeline.com/what-is-guillain-barre-syndrome-gbs/</td><td>Guillain-Barré Syndrome (GBS) is a rare but serious neurological disorder in which the body's immune system mistakenly attacks the nervous system.</td><td>adhikarilifeline.com</td><td>https://www.adhikarilifeline.com › ...</td><td></td></tr><tr><td>2</td><td>Guillain-Barré Syndrome</td><td>https://www.mayoclinicproceedings.org/article/S0025-6196(16)30818-7/fulltext</td><td>1. Guillain, G. ∙ Barré, J.A. ∙ Strohl, A. ... The disorder was first described as a “benign” form of limb weakness associated with full recovery, but we now ...</td><td>Mayo Clinic Proceedings</td><td>https://www.mayoclinicproceedings.org › ...</td><td></td></tr><tr><td>3</td><td>Guillain-Barré syndrome: Types, Symptoms, Causes & ...</td><td>https://www.pacehospital.com/guillain-barre-syndrome-symptoms-causes-diagnosis-treatment</td><td>Guillain-Barré syndrome (GBS) in children is an autoimmune disorder where the body's immune system mistakenly attacks the peripheral nervous system. The exact ...</td><td>PACE Hospitals</td><td>https://www.pacehospital.com › ...</td><td></td></tr><tr><td>4</td><td>Guillain Barré Syndrome</td><td>https://www.brainfacts.org/diseases-and-disorders/neurological-disorders-az/diseases-a-to-z-from-ninds/guillain-barr%C3%A9-syndrome</td><td>Guillain-Barré syndrome is a disorder in which the body's immune system attacks part of the peripheral nervous system. The first symptoms of this disorder ...</td><td>BrainFacts</td><td>https://www.brainfacts.org › ...</td><td></td></tr><tr><td>5</td><td>Guillain-Barré Syndrome - Neurology - Highland Hospital</td><td>https://www.urmc.rochester.edu/highland/departments-centers/neurology/conditions-we-treat/guillain-barr</td><td>Guillain-Barré (ghee-yan bah-ray) syndrome is a disorder in which the body's immune system attacks part of the peripheral nervous system.</td><td>University of Rochester Medical Center</td><td>https://www.urmc.rochester.edu › ...</td><td></td></tr><tr><td>6</td><td>Pediatric Guillain-Barré syndrome (GBS) - Dallas</td><td>https://www.childrens.com/specialties-services/conditions/guillain-barre-syndrome</td><td>A typical sign of GBS is muscle weakness, numbness, tingling (pins-and-needle sensation) and occasionally pain, that starts in the feet and legs. These symptoms ...</td><td>Children’s Health</td><td>https://www.childrens.com › ...</td><td></td></tr><tr><td>7</td><td>Guillain-Barre Syndrome: Symptoms, Causes & Treatment</td><td>https://www.blkmaxhospital.com/blogs/guillain-barre-syndrome</td><td>Guillain-Barre Syndrome is a rare but serious neurological disorder that requires immediate medical attention. While most people recover, early ...</td><td>BLK-Max Hospital</td><td>https://www.blkmaxhospital.com › ...</td><td></td></tr><tr><td>8</td><td>Pune's Guillain-Barré Syndrome Epidemic Related to ...</td><td>https://www.vax-before-travel.com/punes-guillain-barr-syndrome-epidemic-related-water-quality-2025-03-10</td><td>Experts have linked these GBS infections with Campylobacter jejuni. This bacteria is one of the most common causes of food poisoning.</td><td>Vax-Before-Travel</td><td>https://www.vax-before-travel.com › ...</td><td></td></tr><tr><td>9</td><td>Guillain-Barre Syndrome (GBS)</td><td>https://www.jeffersonhealth.org/conditions-and-treatments/guillain-barre-syndrome</td><td>We're also involved in researching the underlying causes of GBS and other autoimmune neuromuscular conditions. At Jefferson Health, you can be sure you're ...</td><td>Jefferson Health</td><td>https://www.jeffersonhealth.org › ...</td><td></td></tr><tr><td>10</td><td>Guillain-Barré Syndrome (GBS)</td><td>https://litfl.com/guillain-barre-syndrome-gbs/</td><td>Guillain-Barré Syndrome (GBS) is the most common and most severe acute paralytic neuropathy, consisting of multiple variants with distinct clinical and ...</td><td>Life in the Fast Lane • LITFL</td><td>https://litfl.com › ...</td><td></td></tr><tr><td>1</td><td>Guillain-Barré Syndrome | McGovern Medical School</td><td>https://med.uth.edu/neurosciences/conditions-and-treatments/nerve-disorders/guillain-barre-syndrome/</td><td>Signs Guillain-Barré Syndrome. Initial symptoms may present as pain, weakness, or tingling in the hands or feet. Patients usually experience this in one side of ...</td><td>UTHealth Houston</td><td>https://med.uth.edu › ...</td><td></td></tr><tr><td>2</td><td>Guillain-Barré Syndrome</td><td>https://www.medcomic.com/medcomic/guillain-barre-syndrome</td><td>Guillain-Barré syndrome (GBS) is an acute, inflammatory demyelinating polyneuropathy with ascending muscle weakness that is autoimmune in nature.</td><td>Medcomic</td><td>https://www.medcomic.com › ...</td><td></td></tr><tr><td>3</td><td>Physical Therapy Guide to Guillain-Barré Syndrome</td><td>https://www.choosept.com/guide/physical-therapy-guide-guillain-barre-syndrome</td><td>Physical therapists have extensive training to help people during GBS recovery. They help patients understand how GBS affects their ability to move safely.</td><td>ChoosePT</td><td>https://www.choosept.com › ...</td><td></td></tr><tr><td>4</td><td>Guillain-Barré Syndrome (for Parents)</td><td>https://kidshealth.org/en/parents/gbs.html</td><td>What Are the Signs & Symptoms of Guillain-Barré Syndrome? · tingling or pain in the toes and fingertips · weakness or pain in the legs that causes trouble ...</td><td>KidsHealth</td><td>https://kidshealth.org › ...</td><td></td></tr><tr><td>5</td><td>Guillain Barre Syndrome: Diagnosis, Symptoms & Care</td><td>https://www.gillettechildrens.org/conditions-care/guillain-barre-syndrome</td><td>What is Guillain-Barré syndrome? Guillain-Barré syndrome is an autoimmune disorder in which the body's immune system attacks the nerves. A tingling sensation is ...</td><td>Gillette Children's Hospital</td><td>https://www.gillettechildrens.org › ...</td><td></td></tr><tr><td>6</td><td>What is Guillain-Barre Syndrome (GBS)?</td><td>https://npistanbul.com/en/what-is-guillain-barre-syndrome-gbs</td><td>What is Guillain-Barre Syndrome (GBS)?. Guillain-Barre Syndrome (GBS) is an autoimmune disease in which the immune system attacks the peripheral ...</td><td>NPİSTANBUL</td><td>https://npistanbul.com › ...</td><td></td></tr><tr><td>7</td><td>Guillain-Barre Syndrome</td><td>https://www.advocatehealth.com/health-services/brain-spine-institute/brain-care-center/conditions-treatments/neuromuscular-disorders/guillain-barre</td><td>Physical therapists will work with you to make sure you regain strength and range of motion. It's sobering to realize that some people have permanent nerve ...</td><td>Advocate Health Care</td><td>https://www.advocatehealth.com › ...</td><td></td></tr><tr><td>8</td><td>Guillain-Barre Syndrome - What You Need to Know</td><td>https://www.drugs.com/cg/guillain-barre-syndrome.html</td><td>GBS is a rare condition that causes damage to nerves that control movement and your sense of touch.</td><td>Drugs.com</td><td>https://www.drugs.com › ...</td><td></td></tr><tr><td>9</td><td>Guillain-Barré syndrome notes</td><td>https://app.pulsenotes.com/medicine/neurology/notes/guillain-barre-syndrome</td><td>Overview. Guillain-Barré syndrome is an acute, inflammatory polyneuropathy typically characterised by a progressive, ascending neuropathy resulting in weakness ...</td><td>Pulsenotes</td><td>https://app.pulsenotes.com › ...</td><td></td></tr><tr><td>10</td><td>Guillain-Barre syndrome - Neurology</td><td>https://www.emoryhealthcare.org/conditions/neurology-conditions/guillain-barre-syndrome</td><td>Emory offers full diagnostic and treatment services for Guillain-Barre Syndrome, including electrodiagnosis and nerve and or muscle biopsy and lab ...</td><td>Emory Healthcare</td><td>https://www.emoryhealthcare.org › ...</td><td></td></tr><tr><td>1</td><td>Guillain-Barre syndrome - Neurology</td><td>https://www.emoryhealthcare.org/conditions/neurology-conditions/guillain-barre-syndrome</td><td>Emory offers full diagnostic and treatment services for Guillain-Barre Syndrome, including electrodiagnosis and nerve and or muscle biopsy and lab ...</td><td>Emory Healthcare</td><td>https://www.emoryhealthcare.org › ...</td><td></td></tr><tr><td>2</td><td>GUILLAIN-BARRÉ SYNDROME Definition & Meaning</td><td>https://www.merriam-webster.com/dictionary/Guillain-Barr%C3%A9%20syndrome</td><td>noun ... Note: The cause of Guillain-Barré syndrome is unknown but individuals often experience onset a few weeks after a respiratory or gastrointestinal illness.</td><td>Merriam-Webster</td><td>https://www.merriam-webster.com › ...</td><td></td></tr><tr><td>3</td><td>Guillain-Barre Syndrome</td><td>https://www.aurorahealthcare.org/services/neuroscience/neurology/neurological-conditions/neuromuscular-disorders/guillain-barre</td><td>Although rare, some individuals experience permanent nerve damage, weakness, numbness, fatigue or pain after having Guillain-Barre syndrome. These long-term ...</td><td>Aurora Health Care</td><td>https://www.aurorahealthcare.org › ...</td><td></td></tr><tr><td>4</td><td>Guillain-Barré Syndrome</td><td>https://www.christushealth.org/get-care/services-specialties/neurology/neuromuscular-care/guillain-barre-syndrome</td><td>What is Guillain-Barré Syndrome? In Guillain-Barré syndrome (GBS), the body's immune system attacks the nerves outside the brain and spinal cord (the peripheral ...</td><td>CHRISTUS Health</td><td>https://www.christushealth.org › ...</td><td></td></tr><tr><td>5</td><td>Guillain-Barré Syndrome</td><td>https://memorialhermann.org/services/conditions/guillain-barre-syndrome</td><td>Given the sudden, unexpected onset and the severity of symptoms, GBS can be emotionally and physically devastating for patients and their families. It is often ...</td><td>Memorial Hermann Health System</td><td>https://memorialhermann.org › ...</td><td></td></tr><tr><td>6</td><td>Understanding and Treating Guillain-Barré Syndrome</td><td>https://www.bannerhealth.com/services/neurology/diseases/guillain-barre-syndrome</td><td>What are the symptoms of Guillain-Barré syndrome? · Difficulty with eye movements or double vision · Trouble swallowing, speaking or chewing · Severe cramping, ...</td><td>Banner Health</td><td>https://www.bannerhealth.com › ...</td><td></td></tr><tr><td>7</td><td>About Guillain-Barré Syndrome</td><td>https://www.health.state.mn.us/diseases/gb/basics.html</td><td>Guillain-Barré Syndrome (GBS) is a disease characterized by muscle weakness and sometimes paralysis. GBS can last for weeks to months. Most ...</td><td>MN Dept. of Health</td><td>https://www.health.state.mn.us › ...</td><td></td></tr><tr><td>8</td><td>Guillain-Barre Syndrome (GBS) Symptoms, Treatment & ...</td><td>https://www.emedicinehealth.com/guillain-barre_syndrome/article_em.htm</td><td>Guillain-Barré Syndrome Symptoms · Weakness on both sides of the body may develop with numbness that starts in the legs and progresses into the trunk and moves ...</td><td>eMedicineHealth</td><td>https://www.emedicinehealth.com › ...</td><td></td></tr><tr><td>9</td><td>Guillain-Barré Syndrome (GBS) | NIH</td><td>https://clinicalinfo.hiv.gov/en/glossary/guillain-barre-syndrome-gbs</td><td>Guillain-Barré Syndrome (GBS) pronounce term ... A rare acute neurological disorder in which the immune system mistakenly attacks part of the peripheral nervous ...</td><td>Clinical Info HIV.gov</td><td>https://clinicalinfo.hiv.gov › ...</td><td></td></tr><tr><td>10</td><td>Guillain-Barré Syndrome (GBS): Signs, Causes, Vaccine, ...</td><td>https://www.verywellhealth.com/guillain-barre-syndrome-8387646</td><td>Guillain-Barré syndrome is a rapidly progressive and dangerous nerve disease. It causes severe weakness that begins in the feet and moves up the ...</td><td>Verywell Health</td><td>https://www.verywellhealth.com › ...</td><td></td></tr><tr><td>1</td><td>Guillain-Barre Syndrome (GBS) Symptoms - Baptist Health</td><td>https://www.baptisthealth.com/care-services/conditions-treatments/guillainbarre-syndrome</td><td>It typically begins with a tingling sensation and feelings of weakness in the legs, and progresses quickly to more serious symptoms, including severe cramps, ...</td><td>baptisthealth.com</td><td>https://www.baptisthealth.com › ...</td><td></td></tr><tr><td>2</td><td>Guillain-Barré Syndrome (in Children)</td><td>https://carle.org/conditions/pediatric-conditions/guillain-barre-syndrome</td><td>What Are the Symptoms of Guillain-Barré Syndrome? First symptoms include weakness and tingling in the legs that often spread to the arms and upper body. These ...</td><td>Carle Health</td><td>https://carle.org › ...</td><td></td></tr><tr><td>3</td><td>India faces Guillain-Barré outbreak</td><td>https://avinews.com/en/india-faces-guillain-barre-outbreak/</td><td>India is currently grappling with an alarming outbreak of Guillain-Barré Syndrome (GBS), a rare neurological disorder that can lead to sudden and severe ...</td><td>aviNews</td><td>https://avinews.com › ...</td><td></td></tr><tr><td>4</td><td>Guillain-Barre syndrome (GBS)</td><td>https://gpnotebook.com/pages/infectious-disease/guillain-barre-syndrome-gbs</td><td>Guillain-Barre syndrome (GBS) ... A prodromal malaise with vomiting, headache, fever and limb pains is rapidly surmounted by a progressive and ...</td><td>GPnotebook</td><td>https://gpnotebook.com › ...</td><td></td></tr><tr><td>5</td><td>Guillain–Barre syndrome and link with COVID-19 infection ...</td><td>https://www.frontiersin.org/journals/neurology/articles/10.3389/fneur.2024.1396642/full</td><td>Our study aims to review the literature on GBS and its epidemiological and pathophysiological association with COVID-19.</td><td>Frontiers</td><td>https://www.frontiersin.org › ...</td><td></td></tr><tr><td>6</td><td>Guillain-Barre Syndrome Causes & Symptoms</td><td>https://www.beaumont.org/conditions/guillain-barre-syndrome</td><td>Signs and symptoms. GBS symptoms are characterized by weakness and tingling that is equal on both sides of the body, which usually affects the lower limbs and ...</td><td>Beaumont.org</td><td>https://www.beaumont.org › ...</td><td></td></tr><tr><td>7</td><td>Guillain-Barre syndrome | UCSF Neuromuscular Division</td><td>https://neuromuscular.ucsf.edu/guillain-barre-syndrome</td><td>The UCSF Neuromuscular Clinic provides comprehensive treatment for patients with various neuromuscular diseases, including Guillain-Barre syndrome. The ...</td><td>UC San Francisco</td><td>https://neuromuscular.ucsf.edu › ...</td><td></td></tr><tr><td>8</td><td>Guillain-Barre Syndrome (GBS)</td><td>https://www.yalemedicine.org/clinical-keywords/guillain-barre-syndrome</td><td>Definition. Guillain-Barre syndrome (GBS) is a rare neurological disorder in which the body's immune system mistakenly attacks the peripheral nerves, leading to ...</td><td>Yale Medicine</td><td>https://www.yalemedicine.org › ...</td><td></td></tr><tr><td>9</td><td>Listing: Guillain-Barré Syndrome Resources</td><td>https://www.sralab.org/lifecenter/resources/listing-guillain-barre-syndrome-resources</td><td>The following Guillain-Barré syndrome resources included in this listing provides information from the national and local programs level that focus primarily ...</td><td>Shirley Ryan AbilityLab</td><td>https://www.sralab.org › ...</td><td></td></tr><tr><td>10</td><td>Guillain-Barré Syndrome</td><td>https://uvahealth.com/services/neurology/guillain-barre-syndrome</td><td>GBS Treatment at UVA Health. The GBS-CIDP Foundation has designated UVA as a Center of Excellence, meaning we offer expert diagnosis and management of ...</td><td>UVA Health</td><td>https://uvahealth.com › ...</td><td></td></tr><tr><td>1</td><td>Listing: Guillain-Barré Syndrome Resources</td><td>https://www.sralab.org/lifecenter/resources/listing-guillain-barre-syndrome-resources</td><td>The following Guillain-Barré syndrome resources included in this listing provides information from the national and local programs level that focus primarily ...</td><td>Shirley Ryan AbilityLab</td><td>https://www.sralab.org › ...</td><td></td></tr><tr><td>2</td><td>Guillain-Barré Syndrome</td><td>https://www.templehealth.org/services/conditions/guillain-barre-syndrome</td><td>Symptoms · Abnormal blood pressure — Blood pressure is temporarily affected, and dangerously low pressure can occur. · Bladder incontinence — Some people with ...</td><td>Temple Health</td><td>https://www.templehealth.org › ...</td><td></td></tr><tr><td>3</td><td>When Your Child Has Guillain-Barre Syndrome (GBS)</td><td>https://www.saintlukeskc.org/health-library/when-your-child-has-guillain-barre-syndrome-gbs</td><td>Your child has been diagnosed with Guillain-Barré syndrome (GBS). This is an illness that affects the peripheral nerves, often both the sensory and motor ...</td><td>Saint Luke's Health System Kansas City</td><td>https://www.saintlukeskc.org › ...</td><td></td></tr><tr><td>4</td><td>Guillain-Barré Syndrome vs. Myasthenia Gravis</td><td>https://ameripharmaspecialty.com/myasthenia-gravis/guillain-barre-syndrome-vs-myasthenia-gravis/</td><td>In conclusion, Guillain-barré syndrome and myasthenia gravis are both neurological autoimmune disorders and share some similarities in their ...</td><td>AmeriPharma® Specialty Care</td><td>https://ameripharmaspecialty.com › ...</td><td></td></tr><tr><td>5</td><td>Guillain-Barré Syndrome (GBS) Facts & Resources</td><td>https://www.csl.com/patients-public-health/rare-and-serious-diseases/immunodeficiency-and-autoimmune-diseases/guillain-barre-syndrome</td><td>What is Guillain-Barré Syndrome (GBS)?. Guillain-Barré Syndrome (GBS; pronounced: ghee-YAN bah-RAY) is a rare autoimmune disorder in which the body's immune ...</td><td>Global Biotechnology Company</td><td>https://www.csl.com › ...</td><td></td></tr><tr><td>6</td><td>Guillain-Barré Syndrome (GBS): Symptoms & Treatment - Health</td><td>https://www.health.com/guillain-barre-syndrome-8604619</td><td>Guillain-Barré syndrome (GBS) is an autoimmune disease that usually happens after a viral illness, vaccination, or infection with a specific bacteria called ...</td><td>health.com</td><td>https://www.health.com › ...</td><td></td></tr><tr><td>7</td><td>Guillain-Barré Syndrome</td><td>https://www.childneurologyfoundation.org/disorder/guillain-barre-syndrome/</td><td>The symptoms of GBS usually get worse over the first 2 to 4 weeks. Recovery usually starts after 4 weeks. Symptoms can continue to improve for 6 to 12 months.</td><td>Child Neurology Foundation</td><td>https://www.childneurologyfoundation.org › ...</td><td></td></tr><tr><td>8</td><td>Miller Fisher variant of Guillain-Barre Syndrome</td><td>https://eyewiki.org/Miller_Fisher_variant_of_Guillain-Barre_Syndrome</td><td>Disease Entity · Disease. Miller Fisher syndrome (MFS), also known as Fisher syndrome and the Miller Fisher Variant of Guillain-Barré syndrome, is an autoimmune ...</td><td>EyeWiki</td><td>https://eyewiki.org › ...</td><td></td></tr><tr><td>9</td><td>Guillain Barre Syndrome (GBS)</td><td>https://emcrit.org/ibcc/gbs/</td><td>albuminocytologic dissociation · The classic finding in GBS is albuminocytologic dissociation (elevated protein, despite normal cell count).</td><td>EMCrit Blog</td><td>https://emcrit.org › ...</td><td></td></tr><tr><td>10</td><td>Guillain–Barré Syndrome</td><td>https://iapindia.org/pdf/Ch-053-stg-guillain-barre-syndrome.pdf</td><td>GBS is the most common cause of acute flaccid paralysis in childhood. C linical Signs and Symptoms. ☑ Guillain–Barré syndrome presents with acute onset weakness ...</td><td>Indian Academy of Pediatrics (IAP)</td><td>https://iapindia.org › pdf › Ch-053-stg-guillain-b...</td><td></td></tr><tr><td>1</td><td>Miller Fisher variant of Guillain-Barre Syndrome</td><td>https://eyewiki.org/Miller_Fisher_variant_of_Guillain-Barre_Syndrome</td><td>Disease Entity · Disease. Miller Fisher syndrome (MFS), also known as Fisher syndrome and the Miller Fisher Variant of Guillain-Barré syndrome, is an autoimmune ...</td><td>EyeWiki</td><td>https://eyewiki.org › ...</td><td></td></tr><tr><td>2</td><td>Guillain-Barré syndrome in adults: Treatment and prognosis</td><td>https://www.uptodate.com/contents/guillain-barre-syndrome-in-adults-treatment-and-prognosis</td><td>INTRODUCTION. The acute immune-mediated polyneuropathies are classified under the eponym Guillain-Barré syndrome (GBS), after the authors of ...</td><td>Wolters Kluwer</td><td>https://www.uptodate.com › ...</td><td></td></tr><tr><td>3</td><td>Guillain Barre Syndrome (GBS)</td><td>https://emcrit.org/ibcc/gbs/</td><td>albuminocytologic dissociation · The classic finding in GBS is albuminocytologic dissociation (elevated protein, despite normal cell count).</td><td>EMCrit Blog</td><td>https://emcrit.org › ...</td><td></td></tr><tr><td>4</td><td>Guillain–Barré Syndrome</td><td>https://iapindia.org/pdf/Ch-053-stg-guillain-barre-syndrome.pdf</td><td>GBS is the most common cause of acute flaccid paralysis in childhood. C linical Signs and Symptoms. ☑ Guillain–Barré syndrome presents with acute onset weakness ...</td><td>Indian Academy of Pediatrics (IAP)</td><td>https://iapindia.org › pdf › Ch-053-stg-guillain-b...</td><td></td></tr><tr><td>5</td><td>Guillain-Barré syndrome related to COVID-19 infection</td><td>https://www.neurology.org/doi/10.1212/NXI.0000000000000741</td><td>We want to comment on a similar Guillain- Barré Syndrome (GBS) case following bilateral SARS-CoV2 pneumonia and to highlight the evolution of post-infectious ...</td><td>Neurology® Journals</td><td>https://www.neurology.org › ...</td><td></td></tr><tr><td>6</td><td>Guillain-Barré Syndrome Lawyers and Lawsuits</td><td>https://marlerclark.com/foodborne-illnesses/guillain-barre-syndrome</td><td>We at Marler Clark provide Guillain-Barré syndrome lawyers and information to guide clients in the right direction.</td><td>Marler Clark</td><td>https://marlerclark.com › ...</td><td></td></tr><tr><td>7</td><td>Guillain-Barré Syndrome (GBS) - Neurologic Disorders</td><td>https://www.msdmanuals.com/professional/neurologic-disorders/peripheral-nervous-system-and-motor-unit-disorders/guillain-barr%C3%A9-syndrome-gbs</td><td>(Acute Idiopathic Polyneuritis; Acute Inflammatory Demyelinating Polyradiculoneuropathy) ... Guillain-Barré syndrome is an acute, usually rapidly progressive but ...</td><td>MSD Manuals</td><td>https://www.msdmanuals.com › ...</td><td></td></tr><tr><td>8</td><td>Guillain-Barré Syndrome | Upstate Neurological Institute</td><td>https://www.upstate.edu/neuroinstitute/symptoms-conditions/guillain-barre-syndrome.php</td><td>Symptoms · Weakness and tingling in the legs, arms, and face · Pain in the legs or back · Problems walking or climbing stairs · Problems breathing · Eyesight ...</td><td>SUNY Upstate Medical University</td><td>https://www.upstate.edu › ...</td><td></td></tr><tr><td>9</td><td>A rare paralysis syndrome is spiking in India this year. ...</td><td>https://www.gavi.org/vaccineswork/cases-infection-linked-paralysis-syndrome-have-spiked-india-year-whats-story</td><td>The symptoms of GBS typically begin with weakness, often starting in the legs and progressing upward, or 'ascending paralysis, says Debnath. The ...</td><td>Gavi, the Vaccine Alliance</td><td>https://www.gavi.org › ...</td><td></td></tr><tr><td>10</td><td>Guillain-Barre Syndrome - Neurology</td><td>https://step2.medbullets.com/neurology/120319/guillain-barre-syndrome</td><td>Definition: an immune-mediated polyneuropathy that has many variant forms. Miller Fisher syndrome.</td><td>Medbullets</td><td>https://step2.medbullets.com › ...</td><td></td></tr></tbody></table></div>"
      ]
     },
     "metadata": {
      "application/vnd.databricks.v1+output": {
       "addedWidgets": {},
       "aggData": [],
       "aggError": "",
       "aggOverflow": false,
       "aggSchema": [],
       "aggSeriesLimitReached": false,
       "aggType": "",
       "arguments": {},
       "columnCustomDisplayInfos": {},
       "data": [
        [
         1,
         "Guillain-Barre syndrome - Symptoms and causes",
         "https://www.mayoclinic.org/diseases-conditions/guillain-barre-syndrome/symptoms-causes/syc-20362793",
         "Guillain-Barre syndrome often begins with tingling and weakness starting in the feet and legs and spreading to the upper body and arms. Some ...",
         "Mayo Clinic",
         "https://www.mayoclinic.org › ...",
         ""
        ],
        [
         2,
         "Guillain-Barré Syndrome (GBS): Symptoms & Treatment",
         "https://my.clevelandclinic.org/health/diseases/15838-guillain-barre-syndrome",
         "Guillain-Barré syndrome is a rare autoimmune condition in which your immune system attacks your peripheral nerves. It causes numbness and muscle weakness.",
         "Cleveland Clinic",
         "https://my.clevelandclinic.org › ...",
         ""
        ],
        [
         3,
         "Guillain-Barré Syndrome",
         "https://www.ninds.nih.gov/health-information/disorders/guillain-barre-syndrome",
         "Symptoms of Guillain-Barré syndrome · Difficulty with eye muscles and vision · Difficulty swallowing, speaking, or chewing · Pricking or pins ...",
         "National Institute of Neurological Disorders and Stroke (.gov)",
         "https://www.ninds.nih.gov › ...",
         "{'inline': [{'title': 'What is Guillain-Barré...', 'link': 'https://www.ninds.nih.gov/health-information/disorders/guillain-barre-syndrome#toc-what-is-guillain-barr-syndrome-'}, {'title': 'How is Guillain-Barré...', 'link': 'https://www.ninds.nih.gov/health-information/disorders/guillain-barre-syndrome#toc-how-is-guillain-barr-syndrome-diagnosed-and-treated-'}, {'title': 'What are the latest updates on...', 'link': 'https://www.ninds.nih.gov/health-information/disorders/guillain-barre-syndrome#toc-what-are-the-latest-updates-on-guillain-barr-syndrome-'}]}"
        ],
        [
         4,
         "Guillain–Barré syndrome",
         "https://en.wikipedia.org/wiki/Guillain%E2%80%93Barr%C3%A9_syndrome",
         "Guillain–Barré syndrome (GBS) is a rapid-onset muscle weakness caused by the immune system damaging the peripheral nervous system.",
         "Wikipedia",
         "https://en.wikipedia.org › ...",
         ""
        ],
        [
         5,
         "Guillain–Barré syndrome",
         "https://www.who.int/news-room/fact-sheets/detail/guillain-barr%C3%A9-syndrome",
         "Guillain-Barré syndrome (GBS) is a rare condition in which a person's immune system attacks the peripheral nerves.",
         "World Health Organization (WHO)",
         "https://www.who.int › ...",
         ""
        ],
        [
         6,
         "Guillain-Barré Syndrome",
         "https://www.hopkinsmedicine.org/health/conditions-and-diseases/guillainbarr-syndrome",
         "Guillain-Barré syndrome (GBS) is a rare neurological disorder in which the body's immune system attacks the peripheral nervous system.",
         "Johns Hopkins Medicine",
         "https://www.hopkinsmedicine.org › ...",
         ""
        ],
        [
         7,
         "Guillain-Barre syndrome - Diagnosis and treatment",
         "https://www.mayoclinic.org/diseases-conditions/guillain-barre-syndrome/diagnosis-treatment/drc-20363006",
         "This rare autoimmune condition affects the nerves, causing weakness and tingling in the arms and legs that quickly spreads throughout the ...",
         "Mayo Clinic",
         "https://www.mayoclinic.org › ...",
         "{'inline': [{'title': 'Symptoms and causes', 'link': 'https://www.mayoclinic.org/diseases-conditions/guillain-barre-syndrome/symptoms-causes/syc-20362793'}, {'title': 'Doctors and departments', 'link': 'https://www.mayoclinic.org/diseases-conditions/guillain-barre-syndrome/doctors-departments/ddc-20363037'}, {'title': 'Care at Mayo Clinic', 'link': 'https://www.mayoclinic.org/diseases-conditions/guillain-barre-syndrome/care-at-mayo-clinic/mac-20363049'}]}"
        ],
        [
         8,
         "Guillain-Barre Syndrome",
         "https://www.physio-pedia.com/Guillain-Barre_Syndrome",
         "Guillain-Barré syndrome (GBS) is a condition characterised by the autoimmune destruction of the peripheral sensory system.",
         "Physiopedia",
         "https://www.physio-pedia.com › ...",
         "{'inline': [{'title': 'Case Study', 'link': 'https://www.physio-pedia.com/Case_Study:_Guillain-Barre_Syndrome_(Sub-Acute)'}, {'title': 'Acute Motor Axonal...', 'link': 'https://www.physio-pedia.com/Acute_Motor_Axonal_Neuropathy_(AMAN),_a_Variant_of_Guillain-Barre_Syndrome:_A_Case_Study'}, {'title': 'Edit', 'link': 'https://www.physio-pedia.com/Guillain-Barre_Syndrome?veaction=edit'}]}"
        ],
        [
         9,
         "Guillain-Barre Syndrome: Practice Essentials, Background, ...",
         "https://emedicine.medscape.com/article/315632-overview",
         "Guillain-Barré syndrome (GBS) can be described as a collection of clinical syndromes that manifests as an acute inflammatory ...",
         "Medscape",
         "https://emedicine.medscape.com › ...",
         ""
        ],
        [
         10,
         "Guillain-Barré Syndrome | Campylobacter",
         "https://www.cdc.gov/campylobacter/signs-symptoms/guillain-barre-syndrome.html",
         "Guillain-Barré (Ghee-YAN Bah-RAY) syndrome happens when a person's immune system harms their nerves. This harm causes muscle weakness and ...",
         "Centers for Disease Control and Prevention | CDC (.gov)",
         "https://www.cdc.gov › ...",
         ""
        ],
        [
         1,
         "Guillain-Barré Syndrome | Campylobacter",
         "https://www.cdc.gov/campylobacter/signs-symptoms/guillain-barre-syndrome.html",
         "Guillain-Barré (Ghee-YAN Bah-RAY) syndrome happens when a person's immune system harms their nerves. This harm causes muscle weakness and ...",
         "Centers for Disease Control and Prevention | CDC (.gov)",
         "https://www.cdc.gov › ...",
         ""
        ],
        [
         2,
         "Guillain-Barré syndrome Information - Mount Sinai",
         "https://www.mountsinai.org/health-library/diseases-conditions/guillain-barr-syndrome",
         "GBS damages parts of nerves. This nerve damage causes tingling, muscle weakness, loss of balance, and paralysis. GBS most often affects the nerve covering ( ...",
         "Mount Sinai",
         "https://www.mountsinai.org › ...",
         ""
        ],
        [
         3,
         "Guillain-Barré Syndrome: Causes, Symptoms, ... - WebMD",
         "https://www.webmd.com/brain/what-is-guillain-barre",
         "Guillain-Barré Syndrome (GBS) is a rare disorder in which your immune system suddenly attacks your nerves, often after you've had a stomach ...",
         "WebMD",
         "https://www.webmd.com › ...",
         ""
        ],
        [
         4,
         "Guillain–Barré syndrome | Nature Reviews Disease Primers",
         "https://www.nature.com/articles/s41572-024-00580-4",
         "Guillain–Barré syndrome (GBS) is a rare immune-mediated polyradiculoneuropathy. Patients typically develop rapidly progressive weakness and ...",
         "Nature",
         "https://www.nature.com › ...",
         ""
        ],
        [
         5,
         "Guillain-Barré syndrome",
         "https://www.sciencedirect.com/science/article/abs/pii/S0140673621005171",
         "Guillain-Barré syndrome is an immune-mediated polyradiculoneuropathy that accounts for an estimated 100 000 new cases annually worldwide.1 In ...",
         "ScienceDirect.com",
         "https://www.sciencedirect.com › ...",
         ""
        ],
        [
         6,
         "Guillain-Barré Syndrome : CONTINUUM",
         "https://journals.lww.com/continuum/fulltext/2020/10000/guillain_barr__syndrome.6.aspx",
         "Guillain-Barré syndrome (GBS) encompasses a spectrum of acute neuropathic disorders, with muscle weakness being the cardinal manifestation in the majority of ...",
         "Lippincott",
         "https://journals.lww.com › ...",
         ""
        ],
        [
         7,
         "Guillain-Barre Syndrome - GBS",
         "https://medlineplus.gov/guillainbarresyndrome.html",
         "Guillain-Barre syndrome is a rare disorder that causes your immune system to attack your peripheral nervous system (PNS).",
         "MedlinePlus (.gov)",
         "https://medlineplus.gov › ...",
         ""
        ],
        [
         8,
         "Guillain-Barré Syndrome (GBS) - Brain, Spinal Cord, and ...",
         "https://www.msdmanuals.com/home/brain-spinal-cord-and-nerve-disorders/peripheral-nerve-and-related-disorders/guillain-barr%C3%A9-syndrome-gbs",
         "Guillain-Barré syndrome is a form of polyneuropathy causing muscle weakness, which usually worsens over a few days to weeks, then slowly improves or returns ...",
         "MSD Manuals",
         "https://www.msdmanuals.com › ...",
         ""
        ],
        [
         9,
         "Guillain-Barré syndrome: Symptoms, causes, diagnosis, ...",
         "https://www.medicalnewstoday.com/articles/167892",
         "Guillain-Barré syndrome is a neurological disorder and autoimmune disease that affects the peripheral nervous system. Guillain-Barré syndrome can lead to ...",
         "Medical News Today",
         "https://www.medicalnewstoday.com › ...",
         ""
        ],
        [
         1,
         "Guillain-Barré syndrome (GBS)",
         "https://www.healthline.com/health/guillain-barre-syndrome",
         "The first symptom of Guillain-Barré syndrome is usually a tingling sensation in your toes, feet, and legs. The tingling spreads upward to your arms and fingers.",
         "Healthline",
         "https://www.healthline.com › ...",
         ""
        ],
        [
         2,
         "Understanding Guillain-Barré Syndrome",
         "https://www.youtube.com/watch?v=KUEunZYZgII",
         "26:57 Go to channel Guillain Barre Syndrome (GBS) Treatment, Pathophysiology, Symptoms, Neurology Medicine Lecture USMLE MedNerd - Dr. Waqas Fazal",
         "YouTube · Zero To Finals",
         "20 लाख+ व्यू · 4 वर्ष पहले",
         ""
        ],
        [
         3,
         "Guillain-Barré Syndrome (GBS) and Vaccines",
         "https://www.cdc.gov/vaccine-safety/about/guillain-barre.html",
         "Guillain-Barré syndrome (GBS) is a rare disorder where the body's immune system damages nerve. To study whether a new vaccine might be ...",
         "Centers for Disease Control and Prevention | CDC (.gov)",
         "https://www.cdc.gov › ...",
         ""
        ],
        [
         4,
         "Diagnosis and management of Guillain–Barré syndrome ...",
         "https://www.nature.com/articles/s41582-019-0250-9",
         "Guillain–Barré syndrome (GBS) is a rare, but potentially fatal, immune-mediated disease of the peripheral nerves and nerve roots that is ...",
         "Nature",
         "https://www.nature.com › ...",
         ""
        ],
        [
         5,
         "Guillain–Barré Syndrome | NEJM",
         "https://www.nejm.org/doi/full/10.1056/NEJMra1114525",
         "The Guillain–Barré syndrome is the most frequent cause of acute flaccid paralysis worldwide and constitutes a neurologic emergency.",
         "The New England Journal of Medicine",
         "https://www.nejm.org › ...",
         ""
        ],
        [
         6,
         "Guillain-Barré syndrome",
         "https://www.sciencedirect.com/science/article/pii/S0140673621005171",
         "Guillain-Barré syndrome is an immune-mediated polyradiculoneuropathy that accounts for an estimated 100 000 new cases annually worldwide.",
         "ScienceDirect.com",
         "https://www.sciencedirect.com › ...",
         ""
        ],
        [
         7,
         "Guillain-Barré Syndrome | Diagnosis & Disease Information",
         "https://www.pulmonologyadvisor.com/ddi/guillain-barre-syndrome/",
         "Guillain-Barré syndrome is an autoimmune disorder that results in inflammatory demyelination.1 The condition was first described in 1916 by ...",
         "Pulmonology Advisor",
         "https://www.pulmonologyadvisor.com › ...",
         ""
        ],
        [
         8,
         "Guillain‐Barré syndrome: a comprehensive review - Bellanti",
         "https://onlinelibrary.wiley.com/doi/10.1111/ene.16365",
         "Guillain-Barré syndrome is a postinfectious, immune-mediated peripheral neuropathy. As our knowledge continues to expand, its pathophysiological ...",
         "Wiley Online Library",
         "https://onlinelibrary.wiley.com › ...",
         ""
        ],
        [
         9,
         "Guillain-Barré Syndrome (GBS)",
         "https://www.childrenshospital.org/conditions/guillain-barre-syndrome",
         "Guillain-Barré syndrome (GBS) occurs when the immune system attacks the peripheral nervous system. Learn more from Boston Children's Hospital.",
         "Boston Children's Hospital",
         "https://www.childrenshospital.org › ...",
         ""
        ],
        [
         10,
         "Guillain–Barré syndrome outbreak in Pune - The Lancet",
         "https://www.thelancet.com/journals/lancet/article/PIIS0140-6736(25)00414-3/fulltext",
         "As of March 8, 2025, the total number of Guillain–Barré syndrome cases in Pune was 225, with 197 confirmed diagnoses and 28 suspected cases, ...",
         "The Lancet",
         "https://www.thelancet.com › ...",
         ""
        ],
        [
         1,
         "Guillain–Barré syndrome outbreak in Pune - The Lancet",
         "https://www.thelancet.com/journals/lancet/article/PIIS0140-6736(25)00414-3/fulltext",
         "As of March 8, 2025, the total number of Guillain–Barré syndrome cases in Pune was 225, with 197 confirmed diagnoses and 28 suspected cases, ...",
         "The Lancet",
         "https://www.thelancet.com › ...",
         ""
        ],
        [
         2,
         "What is Guillain-Barré Syndrome or GBS",
         "https://www.gbs-cidp.org/gbs/",
         "GBS is characterized by the rapid onset of numbness, weakness, and often paralysis of the legs, arms, breathing muscles, and face. Paralysis is ascending, ...",
         "GBS/CIDP Foundation International",
         "https://www.gbs-cidp.org › ...",
         ""
        ],
        [
         3,
         "Guillain-Barré Syndrome - Symptoms, Causes, Treatment",
         "https://rarediseases.org/rare-diseases/guillain-barre-syndrome/",
         "Guillain-Barré syndrome (GBS) is a rare, rapidly progressive disease due to inflammation of the nerves causing muscle weakness, sometimes ...",
         "National Organization for Rare Disorders",
         "https://rarediseases.org › ...",
         ""
        ],
        [
         4,
         "Current treatment practice of Guillain-Barré syndrome",
         "https://www.neurology.org/doi/10.1212/WNL.0000000000007719",
         "Plasma exchange (PE) and IV immunoglobulin (IVIg) are the only proven effective treatments for Guillain-Barré syndrome (GBS), although there has been little ...",
         "Neurology® Journals",
         "https://www.neurology.org › ...",
         ""
        ],
        [
         5,
         "Guillain-Barre syndrome: Video, Causes, & Meaning",
         "https://www.osmosis.org/learn/Guillain-Barre_syndrome",
         "The cause of Guillain- Barré syndrome is unknown, but it's known to develop after a bacterial infection, like Campylobacter jejuni and Mycoplasma pneumoniae, or ...",
         "Osmosis",
         "https://www.osmosis.org › ...",
         ""
        ],
        [
         6,
         "Guillain-Barré Syndrome",
         "https://www.americanbrainfoundation.org/diseases/guillain-barre-syndrome/",
         "Guillain-Barré syndrome (GBS) is a rare neurologic disorder in which the body's autoimmune response attacks the peripheral nervous system.",
         "American Brain Foundation",
         "https://www.americanbrainfoundation.org › ...",
         ""
        ],
        [
         7,
         "Guillain-Barré syndrome in adults: Pathogenesis, clinical ...",
         "https://www.uptodate.com/contents/guillain-barre-syndrome-in-adults-pathogenesis-clinical-features-and-diagnosis",
         "Time course of symptoms · Examination findings · - Weakness · - Deep tendon reflexes · - Other findings · Variant forms of Guillain-Barré syndrome.",
         "Wolters Kluwer",
         "https://www.uptodate.com › ...",
         ""
        ],
        [
         8,
         "Guillain-Barré Syndrome",
         "https://uvahealth.com/services/neurology/guillain-barre-syndrome",
         "Guillain-Barré syndrome (GBS) is a rare autoimmune condition that causes the immune system to attack the nerves outside of the brain and spinal cord.",
         "UVA Health",
         "https://uvahealth.com › ...",
         ""
        ],
        [
         9,
         "Guillain-Barre Syndrome",
         "https://www.dynamed.com/condition/guillain-barre-syndrome",
         "Guillain-Barre Syndrome (GBS) is a rare immune-mediated acute polyradiculoneuropathy, usually following an infection or other ...",
         "DynaMed",
         "https://www.dynamed.com › ...",
         ""
        ],
        [
         10,
         "What is Guillain-Barré Syndrome (GBS)? - By Adhikari Lifeline",
         "https://www.adhikarilifeline.com/what-is-guillain-barre-syndrome-gbs/",
         "Guillain-Barré Syndrome (GBS) is a rare but serious neurological disorder in which the body's immune system mistakenly attacks the nervous system.",
         "adhikarilifeline.com",
         "https://www.adhikarilifeline.com › ...",
         ""
        ],
        [
         1,
         "What is Guillain-Barré Syndrome (GBS)? - By Adhikari Lifeline",
         "https://www.adhikarilifeline.com/what-is-guillain-barre-syndrome-gbs/",
         "Guillain-Barré Syndrome (GBS) is a rare but serious neurological disorder in which the body's immune system mistakenly attacks the nervous system.",
         "adhikarilifeline.com",
         "https://www.adhikarilifeline.com › ...",
         ""
        ],
        [
         2,
         "Guillain-Barré Syndrome",
         "https://www.mayoclinicproceedings.org/article/S0025-6196(16)30818-7/fulltext",
         "1. Guillain, G. ∙ Barré, J.A. ∙ Strohl, A. ... The disorder was first described as a “benign” form of limb weakness associated with full recovery, but we now ...",
         "Mayo Clinic Proceedings",
         "https://www.mayoclinicproceedings.org › ...",
         ""
        ],
        [
         3,
         "Guillain-Barré syndrome: Types, Symptoms, Causes & ...",
         "https://www.pacehospital.com/guillain-barre-syndrome-symptoms-causes-diagnosis-treatment",
         "Guillain-Barré syndrome (GBS) in children is an autoimmune disorder where the body's immune system mistakenly attacks the peripheral nervous system. The exact ...",
         "PACE Hospitals",
         "https://www.pacehospital.com › ...",
         ""
        ],
        [
         4,
         "Guillain Barré Syndrome",
         "https://www.brainfacts.org/diseases-and-disorders/neurological-disorders-az/diseases-a-to-z-from-ninds/guillain-barr%C3%A9-syndrome",
         "Guillain-Barré syndrome is a disorder in which the body's immune system attacks part of the peripheral nervous system. The first symptoms of this disorder ...",
         "BrainFacts",
         "https://www.brainfacts.org › ...",
         ""
        ],
        [
         5,
         "Guillain-Barré Syndrome - Neurology - Highland Hospital",
         "https://www.urmc.rochester.edu/highland/departments-centers/neurology/conditions-we-treat/guillain-barr",
         "Guillain-Barré (ghee-yan bah-ray) syndrome is a disorder in which the body's immune system attacks part of the peripheral nervous system.",
         "University of Rochester Medical Center",
         "https://www.urmc.rochester.edu › ...",
         ""
        ],
        [
         6,
         "Pediatric Guillain-Barré syndrome (GBS) - Dallas",
         "https://www.childrens.com/specialties-services/conditions/guillain-barre-syndrome",
         "A typical sign of GBS is muscle weakness, numbness, tingling (pins-and-needle sensation) and occasionally pain, that starts in the feet and legs. These symptoms ...",
         "Children’s Health",
         "https://www.childrens.com › ...",
         ""
        ],
        [
         7,
         "Guillain-Barre Syndrome: Symptoms, Causes & Treatment",
         "https://www.blkmaxhospital.com/blogs/guillain-barre-syndrome",
         "Guillain-Barre Syndrome is a rare but serious neurological disorder that requires immediate medical attention. While most people recover, early ...",
         "BLK-Max Hospital",
         "https://www.blkmaxhospital.com › ...",
         ""
        ],
        [
         8,
         "Pune's Guillain-Barré Syndrome Epidemic Related to ...",
         "https://www.vax-before-travel.com/punes-guillain-barr-syndrome-epidemic-related-water-quality-2025-03-10",
         "Experts have linked these GBS infections with Campylobacter jejuni. This bacteria is one of the most common causes of food poisoning.",
         "Vax-Before-Travel",
         "https://www.vax-before-travel.com › ...",
         ""
        ],
        [
         9,
         "Guillain-Barre Syndrome (GBS)",
         "https://www.jeffersonhealth.org/conditions-and-treatments/guillain-barre-syndrome",
         "We're also involved in researching the underlying causes of GBS and other autoimmune neuromuscular conditions. At Jefferson Health, you can be sure you're ...",
         "Jefferson Health",
         "https://www.jeffersonhealth.org › ...",
         ""
        ],
        [
         10,
         "Guillain-Barré Syndrome (GBS)",
         "https://litfl.com/guillain-barre-syndrome-gbs/",
         "Guillain-Barré Syndrome (GBS) is the most common and most severe acute paralytic neuropathy, consisting of multiple variants with distinct clinical and ...",
         "Life in the Fast Lane • LITFL",
         "https://litfl.com › ...",
         ""
        ],
        [
         1,
         "Guillain-Barré Syndrome | McGovern Medical School",
         "https://med.uth.edu/neurosciences/conditions-and-treatments/nerve-disorders/guillain-barre-syndrome/",
         "Signs Guillain-Barré Syndrome. Initial symptoms may present as pain, weakness, or tingling in the hands or feet. Patients usually experience this in one side of ...",
         "UTHealth Houston",
         "https://med.uth.edu › ...",
         ""
        ],
        [
         2,
         "Guillain-Barré Syndrome",
         "https://www.medcomic.com/medcomic/guillain-barre-syndrome",
         "Guillain-Barré syndrome (GBS) is an acute, inflammatory demyelinating polyneuropathy with ascending muscle weakness that is autoimmune in nature.",
         "Medcomic",
         "https://www.medcomic.com › ...",
         ""
        ],
        [
         3,
         "Physical Therapy Guide to Guillain-Barré Syndrome",
         "https://www.choosept.com/guide/physical-therapy-guide-guillain-barre-syndrome",
         "Physical therapists have extensive training to help people during GBS recovery. They help patients understand how GBS affects their ability to move safely.",
         "ChoosePT",
         "https://www.choosept.com › ...",
         ""
        ],
        [
         4,
         "Guillain-Barré Syndrome (for Parents)",
         "https://kidshealth.org/en/parents/gbs.html",
         "What Are the Signs & Symptoms of Guillain-Barré Syndrome? · tingling or pain in the toes and fingertips · weakness or pain in the legs that causes trouble ...",
         "KidsHealth",
         "https://kidshealth.org › ...",
         ""
        ],
        [
         5,
         "Guillain Barre Syndrome: Diagnosis, Symptoms & Care",
         "https://www.gillettechildrens.org/conditions-care/guillain-barre-syndrome",
         "What is Guillain-Barré syndrome? Guillain-Barré syndrome is an autoimmune disorder in which the body's immune system attacks the nerves. A tingling sensation is ...",
         "Gillette Children's Hospital",
         "https://www.gillettechildrens.org › ...",
         ""
        ],
        [
         6,
         "What is Guillain-Barre Syndrome (GBS)?",
         "https://npistanbul.com/en/what-is-guillain-barre-syndrome-gbs",
         "What is Guillain-Barre Syndrome (GBS)?. Guillain-Barre Syndrome (GBS) is an autoimmune disease in which the immune system attacks the peripheral ...",
         "NPİSTANBUL",
         "https://npistanbul.com › ...",
         ""
        ],
        [
         7,
         "Guillain-Barre Syndrome",
         "https://www.advocatehealth.com/health-services/brain-spine-institute/brain-care-center/conditions-treatments/neuromuscular-disorders/guillain-barre",
         "Physical therapists will work with you to make sure you regain strength and range of motion. It's sobering to realize that some people have permanent nerve ...",
         "Advocate Health Care",
         "https://www.advocatehealth.com › ...",
         ""
        ],
        [
         8,
         "Guillain-Barre Syndrome - What You Need to Know",
         "https://www.drugs.com/cg/guillain-barre-syndrome.html",
         "GBS is a rare condition that causes damage to nerves that control movement and your sense of touch.",
         "Drugs.com",
         "https://www.drugs.com › ...",
         ""
        ],
        [
         9,
         "Guillain-Barré syndrome notes",
         "https://app.pulsenotes.com/medicine/neurology/notes/guillain-barre-syndrome",
         "Overview. Guillain-Barré syndrome is an acute, inflammatory polyneuropathy typically characterised by a progressive, ascending neuropathy resulting in weakness ...",
         "Pulsenotes",
         "https://app.pulsenotes.com › ...",
         ""
        ],
        [
         10,
         "Guillain-Barre syndrome - Neurology",
         "https://www.emoryhealthcare.org/conditions/neurology-conditions/guillain-barre-syndrome",
         "Emory offers full diagnostic and treatment services for Guillain-Barre Syndrome, including electrodiagnosis and nerve and or muscle biopsy and lab ...",
         "Emory Healthcare",
         "https://www.emoryhealthcare.org › ...",
         ""
        ],
        [
         1,
         "Guillain-Barre syndrome - Neurology",
         "https://www.emoryhealthcare.org/conditions/neurology-conditions/guillain-barre-syndrome",
         "Emory offers full diagnostic and treatment services for Guillain-Barre Syndrome, including electrodiagnosis and nerve and or muscle biopsy and lab ...",
         "Emory Healthcare",
         "https://www.emoryhealthcare.org › ...",
         ""
        ],
        [
         2,
         "GUILLAIN-BARRÉ SYNDROME Definition & Meaning",
         "https://www.merriam-webster.com/dictionary/Guillain-Barr%C3%A9%20syndrome",
         "noun ... Note: The cause of Guillain-Barré syndrome is unknown but individuals often experience onset a few weeks after a respiratory or gastrointestinal illness.",
         "Merriam-Webster",
         "https://www.merriam-webster.com › ...",
         ""
        ],
        [
         3,
         "Guillain-Barre Syndrome",
         "https://www.aurorahealthcare.org/services/neuroscience/neurology/neurological-conditions/neuromuscular-disorders/guillain-barre",
         "Although rare, some individuals experience permanent nerve damage, weakness, numbness, fatigue or pain after having Guillain-Barre syndrome. These long-term ...",
         "Aurora Health Care",
         "https://www.aurorahealthcare.org › ...",
         ""
        ],
        [
         4,
         "Guillain-Barré Syndrome",
         "https://www.christushealth.org/get-care/services-specialties/neurology/neuromuscular-care/guillain-barre-syndrome",
         "What is Guillain-Barré Syndrome? In Guillain-Barré syndrome (GBS), the body's immune system attacks the nerves outside the brain and spinal cord (the peripheral ...",
         "CHRISTUS Health",
         "https://www.christushealth.org › ...",
         ""
        ],
        [
         5,
         "Guillain-Barré Syndrome",
         "https://memorialhermann.org/services/conditions/guillain-barre-syndrome",
         "Given the sudden, unexpected onset and the severity of symptoms, GBS can be emotionally and physically devastating for patients and their families. It is often ...",
         "Memorial Hermann Health System",
         "https://memorialhermann.org › ...",
         ""
        ],
        [
         6,
         "Understanding and Treating Guillain-Barré Syndrome",
         "https://www.bannerhealth.com/services/neurology/diseases/guillain-barre-syndrome",
         "What are the symptoms of Guillain-Barré syndrome? · Difficulty with eye movements or double vision · Trouble swallowing, speaking or chewing · Severe cramping, ...",
         "Banner Health",
         "https://www.bannerhealth.com › ...",
         ""
        ],
        [
         7,
         "About Guillain-Barré Syndrome",
         "https://www.health.state.mn.us/diseases/gb/basics.html",
         "Guillain-Barré Syndrome (GBS) is a disease characterized by muscle weakness and sometimes paralysis. GBS can last for weeks to months. Most ...",
         "MN Dept. of Health",
         "https://www.health.state.mn.us › ...",
         ""
        ],
        [
         8,
         "Guillain-Barre Syndrome (GBS) Symptoms, Treatment & ...",
         "https://www.emedicinehealth.com/guillain-barre_syndrome/article_em.htm",
         "Guillain-Barré Syndrome Symptoms · Weakness on both sides of the body may develop with numbness that starts in the legs and progresses into the trunk and moves ...",
         "eMedicineHealth",
         "https://www.emedicinehealth.com › ...",
         ""
        ],
        [
         9,
         "Guillain-Barré Syndrome (GBS) | NIH",
         "https://clinicalinfo.hiv.gov/en/glossary/guillain-barre-syndrome-gbs",
         "Guillain-Barré Syndrome (GBS) pronounce term ... A rare acute neurological disorder in which the immune system mistakenly attacks part of the peripheral nervous ...",
         "Clinical Info HIV.gov",
         "https://clinicalinfo.hiv.gov › ...",
         ""
        ],
        [
         10,
         "Guillain-Barré Syndrome (GBS): Signs, Causes, Vaccine, ...",
         "https://www.verywellhealth.com/guillain-barre-syndrome-8387646",
         "Guillain-Barré syndrome is a rapidly progressive and dangerous nerve disease. It causes severe weakness that begins in the feet and moves up the ...",
         "Verywell Health",
         "https://www.verywellhealth.com › ...",
         ""
        ],
        [
         1,
         "Guillain-Barre Syndrome (GBS) Symptoms - Baptist Health",
         "https://www.baptisthealth.com/care-services/conditions-treatments/guillainbarre-syndrome",
         "It typically begins with a tingling sensation and feelings of weakness in the legs, and progresses quickly to more serious symptoms, including severe cramps, ...",
         "baptisthealth.com",
         "https://www.baptisthealth.com › ...",
         ""
        ],
        [
         2,
         "Guillain-Barré Syndrome (in Children)",
         "https://carle.org/conditions/pediatric-conditions/guillain-barre-syndrome",
         "What Are the Symptoms of Guillain-Barré Syndrome? First symptoms include weakness and tingling in the legs that often spread to the arms and upper body. These ...",
         "Carle Health",
         "https://carle.org › ...",
         ""
        ],
        [
         3,
         "India faces Guillain-Barré outbreak",
         "https://avinews.com/en/india-faces-guillain-barre-outbreak/",
         "India is currently grappling with an alarming outbreak of Guillain-Barré Syndrome (GBS), a rare neurological disorder that can lead to sudden and severe ...",
         "aviNews",
         "https://avinews.com › ...",
         ""
        ],
        [
         4,
         "Guillain-Barre syndrome (GBS)",
         "https://gpnotebook.com/pages/infectious-disease/guillain-barre-syndrome-gbs",
         "Guillain-Barre syndrome (GBS) ... A prodromal malaise with vomiting, headache, fever and limb pains is rapidly surmounted by a progressive and ...",
         "GPnotebook",
         "https://gpnotebook.com › ...",
         ""
        ],
        [
         5,
         "Guillain–Barre syndrome and link with COVID-19 infection ...",
         "https://www.frontiersin.org/journals/neurology/articles/10.3389/fneur.2024.1396642/full",
         "Our study aims to review the literature on GBS and its epidemiological and pathophysiological association with COVID-19.",
         "Frontiers",
         "https://www.frontiersin.org › ...",
         ""
        ],
        [
         6,
         "Guillain-Barre Syndrome Causes & Symptoms",
         "https://www.beaumont.org/conditions/guillain-barre-syndrome",
         "Signs and symptoms. GBS symptoms are characterized by weakness and tingling that is equal on both sides of the body, which usually affects the lower limbs and ...",
         "Beaumont.org",
         "https://www.beaumont.org › ...",
         ""
        ],
        [
         7,
         "Guillain-Barre syndrome | UCSF Neuromuscular Division",
         "https://neuromuscular.ucsf.edu/guillain-barre-syndrome",
         "The UCSF Neuromuscular Clinic provides comprehensive treatment for patients with various neuromuscular diseases, including Guillain-Barre syndrome. The ...",
         "UC San Francisco",
         "https://neuromuscular.ucsf.edu › ...",
         ""
        ],
        [
         8,
         "Guillain-Barre Syndrome (GBS)",
         "https://www.yalemedicine.org/clinical-keywords/guillain-barre-syndrome",
         "Definition. Guillain-Barre syndrome (GBS) is a rare neurological disorder in which the body's immune system mistakenly attacks the peripheral nerves, leading to ...",
         "Yale Medicine",
         "https://www.yalemedicine.org › ...",
         ""
        ],
        [
         9,
         "Listing: Guillain-Barré Syndrome Resources",
         "https://www.sralab.org/lifecenter/resources/listing-guillain-barre-syndrome-resources",
         "The following Guillain-Barré syndrome resources included in this listing provides information from the national and local programs level that focus primarily ...",
         "Shirley Ryan AbilityLab",
         "https://www.sralab.org › ...",
         ""
        ],
        [
         10,
         "Guillain-Barré Syndrome",
         "https://uvahealth.com/services/neurology/guillain-barre-syndrome",
         "GBS Treatment at UVA Health. The GBS-CIDP Foundation has designated UVA as a Center of Excellence, meaning we offer expert diagnosis and management of ...",
         "UVA Health",
         "https://uvahealth.com › ...",
         ""
        ],
        [
         1,
         "Listing: Guillain-Barré Syndrome Resources",
         "https://www.sralab.org/lifecenter/resources/listing-guillain-barre-syndrome-resources",
         "The following Guillain-Barré syndrome resources included in this listing provides information from the national and local programs level that focus primarily ...",
         "Shirley Ryan AbilityLab",
         "https://www.sralab.org › ...",
         ""
        ],
        [
         2,
         "Guillain-Barré Syndrome",
         "https://www.templehealth.org/services/conditions/guillain-barre-syndrome",
         "Symptoms · Abnormal blood pressure — Blood pressure is temporarily affected, and dangerously low pressure can occur. · Bladder incontinence — Some people with ...",
         "Temple Health",
         "https://www.templehealth.org › ...",
         ""
        ],
        [
         3,
         "When Your Child Has Guillain-Barre Syndrome (GBS)",
         "https://www.saintlukeskc.org/health-library/when-your-child-has-guillain-barre-syndrome-gbs",
         "Your child has been diagnosed with Guillain-Barré syndrome (GBS). This is an illness that affects the peripheral nerves, often both the sensory and motor ...",
         "Saint Luke's Health System Kansas City",
         "https://www.saintlukeskc.org › ...",
         ""
        ],
        [
         4,
         "Guillain-Barré Syndrome vs. Myasthenia Gravis",
         "https://ameripharmaspecialty.com/myasthenia-gravis/guillain-barre-syndrome-vs-myasthenia-gravis/",
         "In conclusion, Guillain-barré syndrome and myasthenia gravis are both neurological autoimmune disorders and share some similarities in their ...",
         "AmeriPharma® Specialty Care",
         "https://ameripharmaspecialty.com › ...",
         ""
        ],
        [
         5,
         "Guillain-Barré Syndrome (GBS) Facts & Resources",
         "https://www.csl.com/patients-public-health/rare-and-serious-diseases/immunodeficiency-and-autoimmune-diseases/guillain-barre-syndrome",
         "What is Guillain-Barré Syndrome (GBS)?. Guillain-Barré Syndrome (GBS; pronounced: ghee-YAN bah-RAY) is a rare autoimmune disorder in which the body's immune ...",
         "Global Biotechnology Company",
         "https://www.csl.com › ...",
         ""
        ],
        [
         6,
         "Guillain-Barré Syndrome (GBS): Symptoms & Treatment - Health",
         "https://www.health.com/guillain-barre-syndrome-8604619",
         "Guillain-Barré syndrome (GBS) is an autoimmune disease that usually happens after a viral illness, vaccination, or infection with a specific bacteria called ...",
         "health.com",
         "https://www.health.com › ...",
         ""
        ],
        [
         7,
         "Guillain-Barré Syndrome",
         "https://www.childneurologyfoundation.org/disorder/guillain-barre-syndrome/",
         "The symptoms of GBS usually get worse over the first 2 to 4 weeks. Recovery usually starts after 4 weeks. Symptoms can continue to improve for 6 to 12 months.",
         "Child Neurology Foundation",
         "https://www.childneurologyfoundation.org › ...",
         ""
        ],
        [
         8,
         "Miller Fisher variant of Guillain-Barre Syndrome",
         "https://eyewiki.org/Miller_Fisher_variant_of_Guillain-Barre_Syndrome",
         "Disease Entity · Disease. Miller Fisher syndrome (MFS), also known as Fisher syndrome and the Miller Fisher Variant of Guillain-Barré syndrome, is an autoimmune ...",
         "EyeWiki",
         "https://eyewiki.org › ...",
         ""
        ],
        [
         9,
         "Guillain Barre Syndrome (GBS)",
         "https://emcrit.org/ibcc/gbs/",
         "albuminocytologic dissociation · The classic finding in GBS is albuminocytologic dissociation (elevated protein, despite normal cell count).",
         "EMCrit Blog",
         "https://emcrit.org › ...",
         ""
        ],
        [
         10,
         "Guillain–Barré Syndrome",
         "https://iapindia.org/pdf/Ch-053-stg-guillain-barre-syndrome.pdf",
         "GBS is the most common cause of acute flaccid paralysis in childhood. C linical Signs and Symptoms. ☑ Guillain–Barré syndrome presents with acute onset weakness ...",
         "Indian Academy of Pediatrics (IAP)",
         "https://iapindia.org › pdf › Ch-053-stg-guillain-b...",
         ""
        ],
        [
         1,
         "Miller Fisher variant of Guillain-Barre Syndrome",
         "https://eyewiki.org/Miller_Fisher_variant_of_Guillain-Barre_Syndrome",
         "Disease Entity · Disease. Miller Fisher syndrome (MFS), also known as Fisher syndrome and the Miller Fisher Variant of Guillain-Barré syndrome, is an autoimmune ...",
         "EyeWiki",
         "https://eyewiki.org › ...",
         ""
        ],
        [
         2,
         "Guillain-Barré syndrome in adults: Treatment and prognosis",
         "https://www.uptodate.com/contents/guillain-barre-syndrome-in-adults-treatment-and-prognosis",
         "INTRODUCTION. The acute immune-mediated polyneuropathies are classified under the eponym Guillain-Barré syndrome (GBS), after the authors of ...",
         "Wolters Kluwer",
         "https://www.uptodate.com › ...",
         ""
        ],
        [
         3,
         "Guillain Barre Syndrome (GBS)",
         "https://emcrit.org/ibcc/gbs/",
         "albuminocytologic dissociation · The classic finding in GBS is albuminocytologic dissociation (elevated protein, despite normal cell count).",
         "EMCrit Blog",
         "https://emcrit.org › ...",
         ""
        ],
        [
         4,
         "Guillain–Barré Syndrome",
         "https://iapindia.org/pdf/Ch-053-stg-guillain-barre-syndrome.pdf",
         "GBS is the most common cause of acute flaccid paralysis in childhood. C linical Signs and Symptoms. ☑ Guillain–Barré syndrome presents with acute onset weakness ...",
         "Indian Academy of Pediatrics (IAP)",
         "https://iapindia.org › pdf › Ch-053-stg-guillain-b...",
         ""
        ],
        [
         5,
         "Guillain-Barré syndrome related to COVID-19 infection",
         "https://www.neurology.org/doi/10.1212/NXI.0000000000000741",
         "We want to comment on a similar Guillain- Barré Syndrome (GBS) case following bilateral SARS-CoV2 pneumonia and to highlight the evolution of post-infectious ...",
         "Neurology® Journals",
         "https://www.neurology.org › ...",
         ""
        ],
        [
         6,
         "Guillain-Barré Syndrome Lawyers and Lawsuits",
         "https://marlerclark.com/foodborne-illnesses/guillain-barre-syndrome",
         "We at Marler Clark provide Guillain-Barré syndrome lawyers and information to guide clients in the right direction.",
         "Marler Clark",
         "https://marlerclark.com › ...",
         ""
        ],
        [
         7,
         "Guillain-Barré Syndrome (GBS) - Neurologic Disorders",
         "https://www.msdmanuals.com/professional/neurologic-disorders/peripheral-nervous-system-and-motor-unit-disorders/guillain-barr%C3%A9-syndrome-gbs",
         "(Acute Idiopathic Polyneuritis; Acute Inflammatory Demyelinating Polyradiculoneuropathy) ... Guillain-Barré syndrome is an acute, usually rapidly progressive but ...",
         "MSD Manuals",
         "https://www.msdmanuals.com › ...",
         ""
        ],
        [
         8,
         "Guillain-Barré Syndrome | Upstate Neurological Institute",
         "https://www.upstate.edu/neuroinstitute/symptoms-conditions/guillain-barre-syndrome.php",
         "Symptoms · Weakness and tingling in the legs, arms, and face · Pain in the legs or back · Problems walking or climbing stairs · Problems breathing · Eyesight ...",
         "SUNY Upstate Medical University",
         "https://www.upstate.edu › ...",
         ""
        ],
        [
         9,
         "A rare paralysis syndrome is spiking in India this year. ...",
         "https://www.gavi.org/vaccineswork/cases-infection-linked-paralysis-syndrome-have-spiked-india-year-whats-story",
         "The symptoms of GBS typically begin with weakness, often starting in the legs and progressing upward, or 'ascending paralysis, says Debnath. The ...",
         "Gavi, the Vaccine Alliance",
         "https://www.gavi.org › ...",
         ""
        ],
        [
         10,
         "Guillain-Barre Syndrome - Neurology",
         "https://step2.medbullets.com/neurology/120319/guillain-barre-syndrome",
         "Definition: an immune-mediated polyneuropathy that has many variant forms. Miller Fisher syndrome.",
         "Medbullets",
         "https://step2.medbullets.com › ...",
         ""
        ]
       ],
       "datasetInfos": [],
       "dbfsResultPath": null,
       "isJsonSchema": true,
       "metadata": {},
       "overflow": false,
       "plotOptions": {
        "customPlotOptions": {},
        "displayType": "table",
        "pivotAggregation": null,
        "pivotColumns": null,
        "xColumns": null,
        "yColumns": null
       },
       "removedWidgets": [],
       "schema": [
        {
         "metadata": "{}",
         "name": "Position",
         "type": "\"long\""
        },
        {
         "metadata": "{}",
         "name": "Title",
         "type": "\"string\""
        },
        {
         "metadata": "{}",
         "name": "Link",
         "type": "\"string\""
        },
        {
         "metadata": "{}",
         "name": "Snippet",
         "type": "\"string\""
        },
        {
         "metadata": "{}",
         "name": "Source",
         "type": "\"string\""
        },
        {
         "metadata": "{}",
         "name": "Displayed Link",
         "type": "\"string\""
        },
        {
         "metadata": "{}",
         "name": "Sitelinks",
         "type": "\"string\""
        }
       ],
       "type": "table"
      }
     },
     "output_type": "display_data"
    }
   ],
   "source": [
    "# Convert Google Search Results JSON Data to Pandas DataFrame for Analysis\n",
    "\n",
    "\n",
    "import pandas as pd\n",
    "print(f\"Length of fetched_results_raw: {len(fetched_results_raw)}\")\n",
    "\n",
    "\n",
    "try:\n",
    "    serpapi_info = []\n",
    "\n",
    "    for result in fetched_results_raw:\n",
    "        serpapi_info.append({\n",
    "            'Position': result.get('position', ''),\n",
    "            'Title': result.get('title', ''),\n",
    "            'Link': result.get('link', ''),\n",
    "            'Snippet': result.get('snippet', ''),\n",
    "            'Source': result.get('source', ''),\n",
    "            'Displayed Link': result.get('displayed_link', ''),\n",
    "            'Sitelinks': str(result.get('sitelinks', ''))  \n",
    "        })\n",
    "\n",
    "    df_serpapi = pd.DataFrame(serpapi_info)\n",
    "    display(df_serpapi.head(100))\n",
    "\n",
    "except NameError:\n",
    "    print(\"Variable 'fetched_results_raw' not found. Please run the fetching cell first.\")\n",
    "\n",
    "\n"
   ]
  },
  {
   "cell_type": "markdown",
   "metadata": {
    "application/vnd.databricks.v1+cell": {
     "cellMetadata": {},
     "inputWidgets": {},
     "nuid": "45bd7513-509b-4413-aae8-57e9cdaa514c",
     "showTitle": false,
     "tableResultSettingsMap": {},
     "title": ""
    }
   },
   "source": [
    "**Defining PySpark Schemas and Creating Separate DataFrames for Clinical Trials and Google Search Results**"
   ]
  },
  {
   "cell_type": "code",
   "execution_count": 0,
   "metadata": {
    "application/vnd.databricks.v1+cell": {
     "cellMetadata": {
      "byteLimit": 2048000,
      "rowLimit": 10000
     },
     "inputWidgets": {},
     "nuid": "d5885565-2014-4d30-9de1-cfd242e58948",
     "showTitle": false,
     "tableResultSettingsMap": {},
     "title": ""
    }
   },
   "outputs": [
    {
     "output_type": "display_data",
     "data": {
      "text/html": [
       "<style scoped>\n",
       "  .table-result-container {\n",
       "    max-height: 300px;\n",
       "    overflow: auto;\n",
       "  }\n",
       "  table, th, td {\n",
       "    border: 1px solid black;\n",
       "    border-collapse: collapse;\n",
       "  }\n",
       "  th, td {\n",
       "    padding: 5px;\n",
       "  }\n",
       "  th {\n",
       "    text-align: left;\n",
       "  }\n",
       "</style><div class='table-result-container'><table class='table-result'><thead style='background-color: white'><tr><th>nctId</th><th>briefTitle</th><th>overallStatus</th><th>hasResults</th></tr></thead><tbody><tr><td>NCT05212792</td><td>Genomics and COVID-19 Vaccine Adverse Events</td><td>RECRUITING</td><td>false</td></tr><tr><td>NCT04166357</td><td>Early Prediction of Respiratory and Autonomic Complications of GBS Using Neuromuscular Ultrasound</td><td>UNKNOWN</td><td>false</td></tr><tr><td>NCT04829526</td><td>Firm Observational Clinical Unicenter Study on Guillain Barré Syndrome</td><td>RECRUITING</td><td>false</td></tr><tr><td>NCT04303962</td><td>Efficacy of Intravenous Gamma Globulin on Guillain-Barre Syndrome</td><td>UNKNOWN</td><td>false</td></tr><tr><td>NCT00271791</td><td>Prednisone Treatment for Vestibular Neuronitis</td><td>COMPLETED</td><td>false</td></tr><tr><td>NCT01655394</td><td>Change of Nerve Conduction Properties in IVIg Dependent Neuropathies</td><td>UNKNOWN</td><td>false</td></tr><tr><td>NCT05324176</td><td>Diaphragm Thickness by Ultrasonography in Neurological Disorders</td><td>COMPLETED</td><td>false</td></tr><tr><td>NCT03943589</td><td>A Study of Imlifidase in Patients With Guillain-Barré Syndrome</td><td>COMPLETED</td><td>true</td></tr><tr><td>NCT04752566</td><td>A Study to Evaluate the Efficacy and Safety of Eculizumab in Guillain-Barré Syndrome</td><td>COMPLETED</td><td>true</td></tr><tr><td>NCT02493725</td><td>JET-GBS - Japanese Eculizumab Trial for GBS</td><td>COMPLETED</td><td>false</td></tr><tr><td>NCT06167239</td><td>Ventilator Trigger Sensitivity Adjustment Versus Threshold Inspiratory Muscle Training on Arterial Blood Gases</td><td>RECRUITING</td><td>false</td></tr><tr><td>NCT05284786</td><td>Ultrasonography and Electrophysiology in GBS</td><td>UNKNOWN</td><td>false</td></tr><tr><td>NCT05701189</td><td>Evaluating Efgartigimod in Patients with Guillain-Barré Syndrome</td><td>RECRUITING</td><td>false</td></tr><tr><td>NCT06885762</td><td>Efgartigimod for the Treatment of Guillain-Barré Syndrome</td><td>NOT_YET_RECRUITING</td><td>false</td></tr><tr><td>NCT05104762</td><td>IVIG Versus Plasmapheresis in the Treatment of Guillian Barrie Syndrome Patients</td><td>COMPLETED</td><td>false</td></tr><tr><td>NCT06615622</td><td>Our Study Aims to Determine If Nerve Alterations in Acute GBS and CIDP Detectable by Ultrasound Match Electrodiagnostic Findings and If This Method Aids Early Diagnosis, Predict Their Outcomes and Differentiate Between Axonal and Demyelinating Subtypes.</td><td>RECRUITING</td><td>false</td></tr><tr><td>NCT05940922</td><td>RWE-based Treatment Patterns and Outcomes in CIDP</td><td>NOT_YET_RECRUITING</td><td>false</td></tr><tr><td>NCT06822231</td><td>High-Tech Rehabilitation Pathway for Acute Adult Neuromuscular Diseases - Fit4MedRob-Acute MND Project</td><td>NOT_YET_RECRUITING</td><td>false</td></tr><tr><td>NCT06334796</td><td>Artificial Intelligence-powered Virtual Assistant for Emergency Triage in Neurology</td><td>COMPLETED</td><td>false</td></tr><tr><td>NCT00411216</td><td>Recovery of Visual Acuity in People With Vestibular Deficits</td><td>COMPLETED</td><td>true</td></tr><tr><td>NCT00167622</td><td>Early Mechanical Ventilation for Guillain Barré Syndrome</td><td>COMPLETED</td><td>false</td></tr><tr><td>NCT02459808</td><td>Gastrointestinal Transit Time in Patients With Guillain-Barré Syndrome</td><td>WITHDRAWN</td><td>false</td></tr><tr><td>NCT04092140</td><td>Neuromuscular Ultrasound in Correlation to Neurophysiological Findings</td><td>UNKNOWN</td><td>false</td></tr><tr><td>NCT05095844</td><td>National Vaccine Adverse Event Reporting Survey and Etiology</td><td>UNKNOWN</td><td>false</td></tr><tr><td>NCT00056810</td><td>Assessment of Chronic Guillain-Barre Syndrome Improvement With Use of 4-aminopyridine</td><td>COMPLETED</td><td>false</td></tr><tr><td>NCT03268304</td><td>Feasibility of Two New Software Modules for the Rehabilitation of Patients With Neuromuscular Upper Limb Impairments</td><td>WITHDRAWN</td><td>false</td></tr><tr><td>NCT01005524</td><td>Brain Computer Interface for Communication in ICU: a Feasibility Study</td><td>COMPLETED</td><td>false</td></tr><tr><td>NCT04871035</td><td>Immunoadsorption Versus Plasma Exchange for Treatment of Guillain-Barré Syndrome (GBS)</td><td>RECRUITING</td><td>false</td></tr><tr><td>NCT04674163</td><td>Expression Profile of ERK5 and PKM2 Kinases in Neuroinflammatory Diseases.</td><td>WITHDRAWN</td><td>false</td></tr><tr><td>NCT04035135</td><td>A Clinical Study of ANX005 and IVIG in Subjects With Guillain Barré Syndrome (GBS)</td><td>COMPLETED</td><td>false</td></tr><tr><td>NCT01582763</td><td>International Guillain-Barré Syndrome Outcome Study</td><td>COMPLETED</td><td>false</td></tr><tr><td>NCT03801135</td><td>Changes in Haemostasis After Therapeutic Plasmapheresis With Citrate Anticoagulation</td><td>UNKNOWN</td><td>false</td></tr><tr><td>NCT06939634</td><td>Evaluation of Usability and Safety of the System Atalante in Patients With High Paraplegia and Tetraplegia</td><td>COMPLETED</td><td>false</td></tr><tr><td>NCT05491096</td><td>Effects of Proprioceptive Neuromuscular Training on Sensory and Motor Function in Guillain Barre Syndrome</td><td>COMPLETED</td><td>false</td></tr><tr><td>NCT06032741</td><td>Prognosis in Patients With Guillain-Barre Syndrome</td><td>UNKNOWN</td><td>false</td></tr><tr><td>NCT05494619</td><td>A Study to Evaluate the Efficacy, Safety, Pharmacokinetics, and Pharmacodynamics of Crovalimab in Participants With Guillain-Barré Syndrome (GBS)</td><td>WITHDRAWN</td><td>false</td></tr><tr><td>NCT01469858</td><td>Perception and Multisensory Integration in Neurological Patients Using fMRI</td><td>UNKNOWN</td><td>false</td></tr><tr><td>NCT06605612</td><td>Development and Validation of the FBIndex to Determine the Risk of Falls for Patients with Neuromuscular Disorders</td><td>ENROLLING_BY_INVITATION</td><td>false</td></tr><tr><td>NCT06612242</td><td>Early vs. Late Tracheostomy in Patients With Guillain -Barre Syndrome</td><td>RECRUITING</td><td>false</td></tr><tr><td>NCT05630313</td><td>Gene Sequencing as a Strategy for Identifying Genetic Factors Associated With Serious Adverse Events After Covid-19 Vaccines in Use in Brazil</td><td>RECRUITING</td><td>false</td></tr><tr><td>NCT03941184</td><td>Spontaneous Coronary Artery Dissection (SCAD) and Autoimmunity</td><td>COMPLETED</td><td>false</td></tr><tr><td>NCT06940908</td><td>Living With Guillain-Barré Syndrome as Children.</td><td>RECRUITING</td><td>false</td></tr><tr><td>NCT04053452</td><td>Peripheral Nerve Ultrasound for Diagnosis and Prognosis of Guillain-Barre Syndrome</td><td>TERMINATED</td><td>true</td></tr><tr><td>NCT04249752</td><td>Biomarkers in Polyradiculoneuropathies</td><td>UNKNOWN</td><td>false</td></tr><tr><td>NCT02342184</td><td>Efficacy and Safety Study of GB-0998 for Guillain-Barré Syndrome</td><td>COMPLETED</td><td>false</td></tr><tr><td>NCT05945784</td><td>Exploring Accessible Beauty for Individuals With Upper Extremity Deficits</td><td>COMPLETED</td><td>false</td></tr><tr><td>NCT05292690</td><td>An Assistive Powered Wheelchair: Stage 2 Trial</td><td>COMPLETED</td><td>false</td></tr><tr><td>NCT04701164</td><td>Efficacy and Safety of ANX005 in Subjects With Guillain-Barré Syndrome</td><td>COMPLETED</td><td>false</td></tr><tr><td>NCT00173199</td><td>The Changes of Cytokines in Guillain Barré Syndrome: the Correlation With Clinical Manifestations and Skin Innervation</td><td>UNKNOWN</td><td>false</td></tr><tr><td>NCT05114941</td><td>Comparison of the Efficacy and Safety of Immunoadsorption and Intravenous Immunoglobulin for Guillain-Barre Syndrome</td><td>NOT_YET_RECRUITING</td><td>false</td></tr><tr><td>NCT03206541</td><td>Neurologic Manifestations of the Arbovirus Infection in Colombia</td><td>COMPLETED</td><td>false</td></tr><tr><td>NCT02422875</td><td>Comparative Autoantibody and Immunologic Cell Marker Study</td><td>ENROLLING_BY_INVITATION</td><td>false</td></tr><tr><td>NCT01370200</td><td>Regional Citrate Anticoagulation in Plasma Exchange Treatment</td><td>COMPLETED</td><td>false</td></tr><tr><td>NCT06300359</td><td>Prognostic Indicators of Gullian-Barre Syndrome</td><td>NOT_YET_RECRUITING</td><td>false</td></tr><tr><td>NCT06502015</td><td>Biomarkers in Autoimmune Disease of Nervous System</td><td>RECRUITING</td><td>false</td></tr><tr><td>NCT02780570</td><td>Small Volume Plasma Exchange (SVPE) for Guillain-Barré Syndrome (GBS) Patients</td><td>COMPLETED</td><td>false</td></tr><tr><td>NCT02883270</td><td>Effects of Robotic-assisted Gait Training In Non-Ambulatory Patients After Guillain-Barré Syndrome</td><td>COMPLETED</td><td>false</td></tr><tr><td>NCT02722070</td><td>Processing Integration in Neurological Patients Using fMRI</td><td>UNKNOWN</td><td>false</td></tr><tr><td>NCT01024088</td><td>Prospective Study on Swallowing/Breathing Interactions in Severe Guillain Barre Syndrome.</td><td>COMPLETED</td><td>false</td></tr><tr><td>NCT02221271</td><td>Phase III Clinical Trial of NPB-01 in Patients With Guillain-Barré Syndrome</td><td>COMPLETED</td><td>false</td></tr><tr><td>NCT06740656</td><td>Neuromuscular Complications of MEK Inhibitors: a French Case Series and a Systematic Review of the Literature</td><td>NOT_YET_RECRUITING</td><td>false</td></tr><tr><td>NCT03826056</td><td>Neurology Inpatient Clinical Education Trial</td><td>COMPLETED</td><td>false</td></tr><tr><td>NCT04550611</td><td>Mini-pool Intravenous Immunoglobulin (MP-IVIG) in Guillain-Barré Syndrome</td><td>UNKNOWN</td><td>false</td></tr><tr><td>NCT02029378</td><td>Inhibition of Complement Activation (Eculizumab) in Guillain-Barre Syndrome Study</td><td>UNKNOWN</td><td>false</td></tr><tr><td>NCT01306578</td><td>Intravenous Immunoglobulin (IVIG) Versus Plasma Exchange (PE) for Ventilated Children With Guillain Barre Syndrome (GBS)</td><td>COMPLETED</td><td>false</td></tr><tr><td>NCT03710278</td><td>The Effectiveness and Safety of Human Lumbar Puncture Assist Device (LPat)</td><td>COMPLETED</td><td>false</td></tr><tr><td>NCT03773328</td><td>A Clinical Trial of CK0801 (a New Drug) In Patients With Treatment-Resistant Guillain-Barré Syndrome (GBS)</td><td>WITHDRAWN</td><td>false</td></tr><tr><td>NCT03840928</td><td>PatientSpot Formerly Known as ArthritisPower</td><td>RECRUITING</td><td>false</td></tr><tr><td>NCT00004833</td><td>Randomized Study of Plasmapheresis or Human Immunoglobulin Infusion in Childhood Guillain-Barre Syndrome</td><td>TERMINATED</td><td>false</td></tr><tr><td>NCT06200454</td><td>Predictive Value of Neuromuscular Ultrasound of Cranial Nerves in Guillain-Barré Syndrome</td><td>NOT_YET_RECRUITING</td><td>false</td></tr><tr><td>NCT04927598</td><td>Predictors and Prognostic Factors of Gullian Barrie Syndrome Outcome</td><td>COMPLETED</td><td>false</td></tr><tr><td>NCT05461898</td><td>RehabGBs: Rehabilitation in People With Guillain-Barré Syndrome</td><td>RECRUITING</td><td>false</td></tr><tr><td>NCT02582853</td><td>sCD163 as a Potential Biomarker in Guillain- Barré Syndrome</td><td>UNKNOWN</td><td>false</td></tr><tr><td>NCT06620198</td><td>Upper Limb Robot-Assisted Therapy in Patients with Guillain-Barré Syndrome</td><td>ACTIVE_NOT_RECRUITING</td><td>false</td></tr><tr><td>NCT06041451</td><td>Early and Late Prognosis in Patients With Guillain-Barre Syndrome</td><td>UNKNOWN</td><td>false</td></tr><tr><td>NCT00575653</td><td>Safety Study of GBS Following Menactra Meningococcal Vaccination</td><td>COMPLETED</td><td>false</td></tr></tbody></table></div>"
      ]
     },
     "metadata": {
      "application/vnd.databricks.v1+output": {
       "addedWidgets": {},
       "aggData": [],
       "aggError": "",
       "aggOverflow": false,
       "aggSchema": [],
       "aggSeriesLimitReached": false,
       "aggType": "",
       "arguments": {},
       "columnCustomDisplayInfos": {},
       "data": [
        [
         "NCT05212792",
         "Genomics and COVID-19 Vaccine Adverse Events",
         "RECRUITING",
         false
        ],
        [
         "NCT04166357",
         "Early Prediction of Respiratory and Autonomic Complications of GBS Using Neuromuscular Ultrasound",
         "UNKNOWN",
         false
        ],
        [
         "NCT04829526",
         "Firm Observational Clinical Unicenter Study on Guillain Barré Syndrome",
         "RECRUITING",
         false
        ],
        [
         "NCT04303962",
         "Efficacy of Intravenous Gamma Globulin on Guillain-Barre Syndrome",
         "UNKNOWN",
         false
        ],
        [
         "NCT00271791",
         "Prednisone Treatment for Vestibular Neuronitis",
         "COMPLETED",
         false
        ],
        [
         "NCT01655394",
         "Change of Nerve Conduction Properties in IVIg Dependent Neuropathies",
         "UNKNOWN",
         false
        ],
        [
         "NCT05324176",
         "Diaphragm Thickness by Ultrasonography in Neurological Disorders",
         "COMPLETED",
         false
        ],
        [
         "NCT03943589",
         "A Study of Imlifidase in Patients With Guillain-Barré Syndrome",
         "COMPLETED",
         true
        ],
        [
         "NCT04752566",
         "A Study to Evaluate the Efficacy and Safety of Eculizumab in Guillain-Barré Syndrome",
         "COMPLETED",
         true
        ],
        [
         "NCT02493725",
         "JET-GBS - Japanese Eculizumab Trial for GBS",
         "COMPLETED",
         false
        ],
        [
         "NCT06167239",
         "Ventilator Trigger Sensitivity Adjustment Versus Threshold Inspiratory Muscle Training on Arterial Blood Gases",
         "RECRUITING",
         false
        ],
        [
         "NCT05284786",
         "Ultrasonography and Electrophysiology in GBS",
         "UNKNOWN",
         false
        ],
        [
         "NCT05701189",
         "Evaluating Efgartigimod in Patients with Guillain-Barré Syndrome",
         "RECRUITING",
         false
        ],
        [
         "NCT06885762",
         "Efgartigimod for the Treatment of Guillain-Barré Syndrome",
         "NOT_YET_RECRUITING",
         false
        ],
        [
         "NCT05104762",
         "IVIG Versus Plasmapheresis in the Treatment of Guillian Barrie Syndrome Patients",
         "COMPLETED",
         false
        ],
        [
         "NCT06615622",
         "Our Study Aims to Determine If Nerve Alterations in Acute GBS and CIDP Detectable by Ultrasound Match Electrodiagnostic Findings and If This Method Aids Early Diagnosis, Predict Their Outcomes and Differentiate Between Axonal and Demyelinating Subtypes.",
         "RECRUITING",
         false
        ],
        [
         "NCT05940922",
         "RWE-based Treatment Patterns and Outcomes in CIDP",
         "NOT_YET_RECRUITING",
         false
        ],
        [
         "NCT06822231",
         "High-Tech Rehabilitation Pathway for Acute Adult Neuromuscular Diseases - Fit4MedRob-Acute MND Project",
         "NOT_YET_RECRUITING",
         false
        ],
        [
         "NCT06334796",
         "Artificial Intelligence-powered Virtual Assistant for Emergency Triage in Neurology",
         "COMPLETED",
         false
        ],
        [
         "NCT00411216",
         "Recovery of Visual Acuity in People With Vestibular Deficits",
         "COMPLETED",
         true
        ],
        [
         "NCT00167622",
         "Early Mechanical Ventilation for Guillain Barré Syndrome",
         "COMPLETED",
         false
        ],
        [
         "NCT02459808",
         "Gastrointestinal Transit Time in Patients With Guillain-Barré Syndrome",
         "WITHDRAWN",
         false
        ],
        [
         "NCT04092140",
         "Neuromuscular Ultrasound in Correlation to Neurophysiological Findings",
         "UNKNOWN",
         false
        ],
        [
         "NCT05095844",
         "National Vaccine Adverse Event Reporting Survey and Etiology",
         "UNKNOWN",
         false
        ],
        [
         "NCT00056810",
         "Assessment of Chronic Guillain-Barre Syndrome Improvement With Use of 4-aminopyridine",
         "COMPLETED",
         false
        ],
        [
         "NCT03268304",
         "Feasibility of Two New Software Modules for the Rehabilitation of Patients With Neuromuscular Upper Limb Impairments",
         "WITHDRAWN",
         false
        ],
        [
         "NCT01005524",
         "Brain Computer Interface for Communication in ICU: a Feasibility Study",
         "COMPLETED",
         false
        ],
        [
         "NCT04871035",
         "Immunoadsorption Versus Plasma Exchange for Treatment of Guillain-Barré Syndrome (GBS)",
         "RECRUITING",
         false
        ],
        [
         "NCT04674163",
         "Expression Profile of ERK5 and PKM2 Kinases in Neuroinflammatory Diseases.",
         "WITHDRAWN",
         false
        ],
        [
         "NCT04035135",
         "A Clinical Study of ANX005 and IVIG in Subjects With Guillain Barré Syndrome (GBS)",
         "COMPLETED",
         false
        ],
        [
         "NCT01582763",
         "International Guillain-Barré Syndrome Outcome Study",
         "COMPLETED",
         false
        ],
        [
         "NCT03801135",
         "Changes in Haemostasis After Therapeutic Plasmapheresis With Citrate Anticoagulation",
         "UNKNOWN",
         false
        ],
        [
         "NCT06939634",
         "Evaluation of Usability and Safety of the System Atalante in Patients With High Paraplegia and Tetraplegia",
         "COMPLETED",
         false
        ],
        [
         "NCT05491096",
         "Effects of Proprioceptive Neuromuscular Training on Sensory and Motor Function in Guillain Barre Syndrome",
         "COMPLETED",
         false
        ],
        [
         "NCT06032741",
         "Prognosis in Patients With Guillain-Barre Syndrome",
         "UNKNOWN",
         false
        ],
        [
         "NCT05494619",
         "A Study to Evaluate the Efficacy, Safety, Pharmacokinetics, and Pharmacodynamics of Crovalimab in Participants With Guillain-Barré Syndrome (GBS)",
         "WITHDRAWN",
         false
        ],
        [
         "NCT01469858",
         "Perception and Multisensory Integration in Neurological Patients Using fMRI",
         "UNKNOWN",
         false
        ],
        [
         "NCT06605612",
         "Development and Validation of the FBIndex to Determine the Risk of Falls for Patients with Neuromuscular Disorders",
         "ENROLLING_BY_INVITATION",
         false
        ],
        [
         "NCT06612242",
         "Early vs. Late Tracheostomy in Patients With Guillain -Barre Syndrome",
         "RECRUITING",
         false
        ],
        [
         "NCT05630313",
         "Gene Sequencing as a Strategy for Identifying Genetic Factors Associated With Serious Adverse Events After Covid-19 Vaccines in Use in Brazil",
         "RECRUITING",
         false
        ],
        [
         "NCT03941184",
         "Spontaneous Coronary Artery Dissection (SCAD) and Autoimmunity",
         "COMPLETED",
         false
        ],
        [
         "NCT06940908",
         "Living With Guillain-Barré Syndrome as Children.",
         "RECRUITING",
         false
        ],
        [
         "NCT04053452",
         "Peripheral Nerve Ultrasound for Diagnosis and Prognosis of Guillain-Barre Syndrome",
         "TERMINATED",
         true
        ],
        [
         "NCT04249752",
         "Biomarkers in Polyradiculoneuropathies",
         "UNKNOWN",
         false
        ],
        [
         "NCT02342184",
         "Efficacy and Safety Study of GB-0998 for Guillain-Barré Syndrome",
         "COMPLETED",
         false
        ],
        [
         "NCT05945784",
         "Exploring Accessible Beauty for Individuals With Upper Extremity Deficits",
         "COMPLETED",
         false
        ],
        [
         "NCT05292690",
         "An Assistive Powered Wheelchair: Stage 2 Trial",
         "COMPLETED",
         false
        ],
        [
         "NCT04701164",
         "Efficacy and Safety of ANX005 in Subjects With Guillain-Barré Syndrome",
         "COMPLETED",
         false
        ],
        [
         "NCT00173199",
         "The Changes of Cytokines in Guillain Barré Syndrome: the Correlation With Clinical Manifestations and Skin Innervation",
         "UNKNOWN",
         false
        ],
        [
         "NCT05114941",
         "Comparison of the Efficacy and Safety of Immunoadsorption and Intravenous Immunoglobulin for Guillain-Barre Syndrome",
         "NOT_YET_RECRUITING",
         false
        ],
        [
         "NCT03206541",
         "Neurologic Manifestations of the Arbovirus Infection in Colombia",
         "COMPLETED",
         false
        ],
        [
         "NCT02422875",
         "Comparative Autoantibody and Immunologic Cell Marker Study",
         "ENROLLING_BY_INVITATION",
         false
        ],
        [
         "NCT01370200",
         "Regional Citrate Anticoagulation in Plasma Exchange Treatment",
         "COMPLETED",
         false
        ],
        [
         "NCT06300359",
         "Prognostic Indicators of Gullian-Barre Syndrome",
         "NOT_YET_RECRUITING",
         false
        ],
        [
         "NCT06502015",
         "Biomarkers in Autoimmune Disease of Nervous System",
         "RECRUITING",
         false
        ],
        [
         "NCT02780570",
         "Small Volume Plasma Exchange (SVPE) for Guillain-Barré Syndrome (GBS) Patients",
         "COMPLETED",
         false
        ],
        [
         "NCT02883270",
         "Effects of Robotic-assisted Gait Training In Non-Ambulatory Patients After Guillain-Barré Syndrome",
         "COMPLETED",
         false
        ],
        [
         "NCT02722070",
         "Processing Integration in Neurological Patients Using fMRI",
         "UNKNOWN",
         false
        ],
        [
         "NCT01024088",
         "Prospective Study on Swallowing/Breathing Interactions in Severe Guillain Barre Syndrome.",
         "COMPLETED",
         false
        ],
        [
         "NCT02221271",
         "Phase III Clinical Trial of NPB-01 in Patients With Guillain-Barré Syndrome",
         "COMPLETED",
         false
        ],
        [
         "NCT06740656",
         "Neuromuscular Complications of MEK Inhibitors: a French Case Series and a Systematic Review of the Literature",
         "NOT_YET_RECRUITING",
         false
        ],
        [
         "NCT03826056",
         "Neurology Inpatient Clinical Education Trial",
         "COMPLETED",
         false
        ],
        [
         "NCT04550611",
         "Mini-pool Intravenous Immunoglobulin (MP-IVIG) in Guillain-Barré Syndrome",
         "UNKNOWN",
         false
        ],
        [
         "NCT02029378",
         "Inhibition of Complement Activation (Eculizumab) in Guillain-Barre Syndrome Study",
         "UNKNOWN",
         false
        ],
        [
         "NCT01306578",
         "Intravenous Immunoglobulin (IVIG) Versus Plasma Exchange (PE) for Ventilated Children With Guillain Barre Syndrome (GBS)",
         "COMPLETED",
         false
        ],
        [
         "NCT03710278",
         "The Effectiveness and Safety of Human Lumbar Puncture Assist Device (LPat)",
         "COMPLETED",
         false
        ],
        [
         "NCT03773328",
         "A Clinical Trial of CK0801 (a New Drug) In Patients With Treatment-Resistant Guillain-Barré Syndrome (GBS)",
         "WITHDRAWN",
         false
        ],
        [
         "NCT03840928",
         "PatientSpot Formerly Known as ArthritisPower",
         "RECRUITING",
         false
        ],
        [
         "NCT00004833",
         "Randomized Study of Plasmapheresis or Human Immunoglobulin Infusion in Childhood Guillain-Barre Syndrome",
         "TERMINATED",
         false
        ],
        [
         "NCT06200454",
         "Predictive Value of Neuromuscular Ultrasound of Cranial Nerves in Guillain-Barré Syndrome",
         "NOT_YET_RECRUITING",
         false
        ],
        [
         "NCT04927598",
         "Predictors and Prognostic Factors of Gullian Barrie Syndrome Outcome",
         "COMPLETED",
         false
        ],
        [
         "NCT05461898",
         "RehabGBs: Rehabilitation in People With Guillain-Barré Syndrome",
         "RECRUITING",
         false
        ],
        [
         "NCT02582853",
         "sCD163 as a Potential Biomarker in Guillain- Barré Syndrome",
         "UNKNOWN",
         false
        ],
        [
         "NCT06620198",
         "Upper Limb Robot-Assisted Therapy in Patients with Guillain-Barré Syndrome",
         "ACTIVE_NOT_RECRUITING",
         false
        ],
        [
         "NCT06041451",
         "Early and Late Prognosis in Patients With Guillain-Barre Syndrome",
         "UNKNOWN",
         false
        ],
        [
         "NCT00575653",
         "Safety Study of GBS Following Menactra Meningococcal Vaccination",
         "COMPLETED",
         false
        ]
       ],
       "datasetInfos": [],
       "dbfsResultPath": null,
       "isJsonSchema": true,
       "metadata": {},
       "overflow": false,
       "plotOptions": {
        "customPlotOptions": {},
        "displayType": "table",
        "pivotAggregation": null,
        "pivotColumns": null,
        "xColumns": null,
        "yColumns": null
       },
       "removedWidgets": [],
       "schema": [
        {
         "metadata": "{}",
         "name": "nctId",
         "type": "\"string\""
        },
        {
         "metadata": "{}",
         "name": "briefTitle",
         "type": "\"string\""
        },
        {
         "metadata": "{}",
         "name": "overallStatus",
         "type": "\"string\""
        },
        {
         "metadata": "{}",
         "name": "hasResults",
         "type": "\"boolean\""
        }
       ],
       "type": "table"
      }
     },
     "output_type": "display_data"
    }
   ],
   "source": [
    "# Defining PySpark Schema and Creating Clinical Trials DataFrame\n",
    "from pyspark.sql.types import *\n",
    "\n",
    "clinical_schema = StructType([\n",
    "    StructField(\"nctId\", StringType(), True),\n",
    "    StructField(\"briefTitle\", StringType(), True),\n",
    "    StructField(\"overallStatus\", StringType(), True),\n",
    "    StructField(\"hasResults\", BooleanType(), True)\n",
    "])\n",
    "\n",
    "df_clinical_spark = spark.createDataFrame(trials_list, schema=clinical_schema)\n",
    "display(df_clinical_spark)\n"
   ]
  },
  {
   "cell_type": "code",
   "execution_count": 0,
   "metadata": {
    "application/vnd.databricks.v1+cell": {
     "cellMetadata": {
      "byteLimit": 2048000,
      "rowLimit": 10000
     },
     "inputWidgets": {},
     "nuid": "0aaaf6a3-402c-4082-905a-dce1e58a8758",
     "showTitle": false,
     "tableResultSettingsMap": {},
     "title": ""
    }
   },
   "outputs": [
    {
     "output_type": "display_data",
     "data": {
      "text/html": [
       "<style scoped>\n",
       "  .table-result-container {\n",
       "    max-height: 300px;\n",
       "    overflow: auto;\n",
       "  }\n",
       "  table, th, td {\n",
       "    border: 1px solid black;\n",
       "    border-collapse: collapse;\n",
       "  }\n",
       "  th, td {\n",
       "    padding: 5px;\n",
       "  }\n",
       "  th {\n",
       "    text-align: left;\n",
       "  }\n",
       "</style><div class='table-result-container'><table class='table-result'><thead style='background-color: white'><tr><th>Position</th><th>Title</th><th>Link</th><th>Snippet</th><th>Source</th><th>Displayed Link</th><th>Sitelinks</th></tr></thead><tbody><tr><td>1</td><td>Guillain-Barre syndrome - Symptoms and causes</td><td>https://www.mayoclinic.org/diseases-conditions/guillain-barre-syndrome/symptoms-causes/syc-20362793</td><td>Guillain-Barre syndrome often begins with tingling and weakness starting in the feet and legs and spreading to the upper body and arms. Some ...</td><td>Mayo Clinic</td><td>https://www.mayoclinic.org › ...</td><td></td></tr><tr><td>2</td><td>Guillain-Barré Syndrome (GBS): Symptoms & Treatment</td><td>https://my.clevelandclinic.org/health/diseases/15838-guillain-barre-syndrome</td><td>Guillain-Barré syndrome is a rare autoimmune condition in which your immune system attacks your peripheral nerves. It causes numbness and muscle weakness.</td><td>Cleveland Clinic</td><td>https://my.clevelandclinic.org › ...</td><td></td></tr><tr><td>3</td><td>Guillain-Barré Syndrome</td><td>https://www.ninds.nih.gov/health-information/disorders/guillain-barre-syndrome</td><td>Symptoms of Guillain-Barré syndrome · Difficulty with eye muscles and vision · Difficulty swallowing, speaking, or chewing · Pricking or pins ...</td><td>National Institute of Neurological Disorders and Stroke (.gov)</td><td>https://www.ninds.nih.gov › ...</td><td>{'inline': [{'title': 'What is Guillain-Barré...', 'link': 'https://www.ninds.nih.gov/health-information/disorders/guillain-barre-syndrome#toc-what-is-guillain-barr-syndrome-'}, {'title': 'How is Guillain-Barré...', 'link': 'https://www.ninds.nih.gov/health-information/disorders/guillain-barre-syndrome#toc-how-is-guillain-barr-syndrome-diagnosed-and-treated-'}, {'title': 'What are the latest updates on...', 'link': 'https://www.ninds.nih.gov/health-information/disorders/guillain-barre-syndrome#toc-what-are-the-latest-updates-on-guillain-barr-syndrome-'}]}</td></tr><tr><td>4</td><td>Guillain–Barré syndrome</td><td>https://en.wikipedia.org/wiki/Guillain%E2%80%93Barr%C3%A9_syndrome</td><td>Guillain–Barré syndrome (GBS) is a rapid-onset muscle weakness caused by the immune system damaging the peripheral nervous system.</td><td>Wikipedia</td><td>https://en.wikipedia.org › ...</td><td></td></tr><tr><td>5</td><td>Guillain–Barré syndrome</td><td>https://www.who.int/news-room/fact-sheets/detail/guillain-barr%C3%A9-syndrome</td><td>Guillain-Barré syndrome (GBS) is a rare condition in which a person's immune system attacks the peripheral nerves.</td><td>World Health Organization (WHO)</td><td>https://www.who.int › ...</td><td></td></tr><tr><td>6</td><td>Guillain-Barré Syndrome</td><td>https://www.hopkinsmedicine.org/health/conditions-and-diseases/guillainbarr-syndrome</td><td>Guillain-Barré syndrome (GBS) is a rare neurological disorder in which the body's immune system attacks the peripheral nervous system.</td><td>Johns Hopkins Medicine</td><td>https://www.hopkinsmedicine.org › ...</td><td></td></tr><tr><td>7</td><td>Guillain-Barre syndrome - Diagnosis and treatment</td><td>https://www.mayoclinic.org/diseases-conditions/guillain-barre-syndrome/diagnosis-treatment/drc-20363006</td><td>This rare autoimmune condition affects the nerves, causing weakness and tingling in the arms and legs that quickly spreads throughout the ...</td><td>Mayo Clinic</td><td>https://www.mayoclinic.org › ...</td><td>{'inline': [{'title': 'Symptoms and causes', 'link': 'https://www.mayoclinic.org/diseases-conditions/guillain-barre-syndrome/symptoms-causes/syc-20362793'}, {'title': 'Doctors and departments', 'link': 'https://www.mayoclinic.org/diseases-conditions/guillain-barre-syndrome/doctors-departments/ddc-20363037'}, {'title': 'Care at Mayo Clinic', 'link': 'https://www.mayoclinic.org/diseases-conditions/guillain-barre-syndrome/care-at-mayo-clinic/mac-20363049'}]}</td></tr><tr><td>8</td><td>Guillain-Barre Syndrome</td><td>https://www.physio-pedia.com/Guillain-Barre_Syndrome</td><td>Guillain-Barré syndrome (GBS) is a condition characterised by the autoimmune destruction of the peripheral sensory system.</td><td>Physiopedia</td><td>https://www.physio-pedia.com › ...</td><td>{'inline': [{'title': 'Case Study', 'link': 'https://www.physio-pedia.com/Case_Study:_Guillain-Barre_Syndrome_(Sub-Acute)'}, {'title': 'Acute Motor Axonal...', 'link': 'https://www.physio-pedia.com/Acute_Motor_Axonal_Neuropathy_(AMAN),_a_Variant_of_Guillain-Barre_Syndrome:_A_Case_Study'}, {'title': 'Edit', 'link': 'https://www.physio-pedia.com/Guillain-Barre_Syndrome?veaction=edit'}]}</td></tr><tr><td>9</td><td>Guillain-Barre Syndrome: Practice Essentials, Background, ...</td><td>https://emedicine.medscape.com/article/315632-overview</td><td>Guillain-Barré syndrome (GBS) can be described as a collection of clinical syndromes that manifests as an acute inflammatory ...</td><td>Medscape</td><td>https://emedicine.medscape.com › ...</td><td></td></tr><tr><td>10</td><td>Guillain-Barré Syndrome | Campylobacter</td><td>https://www.cdc.gov/campylobacter/signs-symptoms/guillain-barre-syndrome.html</td><td>Guillain-Barré (Ghee-YAN Bah-RAY) syndrome happens when a person's immune system harms their nerves. This harm causes muscle weakness and ...</td><td>Centers for Disease Control and Prevention | CDC (.gov)</td><td>https://www.cdc.gov › ...</td><td></td></tr><tr><td>1</td><td>Guillain-Barré Syndrome | Campylobacter</td><td>https://www.cdc.gov/campylobacter/signs-symptoms/guillain-barre-syndrome.html</td><td>Guillain-Barré (Ghee-YAN Bah-RAY) syndrome happens when a person's immune system harms their nerves. This harm causes muscle weakness and ...</td><td>Centers for Disease Control and Prevention | CDC (.gov)</td><td>https://www.cdc.gov › ...</td><td></td></tr><tr><td>2</td><td>Guillain-Barré syndrome Information - Mount Sinai</td><td>https://www.mountsinai.org/health-library/diseases-conditions/guillain-barr-syndrome</td><td>GBS damages parts of nerves. This nerve damage causes tingling, muscle weakness, loss of balance, and paralysis. GBS most often affects the nerve covering ( ...</td><td>Mount Sinai</td><td>https://www.mountsinai.org › ...</td><td></td></tr><tr><td>3</td><td>Guillain-Barré Syndrome: Causes, Symptoms, ... - WebMD</td><td>https://www.webmd.com/brain/what-is-guillain-barre</td><td>Guillain-Barré Syndrome (GBS) is a rare disorder in which your immune system suddenly attacks your nerves, often after you've had a stomach ...</td><td>WebMD</td><td>https://www.webmd.com › ...</td><td></td></tr><tr><td>4</td><td>Guillain–Barré syndrome | Nature Reviews Disease Primers</td><td>https://www.nature.com/articles/s41572-024-00580-4</td><td>Guillain–Barré syndrome (GBS) is a rare immune-mediated polyradiculoneuropathy. Patients typically develop rapidly progressive weakness and ...</td><td>Nature</td><td>https://www.nature.com › ...</td><td></td></tr><tr><td>5</td><td>Guillain-Barré syndrome</td><td>https://www.sciencedirect.com/science/article/abs/pii/S0140673621005171</td><td>Guillain-Barré syndrome is an immune-mediated polyradiculoneuropathy that accounts for an estimated 100 000 new cases annually worldwide.1 In ...</td><td>ScienceDirect.com</td><td>https://www.sciencedirect.com › ...</td><td></td></tr><tr><td>6</td><td>Guillain-Barré Syndrome : CONTINUUM</td><td>https://journals.lww.com/continuum/fulltext/2020/10000/guillain_barr__syndrome.6.aspx</td><td>Guillain-Barré syndrome (GBS) encompasses a spectrum of acute neuropathic disorders, with muscle weakness being the cardinal manifestation in the majority of ...</td><td>Lippincott</td><td>https://journals.lww.com › ...</td><td></td></tr><tr><td>7</td><td>Guillain-Barre Syndrome - GBS</td><td>https://medlineplus.gov/guillainbarresyndrome.html</td><td>Guillain-Barre syndrome is a rare disorder that causes your immune system to attack your peripheral nervous system (PNS).</td><td>MedlinePlus (.gov)</td><td>https://medlineplus.gov › ...</td><td></td></tr><tr><td>8</td><td>Guillain-Barré Syndrome (GBS) - Brain, Spinal Cord, and ...</td><td>https://www.msdmanuals.com/home/brain-spinal-cord-and-nerve-disorders/peripheral-nerve-and-related-disorders/guillain-barr%C3%A9-syndrome-gbs</td><td>Guillain-Barré syndrome is a form of polyneuropathy causing muscle weakness, which usually worsens over a few days to weeks, then slowly improves or returns ...</td><td>MSD Manuals</td><td>https://www.msdmanuals.com › ...</td><td></td></tr><tr><td>9</td><td>Guillain-Barré syndrome: Symptoms, causes, diagnosis, ...</td><td>https://www.medicalnewstoday.com/articles/167892</td><td>Guillain-Barré syndrome is a neurological disorder and autoimmune disease that affects the peripheral nervous system. Guillain-Barré syndrome can lead to ...</td><td>Medical News Today</td><td>https://www.medicalnewstoday.com › ...</td><td></td></tr><tr><td>1</td><td>Guillain-Barré syndrome (GBS)</td><td>https://www.healthline.com/health/guillain-barre-syndrome</td><td>The first symptom of Guillain-Barré syndrome is usually a tingling sensation in your toes, feet, and legs. The tingling spreads upward to your arms and fingers.</td><td>Healthline</td><td>https://www.healthline.com › ...</td><td></td></tr><tr><td>2</td><td>Understanding Guillain-Barré Syndrome</td><td>https://www.youtube.com/watch?v=KUEunZYZgII</td><td>26:57 Go to channel Guillain Barre Syndrome (GBS) Treatment, Pathophysiology, Symptoms, Neurology Medicine Lecture USMLE MedNerd - Dr. Waqas Fazal</td><td>YouTube · Zero To Finals</td><td>20 लाख+ व्यू · 4 वर्ष पहले</td><td></td></tr><tr><td>3</td><td>Guillain-Barré Syndrome (GBS) and Vaccines</td><td>https://www.cdc.gov/vaccine-safety/about/guillain-barre.html</td><td>Guillain-Barré syndrome (GBS) is a rare disorder where the body's immune system damages nerve. To study whether a new vaccine might be ...</td><td>Centers for Disease Control and Prevention | CDC (.gov)</td><td>https://www.cdc.gov › ...</td><td></td></tr><tr><td>4</td><td>Diagnosis and management of Guillain–Barré syndrome ...</td><td>https://www.nature.com/articles/s41582-019-0250-9</td><td>Guillain–Barré syndrome (GBS) is a rare, but potentially fatal, immune-mediated disease of the peripheral nerves and nerve roots that is ...</td><td>Nature</td><td>https://www.nature.com › ...</td><td></td></tr><tr><td>5</td><td>Guillain–Barré Syndrome | NEJM</td><td>https://www.nejm.org/doi/full/10.1056/NEJMra1114525</td><td>The Guillain–Barré syndrome is the most frequent cause of acute flaccid paralysis worldwide and constitutes a neurologic emergency.</td><td>The New England Journal of Medicine</td><td>https://www.nejm.org › ...</td><td></td></tr><tr><td>6</td><td>Guillain-Barré syndrome</td><td>https://www.sciencedirect.com/science/article/pii/S0140673621005171</td><td>Guillain-Barré syndrome is an immune-mediated polyradiculoneuropathy that accounts for an estimated 100 000 new cases annually worldwide.</td><td>ScienceDirect.com</td><td>https://www.sciencedirect.com › ...</td><td></td></tr><tr><td>7</td><td>Guillain-Barré Syndrome | Diagnosis & Disease Information</td><td>https://www.pulmonologyadvisor.com/ddi/guillain-barre-syndrome/</td><td>Guillain-Barré syndrome is an autoimmune disorder that results in inflammatory demyelination.1 The condition was first described in 1916 by ...</td><td>Pulmonology Advisor</td><td>https://www.pulmonologyadvisor.com › ...</td><td></td></tr><tr><td>8</td><td>Guillain‐Barré syndrome: a comprehensive review - Bellanti</td><td>https://onlinelibrary.wiley.com/doi/10.1111/ene.16365</td><td>Guillain-Barré syndrome is a postinfectious, immune-mediated peripheral neuropathy. As our knowledge continues to expand, its pathophysiological ...</td><td>Wiley Online Library</td><td>https://onlinelibrary.wiley.com › ...</td><td></td></tr><tr><td>9</td><td>Guillain-Barré Syndrome (GBS)</td><td>https://www.childrenshospital.org/conditions/guillain-barre-syndrome</td><td>Guillain-Barré syndrome (GBS) occurs when the immune system attacks the peripheral nervous system. Learn more from Boston Children's Hospital.</td><td>Boston Children's Hospital</td><td>https://www.childrenshospital.org › ...</td><td></td></tr><tr><td>10</td><td>Guillain–Barré syndrome outbreak in Pune - The Lancet</td><td>https://www.thelancet.com/journals/lancet/article/PIIS0140-6736(25)00414-3/fulltext</td><td>As of March 8, 2025, the total number of Guillain–Barré syndrome cases in Pune was 225, with 197 confirmed diagnoses and 28 suspected cases, ...</td><td>The Lancet</td><td>https://www.thelancet.com › ...</td><td></td></tr><tr><td>1</td><td>Guillain–Barré syndrome outbreak in Pune - The Lancet</td><td>https://www.thelancet.com/journals/lancet/article/PIIS0140-6736(25)00414-3/fulltext</td><td>As of March 8, 2025, the total number of Guillain–Barré syndrome cases in Pune was 225, with 197 confirmed diagnoses and 28 suspected cases, ...</td><td>The Lancet</td><td>https://www.thelancet.com › ...</td><td></td></tr><tr><td>2</td><td>What is Guillain-Barré Syndrome or GBS</td><td>https://www.gbs-cidp.org/gbs/</td><td>GBS is characterized by the rapid onset of numbness, weakness, and often paralysis of the legs, arms, breathing muscles, and face. Paralysis is ascending, ...</td><td>GBS/CIDP Foundation International</td><td>https://www.gbs-cidp.org › ...</td><td></td></tr><tr><td>3</td><td>Guillain-Barré Syndrome - Symptoms, Causes, Treatment</td><td>https://rarediseases.org/rare-diseases/guillain-barre-syndrome/</td><td>Guillain-Barré syndrome (GBS) is a rare, rapidly progressive disease due to inflammation of the nerves causing muscle weakness, sometimes ...</td><td>National Organization for Rare Disorders</td><td>https://rarediseases.org › ...</td><td></td></tr><tr><td>4</td><td>Current treatment practice of Guillain-Barré syndrome</td><td>https://www.neurology.org/doi/10.1212/WNL.0000000000007719</td><td>Plasma exchange (PE) and IV immunoglobulin (IVIg) are the only proven effective treatments for Guillain-Barré syndrome (GBS), although there has been little ...</td><td>Neurology® Journals</td><td>https://www.neurology.org › ...</td><td></td></tr><tr><td>5</td><td>Guillain-Barre syndrome: Video, Causes, & Meaning</td><td>https://www.osmosis.org/learn/Guillain-Barre_syndrome</td><td>The cause of Guillain- Barré syndrome is unknown, but it's known to develop after a bacterial infection, like Campylobacter jejuni and Mycoplasma pneumoniae, or ...</td><td>Osmosis</td><td>https://www.osmosis.org › ...</td><td></td></tr><tr><td>6</td><td>Guillain-Barré Syndrome</td><td>https://www.americanbrainfoundation.org/diseases/guillain-barre-syndrome/</td><td>Guillain-Barré syndrome (GBS) is a rare neurologic disorder in which the body's autoimmune response attacks the peripheral nervous system.</td><td>American Brain Foundation</td><td>https://www.americanbrainfoundation.org › ...</td><td></td></tr><tr><td>7</td><td>Guillain-Barré syndrome in adults: Pathogenesis, clinical ...</td><td>https://www.uptodate.com/contents/guillain-barre-syndrome-in-adults-pathogenesis-clinical-features-and-diagnosis</td><td>Time course of symptoms · Examination findings · - Weakness · - Deep tendon reflexes · - Other findings · Variant forms of Guillain-Barré syndrome.</td><td>Wolters Kluwer</td><td>https://www.uptodate.com › ...</td><td></td></tr><tr><td>8</td><td>Guillain-Barré Syndrome</td><td>https://uvahealth.com/services/neurology/guillain-barre-syndrome</td><td>Guillain-Barré syndrome (GBS) is a rare autoimmune condition that causes the immune system to attack the nerves outside of the brain and spinal cord.</td><td>UVA Health</td><td>https://uvahealth.com › ...</td><td></td></tr><tr><td>9</td><td>Guillain-Barre Syndrome</td><td>https://www.dynamed.com/condition/guillain-barre-syndrome</td><td>Guillain-Barre Syndrome (GBS) is a rare immune-mediated acute polyradiculoneuropathy, usually following an infection or other ...</td><td>DynaMed</td><td>https://www.dynamed.com › ...</td><td></td></tr><tr><td>10</td><td>What is Guillain-Barré Syndrome (GBS)? - By Adhikari Lifeline</td><td>https://www.adhikarilifeline.com/what-is-guillain-barre-syndrome-gbs/</td><td>Guillain-Barré Syndrome (GBS) is a rare but serious neurological disorder in which the body's immune system mistakenly attacks the nervous system.</td><td>adhikarilifeline.com</td><td>https://www.adhikarilifeline.com › ...</td><td></td></tr><tr><td>1</td><td>What is Guillain-Barré Syndrome (GBS)? - By Adhikari Lifeline</td><td>https://www.adhikarilifeline.com/what-is-guillain-barre-syndrome-gbs/</td><td>Guillain-Barré Syndrome (GBS) is a rare but serious neurological disorder in which the body's immune system mistakenly attacks the nervous system.</td><td>adhikarilifeline.com</td><td>https://www.adhikarilifeline.com › ...</td><td></td></tr><tr><td>2</td><td>Guillain-Barré Syndrome</td><td>https://www.mayoclinicproceedings.org/article/S0025-6196(16)30818-7/fulltext</td><td>1. Guillain, G. ∙ Barré, J.A. ∙ Strohl, A. ... The disorder was first described as a “benign” form of limb weakness associated with full recovery, but we now ...</td><td>Mayo Clinic Proceedings</td><td>https://www.mayoclinicproceedings.org › ...</td><td></td></tr><tr><td>3</td><td>Guillain-Barré syndrome: Types, Symptoms, Causes & ...</td><td>https://www.pacehospital.com/guillain-barre-syndrome-symptoms-causes-diagnosis-treatment</td><td>Guillain-Barré syndrome (GBS) in children is an autoimmune disorder where the body's immune system mistakenly attacks the peripheral nervous system. The exact ...</td><td>PACE Hospitals</td><td>https://www.pacehospital.com › ...</td><td></td></tr><tr><td>4</td><td>Guillain Barré Syndrome</td><td>https://www.brainfacts.org/diseases-and-disorders/neurological-disorders-az/diseases-a-to-z-from-ninds/guillain-barr%C3%A9-syndrome</td><td>Guillain-Barré syndrome is a disorder in which the body's immune system attacks part of the peripheral nervous system. The first symptoms of this disorder ...</td><td>BrainFacts</td><td>https://www.brainfacts.org › ...</td><td></td></tr><tr><td>5</td><td>Guillain-Barré Syndrome - Neurology - Highland Hospital</td><td>https://www.urmc.rochester.edu/highland/departments-centers/neurology/conditions-we-treat/guillain-barr</td><td>Guillain-Barré (ghee-yan bah-ray) syndrome is a disorder in which the body's immune system attacks part of the peripheral nervous system.</td><td>University of Rochester Medical Center</td><td>https://www.urmc.rochester.edu › ...</td><td></td></tr><tr><td>6</td><td>Pediatric Guillain-Barré syndrome (GBS) - Dallas</td><td>https://www.childrens.com/specialties-services/conditions/guillain-barre-syndrome</td><td>A typical sign of GBS is muscle weakness, numbness, tingling (pins-and-needle sensation) and occasionally pain, that starts in the feet and legs. These symptoms ...</td><td>Children’s Health</td><td>https://www.childrens.com › ...</td><td></td></tr><tr><td>7</td><td>Guillain-Barre Syndrome: Symptoms, Causes & Treatment</td><td>https://www.blkmaxhospital.com/blogs/guillain-barre-syndrome</td><td>Guillain-Barre Syndrome is a rare but serious neurological disorder that requires immediate medical attention. While most people recover, early ...</td><td>BLK-Max Hospital</td><td>https://www.blkmaxhospital.com › ...</td><td></td></tr><tr><td>8</td><td>Pune's Guillain-Barré Syndrome Epidemic Related to ...</td><td>https://www.vax-before-travel.com/punes-guillain-barr-syndrome-epidemic-related-water-quality-2025-03-10</td><td>Experts have linked these GBS infections with Campylobacter jejuni. This bacteria is one of the most common causes of food poisoning.</td><td>Vax-Before-Travel</td><td>https://www.vax-before-travel.com › ...</td><td></td></tr><tr><td>9</td><td>Guillain-Barre Syndrome (GBS)</td><td>https://www.jeffersonhealth.org/conditions-and-treatments/guillain-barre-syndrome</td><td>We're also involved in researching the underlying causes of GBS and other autoimmune neuromuscular conditions. At Jefferson Health, you can be sure you're ...</td><td>Jefferson Health</td><td>https://www.jeffersonhealth.org › ...</td><td></td></tr><tr><td>10</td><td>Guillain-Barré Syndrome (GBS)</td><td>https://litfl.com/guillain-barre-syndrome-gbs/</td><td>Guillain-Barré Syndrome (GBS) is the most common and most severe acute paralytic neuropathy, consisting of multiple variants with distinct clinical and ...</td><td>Life in the Fast Lane • LITFL</td><td>https://litfl.com › ...</td><td></td></tr><tr><td>1</td><td>Guillain-Barré Syndrome | McGovern Medical School</td><td>https://med.uth.edu/neurosciences/conditions-and-treatments/nerve-disorders/guillain-barre-syndrome/</td><td>Signs Guillain-Barré Syndrome. Initial symptoms may present as pain, weakness, or tingling in the hands or feet. Patients usually experience this in one side of ...</td><td>UTHealth Houston</td><td>https://med.uth.edu › ...</td><td></td></tr><tr><td>2</td><td>Guillain-Barré Syndrome</td><td>https://www.medcomic.com/medcomic/guillain-barre-syndrome</td><td>Guillain-Barré syndrome (GBS) is an acute, inflammatory demyelinating polyneuropathy with ascending muscle weakness that is autoimmune in nature.</td><td>Medcomic</td><td>https://www.medcomic.com › ...</td><td></td></tr><tr><td>3</td><td>Physical Therapy Guide to Guillain-Barré Syndrome</td><td>https://www.choosept.com/guide/physical-therapy-guide-guillain-barre-syndrome</td><td>Physical therapists have extensive training to help people during GBS recovery. They help patients understand how GBS affects their ability to move safely.</td><td>ChoosePT</td><td>https://www.choosept.com › ...</td><td></td></tr><tr><td>4</td><td>Guillain-Barré Syndrome (for Parents)</td><td>https://kidshealth.org/en/parents/gbs.html</td><td>What Are the Signs & Symptoms of Guillain-Barré Syndrome? · tingling or pain in the toes and fingertips · weakness or pain in the legs that causes trouble ...</td><td>KidsHealth</td><td>https://kidshealth.org › ...</td><td></td></tr><tr><td>5</td><td>Guillain Barre Syndrome: Diagnosis, Symptoms & Care</td><td>https://www.gillettechildrens.org/conditions-care/guillain-barre-syndrome</td><td>What is Guillain-Barré syndrome? Guillain-Barré syndrome is an autoimmune disorder in which the body's immune system attacks the nerves. A tingling sensation is ...</td><td>Gillette Children's Hospital</td><td>https://www.gillettechildrens.org › ...</td><td></td></tr><tr><td>6</td><td>What is Guillain-Barre Syndrome (GBS)?</td><td>https://npistanbul.com/en/what-is-guillain-barre-syndrome-gbs</td><td>What is Guillain-Barre Syndrome (GBS)?. Guillain-Barre Syndrome (GBS) is an autoimmune disease in which the immune system attacks the peripheral ...</td><td>NPİSTANBUL</td><td>https://npistanbul.com › ...</td><td></td></tr><tr><td>7</td><td>Guillain-Barre Syndrome</td><td>https://www.advocatehealth.com/health-services/brain-spine-institute/brain-care-center/conditions-treatments/neuromuscular-disorders/guillain-barre</td><td>Physical therapists will work with you to make sure you regain strength and range of motion. It's sobering to realize that some people have permanent nerve ...</td><td>Advocate Health Care</td><td>https://www.advocatehealth.com › ...</td><td></td></tr><tr><td>8</td><td>Guillain-Barre Syndrome - What You Need to Know</td><td>https://www.drugs.com/cg/guillain-barre-syndrome.html</td><td>GBS is a rare condition that causes damage to nerves that control movement and your sense of touch.</td><td>Drugs.com</td><td>https://www.drugs.com › ...</td><td></td></tr><tr><td>9</td><td>Guillain-Barré syndrome notes</td><td>https://app.pulsenotes.com/medicine/neurology/notes/guillain-barre-syndrome</td><td>Overview. Guillain-Barré syndrome is an acute, inflammatory polyneuropathy typically characterised by a progressive, ascending neuropathy resulting in weakness ...</td><td>Pulsenotes</td><td>https://app.pulsenotes.com › ...</td><td></td></tr><tr><td>10</td><td>Guillain-Barre syndrome - Neurology</td><td>https://www.emoryhealthcare.org/conditions/neurology-conditions/guillain-barre-syndrome</td><td>Emory offers full diagnostic and treatment services for Guillain-Barre Syndrome, including electrodiagnosis and nerve and or muscle biopsy and lab ...</td><td>Emory Healthcare</td><td>https://www.emoryhealthcare.org › ...</td><td></td></tr><tr><td>1</td><td>Guillain-Barre syndrome - Neurology</td><td>https://www.emoryhealthcare.org/conditions/neurology-conditions/guillain-barre-syndrome</td><td>Emory offers full diagnostic and treatment services for Guillain-Barre Syndrome, including electrodiagnosis and nerve and or muscle biopsy and lab ...</td><td>Emory Healthcare</td><td>https://www.emoryhealthcare.org › ...</td><td></td></tr><tr><td>2</td><td>GUILLAIN-BARRÉ SYNDROME Definition & Meaning</td><td>https://www.merriam-webster.com/dictionary/Guillain-Barr%C3%A9%20syndrome</td><td>noun ... Note: The cause of Guillain-Barré syndrome is unknown but individuals often experience onset a few weeks after a respiratory or gastrointestinal illness.</td><td>Merriam-Webster</td><td>https://www.merriam-webster.com › ...</td><td></td></tr><tr><td>3</td><td>Guillain-Barre Syndrome</td><td>https://www.aurorahealthcare.org/services/neuroscience/neurology/neurological-conditions/neuromuscular-disorders/guillain-barre</td><td>Although rare, some individuals experience permanent nerve damage, weakness, numbness, fatigue or pain after having Guillain-Barre syndrome. These long-term ...</td><td>Aurora Health Care</td><td>https://www.aurorahealthcare.org › ...</td><td></td></tr><tr><td>4</td><td>Guillain-Barré Syndrome</td><td>https://www.christushealth.org/get-care/services-specialties/neurology/neuromuscular-care/guillain-barre-syndrome</td><td>What is Guillain-Barré Syndrome? In Guillain-Barré syndrome (GBS), the body's immune system attacks the nerves outside the brain and spinal cord (the peripheral ...</td><td>CHRISTUS Health</td><td>https://www.christushealth.org › ...</td><td></td></tr><tr><td>5</td><td>Guillain-Barré Syndrome</td><td>https://memorialhermann.org/services/conditions/guillain-barre-syndrome</td><td>Given the sudden, unexpected onset and the severity of symptoms, GBS can be emotionally and physically devastating for patients and their families. It is often ...</td><td>Memorial Hermann Health System</td><td>https://memorialhermann.org › ...</td><td></td></tr><tr><td>6</td><td>Understanding and Treating Guillain-Barré Syndrome</td><td>https://www.bannerhealth.com/services/neurology/diseases/guillain-barre-syndrome</td><td>What are the symptoms of Guillain-Barré syndrome? · Difficulty with eye movements or double vision · Trouble swallowing, speaking or chewing · Severe cramping, ...</td><td>Banner Health</td><td>https://www.bannerhealth.com › ...</td><td></td></tr><tr><td>7</td><td>About Guillain-Barré Syndrome</td><td>https://www.health.state.mn.us/diseases/gb/basics.html</td><td>Guillain-Barré Syndrome (GBS) is a disease characterized by muscle weakness and sometimes paralysis. GBS can last for weeks to months. Most ...</td><td>MN Dept. of Health</td><td>https://www.health.state.mn.us › ...</td><td></td></tr><tr><td>8</td><td>Guillain-Barre Syndrome (GBS) Symptoms, Treatment & ...</td><td>https://www.emedicinehealth.com/guillain-barre_syndrome/article_em.htm</td><td>Guillain-Barré Syndrome Symptoms · Weakness on both sides of the body may develop with numbness that starts in the legs and progresses into the trunk and moves ...</td><td>eMedicineHealth</td><td>https://www.emedicinehealth.com › ...</td><td></td></tr><tr><td>9</td><td>Guillain-Barré Syndrome (GBS) | NIH</td><td>https://clinicalinfo.hiv.gov/en/glossary/guillain-barre-syndrome-gbs</td><td>Guillain-Barré Syndrome (GBS) pronounce term ... A rare acute neurological disorder in which the immune system mistakenly attacks part of the peripheral nervous ...</td><td>Clinical Info HIV.gov</td><td>https://clinicalinfo.hiv.gov › ...</td><td></td></tr><tr><td>10</td><td>Guillain-Barré Syndrome (GBS): Signs, Causes, Vaccine, ...</td><td>https://www.verywellhealth.com/guillain-barre-syndrome-8387646</td><td>Guillain-Barré syndrome is a rapidly progressive and dangerous nerve disease. It causes severe weakness that begins in the feet and moves up the ...</td><td>Verywell Health</td><td>https://www.verywellhealth.com › ...</td><td></td></tr><tr><td>1</td><td>Guillain-Barre Syndrome (GBS) Symptoms - Baptist Health</td><td>https://www.baptisthealth.com/care-services/conditions-treatments/guillainbarre-syndrome</td><td>It typically begins with a tingling sensation and feelings of weakness in the legs, and progresses quickly to more serious symptoms, including severe cramps, ...</td><td>baptisthealth.com</td><td>https://www.baptisthealth.com › ...</td><td></td></tr><tr><td>2</td><td>Guillain-Barré Syndrome (in Children)</td><td>https://carle.org/conditions/pediatric-conditions/guillain-barre-syndrome</td><td>What Are the Symptoms of Guillain-Barré Syndrome? First symptoms include weakness and tingling in the legs that often spread to the arms and upper body. These ...</td><td>Carle Health</td><td>https://carle.org › ...</td><td></td></tr><tr><td>3</td><td>India faces Guillain-Barré outbreak</td><td>https://avinews.com/en/india-faces-guillain-barre-outbreak/</td><td>India is currently grappling with an alarming outbreak of Guillain-Barré Syndrome (GBS), a rare neurological disorder that can lead to sudden and severe ...</td><td>aviNews</td><td>https://avinews.com › ...</td><td></td></tr><tr><td>4</td><td>Guillain-Barre syndrome (GBS)</td><td>https://gpnotebook.com/pages/infectious-disease/guillain-barre-syndrome-gbs</td><td>Guillain-Barre syndrome (GBS) ... A prodromal malaise with vomiting, headache, fever and limb pains is rapidly surmounted by a progressive and ...</td><td>GPnotebook</td><td>https://gpnotebook.com › ...</td><td></td></tr><tr><td>5</td><td>Guillain–Barre syndrome and link with COVID-19 infection ...</td><td>https://www.frontiersin.org/journals/neurology/articles/10.3389/fneur.2024.1396642/full</td><td>Our study aims to review the literature on GBS and its epidemiological and pathophysiological association with COVID-19.</td><td>Frontiers</td><td>https://www.frontiersin.org › ...</td><td></td></tr><tr><td>6</td><td>Guillain-Barre Syndrome Causes & Symptoms</td><td>https://www.beaumont.org/conditions/guillain-barre-syndrome</td><td>Signs and symptoms. GBS symptoms are characterized by weakness and tingling that is equal on both sides of the body, which usually affects the lower limbs and ...</td><td>Beaumont.org</td><td>https://www.beaumont.org › ...</td><td></td></tr><tr><td>7</td><td>Guillain-Barre syndrome | UCSF Neuromuscular Division</td><td>https://neuromuscular.ucsf.edu/guillain-barre-syndrome</td><td>The UCSF Neuromuscular Clinic provides comprehensive treatment for patients with various neuromuscular diseases, including Guillain-Barre syndrome. The ...</td><td>UC San Francisco</td><td>https://neuromuscular.ucsf.edu › ...</td><td></td></tr><tr><td>8</td><td>Guillain-Barre Syndrome (GBS)</td><td>https://www.yalemedicine.org/clinical-keywords/guillain-barre-syndrome</td><td>Definition. Guillain-Barre syndrome (GBS) is a rare neurological disorder in which the body's immune system mistakenly attacks the peripheral nerves, leading to ...</td><td>Yale Medicine</td><td>https://www.yalemedicine.org › ...</td><td></td></tr><tr><td>9</td><td>Listing: Guillain-Barré Syndrome Resources</td><td>https://www.sralab.org/lifecenter/resources/listing-guillain-barre-syndrome-resources</td><td>The following Guillain-Barré syndrome resources included in this listing provides information from the national and local programs level that focus primarily ...</td><td>Shirley Ryan AbilityLab</td><td>https://www.sralab.org › ...</td><td></td></tr><tr><td>10</td><td>Guillain-Barré Syndrome</td><td>https://uvahealth.com/services/neurology/guillain-barre-syndrome</td><td>GBS Treatment at UVA Health. The GBS-CIDP Foundation has designated UVA as a Center of Excellence, meaning we offer expert diagnosis and management of ...</td><td>UVA Health</td><td>https://uvahealth.com › ...</td><td></td></tr><tr><td>1</td><td>Listing: Guillain-Barré Syndrome Resources</td><td>https://www.sralab.org/lifecenter/resources/listing-guillain-barre-syndrome-resources</td><td>The following Guillain-Barré syndrome resources included in this listing provides information from the national and local programs level that focus primarily ...</td><td>Shirley Ryan AbilityLab</td><td>https://www.sralab.org › ...</td><td></td></tr><tr><td>2</td><td>Guillain-Barré Syndrome</td><td>https://www.templehealth.org/services/conditions/guillain-barre-syndrome</td><td>Symptoms · Abnormal blood pressure — Blood pressure is temporarily affected, and dangerously low pressure can occur. · Bladder incontinence — Some people with ...</td><td>Temple Health</td><td>https://www.templehealth.org › ...</td><td></td></tr><tr><td>3</td><td>When Your Child Has Guillain-Barre Syndrome (GBS)</td><td>https://www.saintlukeskc.org/health-library/when-your-child-has-guillain-barre-syndrome-gbs</td><td>Your child has been diagnosed with Guillain-Barré syndrome (GBS). This is an illness that affects the peripheral nerves, often both the sensory and motor ...</td><td>Saint Luke's Health System Kansas City</td><td>https://www.saintlukeskc.org › ...</td><td></td></tr><tr><td>4</td><td>Guillain-Barré Syndrome vs. Myasthenia Gravis</td><td>https://ameripharmaspecialty.com/myasthenia-gravis/guillain-barre-syndrome-vs-myasthenia-gravis/</td><td>In conclusion, Guillain-barré syndrome and myasthenia gravis are both neurological autoimmune disorders and share some similarities in their ...</td><td>AmeriPharma® Specialty Care</td><td>https://ameripharmaspecialty.com › ...</td><td></td></tr><tr><td>5</td><td>Guillain-Barré Syndrome (GBS) Facts & Resources</td><td>https://www.csl.com/patients-public-health/rare-and-serious-diseases/immunodeficiency-and-autoimmune-diseases/guillain-barre-syndrome</td><td>What is Guillain-Barré Syndrome (GBS)?. Guillain-Barré Syndrome (GBS; pronounced: ghee-YAN bah-RAY) is a rare autoimmune disorder in which the body's immune ...</td><td>Global Biotechnology Company</td><td>https://www.csl.com › ...</td><td></td></tr><tr><td>6</td><td>Guillain-Barré Syndrome (GBS): Symptoms & Treatment - Health</td><td>https://www.health.com/guillain-barre-syndrome-8604619</td><td>Guillain-Barré syndrome (GBS) is an autoimmune disease that usually happens after a viral illness, vaccination, or infection with a specific bacteria called ...</td><td>health.com</td><td>https://www.health.com › ...</td><td></td></tr><tr><td>7</td><td>Guillain-Barré Syndrome</td><td>https://www.childneurologyfoundation.org/disorder/guillain-barre-syndrome/</td><td>The symptoms of GBS usually get worse over the first 2 to 4 weeks. Recovery usually starts after 4 weeks. Symptoms can continue to improve for 6 to 12 months.</td><td>Child Neurology Foundation</td><td>https://www.childneurologyfoundation.org › ...</td><td></td></tr><tr><td>8</td><td>Miller Fisher variant of Guillain-Barre Syndrome</td><td>https://eyewiki.org/Miller_Fisher_variant_of_Guillain-Barre_Syndrome</td><td>Disease Entity · Disease. Miller Fisher syndrome (MFS), also known as Fisher syndrome and the Miller Fisher Variant of Guillain-Barré syndrome, is an autoimmune ...</td><td>EyeWiki</td><td>https://eyewiki.org › ...</td><td></td></tr><tr><td>9</td><td>Guillain Barre Syndrome (GBS)</td><td>https://emcrit.org/ibcc/gbs/</td><td>albuminocytologic dissociation · The classic finding in GBS is albuminocytologic dissociation (elevated protein, despite normal cell count).</td><td>EMCrit Blog</td><td>https://emcrit.org › ...</td><td></td></tr><tr><td>10</td><td>Guillain–Barré Syndrome</td><td>https://iapindia.org/pdf/Ch-053-stg-guillain-barre-syndrome.pdf</td><td>GBS is the most common cause of acute flaccid paralysis in childhood. C linical Signs and Symptoms. ☑ Guillain–Barré syndrome presents with acute onset weakness ...</td><td>Indian Academy of Pediatrics (IAP)</td><td>https://iapindia.org › pdf › Ch-053-stg-guillain-b...</td><td></td></tr><tr><td>1</td><td>Miller Fisher variant of Guillain-Barre Syndrome</td><td>https://eyewiki.org/Miller_Fisher_variant_of_Guillain-Barre_Syndrome</td><td>Disease Entity · Disease. Miller Fisher syndrome (MFS), also known as Fisher syndrome and the Miller Fisher Variant of Guillain-Barré syndrome, is an autoimmune ...</td><td>EyeWiki</td><td>https://eyewiki.org › ...</td><td></td></tr><tr><td>2</td><td>Guillain-Barré syndrome in adults: Treatment and prognosis</td><td>https://www.uptodate.com/contents/guillain-barre-syndrome-in-adults-treatment-and-prognosis</td><td>INTRODUCTION. The acute immune-mediated polyneuropathies are classified under the eponym Guillain-Barré syndrome (GBS), after the authors of ...</td><td>Wolters Kluwer</td><td>https://www.uptodate.com › ...</td><td></td></tr><tr><td>3</td><td>Guillain Barre Syndrome (GBS)</td><td>https://emcrit.org/ibcc/gbs/</td><td>albuminocytologic dissociation · The classic finding in GBS is albuminocytologic dissociation (elevated protein, despite normal cell count).</td><td>EMCrit Blog</td><td>https://emcrit.org › ...</td><td></td></tr><tr><td>4</td><td>Guillain–Barré Syndrome</td><td>https://iapindia.org/pdf/Ch-053-stg-guillain-barre-syndrome.pdf</td><td>GBS is the most common cause of acute flaccid paralysis in childhood. C linical Signs and Symptoms. ☑ Guillain–Barré syndrome presents with acute onset weakness ...</td><td>Indian Academy of Pediatrics (IAP)</td><td>https://iapindia.org › pdf › Ch-053-stg-guillain-b...</td><td></td></tr><tr><td>5</td><td>Guillain-Barré syndrome related to COVID-19 infection</td><td>https://www.neurology.org/doi/10.1212/NXI.0000000000000741</td><td>We want to comment on a similar Guillain- Barré Syndrome (GBS) case following bilateral SARS-CoV2 pneumonia and to highlight the evolution of post-infectious ...</td><td>Neurology® Journals</td><td>https://www.neurology.org › ...</td><td></td></tr><tr><td>6</td><td>Guillain-Barré Syndrome Lawyers and Lawsuits</td><td>https://marlerclark.com/foodborne-illnesses/guillain-barre-syndrome</td><td>We at Marler Clark provide Guillain-Barré syndrome lawyers and information to guide clients in the right direction.</td><td>Marler Clark</td><td>https://marlerclark.com › ...</td><td></td></tr><tr><td>7</td><td>Guillain-Barré Syndrome (GBS) - Neurologic Disorders</td><td>https://www.msdmanuals.com/professional/neurologic-disorders/peripheral-nervous-system-and-motor-unit-disorders/guillain-barr%C3%A9-syndrome-gbs</td><td>(Acute Idiopathic Polyneuritis; Acute Inflammatory Demyelinating Polyradiculoneuropathy) ... Guillain-Barré syndrome is an acute, usually rapidly progressive but ...</td><td>MSD Manuals</td><td>https://www.msdmanuals.com › ...</td><td></td></tr><tr><td>8</td><td>Guillain-Barré Syndrome | Upstate Neurological Institute</td><td>https://www.upstate.edu/neuroinstitute/symptoms-conditions/guillain-barre-syndrome.php</td><td>Symptoms · Weakness and tingling in the legs, arms, and face · Pain in the legs or back · Problems walking or climbing stairs · Problems breathing · Eyesight ...</td><td>SUNY Upstate Medical University</td><td>https://www.upstate.edu › ...</td><td></td></tr><tr><td>9</td><td>A rare paralysis syndrome is spiking in India this year. ...</td><td>https://www.gavi.org/vaccineswork/cases-infection-linked-paralysis-syndrome-have-spiked-india-year-whats-story</td><td>The symptoms of GBS typically begin with weakness, often starting in the legs and progressing upward, or 'ascending paralysis, says Debnath. The ...</td><td>Gavi, the Vaccine Alliance</td><td>https://www.gavi.org › ...</td><td></td></tr><tr><td>10</td><td>Guillain-Barre Syndrome - Neurology</td><td>https://step2.medbullets.com/neurology/120319/guillain-barre-syndrome</td><td>Definition: an immune-mediated polyneuropathy that has many variant forms. Miller Fisher syndrome.</td><td>Medbullets</td><td>https://step2.medbullets.com › ...</td><td></td></tr></tbody></table></div>"
      ]
     },
     "metadata": {
      "application/vnd.databricks.v1+output": {
       "addedWidgets": {},
       "aggData": [],
       "aggError": "",
       "aggOverflow": false,
       "aggSchema": [],
       "aggSeriesLimitReached": false,
       "aggType": "",
       "arguments": {},
       "columnCustomDisplayInfos": {},
       "data": [
        [
         1,
         "Guillain-Barre syndrome - Symptoms and causes",
         "https://www.mayoclinic.org/diseases-conditions/guillain-barre-syndrome/symptoms-causes/syc-20362793",
         "Guillain-Barre syndrome often begins with tingling and weakness starting in the feet and legs and spreading to the upper body and arms. Some ...",
         "Mayo Clinic",
         "https://www.mayoclinic.org › ...",
         ""
        ],
        [
         2,
         "Guillain-Barré Syndrome (GBS): Symptoms & Treatment",
         "https://my.clevelandclinic.org/health/diseases/15838-guillain-barre-syndrome",
         "Guillain-Barré syndrome is a rare autoimmune condition in which your immune system attacks your peripheral nerves. It causes numbness and muscle weakness.",
         "Cleveland Clinic",
         "https://my.clevelandclinic.org › ...",
         ""
        ],
        [
         3,
         "Guillain-Barré Syndrome",
         "https://www.ninds.nih.gov/health-information/disorders/guillain-barre-syndrome",
         "Symptoms of Guillain-Barré syndrome · Difficulty with eye muscles and vision · Difficulty swallowing, speaking, or chewing · Pricking or pins ...",
         "National Institute of Neurological Disorders and Stroke (.gov)",
         "https://www.ninds.nih.gov › ...",
         "{'inline': [{'title': 'What is Guillain-Barré...', 'link': 'https://www.ninds.nih.gov/health-information/disorders/guillain-barre-syndrome#toc-what-is-guillain-barr-syndrome-'}, {'title': 'How is Guillain-Barré...', 'link': 'https://www.ninds.nih.gov/health-information/disorders/guillain-barre-syndrome#toc-how-is-guillain-barr-syndrome-diagnosed-and-treated-'}, {'title': 'What are the latest updates on...', 'link': 'https://www.ninds.nih.gov/health-information/disorders/guillain-barre-syndrome#toc-what-are-the-latest-updates-on-guillain-barr-syndrome-'}]}"
        ],
        [
         4,
         "Guillain–Barré syndrome",
         "https://en.wikipedia.org/wiki/Guillain%E2%80%93Barr%C3%A9_syndrome",
         "Guillain–Barré syndrome (GBS) is a rapid-onset muscle weakness caused by the immune system damaging the peripheral nervous system.",
         "Wikipedia",
         "https://en.wikipedia.org › ...",
         ""
        ],
        [
         5,
         "Guillain–Barré syndrome",
         "https://www.who.int/news-room/fact-sheets/detail/guillain-barr%C3%A9-syndrome",
         "Guillain-Barré syndrome (GBS) is a rare condition in which a person's immune system attacks the peripheral nerves.",
         "World Health Organization (WHO)",
         "https://www.who.int › ...",
         ""
        ],
        [
         6,
         "Guillain-Barré Syndrome",
         "https://www.hopkinsmedicine.org/health/conditions-and-diseases/guillainbarr-syndrome",
         "Guillain-Barré syndrome (GBS) is a rare neurological disorder in which the body's immune system attacks the peripheral nervous system.",
         "Johns Hopkins Medicine",
         "https://www.hopkinsmedicine.org › ...",
         ""
        ],
        [
         7,
         "Guillain-Barre syndrome - Diagnosis and treatment",
         "https://www.mayoclinic.org/diseases-conditions/guillain-barre-syndrome/diagnosis-treatment/drc-20363006",
         "This rare autoimmune condition affects the nerves, causing weakness and tingling in the arms and legs that quickly spreads throughout the ...",
         "Mayo Clinic",
         "https://www.mayoclinic.org › ...",
         "{'inline': [{'title': 'Symptoms and causes', 'link': 'https://www.mayoclinic.org/diseases-conditions/guillain-barre-syndrome/symptoms-causes/syc-20362793'}, {'title': 'Doctors and departments', 'link': 'https://www.mayoclinic.org/diseases-conditions/guillain-barre-syndrome/doctors-departments/ddc-20363037'}, {'title': 'Care at Mayo Clinic', 'link': 'https://www.mayoclinic.org/diseases-conditions/guillain-barre-syndrome/care-at-mayo-clinic/mac-20363049'}]}"
        ],
        [
         8,
         "Guillain-Barre Syndrome",
         "https://www.physio-pedia.com/Guillain-Barre_Syndrome",
         "Guillain-Barré syndrome (GBS) is a condition characterised by the autoimmune destruction of the peripheral sensory system.",
         "Physiopedia",
         "https://www.physio-pedia.com › ...",
         "{'inline': [{'title': 'Case Study', 'link': 'https://www.physio-pedia.com/Case_Study:_Guillain-Barre_Syndrome_(Sub-Acute)'}, {'title': 'Acute Motor Axonal...', 'link': 'https://www.physio-pedia.com/Acute_Motor_Axonal_Neuropathy_(AMAN),_a_Variant_of_Guillain-Barre_Syndrome:_A_Case_Study'}, {'title': 'Edit', 'link': 'https://www.physio-pedia.com/Guillain-Barre_Syndrome?veaction=edit'}]}"
        ],
        [
         9,
         "Guillain-Barre Syndrome: Practice Essentials, Background, ...",
         "https://emedicine.medscape.com/article/315632-overview",
         "Guillain-Barré syndrome (GBS) can be described as a collection of clinical syndromes that manifests as an acute inflammatory ...",
         "Medscape",
         "https://emedicine.medscape.com › ...",
         ""
        ],
        [
         10,
         "Guillain-Barré Syndrome | Campylobacter",
         "https://www.cdc.gov/campylobacter/signs-symptoms/guillain-barre-syndrome.html",
         "Guillain-Barré (Ghee-YAN Bah-RAY) syndrome happens when a person's immune system harms their nerves. This harm causes muscle weakness and ...",
         "Centers for Disease Control and Prevention | CDC (.gov)",
         "https://www.cdc.gov › ...",
         ""
        ],
        [
         1,
         "Guillain-Barré Syndrome | Campylobacter",
         "https://www.cdc.gov/campylobacter/signs-symptoms/guillain-barre-syndrome.html",
         "Guillain-Barré (Ghee-YAN Bah-RAY) syndrome happens when a person's immune system harms their nerves. This harm causes muscle weakness and ...",
         "Centers for Disease Control and Prevention | CDC (.gov)",
         "https://www.cdc.gov › ...",
         ""
        ],
        [
         2,
         "Guillain-Barré syndrome Information - Mount Sinai",
         "https://www.mountsinai.org/health-library/diseases-conditions/guillain-barr-syndrome",
         "GBS damages parts of nerves. This nerve damage causes tingling, muscle weakness, loss of balance, and paralysis. GBS most often affects the nerve covering ( ...",
         "Mount Sinai",
         "https://www.mountsinai.org › ...",
         ""
        ],
        [
         3,
         "Guillain-Barré Syndrome: Causes, Symptoms, ... - WebMD",
         "https://www.webmd.com/brain/what-is-guillain-barre",
         "Guillain-Barré Syndrome (GBS) is a rare disorder in which your immune system suddenly attacks your nerves, often after you've had a stomach ...",
         "WebMD",
         "https://www.webmd.com › ...",
         ""
        ],
        [
         4,
         "Guillain–Barré syndrome | Nature Reviews Disease Primers",
         "https://www.nature.com/articles/s41572-024-00580-4",
         "Guillain–Barré syndrome (GBS) is a rare immune-mediated polyradiculoneuropathy. Patients typically develop rapidly progressive weakness and ...",
         "Nature",
         "https://www.nature.com › ...",
         ""
        ],
        [
         5,
         "Guillain-Barré syndrome",
         "https://www.sciencedirect.com/science/article/abs/pii/S0140673621005171",
         "Guillain-Barré syndrome is an immune-mediated polyradiculoneuropathy that accounts for an estimated 100 000 new cases annually worldwide.1 In ...",
         "ScienceDirect.com",
         "https://www.sciencedirect.com › ...",
         ""
        ],
        [
         6,
         "Guillain-Barré Syndrome : CONTINUUM",
         "https://journals.lww.com/continuum/fulltext/2020/10000/guillain_barr__syndrome.6.aspx",
         "Guillain-Barré syndrome (GBS) encompasses a spectrum of acute neuropathic disorders, with muscle weakness being the cardinal manifestation in the majority of ...",
         "Lippincott",
         "https://journals.lww.com › ...",
         ""
        ],
        [
         7,
         "Guillain-Barre Syndrome - GBS",
         "https://medlineplus.gov/guillainbarresyndrome.html",
         "Guillain-Barre syndrome is a rare disorder that causes your immune system to attack your peripheral nervous system (PNS).",
         "MedlinePlus (.gov)",
         "https://medlineplus.gov › ...",
         ""
        ],
        [
         8,
         "Guillain-Barré Syndrome (GBS) - Brain, Spinal Cord, and ...",
         "https://www.msdmanuals.com/home/brain-spinal-cord-and-nerve-disorders/peripheral-nerve-and-related-disorders/guillain-barr%C3%A9-syndrome-gbs",
         "Guillain-Barré syndrome is a form of polyneuropathy causing muscle weakness, which usually worsens over a few days to weeks, then slowly improves or returns ...",
         "MSD Manuals",
         "https://www.msdmanuals.com › ...",
         ""
        ],
        [
         9,
         "Guillain-Barré syndrome: Symptoms, causes, diagnosis, ...",
         "https://www.medicalnewstoday.com/articles/167892",
         "Guillain-Barré syndrome is a neurological disorder and autoimmune disease that affects the peripheral nervous system. Guillain-Barré syndrome can lead to ...",
         "Medical News Today",
         "https://www.medicalnewstoday.com › ...",
         ""
        ],
        [
         1,
         "Guillain-Barré syndrome (GBS)",
         "https://www.healthline.com/health/guillain-barre-syndrome",
         "The first symptom of Guillain-Barré syndrome is usually a tingling sensation in your toes, feet, and legs. The tingling spreads upward to your arms and fingers.",
         "Healthline",
         "https://www.healthline.com › ...",
         ""
        ],
        [
         2,
         "Understanding Guillain-Barré Syndrome",
         "https://www.youtube.com/watch?v=KUEunZYZgII",
         "26:57 Go to channel Guillain Barre Syndrome (GBS) Treatment, Pathophysiology, Symptoms, Neurology Medicine Lecture USMLE MedNerd - Dr. Waqas Fazal",
         "YouTube · Zero To Finals",
         "20 लाख+ व्यू · 4 वर्ष पहले",
         ""
        ],
        [
         3,
         "Guillain-Barré Syndrome (GBS) and Vaccines",
         "https://www.cdc.gov/vaccine-safety/about/guillain-barre.html",
         "Guillain-Barré syndrome (GBS) is a rare disorder where the body's immune system damages nerve. To study whether a new vaccine might be ...",
         "Centers for Disease Control and Prevention | CDC (.gov)",
         "https://www.cdc.gov › ...",
         ""
        ],
        [
         4,
         "Diagnosis and management of Guillain–Barré syndrome ...",
         "https://www.nature.com/articles/s41582-019-0250-9",
         "Guillain–Barré syndrome (GBS) is a rare, but potentially fatal, immune-mediated disease of the peripheral nerves and nerve roots that is ...",
         "Nature",
         "https://www.nature.com › ...",
         ""
        ],
        [
         5,
         "Guillain–Barré Syndrome | NEJM",
         "https://www.nejm.org/doi/full/10.1056/NEJMra1114525",
         "The Guillain–Barré syndrome is the most frequent cause of acute flaccid paralysis worldwide and constitutes a neurologic emergency.",
         "The New England Journal of Medicine",
         "https://www.nejm.org › ...",
         ""
        ],
        [
         6,
         "Guillain-Barré syndrome",
         "https://www.sciencedirect.com/science/article/pii/S0140673621005171",
         "Guillain-Barré syndrome is an immune-mediated polyradiculoneuropathy that accounts for an estimated 100 000 new cases annually worldwide.",
         "ScienceDirect.com",
         "https://www.sciencedirect.com › ...",
         ""
        ],
        [
         7,
         "Guillain-Barré Syndrome | Diagnosis & Disease Information",
         "https://www.pulmonologyadvisor.com/ddi/guillain-barre-syndrome/",
         "Guillain-Barré syndrome is an autoimmune disorder that results in inflammatory demyelination.1 The condition was first described in 1916 by ...",
         "Pulmonology Advisor",
         "https://www.pulmonologyadvisor.com › ...",
         ""
        ],
        [
         8,
         "Guillain‐Barré syndrome: a comprehensive review - Bellanti",
         "https://onlinelibrary.wiley.com/doi/10.1111/ene.16365",
         "Guillain-Barré syndrome is a postinfectious, immune-mediated peripheral neuropathy. As our knowledge continues to expand, its pathophysiological ...",
         "Wiley Online Library",
         "https://onlinelibrary.wiley.com › ...",
         ""
        ],
        [
         9,
         "Guillain-Barré Syndrome (GBS)",
         "https://www.childrenshospital.org/conditions/guillain-barre-syndrome",
         "Guillain-Barré syndrome (GBS) occurs when the immune system attacks the peripheral nervous system. Learn more from Boston Children's Hospital.",
         "Boston Children's Hospital",
         "https://www.childrenshospital.org › ...",
         ""
        ],
        [
         10,
         "Guillain–Barré syndrome outbreak in Pune - The Lancet",
         "https://www.thelancet.com/journals/lancet/article/PIIS0140-6736(25)00414-3/fulltext",
         "As of March 8, 2025, the total number of Guillain–Barré syndrome cases in Pune was 225, with 197 confirmed diagnoses and 28 suspected cases, ...",
         "The Lancet",
         "https://www.thelancet.com › ...",
         ""
        ],
        [
         1,
         "Guillain–Barré syndrome outbreak in Pune - The Lancet",
         "https://www.thelancet.com/journals/lancet/article/PIIS0140-6736(25)00414-3/fulltext",
         "As of March 8, 2025, the total number of Guillain–Barré syndrome cases in Pune was 225, with 197 confirmed diagnoses and 28 suspected cases, ...",
         "The Lancet",
         "https://www.thelancet.com › ...",
         ""
        ],
        [
         2,
         "What is Guillain-Barré Syndrome or GBS",
         "https://www.gbs-cidp.org/gbs/",
         "GBS is characterized by the rapid onset of numbness, weakness, and often paralysis of the legs, arms, breathing muscles, and face. Paralysis is ascending, ...",
         "GBS/CIDP Foundation International",
         "https://www.gbs-cidp.org › ...",
         ""
        ],
        [
         3,
         "Guillain-Barré Syndrome - Symptoms, Causes, Treatment",
         "https://rarediseases.org/rare-diseases/guillain-barre-syndrome/",
         "Guillain-Barré syndrome (GBS) is a rare, rapidly progressive disease due to inflammation of the nerves causing muscle weakness, sometimes ...",
         "National Organization for Rare Disorders",
         "https://rarediseases.org › ...",
         ""
        ],
        [
         4,
         "Current treatment practice of Guillain-Barré syndrome",
         "https://www.neurology.org/doi/10.1212/WNL.0000000000007719",
         "Plasma exchange (PE) and IV immunoglobulin (IVIg) are the only proven effective treatments for Guillain-Barré syndrome (GBS), although there has been little ...",
         "Neurology® Journals",
         "https://www.neurology.org › ...",
         ""
        ],
        [
         5,
         "Guillain-Barre syndrome: Video, Causes, & Meaning",
         "https://www.osmosis.org/learn/Guillain-Barre_syndrome",
         "The cause of Guillain- Barré syndrome is unknown, but it's known to develop after a bacterial infection, like Campylobacter jejuni and Mycoplasma pneumoniae, or ...",
         "Osmosis",
         "https://www.osmosis.org › ...",
         ""
        ],
        [
         6,
         "Guillain-Barré Syndrome",
         "https://www.americanbrainfoundation.org/diseases/guillain-barre-syndrome/",
         "Guillain-Barré syndrome (GBS) is a rare neurologic disorder in which the body's autoimmune response attacks the peripheral nervous system.",
         "American Brain Foundation",
         "https://www.americanbrainfoundation.org › ...",
         ""
        ],
        [
         7,
         "Guillain-Barré syndrome in adults: Pathogenesis, clinical ...",
         "https://www.uptodate.com/contents/guillain-barre-syndrome-in-adults-pathogenesis-clinical-features-and-diagnosis",
         "Time course of symptoms · Examination findings · - Weakness · - Deep tendon reflexes · - Other findings · Variant forms of Guillain-Barré syndrome.",
         "Wolters Kluwer",
         "https://www.uptodate.com › ...",
         ""
        ],
        [
         8,
         "Guillain-Barré Syndrome",
         "https://uvahealth.com/services/neurology/guillain-barre-syndrome",
         "Guillain-Barré syndrome (GBS) is a rare autoimmune condition that causes the immune system to attack the nerves outside of the brain and spinal cord.",
         "UVA Health",
         "https://uvahealth.com › ...",
         ""
        ],
        [
         9,
         "Guillain-Barre Syndrome",
         "https://www.dynamed.com/condition/guillain-barre-syndrome",
         "Guillain-Barre Syndrome (GBS) is a rare immune-mediated acute polyradiculoneuropathy, usually following an infection or other ...",
         "DynaMed",
         "https://www.dynamed.com › ...",
         ""
        ],
        [
         10,
         "What is Guillain-Barré Syndrome (GBS)? - By Adhikari Lifeline",
         "https://www.adhikarilifeline.com/what-is-guillain-barre-syndrome-gbs/",
         "Guillain-Barré Syndrome (GBS) is a rare but serious neurological disorder in which the body's immune system mistakenly attacks the nervous system.",
         "adhikarilifeline.com",
         "https://www.adhikarilifeline.com › ...",
         ""
        ],
        [
         1,
         "What is Guillain-Barré Syndrome (GBS)? - By Adhikari Lifeline",
         "https://www.adhikarilifeline.com/what-is-guillain-barre-syndrome-gbs/",
         "Guillain-Barré Syndrome (GBS) is a rare but serious neurological disorder in which the body's immune system mistakenly attacks the nervous system.",
         "adhikarilifeline.com",
         "https://www.adhikarilifeline.com › ...",
         ""
        ],
        [
         2,
         "Guillain-Barré Syndrome",
         "https://www.mayoclinicproceedings.org/article/S0025-6196(16)30818-7/fulltext",
         "1. Guillain, G. ∙ Barré, J.A. ∙ Strohl, A. ... The disorder was first described as a “benign” form of limb weakness associated with full recovery, but we now ...",
         "Mayo Clinic Proceedings",
         "https://www.mayoclinicproceedings.org › ...",
         ""
        ],
        [
         3,
         "Guillain-Barré syndrome: Types, Symptoms, Causes & ...",
         "https://www.pacehospital.com/guillain-barre-syndrome-symptoms-causes-diagnosis-treatment",
         "Guillain-Barré syndrome (GBS) in children is an autoimmune disorder where the body's immune system mistakenly attacks the peripheral nervous system. The exact ...",
         "PACE Hospitals",
         "https://www.pacehospital.com › ...",
         ""
        ],
        [
         4,
         "Guillain Barré Syndrome",
         "https://www.brainfacts.org/diseases-and-disorders/neurological-disorders-az/diseases-a-to-z-from-ninds/guillain-barr%C3%A9-syndrome",
         "Guillain-Barré syndrome is a disorder in which the body's immune system attacks part of the peripheral nervous system. The first symptoms of this disorder ...",
         "BrainFacts",
         "https://www.brainfacts.org › ...",
         ""
        ],
        [
         5,
         "Guillain-Barré Syndrome - Neurology - Highland Hospital",
         "https://www.urmc.rochester.edu/highland/departments-centers/neurology/conditions-we-treat/guillain-barr",
         "Guillain-Barré (ghee-yan bah-ray) syndrome is a disorder in which the body's immune system attacks part of the peripheral nervous system.",
         "University of Rochester Medical Center",
         "https://www.urmc.rochester.edu › ...",
         ""
        ],
        [
         6,
         "Pediatric Guillain-Barré syndrome (GBS) - Dallas",
         "https://www.childrens.com/specialties-services/conditions/guillain-barre-syndrome",
         "A typical sign of GBS is muscle weakness, numbness, tingling (pins-and-needle sensation) and occasionally pain, that starts in the feet and legs. These symptoms ...",
         "Children’s Health",
         "https://www.childrens.com › ...",
         ""
        ],
        [
         7,
         "Guillain-Barre Syndrome: Symptoms, Causes & Treatment",
         "https://www.blkmaxhospital.com/blogs/guillain-barre-syndrome",
         "Guillain-Barre Syndrome is a rare but serious neurological disorder that requires immediate medical attention. While most people recover, early ...",
         "BLK-Max Hospital",
         "https://www.blkmaxhospital.com › ...",
         ""
        ],
        [
         8,
         "Pune's Guillain-Barré Syndrome Epidemic Related to ...",
         "https://www.vax-before-travel.com/punes-guillain-barr-syndrome-epidemic-related-water-quality-2025-03-10",
         "Experts have linked these GBS infections with Campylobacter jejuni. This bacteria is one of the most common causes of food poisoning.",
         "Vax-Before-Travel",
         "https://www.vax-before-travel.com › ...",
         ""
        ],
        [
         9,
         "Guillain-Barre Syndrome (GBS)",
         "https://www.jeffersonhealth.org/conditions-and-treatments/guillain-barre-syndrome",
         "We're also involved in researching the underlying causes of GBS and other autoimmune neuromuscular conditions. At Jefferson Health, you can be sure you're ...",
         "Jefferson Health",
         "https://www.jeffersonhealth.org › ...",
         ""
        ],
        [
         10,
         "Guillain-Barré Syndrome (GBS)",
         "https://litfl.com/guillain-barre-syndrome-gbs/",
         "Guillain-Barré Syndrome (GBS) is the most common and most severe acute paralytic neuropathy, consisting of multiple variants with distinct clinical and ...",
         "Life in the Fast Lane • LITFL",
         "https://litfl.com › ...",
         ""
        ],
        [
         1,
         "Guillain-Barré Syndrome | McGovern Medical School",
         "https://med.uth.edu/neurosciences/conditions-and-treatments/nerve-disorders/guillain-barre-syndrome/",
         "Signs Guillain-Barré Syndrome. Initial symptoms may present as pain, weakness, or tingling in the hands or feet. Patients usually experience this in one side of ...",
         "UTHealth Houston",
         "https://med.uth.edu › ...",
         ""
        ],
        [
         2,
         "Guillain-Barré Syndrome",
         "https://www.medcomic.com/medcomic/guillain-barre-syndrome",
         "Guillain-Barré syndrome (GBS) is an acute, inflammatory demyelinating polyneuropathy with ascending muscle weakness that is autoimmune in nature.",
         "Medcomic",
         "https://www.medcomic.com › ...",
         ""
        ],
        [
         3,
         "Physical Therapy Guide to Guillain-Barré Syndrome",
         "https://www.choosept.com/guide/physical-therapy-guide-guillain-barre-syndrome",
         "Physical therapists have extensive training to help people during GBS recovery. They help patients understand how GBS affects their ability to move safely.",
         "ChoosePT",
         "https://www.choosept.com › ...",
         ""
        ],
        [
         4,
         "Guillain-Barré Syndrome (for Parents)",
         "https://kidshealth.org/en/parents/gbs.html",
         "What Are the Signs & Symptoms of Guillain-Barré Syndrome? · tingling or pain in the toes and fingertips · weakness or pain in the legs that causes trouble ...",
         "KidsHealth",
         "https://kidshealth.org › ...",
         ""
        ],
        [
         5,
         "Guillain Barre Syndrome: Diagnosis, Symptoms & Care",
         "https://www.gillettechildrens.org/conditions-care/guillain-barre-syndrome",
         "What is Guillain-Barré syndrome? Guillain-Barré syndrome is an autoimmune disorder in which the body's immune system attacks the nerves. A tingling sensation is ...",
         "Gillette Children's Hospital",
         "https://www.gillettechildrens.org › ...",
         ""
        ],
        [
         6,
         "What is Guillain-Barre Syndrome (GBS)?",
         "https://npistanbul.com/en/what-is-guillain-barre-syndrome-gbs",
         "What is Guillain-Barre Syndrome (GBS)?. Guillain-Barre Syndrome (GBS) is an autoimmune disease in which the immune system attacks the peripheral ...",
         "NPİSTANBUL",
         "https://npistanbul.com › ...",
         ""
        ],
        [
         7,
         "Guillain-Barre Syndrome",
         "https://www.advocatehealth.com/health-services/brain-spine-institute/brain-care-center/conditions-treatments/neuromuscular-disorders/guillain-barre",
         "Physical therapists will work with you to make sure you regain strength and range of motion. It's sobering to realize that some people have permanent nerve ...",
         "Advocate Health Care",
         "https://www.advocatehealth.com › ...",
         ""
        ],
        [
         8,
         "Guillain-Barre Syndrome - What You Need to Know",
         "https://www.drugs.com/cg/guillain-barre-syndrome.html",
         "GBS is a rare condition that causes damage to nerves that control movement and your sense of touch.",
         "Drugs.com",
         "https://www.drugs.com › ...",
         ""
        ],
        [
         9,
         "Guillain-Barré syndrome notes",
         "https://app.pulsenotes.com/medicine/neurology/notes/guillain-barre-syndrome",
         "Overview. Guillain-Barré syndrome is an acute, inflammatory polyneuropathy typically characterised by a progressive, ascending neuropathy resulting in weakness ...",
         "Pulsenotes",
         "https://app.pulsenotes.com › ...",
         ""
        ],
        [
         10,
         "Guillain-Barre syndrome - Neurology",
         "https://www.emoryhealthcare.org/conditions/neurology-conditions/guillain-barre-syndrome",
         "Emory offers full diagnostic and treatment services for Guillain-Barre Syndrome, including electrodiagnosis and nerve and or muscle biopsy and lab ...",
         "Emory Healthcare",
         "https://www.emoryhealthcare.org › ...",
         ""
        ],
        [
         1,
         "Guillain-Barre syndrome - Neurology",
         "https://www.emoryhealthcare.org/conditions/neurology-conditions/guillain-barre-syndrome",
         "Emory offers full diagnostic and treatment services for Guillain-Barre Syndrome, including electrodiagnosis and nerve and or muscle biopsy and lab ...",
         "Emory Healthcare",
         "https://www.emoryhealthcare.org › ...",
         ""
        ],
        [
         2,
         "GUILLAIN-BARRÉ SYNDROME Definition & Meaning",
         "https://www.merriam-webster.com/dictionary/Guillain-Barr%C3%A9%20syndrome",
         "noun ... Note: The cause of Guillain-Barré syndrome is unknown but individuals often experience onset a few weeks after a respiratory or gastrointestinal illness.",
         "Merriam-Webster",
         "https://www.merriam-webster.com › ...",
         ""
        ],
        [
         3,
         "Guillain-Barre Syndrome",
         "https://www.aurorahealthcare.org/services/neuroscience/neurology/neurological-conditions/neuromuscular-disorders/guillain-barre",
         "Although rare, some individuals experience permanent nerve damage, weakness, numbness, fatigue or pain after having Guillain-Barre syndrome. These long-term ...",
         "Aurora Health Care",
         "https://www.aurorahealthcare.org › ...",
         ""
        ],
        [
         4,
         "Guillain-Barré Syndrome",
         "https://www.christushealth.org/get-care/services-specialties/neurology/neuromuscular-care/guillain-barre-syndrome",
         "What is Guillain-Barré Syndrome? In Guillain-Barré syndrome (GBS), the body's immune system attacks the nerves outside the brain and spinal cord (the peripheral ...",
         "CHRISTUS Health",
         "https://www.christushealth.org › ...",
         ""
        ],
        [
         5,
         "Guillain-Barré Syndrome",
         "https://memorialhermann.org/services/conditions/guillain-barre-syndrome",
         "Given the sudden, unexpected onset and the severity of symptoms, GBS can be emotionally and physically devastating for patients and their families. It is often ...",
         "Memorial Hermann Health System",
         "https://memorialhermann.org › ...",
         ""
        ],
        [
         6,
         "Understanding and Treating Guillain-Barré Syndrome",
         "https://www.bannerhealth.com/services/neurology/diseases/guillain-barre-syndrome",
         "What are the symptoms of Guillain-Barré syndrome? · Difficulty with eye movements or double vision · Trouble swallowing, speaking or chewing · Severe cramping, ...",
         "Banner Health",
         "https://www.bannerhealth.com › ...",
         ""
        ],
        [
         7,
         "About Guillain-Barré Syndrome",
         "https://www.health.state.mn.us/diseases/gb/basics.html",
         "Guillain-Barré Syndrome (GBS) is a disease characterized by muscle weakness and sometimes paralysis. GBS can last for weeks to months. Most ...",
         "MN Dept. of Health",
         "https://www.health.state.mn.us › ...",
         ""
        ],
        [
         8,
         "Guillain-Barre Syndrome (GBS) Symptoms, Treatment & ...",
         "https://www.emedicinehealth.com/guillain-barre_syndrome/article_em.htm",
         "Guillain-Barré Syndrome Symptoms · Weakness on both sides of the body may develop with numbness that starts in the legs and progresses into the trunk and moves ...",
         "eMedicineHealth",
         "https://www.emedicinehealth.com › ...",
         ""
        ],
        [
         9,
         "Guillain-Barré Syndrome (GBS) | NIH",
         "https://clinicalinfo.hiv.gov/en/glossary/guillain-barre-syndrome-gbs",
         "Guillain-Barré Syndrome (GBS) pronounce term ... A rare acute neurological disorder in which the immune system mistakenly attacks part of the peripheral nervous ...",
         "Clinical Info HIV.gov",
         "https://clinicalinfo.hiv.gov › ...",
         ""
        ],
        [
         10,
         "Guillain-Barré Syndrome (GBS): Signs, Causes, Vaccine, ...",
         "https://www.verywellhealth.com/guillain-barre-syndrome-8387646",
         "Guillain-Barré syndrome is a rapidly progressive and dangerous nerve disease. It causes severe weakness that begins in the feet and moves up the ...",
         "Verywell Health",
         "https://www.verywellhealth.com › ...",
         ""
        ],
        [
         1,
         "Guillain-Barre Syndrome (GBS) Symptoms - Baptist Health",
         "https://www.baptisthealth.com/care-services/conditions-treatments/guillainbarre-syndrome",
         "It typically begins with a tingling sensation and feelings of weakness in the legs, and progresses quickly to more serious symptoms, including severe cramps, ...",
         "baptisthealth.com",
         "https://www.baptisthealth.com › ...",
         ""
        ],
        [
         2,
         "Guillain-Barré Syndrome (in Children)",
         "https://carle.org/conditions/pediatric-conditions/guillain-barre-syndrome",
         "What Are the Symptoms of Guillain-Barré Syndrome? First symptoms include weakness and tingling in the legs that often spread to the arms and upper body. These ...",
         "Carle Health",
         "https://carle.org › ...",
         ""
        ],
        [
         3,
         "India faces Guillain-Barré outbreak",
         "https://avinews.com/en/india-faces-guillain-barre-outbreak/",
         "India is currently grappling with an alarming outbreak of Guillain-Barré Syndrome (GBS), a rare neurological disorder that can lead to sudden and severe ...",
         "aviNews",
         "https://avinews.com › ...",
         ""
        ],
        [
         4,
         "Guillain-Barre syndrome (GBS)",
         "https://gpnotebook.com/pages/infectious-disease/guillain-barre-syndrome-gbs",
         "Guillain-Barre syndrome (GBS) ... A prodromal malaise with vomiting, headache, fever and limb pains is rapidly surmounted by a progressive and ...",
         "GPnotebook",
         "https://gpnotebook.com › ...",
         ""
        ],
        [
         5,
         "Guillain–Barre syndrome and link with COVID-19 infection ...",
         "https://www.frontiersin.org/journals/neurology/articles/10.3389/fneur.2024.1396642/full",
         "Our study aims to review the literature on GBS and its epidemiological and pathophysiological association with COVID-19.",
         "Frontiers",
         "https://www.frontiersin.org › ...",
         ""
        ],
        [
         6,
         "Guillain-Barre Syndrome Causes & Symptoms",
         "https://www.beaumont.org/conditions/guillain-barre-syndrome",
         "Signs and symptoms. GBS symptoms are characterized by weakness and tingling that is equal on both sides of the body, which usually affects the lower limbs and ...",
         "Beaumont.org",
         "https://www.beaumont.org › ...",
         ""
        ],
        [
         7,
         "Guillain-Barre syndrome | UCSF Neuromuscular Division",
         "https://neuromuscular.ucsf.edu/guillain-barre-syndrome",
         "The UCSF Neuromuscular Clinic provides comprehensive treatment for patients with various neuromuscular diseases, including Guillain-Barre syndrome. The ...",
         "UC San Francisco",
         "https://neuromuscular.ucsf.edu › ...",
         ""
        ],
        [
         8,
         "Guillain-Barre Syndrome (GBS)",
         "https://www.yalemedicine.org/clinical-keywords/guillain-barre-syndrome",
         "Definition. Guillain-Barre syndrome (GBS) is a rare neurological disorder in which the body's immune system mistakenly attacks the peripheral nerves, leading to ...",
         "Yale Medicine",
         "https://www.yalemedicine.org › ...",
         ""
        ],
        [
         9,
         "Listing: Guillain-Barré Syndrome Resources",
         "https://www.sralab.org/lifecenter/resources/listing-guillain-barre-syndrome-resources",
         "The following Guillain-Barré syndrome resources included in this listing provides information from the national and local programs level that focus primarily ...",
         "Shirley Ryan AbilityLab",
         "https://www.sralab.org › ...",
         ""
        ],
        [
         10,
         "Guillain-Barré Syndrome",
         "https://uvahealth.com/services/neurology/guillain-barre-syndrome",
         "GBS Treatment at UVA Health. The GBS-CIDP Foundation has designated UVA as a Center of Excellence, meaning we offer expert diagnosis and management of ...",
         "UVA Health",
         "https://uvahealth.com › ...",
         ""
        ],
        [
         1,
         "Listing: Guillain-Barré Syndrome Resources",
         "https://www.sralab.org/lifecenter/resources/listing-guillain-barre-syndrome-resources",
         "The following Guillain-Barré syndrome resources included in this listing provides information from the national and local programs level that focus primarily ...",
         "Shirley Ryan AbilityLab",
         "https://www.sralab.org › ...",
         ""
        ],
        [
         2,
         "Guillain-Barré Syndrome",
         "https://www.templehealth.org/services/conditions/guillain-barre-syndrome",
         "Symptoms · Abnormal blood pressure — Blood pressure is temporarily affected, and dangerously low pressure can occur. · Bladder incontinence — Some people with ...",
         "Temple Health",
         "https://www.templehealth.org › ...",
         ""
        ],
        [
         3,
         "When Your Child Has Guillain-Barre Syndrome (GBS)",
         "https://www.saintlukeskc.org/health-library/when-your-child-has-guillain-barre-syndrome-gbs",
         "Your child has been diagnosed with Guillain-Barré syndrome (GBS). This is an illness that affects the peripheral nerves, often both the sensory and motor ...",
         "Saint Luke's Health System Kansas City",
         "https://www.saintlukeskc.org › ...",
         ""
        ],
        [
         4,
         "Guillain-Barré Syndrome vs. Myasthenia Gravis",
         "https://ameripharmaspecialty.com/myasthenia-gravis/guillain-barre-syndrome-vs-myasthenia-gravis/",
         "In conclusion, Guillain-barré syndrome and myasthenia gravis are both neurological autoimmune disorders and share some similarities in their ...",
         "AmeriPharma® Specialty Care",
         "https://ameripharmaspecialty.com › ...",
         ""
        ],
        [
         5,
         "Guillain-Barré Syndrome (GBS) Facts & Resources",
         "https://www.csl.com/patients-public-health/rare-and-serious-diseases/immunodeficiency-and-autoimmune-diseases/guillain-barre-syndrome",
         "What is Guillain-Barré Syndrome (GBS)?. Guillain-Barré Syndrome (GBS; pronounced: ghee-YAN bah-RAY) is a rare autoimmune disorder in which the body's immune ...",
         "Global Biotechnology Company",
         "https://www.csl.com › ...",
         ""
        ],
        [
         6,
         "Guillain-Barré Syndrome (GBS): Symptoms & Treatment - Health",
         "https://www.health.com/guillain-barre-syndrome-8604619",
         "Guillain-Barré syndrome (GBS) is an autoimmune disease that usually happens after a viral illness, vaccination, or infection with a specific bacteria called ...",
         "health.com",
         "https://www.health.com › ...",
         ""
        ],
        [
         7,
         "Guillain-Barré Syndrome",
         "https://www.childneurologyfoundation.org/disorder/guillain-barre-syndrome/",
         "The symptoms of GBS usually get worse over the first 2 to 4 weeks. Recovery usually starts after 4 weeks. Symptoms can continue to improve for 6 to 12 months.",
         "Child Neurology Foundation",
         "https://www.childneurologyfoundation.org › ...",
         ""
        ],
        [
         8,
         "Miller Fisher variant of Guillain-Barre Syndrome",
         "https://eyewiki.org/Miller_Fisher_variant_of_Guillain-Barre_Syndrome",
         "Disease Entity · Disease. Miller Fisher syndrome (MFS), also known as Fisher syndrome and the Miller Fisher Variant of Guillain-Barré syndrome, is an autoimmune ...",
         "EyeWiki",
         "https://eyewiki.org › ...",
         ""
        ],
        [
         9,
         "Guillain Barre Syndrome (GBS)",
         "https://emcrit.org/ibcc/gbs/",
         "albuminocytologic dissociation · The classic finding in GBS is albuminocytologic dissociation (elevated protein, despite normal cell count).",
         "EMCrit Blog",
         "https://emcrit.org › ...",
         ""
        ],
        [
         10,
         "Guillain–Barré Syndrome",
         "https://iapindia.org/pdf/Ch-053-stg-guillain-barre-syndrome.pdf",
         "GBS is the most common cause of acute flaccid paralysis in childhood. C linical Signs and Symptoms. ☑ Guillain–Barré syndrome presents with acute onset weakness ...",
         "Indian Academy of Pediatrics (IAP)",
         "https://iapindia.org › pdf › Ch-053-stg-guillain-b...",
         ""
        ],
        [
         1,
         "Miller Fisher variant of Guillain-Barre Syndrome",
         "https://eyewiki.org/Miller_Fisher_variant_of_Guillain-Barre_Syndrome",
         "Disease Entity · Disease. Miller Fisher syndrome (MFS), also known as Fisher syndrome and the Miller Fisher Variant of Guillain-Barré syndrome, is an autoimmune ...",
         "EyeWiki",
         "https://eyewiki.org › ...",
         ""
        ],
        [
         2,
         "Guillain-Barré syndrome in adults: Treatment and prognosis",
         "https://www.uptodate.com/contents/guillain-barre-syndrome-in-adults-treatment-and-prognosis",
         "INTRODUCTION. The acute immune-mediated polyneuropathies are classified under the eponym Guillain-Barré syndrome (GBS), after the authors of ...",
         "Wolters Kluwer",
         "https://www.uptodate.com › ...",
         ""
        ],
        [
         3,
         "Guillain Barre Syndrome (GBS)",
         "https://emcrit.org/ibcc/gbs/",
         "albuminocytologic dissociation · The classic finding in GBS is albuminocytologic dissociation (elevated protein, despite normal cell count).",
         "EMCrit Blog",
         "https://emcrit.org › ...",
         ""
        ],
        [
         4,
         "Guillain–Barré Syndrome",
         "https://iapindia.org/pdf/Ch-053-stg-guillain-barre-syndrome.pdf",
         "GBS is the most common cause of acute flaccid paralysis in childhood. C linical Signs and Symptoms. ☑ Guillain–Barré syndrome presents with acute onset weakness ...",
         "Indian Academy of Pediatrics (IAP)",
         "https://iapindia.org › pdf › Ch-053-stg-guillain-b...",
         ""
        ],
        [
         5,
         "Guillain-Barré syndrome related to COVID-19 infection",
         "https://www.neurology.org/doi/10.1212/NXI.0000000000000741",
         "We want to comment on a similar Guillain- Barré Syndrome (GBS) case following bilateral SARS-CoV2 pneumonia and to highlight the evolution of post-infectious ...",
         "Neurology® Journals",
         "https://www.neurology.org › ...",
         ""
        ],
        [
         6,
         "Guillain-Barré Syndrome Lawyers and Lawsuits",
         "https://marlerclark.com/foodborne-illnesses/guillain-barre-syndrome",
         "We at Marler Clark provide Guillain-Barré syndrome lawyers and information to guide clients in the right direction.",
         "Marler Clark",
         "https://marlerclark.com › ...",
         ""
        ],
        [
         7,
         "Guillain-Barré Syndrome (GBS) - Neurologic Disorders",
         "https://www.msdmanuals.com/professional/neurologic-disorders/peripheral-nervous-system-and-motor-unit-disorders/guillain-barr%C3%A9-syndrome-gbs",
         "(Acute Idiopathic Polyneuritis; Acute Inflammatory Demyelinating Polyradiculoneuropathy) ... Guillain-Barré syndrome is an acute, usually rapidly progressive but ...",
         "MSD Manuals",
         "https://www.msdmanuals.com › ...",
         ""
        ],
        [
         8,
         "Guillain-Barré Syndrome | Upstate Neurological Institute",
         "https://www.upstate.edu/neuroinstitute/symptoms-conditions/guillain-barre-syndrome.php",
         "Symptoms · Weakness and tingling in the legs, arms, and face · Pain in the legs or back · Problems walking or climbing stairs · Problems breathing · Eyesight ...",
         "SUNY Upstate Medical University",
         "https://www.upstate.edu › ...",
         ""
        ],
        [
         9,
         "A rare paralysis syndrome is spiking in India this year. ...",
         "https://www.gavi.org/vaccineswork/cases-infection-linked-paralysis-syndrome-have-spiked-india-year-whats-story",
         "The symptoms of GBS typically begin with weakness, often starting in the legs and progressing upward, or 'ascending paralysis, says Debnath. The ...",
         "Gavi, the Vaccine Alliance",
         "https://www.gavi.org › ...",
         ""
        ],
        [
         10,
         "Guillain-Barre Syndrome - Neurology",
         "https://step2.medbullets.com/neurology/120319/guillain-barre-syndrome",
         "Definition: an immune-mediated polyneuropathy that has many variant forms. Miller Fisher syndrome.",
         "Medbullets",
         "https://step2.medbullets.com › ...",
         ""
        ]
       ],
       "datasetInfos": [],
       "dbfsResultPath": null,
       "isJsonSchema": true,
       "metadata": {},
       "overflow": false,
       "plotOptions": {
        "customPlotOptions": {},
        "displayType": "table",
        "pivotAggregation": null,
        "pivotColumns": null,
        "xColumns": null,
        "yColumns": null
       },
       "removedWidgets": [],
       "schema": [
        {
         "metadata": "{}",
         "name": "Position",
         "type": "\"integer\""
        },
        {
         "metadata": "{}",
         "name": "Title",
         "type": "\"string\""
        },
        {
         "metadata": "{}",
         "name": "Link",
         "type": "\"string\""
        },
        {
         "metadata": "{}",
         "name": "Snippet",
         "type": "\"string\""
        },
        {
         "metadata": "{}",
         "name": "Source",
         "type": "\"string\""
        },
        {
         "metadata": "{}",
         "name": "Displayed Link",
         "type": "\"string\""
        },
        {
         "metadata": "{}",
         "name": "Sitelinks",
         "type": "\"string\""
        }
       ],
       "type": "table"
      }
     },
     "output_type": "display_data"
    }
   ],
   "source": [
    "# Defining PySpark Schema and Creating Google Search Results DataFrame\n",
    "\n",
    "from pyspark.sql.types import *\n",
    "\n",
    "serpapi_schema = StructType([\n",
    "    StructField(\"Position\", IntegerType(), True),\n",
    "    StructField(\"Title\", StringType(), True),\n",
    "    StructField(\"Link\", StringType(), True),\n",
    "    StructField(\"Snippet\", StringType(), True),\n",
    "    StructField(\"Source\", StringType(), True),\n",
    "    StructField(\"Displayed Link\", StringType(), True),\n",
    "    StructField(\"Sitelinks\", StringType(), True)\n",
    "])\n",
    "\n",
    "df_serpapi_spark = spark.createDataFrame(df_serpapi, schema=serpapi_schema)\n",
    "display(df_serpapi_spark)\n"
   ]
  },
  {
   "cell_type": "markdown",
   "metadata": {
    "application/vnd.databricks.v1+cell": {
     "cellMetadata": {
      "byteLimit": 2048000,
      "rowLimit": 10000
     },
     "inputWidgets": {},
     "nuid": "e046e4fc-1ae7-41f6-a24d-541999fd3327",
     "showTitle": false,
     "tableResultSettingsMap": {},
     "title": ""
    }
   },
   "source": [
    "**Cleaning and Preparation of Clinical Trials Data**"
   ]
  },
  {
   "cell_type": "code",
   "execution_count": 0,
   "metadata": {
    "application/vnd.databricks.v1+cell": {
     "cellMetadata": {
      "byteLimit": 2048000,
      "rowLimit": 10000
     },
     "inputWidgets": {},
     "nuid": "685304c5-8620-47bb-b615-eb125e6b0ac0",
     "showTitle": false,
     "tableResultSettingsMap": {},
     "title": ""
    }
   },
   "outputs": [
    {
     "output_type": "display_data",
     "data": {
      "text/html": [
       "<style scoped>\n",
       "  .table-result-container {\n",
       "    max-height: 300px;\n",
       "    overflow: auto;\n",
       "  }\n",
       "  table, th, td {\n",
       "    border: 1px solid black;\n",
       "    border-collapse: collapse;\n",
       "  }\n",
       "  th, td {\n",
       "    padding: 5px;\n",
       "  }\n",
       "  th {\n",
       "    text-align: left;\n",
       "  }\n",
       "</style><div class='table-result-container'><table class='table-result'><thead style='background-color: white'><tr><th>summary</th><th>nctId</th><th>briefTitle</th><th>overallStatus</th></tr></thead><tbody><tr><td>count</td><td>76</td><td>76</td><td>76</td></tr><tr><td>mean</td><td>null</td><td>null</td><td>null</td></tr><tr><td>stddev</td><td>null</td><td>null</td><td>null</td></tr><tr><td>min</td><td>NCT00004833</td><td>A Clinical Study of ANX005 and IVIG in Subjects With Guillain Barré Syndrome (GBS)</td><td>ACTIVE_NOT_RECRUITING</td></tr><tr><td>max</td><td>NCT06940908</td><td>sCD163 as a Potential Biomarker in Guillain- Barré Syndrome</td><td>WITHDRAWN</td></tr></tbody></table></div>"
      ]
     },
     "metadata": {
      "application/vnd.databricks.v1+output": {
       "addedWidgets": {},
       "aggData": [],
       "aggError": "",
       "aggOverflow": false,
       "aggSchema": [],
       "aggSeriesLimitReached": false,
       "aggType": "",
       "arguments": {},
       "columnCustomDisplayInfos": {},
       "data": [
        [
         "count",
         "76",
         "76",
         "76"
        ],
        [
         "mean",
         null,
         null,
         null
        ],
        [
         "stddev",
         null,
         null,
         null
        ],
        [
         "min",
         "NCT00004833",
         "A Clinical Study of ANX005 and IVIG in Subjects With Guillain Barré Syndrome (GBS)",
         "ACTIVE_NOT_RECRUITING"
        ],
        [
         "max",
         "NCT06940908",
         "sCD163 as a Potential Biomarker in Guillain- Barré Syndrome",
         "WITHDRAWN"
        ]
       ],
       "datasetInfos": [],
       "dbfsResultPath": null,
       "isJsonSchema": true,
       "metadata": {},
       "overflow": false,
       "plotOptions": {
        "customPlotOptions": {},
        "displayType": "table",
        "pivotAggregation": null,
        "pivotColumns": null,
        "xColumns": null,
        "yColumns": null
       },
       "removedWidgets": [],
       "schema": [
        {
         "metadata": "{}",
         "name": "summary",
         "type": "\"string\""
        },
        {
         "metadata": "{}",
         "name": "nctId",
         "type": "\"string\""
        },
        {
         "metadata": "{}",
         "name": "briefTitle",
         "type": "\"string\""
        },
        {
         "metadata": "{}",
         "name": "overallStatus",
         "type": "\"string\""
        }
       ],
       "type": "table"
      }
     },
     "output_type": "display_data"
    }
   ],
   "source": [
    "# Clinical Trials Data Summary Statistics\n",
    "display(df_clinical_spark.describe())"
   ]
  },
  {
   "cell_type": "code",
   "execution_count": 0,
   "metadata": {
    "application/vnd.databricks.v1+cell": {
     "cellMetadata": {
      "byteLimit": 2048000,
      "rowLimit": 10000
     },
     "inputWidgets": {},
     "nuid": "e56f9fb0-7b66-4fb2-8265-7c54990a0d8a",
     "showTitle": false,
     "tableResultSettingsMap": {},
     "title": ""
    }
   },
   "outputs": [
    {
     "output_type": "stream",
     "name": "stdout",
     "output_type": "stream",
     "text": [
      "root\n |-- nctId: string (nullable = true)\n |-- briefTitle: string (nullable = true)\n |-- overallStatus: string (nullable = true)\n |-- hasResults: boolean (nullable = true)\n\n"
     ]
    }
   ],
   "source": [
    "# Print Schema of Clinical Trials DataFrame\n",
    "df_clinical_spark.printSchema()"
   ]
  },
  {
   "cell_type": "code",
   "execution_count": 0,
   "metadata": {
    "application/vnd.databricks.v1+cell": {
     "cellMetadata": {
      "byteLimit": 2048000,
      "rowLimit": 10000
     },
     "inputWidgets": {},
     "nuid": "bd408392-234c-42a0-937a-0f25cf2c5d47",
     "showTitle": false,
     "tableResultSettingsMap": {},
     "title": ""
    }
   },
   "outputs": [
    {
     "output_type": "display_data",
     "data": {
      "text/html": [
       "<style scoped>\n",
       "  .table-result-container {\n",
       "    max-height: 300px;\n",
       "    overflow: auto;\n",
       "  }\n",
       "  table, th, td {\n",
       "    border: 1px solid black;\n",
       "    border-collapse: collapse;\n",
       "  }\n",
       "  th, td {\n",
       "    padding: 5px;\n",
       "  }\n",
       "  th {\n",
       "    text-align: left;\n",
       "  }\n",
       "</style><div class='table-result-container'><table class='table-result'><thead style='background-color: white'><tr><th>nctId</th><th>briefTitle</th><th>overallStatus</th><th>hasResults</th></tr></thead><tbody><tr><td>0</td><td>0</td><td>0</td><td>0</td></tr></tbody></table></div>"
      ]
     },
     "metadata": {
      "application/vnd.databricks.v1+output": {
       "addedWidgets": {},
       "aggData": [],
       "aggError": "",
       "aggOverflow": false,
       "aggSchema": [],
       "aggSeriesLimitReached": false,
       "aggType": "",
       "arguments": {},
       "columnCustomDisplayInfos": {},
       "data": [
        [
         0,
         0,
         0,
         0
        ]
       ],
       "datasetInfos": [],
       "dbfsResultPath": null,
       "isJsonSchema": true,
       "metadata": {},
       "overflow": false,
       "plotOptions": {
        "customPlotOptions": {},
        "displayType": "table",
        "pivotAggregation": null,
        "pivotColumns": null,
        "xColumns": null,
        "yColumns": null
       },
       "removedWidgets": [],
       "schema": [
        {
         "metadata": "{}",
         "name": "nctId",
         "type": "\"long\""
        },
        {
         "metadata": "{}",
         "name": "briefTitle",
         "type": "\"long\""
        },
        {
         "metadata": "{}",
         "name": "overallStatus",
         "type": "\"long\""
        },
        {
         "metadata": "{}",
         "name": "hasResults",
         "type": "\"long\""
        }
       ],
       "type": "table"
      }
     },
     "output_type": "display_data"
    }
   ],
   "source": [
    "# Check for Null Values in Clinical Trials DataFrame Columns\n",
    "\n",
    "import pyspark.sql.functions as p\n",
    "df_clinical_spark.select([\n",
    "    p.count(p.when(p.col(c).isNull(), c)).alias(c) for c in df_clinical_spark.columns\n",
    "]).display()\n"
   ]
  },
  {
   "cell_type": "code",
   "execution_count": 0,
   "metadata": {
    "application/vnd.databricks.v1+cell": {
     "cellMetadata": {
      "byteLimit": 2048000,
      "rowLimit": 10000
     },
     "inputWidgets": {},
     "nuid": "cfccf9f7-f88d-4ece-b6e1-2be65e3b29b7",
     "showTitle": false,
     "tableResultSettingsMap": {},
     "title": ""
    }
   },
   "outputs": [
    {
     "output_type": "stream",
     "name": "stdout",
     "output_type": "stream",
     "text": [
      "Duplicates in Clinical Data:\nOut[10]: 0"
     ]
    }
   ],
   "source": [
    "# Check for Duplicate Rows in Clinical Trials DataFrame\n",
    "\n",
    "print(\"Duplicates in Clinical Data:\")\n",
    "df_clinical_spark.count() - df_clinical_spark.dropDuplicates().count()\n"
   ]
  },
  {
   "cell_type": "markdown",
   "metadata": {
    "application/vnd.databricks.v1+cell": {
     "cellMetadata": {
      "byteLimit": 2048000,
      "rowLimit": 10000
     },
     "inputWidgets": {},
     "nuid": "f17f24d8-20ed-42ae-8ae3-61dd97456fa0",
     "showTitle": false,
     "tableResultSettingsMap": {},
     "title": ""
    }
   },
   "source": [
    "**Cleaning and Preparation of Google Search Results Data**"
   ]
  },
  {
   "cell_type": "code",
   "execution_count": 0,
   "metadata": {
    "application/vnd.databricks.v1+cell": {
     "cellMetadata": {
      "byteLimit": 2048000,
      "rowLimit": 10000
     },
     "inputWidgets": {},
     "nuid": "4ec3ab3b-6e81-4374-9fb8-3140c29a7c72",
     "showTitle": false,
     "tableResultSettingsMap": {},
     "title": ""
    }
   },
   "outputs": [
    {
     "output_type": "display_data",
     "data": {
      "text/html": [
       "<style scoped>\n",
       "  .table-result-container {\n",
       "    max-height: 300px;\n",
       "    overflow: auto;\n",
       "  }\n",
       "  table, th, td {\n",
       "    border: 1px solid black;\n",
       "    border-collapse: collapse;\n",
       "  }\n",
       "  th, td {\n",
       "    padding: 5px;\n",
       "  }\n",
       "  th {\n",
       "    text-align: left;\n",
       "  }\n",
       "</style><div class='table-result-container'><table class='table-result'><thead style='background-color: white'><tr><th>summary</th><th>Position</th><th>Title</th><th>Link</th><th>Snippet</th><th>Source</th><th>Displayed Link</th><th>Sitelinks</th></tr></thead><tbody><tr><td>count</td><td>99</td><td>99</td><td>99</td><td>99</td><td>99</td><td>99</td><td>99</td></tr><tr><td>mean</td><td>5.454545454545454</td><td>null</td><td>null</td><td>null</td><td>null</td><td>null</td><td>null</td></tr><tr><td>stddev</td><td>2.865248243235092</td><td>null</td><td>null</td><td>null</td><td>null</td><td>null</td><td>null</td></tr><tr><td>min</td><td>1</td><td>A rare paralysis syndrome is spiking in India this year. ...</td><td>https://ameripharmaspecialty.com/myasthenia-gravis/guillain-barre-syndrome-vs-myasthenia-gravis/</td><td>(Acute Idiopathic Polyneuritis; Acute Inflammatory Demyelinating Polyradiculoneuropathy) ... Guillain-Barré syndrome is an acute, usually rapidly progressive but ...</td><td>Advocate Health Care</td><td>20 लाख+ व्यू · 4 वर्ष पहले</td><td></td></tr><tr><td>max</td><td>10</td><td>When Your Child Has Guillain-Barre Syndrome (GBS)</td><td>https://www.youtube.com/watch?v=KUEunZYZgII</td><td>noun ... Note: The cause of Guillain-Barré syndrome is unknown but individuals often experience onset a few weeks after a respiratory or gastrointestinal illness.</td><td>health.com</td><td>https://www.yalemedicine.org › ...</td><td>{'inline': [{'title': 'What is Guillain-Barré...', 'link': 'https://www.ninds.nih.gov/health-information/disorders/guillain-barre-syndrome#toc-what-is-guillain-barr-syndrome-'}, {'title': 'How is Guillain-Barré...', 'link': 'https://www.ninds.nih.gov/health-information/disorders/guillain-barre-syndrome#toc-how-is-guillain-barr-syndrome-diagnosed-and-treated-'}, {'title': 'What are the latest updates on...', 'link': 'https://www.ninds.nih.gov/health-information/disorders/guillain-barre-syndrome#toc-what-are-the-latest-updates-on-guillain-barr-syndrome-'}]}</td></tr></tbody></table></div>"
      ]
     },
     "metadata": {
      "application/vnd.databricks.v1+output": {
       "addedWidgets": {},
       "aggData": [],
       "aggError": "",
       "aggOverflow": false,
       "aggSchema": [],
       "aggSeriesLimitReached": false,
       "aggType": "",
       "arguments": {},
       "columnCustomDisplayInfos": {},
       "data": [
        [
         "count",
         "99",
         "99",
         "99",
         "99",
         "99",
         "99",
         "99"
        ],
        [
         "mean",
         "5.454545454545454",
         null,
         null,
         null,
         null,
         null,
         null
        ],
        [
         "stddev",
         "2.865248243235092",
         null,
         null,
         null,
         null,
         null,
         null
        ],
        [
         "min",
         "1",
         "A rare paralysis syndrome is spiking in India this year. ...",
         "https://ameripharmaspecialty.com/myasthenia-gravis/guillain-barre-syndrome-vs-myasthenia-gravis/",
         "(Acute Idiopathic Polyneuritis; Acute Inflammatory Demyelinating Polyradiculoneuropathy) ... Guillain-Barré syndrome is an acute, usually rapidly progressive but ...",
         "Advocate Health Care",
         "20 लाख+ व्यू · 4 वर्ष पहले",
         ""
        ],
        [
         "max",
         "10",
         "When Your Child Has Guillain-Barre Syndrome (GBS)",
         "https://www.youtube.com/watch?v=KUEunZYZgII",
         "noun ... Note: The cause of Guillain-Barré syndrome is unknown but individuals often experience onset a few weeks after a respiratory or gastrointestinal illness.",
         "health.com",
         "https://www.yalemedicine.org › ...",
         "{'inline': [{'title': 'What is Guillain-Barré...', 'link': 'https://www.ninds.nih.gov/health-information/disorders/guillain-barre-syndrome#toc-what-is-guillain-barr-syndrome-'}, {'title': 'How is Guillain-Barré...', 'link': 'https://www.ninds.nih.gov/health-information/disorders/guillain-barre-syndrome#toc-how-is-guillain-barr-syndrome-diagnosed-and-treated-'}, {'title': 'What are the latest updates on...', 'link': 'https://www.ninds.nih.gov/health-information/disorders/guillain-barre-syndrome#toc-what-are-the-latest-updates-on-guillain-barr-syndrome-'}]}"
        ]
       ],
       "datasetInfos": [],
       "dbfsResultPath": null,
       "isJsonSchema": true,
       "metadata": {},
       "overflow": false,
       "plotOptions": {
        "customPlotOptions": {},
        "displayType": "table",
        "pivotAggregation": null,
        "pivotColumns": null,
        "xColumns": null,
        "yColumns": null
       },
       "removedWidgets": [],
       "schema": [
        {
         "metadata": "{}",
         "name": "summary",
         "type": "\"string\""
        },
        {
         "metadata": "{}",
         "name": "Position",
         "type": "\"string\""
        },
        {
         "metadata": "{}",
         "name": "Title",
         "type": "\"string\""
        },
        {
         "metadata": "{}",
         "name": "Link",
         "type": "\"string\""
        },
        {
         "metadata": "{}",
         "name": "Snippet",
         "type": "\"string\""
        },
        {
         "metadata": "{}",
         "name": "Source",
         "type": "\"string\""
        },
        {
         "metadata": "{}",
         "name": "Displayed Link",
         "type": "\"string\""
        },
        {
         "metadata": "{}",
         "name": "Sitelinks",
         "type": "\"string\""
        }
       ],
       "type": "table"
      }
     },
     "output_type": "display_data"
    }
   ],
   "source": [
    "#Statistics Summary of Google Search Results Data\n",
    "display(df_serpapi_spark.describe())"
   ]
  },
  {
   "cell_type": "code",
   "execution_count": 0,
   "metadata": {
    "application/vnd.databricks.v1+cell": {
     "cellMetadata": {
      "byteLimit": 2048000,
      "rowLimit": 10000
     },
     "inputWidgets": {},
     "nuid": "1a664f93-19f7-4ed3-b063-85e40e50461c",
     "showTitle": false,
     "tableResultSettingsMap": {},
     "title": ""
    }
   },
   "outputs": [
    {
     "output_type": "stream",
     "name": "stdout",
     "output_type": "stream",
     "text": [
      "root\n |-- Position: integer (nullable = true)\n |-- Title: string (nullable = true)\n |-- Link: string (nullable = true)\n |-- Snippet: string (nullable = true)\n |-- Source: string (nullable = true)\n |-- Displayed Link: string (nullable = true)\n |-- Sitelinks: string (nullable = true)\n\n"
     ]
    }
   ],
   "source": [
    "# Print Schema of Google Search Results DataFrame\n",
    "df_serpapi_spark.printSchema()\n"
   ]
  },
  {
   "cell_type": "code",
   "execution_count": 0,
   "metadata": {
    "application/vnd.databricks.v1+cell": {
     "cellMetadata": {
      "byteLimit": 2048000,
      "rowLimit": 10000
     },
     "inputWidgets": {},
     "nuid": "ede6e21d-dbb5-4151-bfd9-442ebad38565",
     "showTitle": false,
     "tableResultSettingsMap": {},
     "title": ""
    }
   },
   "outputs": [
    {
     "output_type": "display_data",
     "data": {
      "text/html": [
       "<style scoped>\n",
       "  .table-result-container {\n",
       "    max-height: 300px;\n",
       "    overflow: auto;\n",
       "  }\n",
       "  table, th, td {\n",
       "    border: 1px solid black;\n",
       "    border-collapse: collapse;\n",
       "  }\n",
       "  th, td {\n",
       "    padding: 5px;\n",
       "  }\n",
       "  th {\n",
       "    text-align: left;\n",
       "  }\n",
       "</style><div class='table-result-container'><table class='table-result'><thead style='background-color: white'><tr><th>Position</th><th>Title</th><th>Link</th><th>Snippet</th><th>Source</th><th>Displayed_Link</th><th>Sitelinks</th></tr></thead><tbody><tr><td>0</td><td>0</td><td>0</td><td>0</td><td>0</td><td>0</td><td>0</td></tr></tbody></table></div>"
      ]
     },
     "metadata": {
      "application/vnd.databricks.v1+output": {
       "addedWidgets": {},
       "aggData": [],
       "aggError": "",
       "aggOverflow": false,
       "aggSchema": [],
       "aggSeriesLimitReached": false,
       "aggType": "",
       "arguments": {},
       "columnCustomDisplayInfos": {},
       "data": [
        [
         0,
         0,
         0,
         0,
         0,
         0,
         0
        ]
       ],
       "datasetInfos": [],
       "dbfsResultPath": null,
       "isJsonSchema": true,
       "metadata": {},
       "overflow": false,
       "plotOptions": {
        "customPlotOptions": {},
        "displayType": "table",
        "pivotAggregation": null,
        "pivotColumns": null,
        "xColumns": null,
        "yColumns": null
       },
       "removedWidgets": [],
       "schema": [
        {
         "metadata": "{}",
         "name": "Position",
         "type": "\"long\""
        },
        {
         "metadata": "{}",
         "name": "Title",
         "type": "\"long\""
        },
        {
         "metadata": "{}",
         "name": "Link",
         "type": "\"long\""
        },
        {
         "metadata": "{}",
         "name": "Snippet",
         "type": "\"long\""
        },
        {
         "metadata": "{}",
         "name": "Source",
         "type": "\"long\""
        },
        {
         "metadata": "{}",
         "name": "Displayed_Link",
         "type": "\"long\""
        },
        {
         "metadata": "{}",
         "name": "Sitelinks",
         "type": "\"long\""
        }
       ],
       "type": "table"
      }
     },
     "output_type": "display_data"
    }
   ],
   "source": [
    "# Check for Null Values in Google Search Results DataFrame\n",
    "\n",
    "import pyspark.sql.functions as p\n",
    "\n",
    "df_serpapi_spark.select([\n",
    "    p.count(p.when(p.col(c).isNull(), c)).alias(c) for c in df_serpapi_spark.columns\n",
    "]).display()\n"
   ]
  },
  {
   "cell_type": "code",
   "execution_count": 0,
   "metadata": {
    "application/vnd.databricks.v1+cell": {
     "cellMetadata": {
      "byteLimit": 2048000,
      "rowLimit": 10000
     },
     "inputWidgets": {},
     "nuid": "e7365b18-4113-4b76-9ebd-7a3ace0533bc",
     "showTitle": false,
     "tableResultSettingsMap": {},
     "title": ""
    }
   },
   "outputs": [
    {
     "output_type": "stream",
     "name": "stdout",
     "output_type": "stream",
     "text": [
      "Duplicates in SERP API Data:\nOut[14]: 0"
     ]
    }
   ],
   "source": [
    "# Check for Duplicates in Google Search Results DataFrame\n",
    "\n",
    "print(\"Duplicates in SERP API Data:\")\n",
    "df_serpapi_spark.count() - df_serpapi_spark.dropDuplicates().count()\n"
   ]
  },
  {
   "cell_type": "code",
   "execution_count": 0,
   "metadata": {
    "application/vnd.databricks.v1+cell": {
     "cellMetadata": {
      "byteLimit": 2048000,
      "rowLimit": 10000
     },
     "inputWidgets": {},
     "nuid": "ef585264-0361-4704-bd8c-60f156223a26",
     "showTitle": false,
     "tableResultSettingsMap": {},
     "title": ""
    }
   },
   "outputs": [
    {
     "output_type": "display_data",
     "data": {
      "text/html": [
       "<style scoped>\n",
       "  .table-result-container {\n",
       "    max-height: 300px;\n",
       "    overflow: auto;\n",
       "  }\n",
       "  table, th, td {\n",
       "    border: 1px solid black;\n",
       "    border-collapse: collapse;\n",
       "  }\n",
       "  th, td {\n",
       "    padding: 5px;\n",
       "  }\n",
       "  th {\n",
       "    text-align: left;\n",
       "  }\n",
       "</style><div class='table-result-container'><table class='table-result'><thead style='background-color: white'><tr><th>Position</th><th>Title</th><th>Link</th><th>Snippet</th><th>Source</th><th>Displayed_Link</th><th>Sitelinks</th><th>count</th></tr></thead><tbody></tbody></table></div>"
      ]
     },
     "metadata": {
      "application/vnd.databricks.v1+output": {
       "addedWidgets": {},
       "aggData": [],
       "aggError": "",
       "aggOverflow": false,
       "aggSchema": [],
       "aggSeriesLimitReached": false,
       "aggType": "",
       "arguments": {},
       "columnCustomDisplayInfos": {},
       "data": [],
       "datasetInfos": [],
       "dbfsResultPath": null,
       "isJsonSchema": true,
       "metadata": {},
       "overflow": false,
       "plotOptions": {
        "customPlotOptions": {},
        "displayType": "table",
        "pivotAggregation": null,
        "pivotColumns": null,
        "xColumns": null,
        "yColumns": null
       },
       "removedWidgets": [],
       "schema": [
        {
         "metadata": "{}",
         "name": "Position",
         "type": "\"integer\""
        },
        {
         "metadata": "{}",
         "name": "Title",
         "type": "\"string\""
        },
        {
         "metadata": "{}",
         "name": "Link",
         "type": "\"string\""
        },
        {
         "metadata": "{}",
         "name": "Snippet",
         "type": "\"string\""
        },
        {
         "metadata": "{}",
         "name": "Source",
         "type": "\"string\""
        },
        {
         "metadata": "{}",
         "name": "Displayed_Link",
         "type": "\"string\""
        },
        {
         "metadata": "{}",
         "name": "Sitelinks",
         "type": "\"string\""
        },
        {
         "metadata": "{}",
         "name": "count",
         "type": "\"long\""
        }
       ],
       "type": "table"
      }
     },
     "output_type": "display_data"
    }
   ],
   "source": [
    "# Identify and Display Duplicate Rows in Google Search Results DataFrame\n",
    "\n",
    "from pyspark.sql import functions as p\n",
    "\n",
    "# Group by all columns and count occurrences\n",
    "duplicate_rows = (\n",
    "    df_serpapi_spark\n",
    "    .groupBy(df_serpapi_spark.columns)\n",
    "    .count()\n",
    "    .filter(\"count > 1\")\n",
    ")\n",
    "\n",
    "# Show the duplicate rows\n",
    "duplicate_rows.display(truncate=False)\n"
   ]
  },
  {
   "cell_type": "code",
   "execution_count": 0,
   "metadata": {
    "application/vnd.databricks.v1+cell": {
     "cellMetadata": {
      "byteLimit": 2048000,
      "rowLimit": 10000
     },
     "inputWidgets": {},
     "nuid": "0ad18500-dd04-4ca6-8976-21e722c18676",
     "showTitle": false,
     "tableResultSettingsMap": {},
     "title": ""
    }
   },
   "outputs": [
    {
     "output_type": "stream",
     "name": "stdout",
     "output_type": "stream",
     "text": [
      "Removed 0 duplicate rows\n"
     ]
    }
   ],
   "source": [
    "# Remove Duplicate Rows from Google Search Results DataFrame and Report Count\n",
    "\n",
    "before = df_serpapi_spark.count()\n",
    "df_serpapi_spark = df_serpapi_spark.dropDuplicates()\n",
    "after = df_serpapi_spark.count()\n",
    "\n",
    "print(f\"Removed {before - after} duplicate rows\")\n"
   ]
  },
  {
   "cell_type": "code",
   "execution_count": 0,
   "metadata": {
    "application/vnd.databricks.v1+cell": {
     "cellMetadata": {
      "byteLimit": 2048000,
      "rowLimit": 10000
     },
     "inputWidgets": {},
     "nuid": "8d2d7a48-d64a-44f1-9762-5b8b999d1801",
     "showTitle": false,
     "tableResultSettingsMap": {},
     "title": ""
    }
   },
   "outputs": [],
   "source": [
    "# Fill Missing Values in 'Sitelinks' Column of Google Search Results DataFrame\n",
    "\n",
    "df_serpapi_spark = df_serpapi_spark.na.fill({'Sitelinks': 'No Sitelinks'})"
   ]
  },
  {
   "cell_type": "code",
   "execution_count": 0,
   "metadata": {
    "application/vnd.databricks.v1+cell": {
     "cellMetadata": {
      "byteLimit": 2048000,
      "rowLimit": 10000
     },
     "inputWidgets": {},
     "nuid": "b6062101-0701-4a20-ae90-010b2623e1b6",
     "showTitle": false,
     "tableResultSettingsMap": {},
     "title": ""
    }
   },
   "outputs": [
    {
     "output_type": "display_data",
     "data": {
      "text/html": [
       "<style scoped>\n",
       "  .table-result-container {\n",
       "    max-height: 300px;\n",
       "    overflow: auto;\n",
       "  }\n",
       "  table, th, td {\n",
       "    border: 1px solid black;\n",
       "    border-collapse: collapse;\n",
       "  }\n",
       "  th, td {\n",
       "    padding: 5px;\n",
       "  }\n",
       "  th {\n",
       "    text-align: left;\n",
       "  }\n",
       "</style><div class='table-result-container'><table class='table-result'><thead style='background-color: white'><tr><th>Position</th><th>Title</th><th>Link</th><th>Snippet</th><th>Source</th><th>Displayed_Link</th><th>Sitelinks</th><th>count</th></tr></thead><tbody></tbody></table></div>"
      ]
     },
     "metadata": {
      "application/vnd.databricks.v1+output": {
       "addedWidgets": {},
       "aggData": [],
       "aggError": "",
       "aggOverflow": false,
       "aggSchema": [],
       "aggSeriesLimitReached": false,
       "aggType": "",
       "arguments": {},
       "columnCustomDisplayInfos": {},
       "data": [],
       "datasetInfos": [],
       "dbfsResultPath": null,
       "isJsonSchema": true,
       "metadata": {},
       "overflow": false,
       "plotOptions": {
        "customPlotOptions": {},
        "displayType": "table",
        "pivotAggregation": null,
        "pivotColumns": null,
        "xColumns": null,
        "yColumns": null
       },
       "removedWidgets": [],
       "schema": [
        {
         "metadata": "{}",
         "name": "Position",
         "type": "\"integer\""
        },
        {
         "metadata": "{}",
         "name": "Title",
         "type": "\"string\""
        },
        {
         "metadata": "{}",
         "name": "Link",
         "type": "\"string\""
        },
        {
         "metadata": "{}",
         "name": "Snippet",
         "type": "\"string\""
        },
        {
         "metadata": "{}",
         "name": "Source",
         "type": "\"string\""
        },
        {
         "metadata": "{}",
         "name": "Displayed_Link",
         "type": "\"string\""
        },
        {
         "metadata": "{}",
         "name": "Sitelinks",
         "type": "\"string\""
        },
        {
         "metadata": "{}",
         "name": "count",
         "type": "\"long\""
        }
       ],
       "type": "table"
      }
     },
     "output_type": "display_data"
    }
   ],
   "source": [
    "# Identify Duplicate Rows in Google Search Results DataFrame\n",
    "\n",
    "df_serpapi_spark.groupBy(df_serpapi_spark.columns) \\\n",
    "    .count().filter(\"count > 1\").display()\n"
   ]
  },
  {
   "cell_type": "code",
   "execution_count": 0,
   "metadata": {
    "application/vnd.databricks.v1+cell": {
     "cellMetadata": {
      "byteLimit": 2048000,
      "rowLimit": 10000
     },
     "inputWidgets": {},
     "nuid": "41a83f39-f1b4-4654-92e5-7a171a37124e",
     "showTitle": false,
     "tableResultSettingsMap": {},
     "title": ""
    }
   },
   "outputs": [
    {
     "output_type": "display_data",
     "data": {
      "text/html": [
       "<style scoped>\n",
       "  .table-result-container {\n",
       "    max-height: 300px;\n",
       "    overflow: auto;\n",
       "  }\n",
       "  table, th, td {\n",
       "    border: 1px solid black;\n",
       "    border-collapse: collapse;\n",
       "  }\n",
       "  th, td {\n",
       "    padding: 5px;\n",
       "  }\n",
       "  th {\n",
       "    text-align: left;\n",
       "  }\n",
       "</style><div class='table-result-container'><table class='table-result'><thead style='background-color: white'><tr><th>Position</th><th>Title</th><th>Link</th><th>Snippet</th><th>Source</th><th>Displayed_Link</th><th>Sitelinks</th></tr></thead><tbody><tr><td>0</td><td>0</td><td>0</td><td>0</td><td>0</td><td>0</td><td>0</td></tr></tbody></table></div>"
      ]
     },
     "metadata": {
      "application/vnd.databricks.v1+output": {
       "addedWidgets": {},
       "aggData": [],
       "aggError": "",
       "aggOverflow": false,
       "aggSchema": [],
       "aggSeriesLimitReached": false,
       "aggType": "",
       "arguments": {},
       "columnCustomDisplayInfos": {},
       "data": [
        [
         0,
         0,
         0,
         0,
         0,
         0,
         0
        ]
       ],
       "datasetInfos": [],
       "dbfsResultPath": null,
       "isJsonSchema": true,
       "metadata": {},
       "overflow": false,
       "plotOptions": {
        "customPlotOptions": {},
        "displayType": "table",
        "pivotAggregation": null,
        "pivotColumns": null,
        "xColumns": null,
        "yColumns": null
       },
       "removedWidgets": [],
       "schema": [
        {
         "metadata": "{}",
         "name": "Position",
         "type": "\"long\""
        },
        {
         "metadata": "{}",
         "name": "Title",
         "type": "\"long\""
        },
        {
         "metadata": "{}",
         "name": "Link",
         "type": "\"long\""
        },
        {
         "metadata": "{}",
         "name": "Snippet",
         "type": "\"long\""
        },
        {
         "metadata": "{}",
         "name": "Source",
         "type": "\"long\""
        },
        {
         "metadata": "{}",
         "name": "Displayed_Link",
         "type": "\"long\""
        },
        {
         "metadata": "{}",
         "name": "Sitelinks",
         "type": "\"long\""
        }
       ],
       "type": "table"
      }
     },
     "output_type": "display_data"
    }
   ],
   "source": [
    "# Count Null Values in Each Column of Google Search Results DataFrame\n",
    "\n",
    "import pyspark.sql.functions as p\n",
    "\n",
    "df_serpapi_spark.select([\n",
    "    p.count(p.when(p.col(c).isNull(), c)).alias(c) for c in df_serpapi_spark.columns\n",
    "]).display()\n"
   ]
  },
  {
   "cell_type": "code",
   "execution_count": 0,
   "metadata": {
    "application/vnd.databricks.v1+cell": {
     "cellMetadata": {
      "byteLimit": 2048000,
      "rowLimit": 10000
     },
     "inputWidgets": {},
     "nuid": "590bbaf7-11df-4168-b6e9-669efe1206cf",
     "showTitle": false,
     "tableResultSettingsMap": {},
     "title": ""
    }
   },
   "outputs": [],
   "source": [
    "# Clean column names for df_serpapi_spark\n",
    "df_serpapi_spark = df_serpapi_spark.withColumnRenamed(\"Displayed Link\", \"Displayed_Link\")"
   ]
  },
  {
   "cell_type": "code",
   "execution_count": 0,
   "metadata": {
    "application/vnd.databricks.v1+cell": {
     "cellMetadata": {
      "byteLimit": 2048000,
      "rowLimit": 10000
     },
     "inputWidgets": {},
     "nuid": "77715c8d-8460-423d-8104-ab9f3385bf51",
     "showTitle": false,
     "tableResultSettingsMap": {},
     "title": ""
    }
   },
   "outputs": [
    {
     "output_type": "display_data",
     "data": {
      "text/html": [
       "<style scoped>\n",
       "  .table-result-container {\n",
       "    max-height: 300px;\n",
       "    overflow: auto;\n",
       "  }\n",
       "  table, th, td {\n",
       "    border: 1px solid black;\n",
       "    border-collapse: collapse;\n",
       "  }\n",
       "  th, td {\n",
       "    padding: 5px;\n",
       "  }\n",
       "  th {\n",
       "    text-align: left;\n",
       "  }\n",
       "</style><div class='table-result-container'><table class='table-result'><thead style='background-color: white'><tr><th>Position</th><th>Title</th><th>Link</th><th>Snippet</th><th>Source</th><th>Displayed_Link</th><th>Sitelinks</th></tr></thead><tbody><tr><td>6</td><td>Guillain-Barré Syndrome</td><td>https://www.hopkinsmedicine.org/health/conditions-and-diseases/guillainbarr-syndrome</td><td>Guillain-Barré syndrome (GBS) is a rare neurological disorder in which the body's immune system attacks the peripheral nervous system.</td><td>Johns Hopkins Medicine</td><td>https://www.hopkinsmedicine.org › ...</td><td></td></tr><tr><td>1</td><td>Guillain-Barré Syndrome | Campylobacter</td><td>https://www.cdc.gov/campylobacter/signs-symptoms/guillain-barre-syndrome.html</td><td>Guillain-Barré (Ghee-YAN Bah-RAY) syndrome happens when a person's immune system harms their nerves. This harm causes muscle weakness and ...</td><td>Centers for Disease Control and Prevention | CDC (.gov)</td><td>https://www.cdc.gov › ...</td><td></td></tr><tr><td>5</td><td>Guillain–Barré syndrome</td><td>https://www.who.int/news-room/fact-sheets/detail/guillain-barr%C3%A9-syndrome</td><td>Guillain-Barré syndrome (GBS) is a rare condition in which a person's immune system attacks the peripheral nerves.</td><td>World Health Organization (WHO)</td><td>https://www.who.int › ...</td><td></td></tr><tr><td>2</td><td>Guillain-Barré Syndrome (GBS): Symptoms & Treatment</td><td>https://my.clevelandclinic.org/health/diseases/15838-guillain-barre-syndrome</td><td>Guillain-Barré syndrome is a rare autoimmune condition in which your immune system attacks your peripheral nerves. It causes numbness and muscle weakness.</td><td>Cleveland Clinic</td><td>https://my.clevelandclinic.org › ...</td><td></td></tr><tr><td>1</td><td>Guillain-Barre syndrome - Symptoms and causes</td><td>https://www.mayoclinic.org/diseases-conditions/guillain-barre-syndrome/symptoms-causes/syc-20362793</td><td>Guillain-Barre syndrome often begins with tingling and weakness starting in the feet and legs and spreading to the upper body and arms. Some ...</td><td>Mayo Clinic</td><td>https://www.mayoclinic.org › ...</td><td></td></tr><tr><td>7</td><td>Guillain-Barre syndrome - Diagnosis and treatment</td><td>https://www.mayoclinic.org/diseases-conditions/guillain-barre-syndrome/diagnosis-treatment/drc-20363006</td><td>This rare autoimmune condition affects the nerves, causing weakness and tingling in the arms and legs that quickly spreads throughout the ...</td><td>Mayo Clinic</td><td>https://www.mayoclinic.org › ...</td><td>{'inline': [{'title': 'Symptoms and causes', 'link': 'https://www.mayoclinic.org/diseases-conditions/guillain-barre-syndrome/symptoms-causes/syc-20362793'}, {'title': 'Doctors and departments', 'link': 'https://www.mayoclinic.org/diseases-conditions/guillain-barre-syndrome/doctors-departments/ddc-20363037'}, {'title': 'Care at Mayo Clinic', 'link': 'https://www.mayoclinic.org/diseases-conditions/guillain-barre-syndrome/care-at-mayo-clinic/mac-20363049'}]}</td></tr><tr><td>3</td><td>Guillain-Barré Syndrome</td><td>https://www.ninds.nih.gov/health-information/disorders/guillain-barre-syndrome</td><td>Symptoms of Guillain-Barré syndrome · Difficulty with eye muscles and vision · Difficulty swallowing, speaking, or chewing · Pricking or pins ...</td><td>National Institute of Neurological Disorders and Stroke (.gov)</td><td>https://www.ninds.nih.gov › ...</td><td>{'inline': [{'title': 'What is Guillain-Barré...', 'link': 'https://www.ninds.nih.gov/health-information/disorders/guillain-barre-syndrome#toc-what-is-guillain-barr-syndrome-'}, {'title': 'How is Guillain-Barré...', 'link': 'https://www.ninds.nih.gov/health-information/disorders/guillain-barre-syndrome#toc-how-is-guillain-barr-syndrome-diagnosed-and-treated-'}, {'title': 'What are the latest updates on...', 'link': 'https://www.ninds.nih.gov/health-information/disorders/guillain-barre-syndrome#toc-what-are-the-latest-updates-on-guillain-barr-syndrome-'}]}</td></tr><tr><td>4</td><td>Guillain–Barré syndrome</td><td>https://en.wikipedia.org/wiki/Guillain%E2%80%93Barr%C3%A9_syndrome</td><td>Guillain–Barré syndrome (GBS) is a rapid-onset muscle weakness caused by the immune system damaging the peripheral nervous system.</td><td>Wikipedia</td><td>https://en.wikipedia.org › ...</td><td></td></tr><tr><td>8</td><td>Guillain-Barre Syndrome</td><td>https://www.physio-pedia.com/Guillain-Barre_Syndrome</td><td>Guillain-Barré syndrome (GBS) is a condition characterised by the autoimmune destruction of the peripheral sensory system.</td><td>Physiopedia</td><td>https://www.physio-pedia.com › ...</td><td>{'inline': [{'title': 'Case Study', 'link': 'https://www.physio-pedia.com/Case_Study:_Guillain-Barre_Syndrome_(Sub-Acute)'}, {'title': 'Acute Motor Axonal...', 'link': 'https://www.physio-pedia.com/Acute_Motor_Axonal_Neuropathy_(AMAN),_a_Variant_of_Guillain-Barre_Syndrome:_A_Case_Study'}, {'title': 'Edit', 'link': 'https://www.physio-pedia.com/Guillain-Barre_Syndrome?veaction=edit'}]}</td></tr><tr><td>2</td><td>Guillain-Barré syndrome Information - Mount Sinai</td><td>https://www.mountsinai.org/health-library/diseases-conditions/guillain-barr-syndrome</td><td>GBS damages parts of nerves. This nerve damage causes tingling, muscle weakness, loss of balance, and paralysis. GBS most often affects the nerve covering ( ...</td><td>Mount Sinai</td><td>https://www.mountsinai.org › ...</td><td></td></tr><tr><td>10</td><td>Guillain-Barré Syndrome | Campylobacter</td><td>https://www.cdc.gov/campylobacter/signs-symptoms/guillain-barre-syndrome.html</td><td>Guillain-Barré (Ghee-YAN Bah-RAY) syndrome happens when a person's immune system harms their nerves. This harm causes muscle weakness and ...</td><td>Centers for Disease Control and Prevention | CDC (.gov)</td><td>https://www.cdc.gov › ...</td><td></td></tr><tr><td>9</td><td>Guillain-Barre Syndrome: Practice Essentials, Background, ...</td><td>https://emedicine.medscape.com/article/315632-overview</td><td>Guillain-Barré syndrome (GBS) can be described as a collection of clinical syndromes that manifests as an acute inflammatory ...</td><td>Medscape</td><td>https://emedicine.medscape.com › ...</td><td></td></tr><tr><td>8</td><td>Guillain-Barré Syndrome (GBS) - Brain, Spinal Cord, and ...</td><td>https://www.msdmanuals.com/home/brain-spinal-cord-and-nerve-disorders/peripheral-nerve-and-related-disorders/guillain-barr%C3%A9-syndrome-gbs</td><td>Guillain-Barré syndrome is a form of polyneuropathy causing muscle weakness, which usually worsens over a few days to weeks, then slowly improves or returns ...</td><td>MSD Manuals</td><td>https://www.msdmanuals.com › ...</td><td></td></tr><tr><td>2</td><td>Understanding Guillain-Barré Syndrome</td><td>https://www.youtube.com/watch?v=KUEunZYZgII</td><td>26:57 Go to channel Guillain Barre Syndrome (GBS) Treatment, Pathophysiology, Symptoms, Neurology Medicine Lecture USMLE MedNerd - Dr. Waqas Fazal</td><td>YouTube · Zero To Finals</td><td>20 लाख+ व्यू · 4 वर्ष पहले</td><td></td></tr><tr><td>9</td><td>Guillain-Barré syndrome: Symptoms, causes, diagnosis, ...</td><td>https://www.medicalnewstoday.com/articles/167892</td><td>Guillain-Barré syndrome is a neurological disorder and autoimmune disease that affects the peripheral nervous system. Guillain-Barré syndrome can lead to ...</td><td>Medical News Today</td><td>https://www.medicalnewstoday.com › ...</td><td></td></tr><tr><td>5</td><td>Guillain-Barré syndrome</td><td>https://www.sciencedirect.com/science/article/abs/pii/S0140673621005171</td><td>Guillain-Barré syndrome is an immune-mediated polyradiculoneuropathy that accounts for an estimated 100 000 new cases annually worldwide.1 In ...</td><td>ScienceDirect.com</td><td>https://www.sciencedirect.com › ...</td><td></td></tr><tr><td>3</td><td>Guillain-Barré Syndrome (GBS) and Vaccines</td><td>https://www.cdc.gov/vaccine-safety/about/guillain-barre.html</td><td>Guillain-Barré syndrome (GBS) is a rare disorder where the body's immune system damages nerve. To study whether a new vaccine might be ...</td><td>Centers for Disease Control and Prevention | CDC (.gov)</td><td>https://www.cdc.gov › ...</td><td></td></tr><tr><td>5</td><td>Guillain–Barré Syndrome | NEJM</td><td>https://www.nejm.org/doi/full/10.1056/NEJMra1114525</td><td>The Guillain–Barré syndrome is the most frequent cause of acute flaccid paralysis worldwide and constitutes a neurologic emergency.</td><td>The New England Journal of Medicine</td><td>https://www.nejm.org › ...</td><td></td></tr><tr><td>1</td><td>Guillain-Barré syndrome (GBS)</td><td>https://www.healthline.com/health/guillain-barre-syndrome</td><td>The first symptom of Guillain-Barré syndrome is usually a tingling sensation in your toes, feet, and legs. The tingling spreads upward to your arms and fingers.</td><td>Healthline</td><td>https://www.healthline.com › ...</td><td></td></tr><tr><td>7</td><td>Guillain-Barre Syndrome - GBS</td><td>https://medlineplus.gov/guillainbarresyndrome.html</td><td>Guillain-Barre syndrome is a rare disorder that causes your immune system to attack your peripheral nervous system (PNS).</td><td>MedlinePlus (.gov)</td><td>https://medlineplus.gov › ...</td><td></td></tr><tr><td>4</td><td>Guillain–Barré syndrome | Nature Reviews Disease Primers</td><td>https://www.nature.com/articles/s41572-024-00580-4</td><td>Guillain–Barré syndrome (GBS) is a rare immune-mediated polyradiculoneuropathy. Patients typically develop rapidly progressive weakness and ...</td><td>Nature</td><td>https://www.nature.com › ...</td><td></td></tr><tr><td>6</td><td>Guillain-Barré Syndrome : CONTINUUM</td><td>https://journals.lww.com/continuum/fulltext/2020/10000/guillain_barr__syndrome.6.aspx</td><td>Guillain-Barré syndrome (GBS) encompasses a spectrum of acute neuropathic disorders, with muscle weakness being the cardinal manifestation in the majority of ...</td><td>Lippincott</td><td>https://journals.lww.com › ...</td><td></td></tr><tr><td>4</td><td>Diagnosis and management of Guillain–Barré syndrome ...</td><td>https://www.nature.com/articles/s41582-019-0250-9</td><td>Guillain–Barré syndrome (GBS) is a rare, but potentially fatal, immune-mediated disease of the peripheral nerves and nerve roots that is ...</td><td>Nature</td><td>https://www.nature.com › ...</td><td></td></tr><tr><td>3</td><td>Guillain-Barré Syndrome: Causes, Symptoms, ... - WebMD</td><td>https://www.webmd.com/brain/what-is-guillain-barre</td><td>Guillain-Barré Syndrome (GBS) is a rare disorder in which your immune system suddenly attacks your nerves, often after you've had a stomach ...</td><td>WebMD</td><td>https://www.webmd.com › ...</td><td></td></tr><tr><td>8</td><td>Guillain-Barré Syndrome</td><td>https://uvahealth.com/services/neurology/guillain-barre-syndrome</td><td>Guillain-Barré syndrome (GBS) is a rare autoimmune condition that causes the immune system to attack the nerves outside of the brain and spinal cord.</td><td>UVA Health</td><td>https://uvahealth.com › ...</td><td></td></tr><tr><td>7</td><td>Guillain-Barré syndrome in adults: Pathogenesis, clinical ...</td><td>https://www.uptodate.com/contents/guillain-barre-syndrome-in-adults-pathogenesis-clinical-features-and-diagnosis</td><td>Time course of symptoms · Examination findings · - Weakness · - Deep tendon reflexes · - Other findings · Variant forms of Guillain-Barré syndrome.</td><td>Wolters Kluwer</td><td>https://www.uptodate.com › ...</td><td></td></tr><tr><td>8</td><td>Guillain‐Barré syndrome: a comprehensive review - Bellanti</td><td>https://onlinelibrary.wiley.com/doi/10.1111/ene.16365</td><td>Guillain-Barré syndrome is a postinfectious, immune-mediated peripheral neuropathy. As our knowledge continues to expand, its pathophysiological ...</td><td>Wiley Online Library</td><td>https://onlinelibrary.wiley.com › ...</td><td></td></tr><tr><td>9</td><td>Guillain-Barré Syndrome (GBS)</td><td>https://www.childrenshospital.org/conditions/guillain-barre-syndrome</td><td>Guillain-Barré syndrome (GBS) occurs when the immune system attacks the peripheral nervous system. Learn more from Boston Children's Hospital.</td><td>Boston Children's Hospital</td><td>https://www.childrenshospital.org › ...</td><td></td></tr><tr><td>10</td><td>Guillain–Barré syndrome outbreak in Pune - The Lancet</td><td>https://www.thelancet.com/journals/lancet/article/PIIS0140-6736(25)00414-3/fulltext</td><td>As of March 8, 2025, the total number of Guillain–Barré syndrome cases in Pune was 225, with 197 confirmed diagnoses and 28 suspected cases, ...</td><td>The Lancet</td><td>https://www.thelancet.com › ...</td><td></td></tr><tr><td>5</td><td>Guillain-Barre syndrome: Video, Causes, & Meaning</td><td>https://www.osmosis.org/learn/Guillain-Barre_syndrome</td><td>The cause of Guillain- Barré syndrome is unknown, but it's known to develop after a bacterial infection, like Campylobacter jejuni and Mycoplasma pneumoniae, or ...</td><td>Osmosis</td><td>https://www.osmosis.org › ...</td><td></td></tr><tr><td>4</td><td>Current treatment practice of Guillain-Barré syndrome</td><td>https://www.neurology.org/doi/10.1212/WNL.0000000000007719</td><td>Plasma exchange (PE) and IV immunoglobulin (IVIg) are the only proven effective treatments for Guillain-Barré syndrome (GBS), although there has been little ...</td><td>Neurology® Journals</td><td>https://www.neurology.org › ...</td><td></td></tr><tr><td>3</td><td>Guillain-Barré Syndrome - Symptoms, Causes, Treatment</td><td>https://rarediseases.org/rare-diseases/guillain-barre-syndrome/</td><td>Guillain-Barré syndrome (GBS) is a rare, rapidly progressive disease due to inflammation of the nerves causing muscle weakness, sometimes ...</td><td>National Organization for Rare Disorders</td><td>https://rarediseases.org › ...</td><td></td></tr><tr><td>6</td><td>Guillain-Barré Syndrome</td><td>https://www.americanbrainfoundation.org/diseases/guillain-barre-syndrome/</td><td>Guillain-Barré syndrome (GBS) is a rare neurologic disorder in which the body's autoimmune response attacks the peripheral nervous system.</td><td>American Brain Foundation</td><td>https://www.americanbrainfoundation.org › ...</td><td></td></tr><tr><td>2</td><td>What is Guillain-Barré Syndrome or GBS</td><td>https://www.gbs-cidp.org/gbs/</td><td>GBS is characterized by the rapid onset of numbness, weakness, and often paralysis of the legs, arms, breathing muscles, and face. Paralysis is ascending, ...</td><td>GBS/CIDP Foundation International</td><td>https://www.gbs-cidp.org › ...</td><td></td></tr><tr><td>6</td><td>Guillain-Barré syndrome</td><td>https://www.sciencedirect.com/science/article/pii/S0140673621005171</td><td>Guillain-Barré syndrome is an immune-mediated polyradiculoneuropathy that accounts for an estimated 100 000 new cases annually worldwide.</td><td>ScienceDirect.com</td><td>https://www.sciencedirect.com › ...</td><td></td></tr><tr><td>1</td><td>Guillain–Barré syndrome outbreak in Pune - The Lancet</td><td>https://www.thelancet.com/journals/lancet/article/PIIS0140-6736(25)00414-3/fulltext</td><td>As of March 8, 2025, the total number of Guillain–Barré syndrome cases in Pune was 225, with 197 confirmed diagnoses and 28 suspected cases, ...</td><td>The Lancet</td><td>https://www.thelancet.com › ...</td><td></td></tr><tr><td>7</td><td>Guillain-Barré Syndrome | Diagnosis & Disease Information</td><td>https://www.pulmonologyadvisor.com/ddi/guillain-barre-syndrome/</td><td>Guillain-Barré syndrome is an autoimmune disorder that results in inflammatory demyelination.1 The condition was first described in 1916 by ...</td><td>Pulmonology Advisor</td><td>https://www.pulmonologyadvisor.com › ...</td><td></td></tr><tr><td>4</td><td>Guillain Barré Syndrome</td><td>https://www.brainfacts.org/diseases-and-disorders/neurological-disorders-az/diseases-a-to-z-from-ninds/guillain-barr%C3%A9-syndrome</td><td>Guillain-Barré syndrome is a disorder in which the body's immune system attacks part of the peripheral nervous system. The first symptoms of this disorder ...</td><td>BrainFacts</td><td>https://www.brainfacts.org › ...</td><td></td></tr><tr><td>6</td><td>Pediatric Guillain-Barré syndrome (GBS) - Dallas</td><td>https://www.childrens.com/specialties-services/conditions/guillain-barre-syndrome</td><td>A typical sign of GBS is muscle weakness, numbness, tingling (pins-and-needle sensation) and occasionally pain, that starts in the feet and legs. These symptoms ...</td><td>Children’s Health</td><td>https://www.childrens.com › ...</td><td></td></tr><tr><td>2</td><td>Guillain-Barré Syndrome</td><td>https://www.mayoclinicproceedings.org/article/S0025-6196(16)30818-7/fulltext</td><td>1. Guillain, G. ∙ Barré, J.A. ∙ Strohl, A. ... The disorder was first described as a “benign” form of limb weakness associated with full recovery, but we now ...</td><td>Mayo Clinic Proceedings</td><td>https://www.mayoclinicproceedings.org › ...</td><td></td></tr><tr><td>9</td><td>Guillain-Barre Syndrome (GBS)</td><td>https://www.jeffersonhealth.org/conditions-and-treatments/guillain-barre-syndrome</td><td>We're also involved in researching the underlying causes of GBS and other autoimmune neuromuscular conditions. At Jefferson Health, you can be sure you're ...</td><td>Jefferson Health</td><td>https://www.jeffersonhealth.org › ...</td><td></td></tr><tr><td>1</td><td>What is Guillain-Barré Syndrome (GBS)? - By Adhikari Lifeline</td><td>https://www.adhikarilifeline.com/what-is-guillain-barre-syndrome-gbs/</td><td>Guillain-Barré Syndrome (GBS) is a rare but serious neurological disorder in which the body's immune system mistakenly attacks the nervous system.</td><td>adhikarilifeline.com</td><td>https://www.adhikarilifeline.com › ...</td><td></td></tr><tr><td>10</td><td>Guillain-Barré Syndrome (GBS)</td><td>https://litfl.com/guillain-barre-syndrome-gbs/</td><td>Guillain-Barré Syndrome (GBS) is the most common and most severe acute paralytic neuropathy, consisting of multiple variants with distinct clinical and ...</td><td>Life in the Fast Lane • LITFL</td><td>https://litfl.com › ...</td><td></td></tr><tr><td>5</td><td>Guillain-Barré Syndrome - Neurology - Highland Hospital</td><td>https://www.urmc.rochester.edu/highland/departments-centers/neurology/conditions-we-treat/guillain-barr</td><td>Guillain-Barré (ghee-yan bah-ray) syndrome is a disorder in which the body's immune system attacks part of the peripheral nervous system.</td><td>University of Rochester Medical Center</td><td>https://www.urmc.rochester.edu › ...</td><td></td></tr><tr><td>7</td><td>Guillain-Barre Syndrome: Symptoms, Causes & Treatment</td><td>https://www.blkmaxhospital.com/blogs/guillain-barre-syndrome</td><td>Guillain-Barre Syndrome is a rare but serious neurological disorder that requires immediate medical attention. While most people recover, early ...</td><td>BLK-Max Hospital</td><td>https://www.blkmaxhospital.com › ...</td><td></td></tr><tr><td>9</td><td>Guillain-Barre Syndrome</td><td>https://www.dynamed.com/condition/guillain-barre-syndrome</td><td>Guillain-Barre Syndrome (GBS) is a rare immune-mediated acute polyradiculoneuropathy, usually following an infection or other ...</td><td>DynaMed</td><td>https://www.dynamed.com › ...</td><td></td></tr><tr><td>8</td><td>Pune's Guillain-Barré Syndrome Epidemic Related to ...</td><td>https://www.vax-before-travel.com/punes-guillain-barr-syndrome-epidemic-related-water-quality-2025-03-10</td><td>Experts have linked these GBS infections with Campylobacter jejuni. This bacteria is one of the most common causes of food poisoning.</td><td>Vax-Before-Travel</td><td>https://www.vax-before-travel.com › ...</td><td></td></tr><tr><td>10</td><td>What is Guillain-Barré Syndrome (GBS)? - By Adhikari Lifeline</td><td>https://www.adhikarilifeline.com/what-is-guillain-barre-syndrome-gbs/</td><td>Guillain-Barré Syndrome (GBS) is a rare but serious neurological disorder in which the body's immune system mistakenly attacks the nervous system.</td><td>adhikarilifeline.com</td><td>https://www.adhikarilifeline.com › ...</td><td></td></tr><tr><td>3</td><td>Guillain-Barré syndrome: Types, Symptoms, Causes & ...</td><td>https://www.pacehospital.com/guillain-barre-syndrome-symptoms-causes-diagnosis-treatment</td><td>Guillain-Barré syndrome (GBS) in children is an autoimmune disorder where the body's immune system mistakenly attacks the peripheral nervous system. The exact ...</td><td>PACE Hospitals</td><td>https://www.pacehospital.com › ...</td><td></td></tr><tr><td>10</td><td>Guillain-Barre syndrome - Neurology</td><td>https://www.emoryhealthcare.org/conditions/neurology-conditions/guillain-barre-syndrome</td><td>Emory offers full diagnostic and treatment services for Guillain-Barre Syndrome, including electrodiagnosis and nerve and or muscle biopsy and lab ...</td><td>Emory Healthcare</td><td>https://www.emoryhealthcare.org › ...</td><td></td></tr><tr><td>6</td><td>What is Guillain-Barre Syndrome (GBS)?</td><td>https://npistanbul.com/en/what-is-guillain-barre-syndrome-gbs</td><td>What is Guillain-Barre Syndrome (GBS)?. Guillain-Barre Syndrome (GBS) is an autoimmune disease in which the immune system attacks the peripheral ...</td><td>NPİSTANBUL</td><td>https://npistanbul.com › ...</td><td></td></tr><tr><td>8</td><td>Guillain-Barre Syndrome - What You Need to Know</td><td>https://www.drugs.com/cg/guillain-barre-syndrome.html</td><td>GBS is a rare condition that causes damage to nerves that control movement and your sense of touch.</td><td>Drugs.com</td><td>https://www.drugs.com › ...</td><td></td></tr><tr><td>2</td><td>Guillain-Barré Syndrome</td><td>https://www.medcomic.com/medcomic/guillain-barre-syndrome</td><td>Guillain-Barré syndrome (GBS) is an acute, inflammatory demyelinating polyneuropathy with ascending muscle weakness that is autoimmune in nature.</td><td>Medcomic</td><td>https://www.medcomic.com › ...</td><td></td></tr><tr><td>2</td><td>GUILLAIN-BARRÉ SYNDROME Definition & Meaning</td><td>https://www.merriam-webster.com/dictionary/Guillain-Barr%C3%A9%20syndrome</td><td>noun ... Note: The cause of Guillain-Barré syndrome is unknown but individuals often experience onset a few weeks after a respiratory or gastrointestinal illness.</td><td>Merriam-Webster</td><td>https://www.merriam-webster.com › ...</td><td></td></tr><tr><td>9</td><td>Guillain-Barré syndrome notes</td><td>https://app.pulsenotes.com/medicine/neurology/notes/guillain-barre-syndrome</td><td>Overview. Guillain-Barré syndrome is an acute, inflammatory polyneuropathy typically characterised by a progressive, ascending neuropathy resulting in weakness ...</td><td>Pulsenotes</td><td>https://app.pulsenotes.com › ...</td><td></td></tr><tr><td>3</td><td>Physical Therapy Guide to Guillain-Barré Syndrome</td><td>https://www.choosept.com/guide/physical-therapy-guide-guillain-barre-syndrome</td><td>Physical therapists have extensive training to help people during GBS recovery. They help patients understand how GBS affects their ability to move safely.</td><td>ChoosePT</td><td>https://www.choosept.com › ...</td><td></td></tr><tr><td>1</td><td>Guillain-Barre syndrome - Neurology</td><td>https://www.emoryhealthcare.org/conditions/neurology-conditions/guillain-barre-syndrome</td><td>Emory offers full diagnostic and treatment services for Guillain-Barre Syndrome, including electrodiagnosis and nerve and or muscle biopsy and lab ...</td><td>Emory Healthcare</td><td>https://www.emoryhealthcare.org › ...</td><td></td></tr><tr><td>7</td><td>Guillain-Barre Syndrome</td><td>https://www.advocatehealth.com/health-services/brain-spine-institute/brain-care-center/conditions-treatments/neuromuscular-disorders/guillain-barre</td><td>Physical therapists will work with you to make sure you regain strength and range of motion. It's sobering to realize that some people have permanent nerve ...</td><td>Advocate Health Care</td><td>https://www.advocatehealth.com › ...</td><td></td></tr><tr><td>4</td><td>Guillain-Barré Syndrome (for Parents)</td><td>https://kidshealth.org/en/parents/gbs.html</td><td>What Are the Signs & Symptoms of Guillain-Barré Syndrome? · tingling or pain in the toes and fingertips · weakness or pain in the legs that causes trouble ...</td><td>KidsHealth</td><td>https://kidshealth.org › ...</td><td></td></tr><tr><td>5</td><td>Guillain Barre Syndrome: Diagnosis, Symptoms & Care</td><td>https://www.gillettechildrens.org/conditions-care/guillain-barre-syndrome</td><td>What is Guillain-Barré syndrome? Guillain-Barré syndrome is an autoimmune disorder in which the body's immune system attacks the nerves. A tingling sensation is ...</td><td>Gillette Children's Hospital</td><td>https://www.gillettechildrens.org › ...</td><td></td></tr><tr><td>1</td><td>Guillain-Barré Syndrome | McGovern Medical School</td><td>https://med.uth.edu/neurosciences/conditions-and-treatments/nerve-disorders/guillain-barre-syndrome/</td><td>Signs Guillain-Barré Syndrome. Initial symptoms may present as pain, weakness, or tingling in the hands or feet. Patients usually experience this in one side of ...</td><td>UTHealth Houston</td><td>https://med.uth.edu › ...</td><td></td></tr><tr><td>10</td><td>Guillain-Barré Syndrome (GBS): Signs, Causes, Vaccine, ...</td><td>https://www.verywellhealth.com/guillain-barre-syndrome-8387646</td><td>Guillain-Barré syndrome is a rapidly progressive and dangerous nerve disease. It causes severe weakness that begins in the feet and moves up the ...</td><td>Verywell Health</td><td>https://www.verywellhealth.com › ...</td><td></td></tr><tr><td>3</td><td>India faces Guillain-Barré outbreak</td><td>https://avinews.com/en/india-faces-guillain-barre-outbreak/</td><td>India is currently grappling with an alarming outbreak of Guillain-Barré Syndrome (GBS), a rare neurological disorder that can lead to sudden and severe ...</td><td>aviNews</td><td>https://avinews.com › ...</td><td></td></tr><tr><td>5</td><td>Guillain–Barre syndrome and link with COVID-19 infection ...</td><td>https://www.frontiersin.org/journals/neurology/articles/10.3389/fneur.2024.1396642/full</td><td>Our study aims to review the literature on GBS and its epidemiological and pathophysiological association with COVID-19.</td><td>Frontiers</td><td>https://www.frontiersin.org › ...</td><td></td></tr><tr><td>5</td><td>Guillain-Barré Syndrome</td><td>https://memorialhermann.org/services/conditions/guillain-barre-syndrome</td><td>Given the sudden, unexpected onset and the severity of symptoms, GBS can be emotionally and physically devastating for patients and their families. It is often ...</td><td>Memorial Hermann Health System</td><td>https://memorialhermann.org › ...</td><td></td></tr><tr><td>6</td><td>Understanding and Treating Guillain-Barré Syndrome</td><td>https://www.bannerhealth.com/services/neurology/diseases/guillain-barre-syndrome</td><td>What are the symptoms of Guillain-Barré syndrome? · Difficulty with eye movements or double vision · Trouble swallowing, speaking or chewing · Severe cramping, ...</td><td>Banner Health</td><td>https://www.bannerhealth.com › ...</td><td></td></tr><tr><td>7</td><td>About Guillain-Barré Syndrome</td><td>https://www.health.state.mn.us/diseases/gb/basics.html</td><td>Guillain-Barré Syndrome (GBS) is a disease characterized by muscle weakness and sometimes paralysis. GBS can last for weeks to months. Most ...</td><td>MN Dept. of Health</td><td>https://www.health.state.mn.us › ...</td><td></td></tr><tr><td>3</td><td>Guillain-Barre Syndrome</td><td>https://www.aurorahealthcare.org/services/neuroscience/neurology/neurological-conditions/neuromuscular-disorders/guillain-barre</td><td>Although rare, some individuals experience permanent nerve damage, weakness, numbness, fatigue or pain after having Guillain-Barre syndrome. These long-term ...</td><td>Aurora Health Care</td><td>https://www.aurorahealthcare.org › ...</td><td></td></tr><tr><td>9</td><td>Guillain-Barré Syndrome (GBS) | NIH</td><td>https://clinicalinfo.hiv.gov/en/glossary/guillain-barre-syndrome-gbs</td><td>Guillain-Barré Syndrome (GBS) pronounce term ... A rare acute neurological disorder in which the immune system mistakenly attacks part of the peripheral nervous ...</td><td>Clinical Info HIV.gov</td><td>https://clinicalinfo.hiv.gov › ...</td><td></td></tr><tr><td>2</td><td>Guillain-Barré Syndrome (in Children)</td><td>https://carle.org/conditions/pediatric-conditions/guillain-barre-syndrome</td><td>What Are the Symptoms of Guillain-Barré Syndrome? First symptoms include weakness and tingling in the legs that often spread to the arms and upper body. These ...</td><td>Carle Health</td><td>https://carle.org › ...</td><td></td></tr><tr><td>4</td><td>Guillain-Barré Syndrome</td><td>https://www.christushealth.org/get-care/services-specialties/neurology/neuromuscular-care/guillain-barre-syndrome</td><td>What is Guillain-Barré Syndrome? In Guillain-Barré syndrome (GBS), the body's immune system attacks the nerves outside the brain and spinal cord (the peripheral ...</td><td>CHRISTUS Health</td><td>https://www.christushealth.org › ...</td><td></td></tr><tr><td>8</td><td>Guillain-Barre Syndrome (GBS) Symptoms, Treatment & ...</td><td>https://www.emedicinehealth.com/guillain-barre_syndrome/article_em.htm</td><td>Guillain-Barré Syndrome Symptoms · Weakness on both sides of the body may develop with numbness that starts in the legs and progresses into the trunk and moves ...</td><td>eMedicineHealth</td><td>https://www.emedicinehealth.com › ...</td><td></td></tr><tr><td>4</td><td>Guillain-Barre syndrome (GBS)</td><td>https://gpnotebook.com/pages/infectious-disease/guillain-barre-syndrome-gbs</td><td>Guillain-Barre syndrome (GBS) ... A prodromal malaise with vomiting, headache, fever and limb pains is rapidly surmounted by a progressive and ...</td><td>GPnotebook</td><td>https://gpnotebook.com › ...</td><td></td></tr><tr><td>1</td><td>Guillain-Barre Syndrome (GBS) Symptoms - Baptist Health</td><td>https://www.baptisthealth.com/care-services/conditions-treatments/guillainbarre-syndrome</td><td>It typically begins with a tingling sensation and feelings of weakness in the legs, and progresses quickly to more serious symptoms, including severe cramps, ...</td><td>baptisthealth.com</td><td>https://www.baptisthealth.com › ...</td><td></td></tr><tr><td>7</td><td>Guillain-Barré Syndrome</td><td>https://www.childneurologyfoundation.org/disorder/guillain-barre-syndrome/</td><td>The symptoms of GBS usually get worse over the first 2 to 4 weeks. Recovery usually starts after 4 weeks. Symptoms can continue to improve for 6 to 12 months.</td><td>Child Neurology Foundation</td><td>https://www.childneurologyfoundation.org › ...</td><td></td></tr><tr><td>10</td><td>Guillain-Barré Syndrome</td><td>https://uvahealth.com/services/neurology/guillain-barre-syndrome</td><td>GBS Treatment at UVA Health. The GBS-CIDP Foundation has designated UVA as a Center of Excellence, meaning we offer expert diagnosis and management of ...</td><td>UVA Health</td><td>https://uvahealth.com › ...</td><td></td></tr><tr><td>6</td><td>Guillain-Barre Syndrome Causes & Symptoms</td><td>https://www.beaumont.org/conditions/guillain-barre-syndrome</td><td>Signs and symptoms. GBS symptoms are characterized by weakness and tingling that is equal on both sides of the body, which usually affects the lower limbs and ...</td><td>Beaumont.org</td><td>https://www.beaumont.org › ...</td><td></td></tr><tr><td>2</td><td>Guillain-Barré Syndrome</td><td>https://www.templehealth.org/services/conditions/guillain-barre-syndrome</td><td>Symptoms · Abnormal blood pressure — Blood pressure is temporarily affected, and dangerously low pressure can occur. · Bladder incontinence — Some people with ...</td><td>Temple Health</td><td>https://www.templehealth.org › ...</td><td></td></tr><tr><td>3</td><td>When Your Child Has Guillain-Barre Syndrome (GBS)</td><td>https://www.saintlukeskc.org/health-library/when-your-child-has-guillain-barre-syndrome-gbs</td><td>Your child has been diagnosed with Guillain-Barré syndrome (GBS). This is an illness that affects the peripheral nerves, often both the sensory and motor ...</td><td>Saint Luke's Health System Kansas City</td><td>https://www.saintlukeskc.org › ...</td><td></td></tr><tr><td>7</td><td>Guillain-Barre syndrome | UCSF Neuromuscular Division</td><td>https://neuromuscular.ucsf.edu/guillain-barre-syndrome</td><td>The UCSF Neuromuscular Clinic provides comprehensive treatment for patients with various neuromuscular diseases, including Guillain-Barre syndrome. The ...</td><td>UC San Francisco</td><td>https://neuromuscular.ucsf.edu › ...</td><td></td></tr><tr><td>5</td><td>Guillain-Barré Syndrome (GBS) Facts & Resources</td><td>https://www.csl.com/patients-public-health/rare-and-serious-diseases/immunodeficiency-and-autoimmune-diseases/guillain-barre-syndrome</td><td>What is Guillain-Barré Syndrome (GBS)?. Guillain-Barré Syndrome (GBS; pronounced: ghee-YAN bah-RAY) is a rare autoimmune disorder in which the body's immune ...</td><td>Global Biotechnology Company</td><td>https://www.csl.com › ...</td><td></td></tr><tr><td>8</td><td>Guillain-Barre Syndrome (GBS)</td><td>https://www.yalemedicine.org/clinical-keywords/guillain-barre-syndrome</td><td>Definition. Guillain-Barre syndrome (GBS) is a rare neurological disorder in which the body's immune system mistakenly attacks the peripheral nerves, leading to ...</td><td>Yale Medicine</td><td>https://www.yalemedicine.org › ...</td><td></td></tr><tr><td>9</td><td>Listing: Guillain-Barré Syndrome Resources</td><td>https://www.sralab.org/lifecenter/resources/listing-guillain-barre-syndrome-resources</td><td>The following Guillain-Barré syndrome resources included in this listing provides information from the national and local programs level that focus primarily ...</td><td>Shirley Ryan AbilityLab</td><td>https://www.sralab.org › ...</td><td></td></tr><tr><td>6</td><td>Guillain-Barré Syndrome (GBS): Symptoms & Treatment - Health</td><td>https://www.health.com/guillain-barre-syndrome-8604619</td><td>Guillain-Barré syndrome (GBS) is an autoimmune disease that usually happens after a viral illness, vaccination, or infection with a specific bacteria called ...</td><td>health.com</td><td>https://www.health.com › ...</td><td></td></tr><tr><td>4</td><td>Guillain-Barré Syndrome vs. Myasthenia Gravis</td><td>https://ameripharmaspecialty.com/myasthenia-gravis/guillain-barre-syndrome-vs-myasthenia-gravis/</td><td>In conclusion, Guillain-barré syndrome and myasthenia gravis are both neurological autoimmune disorders and share some similarities in their ...</td><td>AmeriPharma® Specialty Care</td><td>https://ameripharmaspecialty.com › ...</td><td></td></tr><tr><td>1</td><td>Listing: Guillain-Barré Syndrome Resources</td><td>https://www.sralab.org/lifecenter/resources/listing-guillain-barre-syndrome-resources</td><td>The following Guillain-Barré syndrome resources included in this listing provides information from the national and local programs level that focus primarily ...</td><td>Shirley Ryan AbilityLab</td><td>https://www.sralab.org › ...</td><td></td></tr><tr><td>8</td><td>Miller Fisher variant of Guillain-Barre Syndrome</td><td>https://eyewiki.org/Miller_Fisher_variant_of_Guillain-Barre_Syndrome</td><td>Disease Entity · Disease. Miller Fisher syndrome (MFS), also known as Fisher syndrome and the Miller Fisher Variant of Guillain-Barré syndrome, is an autoimmune ...</td><td>EyeWiki</td><td>https://eyewiki.org › ...</td><td></td></tr><tr><td>6</td><td>Guillain-Barré Syndrome Lawyers and Lawsuits</td><td>https://marlerclark.com/foodborne-illnesses/guillain-barre-syndrome</td><td>We at Marler Clark provide Guillain-Barré syndrome lawyers and information to guide clients in the right direction.</td><td>Marler Clark</td><td>https://marlerclark.com › ...</td><td></td></tr><tr><td>7</td><td>Guillain-Barré Syndrome (GBS) - Neurologic Disorders</td><td>https://www.msdmanuals.com/professional/neurologic-disorders/peripheral-nervous-system-and-motor-unit-disorders/guillain-barr%C3%A9-syndrome-gbs</td><td>(Acute Idiopathic Polyneuritis; Acute Inflammatory Demyelinating Polyradiculoneuropathy) ... Guillain-Barré syndrome is an acute, usually rapidly progressive but ...</td><td>MSD Manuals</td><td>https://www.msdmanuals.com › ...</td><td></td></tr><tr><td>10</td><td>Guillain-Barre Syndrome - Neurology</td><td>https://step2.medbullets.com/neurology/120319/guillain-barre-syndrome</td><td>Definition: an immune-mediated polyneuropathy that has many variant forms. Miller Fisher syndrome.</td><td>Medbullets</td><td>https://step2.medbullets.com › ...</td><td></td></tr><tr><td>9</td><td>Guillain Barre Syndrome (GBS)</td><td>https://emcrit.org/ibcc/gbs/</td><td>albuminocytologic dissociation · The classic finding in GBS is albuminocytologic dissociation (elevated protein, despite normal cell count).</td><td>EMCrit Blog</td><td>https://emcrit.org › ...</td><td></td></tr><tr><td>10</td><td>Guillain–Barré Syndrome</td><td>https://iapindia.org/pdf/Ch-053-stg-guillain-barre-syndrome.pdf</td><td>GBS is the most common cause of acute flaccid paralysis in childhood. C linical Signs and Symptoms. ☑ Guillain–Barré syndrome presents with acute onset weakness ...</td><td>Indian Academy of Pediatrics (IAP)</td><td>https://iapindia.org › pdf › Ch-053-stg-guillain-b...</td><td></td></tr><tr><td>9</td><td>A rare paralysis syndrome is spiking in India this year. ...</td><td>https://www.gavi.org/vaccineswork/cases-infection-linked-paralysis-syndrome-have-spiked-india-year-whats-story</td><td>The symptoms of GBS typically begin with weakness, often starting in the legs and progressing upward, or 'ascending paralysis, says Debnath. The ...</td><td>Gavi, the Vaccine Alliance</td><td>https://www.gavi.org › ...</td><td></td></tr><tr><td>3</td><td>Guillain Barre Syndrome (GBS)</td><td>https://emcrit.org/ibcc/gbs/</td><td>albuminocytologic dissociation · The classic finding in GBS is albuminocytologic dissociation (elevated protein, despite normal cell count).</td><td>EMCrit Blog</td><td>https://emcrit.org › ...</td><td></td></tr><tr><td>5</td><td>Guillain-Barré syndrome related to COVID-19 infection</td><td>https://www.neurology.org/doi/10.1212/NXI.0000000000000741</td><td>We want to comment on a similar Guillain- Barré Syndrome (GBS) case following bilateral SARS-CoV2 pneumonia and to highlight the evolution of post-infectious ...</td><td>Neurology® Journals</td><td>https://www.neurology.org › ...</td><td></td></tr><tr><td>2</td><td>Guillain-Barré syndrome in adults: Treatment and prognosis</td><td>https://www.uptodate.com/contents/guillain-barre-syndrome-in-adults-treatment-and-prognosis</td><td>INTRODUCTION. The acute immune-mediated polyneuropathies are classified under the eponym Guillain-Barré syndrome (GBS), after the authors of ...</td><td>Wolters Kluwer</td><td>https://www.uptodate.com › ...</td><td></td></tr><tr><td>1</td><td>Miller Fisher variant of Guillain-Barre Syndrome</td><td>https://eyewiki.org/Miller_Fisher_variant_of_Guillain-Barre_Syndrome</td><td>Disease Entity · Disease. Miller Fisher syndrome (MFS), also known as Fisher syndrome and the Miller Fisher Variant of Guillain-Barré syndrome, is an autoimmune ...</td><td>EyeWiki</td><td>https://eyewiki.org › ...</td><td></td></tr><tr><td>4</td><td>Guillain–Barré Syndrome</td><td>https://iapindia.org/pdf/Ch-053-stg-guillain-barre-syndrome.pdf</td><td>GBS is the most common cause of acute flaccid paralysis in childhood. C linical Signs and Symptoms. ☑ Guillain–Barré syndrome presents with acute onset weakness ...</td><td>Indian Academy of Pediatrics (IAP)</td><td>https://iapindia.org › pdf › Ch-053-stg-guillain-b...</td><td></td></tr><tr><td>8</td><td>Guillain-Barré Syndrome | Upstate Neurological Institute</td><td>https://www.upstate.edu/neuroinstitute/symptoms-conditions/guillain-barre-syndrome.php</td><td>Symptoms · Weakness and tingling in the legs, arms, and face · Pain in the legs or back · Problems walking or climbing stairs · Problems breathing · Eyesight ...</td><td>SUNY Upstate Medical University</td><td>https://www.upstate.edu › ...</td><td></td></tr></tbody></table></div>"
      ]
     },
     "metadata": {
      "application/vnd.databricks.v1+output": {
       "addedWidgets": {},
       "aggData": [],
       "aggError": "",
       "aggOverflow": false,
       "aggSchema": [],
       "aggSeriesLimitReached": false,
       "aggType": "",
       "arguments": {},
       "columnCustomDisplayInfos": {},
       "data": [
        [
         6,
         "Guillain-Barré Syndrome",
         "https://www.hopkinsmedicine.org/health/conditions-and-diseases/guillainbarr-syndrome",
         "Guillain-Barré syndrome (GBS) is a rare neurological disorder in which the body's immune system attacks the peripheral nervous system.",
         "Johns Hopkins Medicine",
         "https://www.hopkinsmedicine.org › ...",
         ""
        ],
        [
         1,
         "Guillain-Barré Syndrome | Campylobacter",
         "https://www.cdc.gov/campylobacter/signs-symptoms/guillain-barre-syndrome.html",
         "Guillain-Barré (Ghee-YAN Bah-RAY) syndrome happens when a person's immune system harms their nerves. This harm causes muscle weakness and ...",
         "Centers for Disease Control and Prevention | CDC (.gov)",
         "https://www.cdc.gov › ...",
         ""
        ],
        [
         5,
         "Guillain–Barré syndrome",
         "https://www.who.int/news-room/fact-sheets/detail/guillain-barr%C3%A9-syndrome",
         "Guillain-Barré syndrome (GBS) is a rare condition in which a person's immune system attacks the peripheral nerves.",
         "World Health Organization (WHO)",
         "https://www.who.int › ...",
         ""
        ],
        [
         2,
         "Guillain-Barré Syndrome (GBS): Symptoms & Treatment",
         "https://my.clevelandclinic.org/health/diseases/15838-guillain-barre-syndrome",
         "Guillain-Barré syndrome is a rare autoimmune condition in which your immune system attacks your peripheral nerves. It causes numbness and muscle weakness.",
         "Cleveland Clinic",
         "https://my.clevelandclinic.org › ...",
         ""
        ],
        [
         1,
         "Guillain-Barre syndrome - Symptoms and causes",
         "https://www.mayoclinic.org/diseases-conditions/guillain-barre-syndrome/symptoms-causes/syc-20362793",
         "Guillain-Barre syndrome often begins with tingling and weakness starting in the feet and legs and spreading to the upper body and arms. Some ...",
         "Mayo Clinic",
         "https://www.mayoclinic.org › ...",
         ""
        ],
        [
         7,
         "Guillain-Barre syndrome - Diagnosis and treatment",
         "https://www.mayoclinic.org/diseases-conditions/guillain-barre-syndrome/diagnosis-treatment/drc-20363006",
         "This rare autoimmune condition affects the nerves, causing weakness and tingling in the arms and legs that quickly spreads throughout the ...",
         "Mayo Clinic",
         "https://www.mayoclinic.org › ...",
         "{'inline': [{'title': 'Symptoms and causes', 'link': 'https://www.mayoclinic.org/diseases-conditions/guillain-barre-syndrome/symptoms-causes/syc-20362793'}, {'title': 'Doctors and departments', 'link': 'https://www.mayoclinic.org/diseases-conditions/guillain-barre-syndrome/doctors-departments/ddc-20363037'}, {'title': 'Care at Mayo Clinic', 'link': 'https://www.mayoclinic.org/diseases-conditions/guillain-barre-syndrome/care-at-mayo-clinic/mac-20363049'}]}"
        ],
        [
         3,
         "Guillain-Barré Syndrome",
         "https://www.ninds.nih.gov/health-information/disorders/guillain-barre-syndrome",
         "Symptoms of Guillain-Barré syndrome · Difficulty with eye muscles and vision · Difficulty swallowing, speaking, or chewing · Pricking or pins ...",
         "National Institute of Neurological Disorders and Stroke (.gov)",
         "https://www.ninds.nih.gov › ...",
         "{'inline': [{'title': 'What is Guillain-Barré...', 'link': 'https://www.ninds.nih.gov/health-information/disorders/guillain-barre-syndrome#toc-what-is-guillain-barr-syndrome-'}, {'title': 'How is Guillain-Barré...', 'link': 'https://www.ninds.nih.gov/health-information/disorders/guillain-barre-syndrome#toc-how-is-guillain-barr-syndrome-diagnosed-and-treated-'}, {'title': 'What are the latest updates on...', 'link': 'https://www.ninds.nih.gov/health-information/disorders/guillain-barre-syndrome#toc-what-are-the-latest-updates-on-guillain-barr-syndrome-'}]}"
        ],
        [
         4,
         "Guillain–Barré syndrome",
         "https://en.wikipedia.org/wiki/Guillain%E2%80%93Barr%C3%A9_syndrome",
         "Guillain–Barré syndrome (GBS) is a rapid-onset muscle weakness caused by the immune system damaging the peripheral nervous system.",
         "Wikipedia",
         "https://en.wikipedia.org › ...",
         ""
        ],
        [
         8,
         "Guillain-Barre Syndrome",
         "https://www.physio-pedia.com/Guillain-Barre_Syndrome",
         "Guillain-Barré syndrome (GBS) is a condition characterised by the autoimmune destruction of the peripheral sensory system.",
         "Physiopedia",
         "https://www.physio-pedia.com › ...",
         "{'inline': [{'title': 'Case Study', 'link': 'https://www.physio-pedia.com/Case_Study:_Guillain-Barre_Syndrome_(Sub-Acute)'}, {'title': 'Acute Motor Axonal...', 'link': 'https://www.physio-pedia.com/Acute_Motor_Axonal_Neuropathy_(AMAN),_a_Variant_of_Guillain-Barre_Syndrome:_A_Case_Study'}, {'title': 'Edit', 'link': 'https://www.physio-pedia.com/Guillain-Barre_Syndrome?veaction=edit'}]}"
        ],
        [
         2,
         "Guillain-Barré syndrome Information - Mount Sinai",
         "https://www.mountsinai.org/health-library/diseases-conditions/guillain-barr-syndrome",
         "GBS damages parts of nerves. This nerve damage causes tingling, muscle weakness, loss of balance, and paralysis. GBS most often affects the nerve covering ( ...",
         "Mount Sinai",
         "https://www.mountsinai.org › ...",
         ""
        ],
        [
         10,
         "Guillain-Barré Syndrome | Campylobacter",
         "https://www.cdc.gov/campylobacter/signs-symptoms/guillain-barre-syndrome.html",
         "Guillain-Barré (Ghee-YAN Bah-RAY) syndrome happens when a person's immune system harms their nerves. This harm causes muscle weakness and ...",
         "Centers for Disease Control and Prevention | CDC (.gov)",
         "https://www.cdc.gov › ...",
         ""
        ],
        [
         9,
         "Guillain-Barre Syndrome: Practice Essentials, Background, ...",
         "https://emedicine.medscape.com/article/315632-overview",
         "Guillain-Barré syndrome (GBS) can be described as a collection of clinical syndromes that manifests as an acute inflammatory ...",
         "Medscape",
         "https://emedicine.medscape.com › ...",
         ""
        ],
        [
         8,
         "Guillain-Barré Syndrome (GBS) - Brain, Spinal Cord, and ...",
         "https://www.msdmanuals.com/home/brain-spinal-cord-and-nerve-disorders/peripheral-nerve-and-related-disorders/guillain-barr%C3%A9-syndrome-gbs",
         "Guillain-Barré syndrome is a form of polyneuropathy causing muscle weakness, which usually worsens over a few days to weeks, then slowly improves or returns ...",
         "MSD Manuals",
         "https://www.msdmanuals.com › ...",
         ""
        ],
        [
         2,
         "Understanding Guillain-Barré Syndrome",
         "https://www.youtube.com/watch?v=KUEunZYZgII",
         "26:57 Go to channel Guillain Barre Syndrome (GBS) Treatment, Pathophysiology, Symptoms, Neurology Medicine Lecture USMLE MedNerd - Dr. Waqas Fazal",
         "YouTube · Zero To Finals",
         "20 लाख+ व्यू · 4 वर्ष पहले",
         ""
        ],
        [
         9,
         "Guillain-Barré syndrome: Symptoms, causes, diagnosis, ...",
         "https://www.medicalnewstoday.com/articles/167892",
         "Guillain-Barré syndrome is a neurological disorder and autoimmune disease that affects the peripheral nervous system. Guillain-Barré syndrome can lead to ...",
         "Medical News Today",
         "https://www.medicalnewstoday.com › ...",
         ""
        ],
        [
         5,
         "Guillain-Barré syndrome",
         "https://www.sciencedirect.com/science/article/abs/pii/S0140673621005171",
         "Guillain-Barré syndrome is an immune-mediated polyradiculoneuropathy that accounts for an estimated 100 000 new cases annually worldwide.1 In ...",
         "ScienceDirect.com",
         "https://www.sciencedirect.com › ...",
         ""
        ],
        [
         3,
         "Guillain-Barré Syndrome (GBS) and Vaccines",
         "https://www.cdc.gov/vaccine-safety/about/guillain-barre.html",
         "Guillain-Barré syndrome (GBS) is a rare disorder where the body's immune system damages nerve. To study whether a new vaccine might be ...",
         "Centers for Disease Control and Prevention | CDC (.gov)",
         "https://www.cdc.gov › ...",
         ""
        ],
        [
         5,
         "Guillain–Barré Syndrome | NEJM",
         "https://www.nejm.org/doi/full/10.1056/NEJMra1114525",
         "The Guillain–Barré syndrome is the most frequent cause of acute flaccid paralysis worldwide and constitutes a neurologic emergency.",
         "The New England Journal of Medicine",
         "https://www.nejm.org › ...",
         ""
        ],
        [
         1,
         "Guillain-Barré syndrome (GBS)",
         "https://www.healthline.com/health/guillain-barre-syndrome",
         "The first symptom of Guillain-Barré syndrome is usually a tingling sensation in your toes, feet, and legs. The tingling spreads upward to your arms and fingers.",
         "Healthline",
         "https://www.healthline.com › ...",
         ""
        ],
        [
         7,
         "Guillain-Barre Syndrome - GBS",
         "https://medlineplus.gov/guillainbarresyndrome.html",
         "Guillain-Barre syndrome is a rare disorder that causes your immune system to attack your peripheral nervous system (PNS).",
         "MedlinePlus (.gov)",
         "https://medlineplus.gov › ...",
         ""
        ],
        [
         4,
         "Guillain–Barré syndrome | Nature Reviews Disease Primers",
         "https://www.nature.com/articles/s41572-024-00580-4",
         "Guillain–Barré syndrome (GBS) is a rare immune-mediated polyradiculoneuropathy. Patients typically develop rapidly progressive weakness and ...",
         "Nature",
         "https://www.nature.com › ...",
         ""
        ],
        [
         6,
         "Guillain-Barré Syndrome : CONTINUUM",
         "https://journals.lww.com/continuum/fulltext/2020/10000/guillain_barr__syndrome.6.aspx",
         "Guillain-Barré syndrome (GBS) encompasses a spectrum of acute neuropathic disorders, with muscle weakness being the cardinal manifestation in the majority of ...",
         "Lippincott",
         "https://journals.lww.com › ...",
         ""
        ],
        [
         4,
         "Diagnosis and management of Guillain–Barré syndrome ...",
         "https://www.nature.com/articles/s41582-019-0250-9",
         "Guillain–Barré syndrome (GBS) is a rare, but potentially fatal, immune-mediated disease of the peripheral nerves and nerve roots that is ...",
         "Nature",
         "https://www.nature.com › ...",
         ""
        ],
        [
         3,
         "Guillain-Barré Syndrome: Causes, Symptoms, ... - WebMD",
         "https://www.webmd.com/brain/what-is-guillain-barre",
         "Guillain-Barré Syndrome (GBS) is a rare disorder in which your immune system suddenly attacks your nerves, often after you've had a stomach ...",
         "WebMD",
         "https://www.webmd.com › ...",
         ""
        ],
        [
         8,
         "Guillain-Barré Syndrome",
         "https://uvahealth.com/services/neurology/guillain-barre-syndrome",
         "Guillain-Barré syndrome (GBS) is a rare autoimmune condition that causes the immune system to attack the nerves outside of the brain and spinal cord.",
         "UVA Health",
         "https://uvahealth.com › ...",
         ""
        ],
        [
         7,
         "Guillain-Barré syndrome in adults: Pathogenesis, clinical ...",
         "https://www.uptodate.com/contents/guillain-barre-syndrome-in-adults-pathogenesis-clinical-features-and-diagnosis",
         "Time course of symptoms · Examination findings · - Weakness · - Deep tendon reflexes · - Other findings · Variant forms of Guillain-Barré syndrome.",
         "Wolters Kluwer",
         "https://www.uptodate.com › ...",
         ""
        ],
        [
         8,
         "Guillain‐Barré syndrome: a comprehensive review - Bellanti",
         "https://onlinelibrary.wiley.com/doi/10.1111/ene.16365",
         "Guillain-Barré syndrome is a postinfectious, immune-mediated peripheral neuropathy. As our knowledge continues to expand, its pathophysiological ...",
         "Wiley Online Library",
         "https://onlinelibrary.wiley.com › ...",
         ""
        ],
        [
         9,
         "Guillain-Barré Syndrome (GBS)",
         "https://www.childrenshospital.org/conditions/guillain-barre-syndrome",
         "Guillain-Barré syndrome (GBS) occurs when the immune system attacks the peripheral nervous system. Learn more from Boston Children's Hospital.",
         "Boston Children's Hospital",
         "https://www.childrenshospital.org › ...",
         ""
        ],
        [
         10,
         "Guillain–Barré syndrome outbreak in Pune - The Lancet",
         "https://www.thelancet.com/journals/lancet/article/PIIS0140-6736(25)00414-3/fulltext",
         "As of March 8, 2025, the total number of Guillain–Barré syndrome cases in Pune was 225, with 197 confirmed diagnoses and 28 suspected cases, ...",
         "The Lancet",
         "https://www.thelancet.com › ...",
         ""
        ],
        [
         5,
         "Guillain-Barre syndrome: Video, Causes, & Meaning",
         "https://www.osmosis.org/learn/Guillain-Barre_syndrome",
         "The cause of Guillain- Barré syndrome is unknown, but it's known to develop after a bacterial infection, like Campylobacter jejuni and Mycoplasma pneumoniae, or ...",
         "Osmosis",
         "https://www.osmosis.org › ...",
         ""
        ],
        [
         4,
         "Current treatment practice of Guillain-Barré syndrome",
         "https://www.neurology.org/doi/10.1212/WNL.0000000000007719",
         "Plasma exchange (PE) and IV immunoglobulin (IVIg) are the only proven effective treatments for Guillain-Barré syndrome (GBS), although there has been little ...",
         "Neurology® Journals",
         "https://www.neurology.org › ...",
         ""
        ],
        [
         3,
         "Guillain-Barré Syndrome - Symptoms, Causes, Treatment",
         "https://rarediseases.org/rare-diseases/guillain-barre-syndrome/",
         "Guillain-Barré syndrome (GBS) is a rare, rapidly progressive disease due to inflammation of the nerves causing muscle weakness, sometimes ...",
         "National Organization for Rare Disorders",
         "https://rarediseases.org › ...",
         ""
        ],
        [
         6,
         "Guillain-Barré Syndrome",
         "https://www.americanbrainfoundation.org/diseases/guillain-barre-syndrome/",
         "Guillain-Barré syndrome (GBS) is a rare neurologic disorder in which the body's autoimmune response attacks the peripheral nervous system.",
         "American Brain Foundation",
         "https://www.americanbrainfoundation.org › ...",
         ""
        ],
        [
         2,
         "What is Guillain-Barré Syndrome or GBS",
         "https://www.gbs-cidp.org/gbs/",
         "GBS is characterized by the rapid onset of numbness, weakness, and often paralysis of the legs, arms, breathing muscles, and face. Paralysis is ascending, ...",
         "GBS/CIDP Foundation International",
         "https://www.gbs-cidp.org › ...",
         ""
        ],
        [
         6,
         "Guillain-Barré syndrome",
         "https://www.sciencedirect.com/science/article/pii/S0140673621005171",
         "Guillain-Barré syndrome is an immune-mediated polyradiculoneuropathy that accounts for an estimated 100 000 new cases annually worldwide.",
         "ScienceDirect.com",
         "https://www.sciencedirect.com › ...",
         ""
        ],
        [
         1,
         "Guillain–Barré syndrome outbreak in Pune - The Lancet",
         "https://www.thelancet.com/journals/lancet/article/PIIS0140-6736(25)00414-3/fulltext",
         "As of March 8, 2025, the total number of Guillain–Barré syndrome cases in Pune was 225, with 197 confirmed diagnoses and 28 suspected cases, ...",
         "The Lancet",
         "https://www.thelancet.com › ...",
         ""
        ],
        [
         7,
         "Guillain-Barré Syndrome | Diagnosis & Disease Information",
         "https://www.pulmonologyadvisor.com/ddi/guillain-barre-syndrome/",
         "Guillain-Barré syndrome is an autoimmune disorder that results in inflammatory demyelination.1 The condition was first described in 1916 by ...",
         "Pulmonology Advisor",
         "https://www.pulmonologyadvisor.com › ...",
         ""
        ],
        [
         4,
         "Guillain Barré Syndrome",
         "https://www.brainfacts.org/diseases-and-disorders/neurological-disorders-az/diseases-a-to-z-from-ninds/guillain-barr%C3%A9-syndrome",
         "Guillain-Barré syndrome is a disorder in which the body's immune system attacks part of the peripheral nervous system. The first symptoms of this disorder ...",
         "BrainFacts",
         "https://www.brainfacts.org › ...",
         ""
        ],
        [
         6,
         "Pediatric Guillain-Barré syndrome (GBS) - Dallas",
         "https://www.childrens.com/specialties-services/conditions/guillain-barre-syndrome",
         "A typical sign of GBS is muscle weakness, numbness, tingling (pins-and-needle sensation) and occasionally pain, that starts in the feet and legs. These symptoms ...",
         "Children’s Health",
         "https://www.childrens.com › ...",
         ""
        ],
        [
         2,
         "Guillain-Barré Syndrome",
         "https://www.mayoclinicproceedings.org/article/S0025-6196(16)30818-7/fulltext",
         "1. Guillain, G. ∙ Barré, J.A. ∙ Strohl, A. ... The disorder was first described as a “benign” form of limb weakness associated with full recovery, but we now ...",
         "Mayo Clinic Proceedings",
         "https://www.mayoclinicproceedings.org › ...",
         ""
        ],
        [
         9,
         "Guillain-Barre Syndrome (GBS)",
         "https://www.jeffersonhealth.org/conditions-and-treatments/guillain-barre-syndrome",
         "We're also involved in researching the underlying causes of GBS and other autoimmune neuromuscular conditions. At Jefferson Health, you can be sure you're ...",
         "Jefferson Health",
         "https://www.jeffersonhealth.org › ...",
         ""
        ],
        [
         1,
         "What is Guillain-Barré Syndrome (GBS)? - By Adhikari Lifeline",
         "https://www.adhikarilifeline.com/what-is-guillain-barre-syndrome-gbs/",
         "Guillain-Barré Syndrome (GBS) is a rare but serious neurological disorder in which the body's immune system mistakenly attacks the nervous system.",
         "adhikarilifeline.com",
         "https://www.adhikarilifeline.com › ...",
         ""
        ],
        [
         10,
         "Guillain-Barré Syndrome (GBS)",
         "https://litfl.com/guillain-barre-syndrome-gbs/",
         "Guillain-Barré Syndrome (GBS) is the most common and most severe acute paralytic neuropathy, consisting of multiple variants with distinct clinical and ...",
         "Life in the Fast Lane • LITFL",
         "https://litfl.com › ...",
         ""
        ],
        [
         5,
         "Guillain-Barré Syndrome - Neurology - Highland Hospital",
         "https://www.urmc.rochester.edu/highland/departments-centers/neurology/conditions-we-treat/guillain-barr",
         "Guillain-Barré (ghee-yan bah-ray) syndrome is a disorder in which the body's immune system attacks part of the peripheral nervous system.",
         "University of Rochester Medical Center",
         "https://www.urmc.rochester.edu › ...",
         ""
        ],
        [
         7,
         "Guillain-Barre Syndrome: Symptoms, Causes & Treatment",
         "https://www.blkmaxhospital.com/blogs/guillain-barre-syndrome",
         "Guillain-Barre Syndrome is a rare but serious neurological disorder that requires immediate medical attention. While most people recover, early ...",
         "BLK-Max Hospital",
         "https://www.blkmaxhospital.com › ...",
         ""
        ],
        [
         9,
         "Guillain-Barre Syndrome",
         "https://www.dynamed.com/condition/guillain-barre-syndrome",
         "Guillain-Barre Syndrome (GBS) is a rare immune-mediated acute polyradiculoneuropathy, usually following an infection or other ...",
         "DynaMed",
         "https://www.dynamed.com › ...",
         ""
        ],
        [
         8,
         "Pune's Guillain-Barré Syndrome Epidemic Related to ...",
         "https://www.vax-before-travel.com/punes-guillain-barr-syndrome-epidemic-related-water-quality-2025-03-10",
         "Experts have linked these GBS infections with Campylobacter jejuni. This bacteria is one of the most common causes of food poisoning.",
         "Vax-Before-Travel",
         "https://www.vax-before-travel.com › ...",
         ""
        ],
        [
         10,
         "What is Guillain-Barré Syndrome (GBS)? - By Adhikari Lifeline",
         "https://www.adhikarilifeline.com/what-is-guillain-barre-syndrome-gbs/",
         "Guillain-Barré Syndrome (GBS) is a rare but serious neurological disorder in which the body's immune system mistakenly attacks the nervous system.",
         "adhikarilifeline.com",
         "https://www.adhikarilifeline.com › ...",
         ""
        ],
        [
         3,
         "Guillain-Barré syndrome: Types, Symptoms, Causes & ...",
         "https://www.pacehospital.com/guillain-barre-syndrome-symptoms-causes-diagnosis-treatment",
         "Guillain-Barré syndrome (GBS) in children is an autoimmune disorder where the body's immune system mistakenly attacks the peripheral nervous system. The exact ...",
         "PACE Hospitals",
         "https://www.pacehospital.com › ...",
         ""
        ],
        [
         10,
         "Guillain-Barre syndrome - Neurology",
         "https://www.emoryhealthcare.org/conditions/neurology-conditions/guillain-barre-syndrome",
         "Emory offers full diagnostic and treatment services for Guillain-Barre Syndrome, including electrodiagnosis and nerve and or muscle biopsy and lab ...",
         "Emory Healthcare",
         "https://www.emoryhealthcare.org › ...",
         ""
        ],
        [
         6,
         "What is Guillain-Barre Syndrome (GBS)?",
         "https://npistanbul.com/en/what-is-guillain-barre-syndrome-gbs",
         "What is Guillain-Barre Syndrome (GBS)?. Guillain-Barre Syndrome (GBS) is an autoimmune disease in which the immune system attacks the peripheral ...",
         "NPİSTANBUL",
         "https://npistanbul.com › ...",
         ""
        ],
        [
         8,
         "Guillain-Barre Syndrome - What You Need to Know",
         "https://www.drugs.com/cg/guillain-barre-syndrome.html",
         "GBS is a rare condition that causes damage to nerves that control movement and your sense of touch.",
         "Drugs.com",
         "https://www.drugs.com › ...",
         ""
        ],
        [
         2,
         "Guillain-Barré Syndrome",
         "https://www.medcomic.com/medcomic/guillain-barre-syndrome",
         "Guillain-Barré syndrome (GBS) is an acute, inflammatory demyelinating polyneuropathy with ascending muscle weakness that is autoimmune in nature.",
         "Medcomic",
         "https://www.medcomic.com › ...",
         ""
        ],
        [
         2,
         "GUILLAIN-BARRÉ SYNDROME Definition & Meaning",
         "https://www.merriam-webster.com/dictionary/Guillain-Barr%C3%A9%20syndrome",
         "noun ... Note: The cause of Guillain-Barré syndrome is unknown but individuals often experience onset a few weeks after a respiratory or gastrointestinal illness.",
         "Merriam-Webster",
         "https://www.merriam-webster.com › ...",
         ""
        ],
        [
         9,
         "Guillain-Barré syndrome notes",
         "https://app.pulsenotes.com/medicine/neurology/notes/guillain-barre-syndrome",
         "Overview. Guillain-Barré syndrome is an acute, inflammatory polyneuropathy typically characterised by a progressive, ascending neuropathy resulting in weakness ...",
         "Pulsenotes",
         "https://app.pulsenotes.com › ...",
         ""
        ],
        [
         3,
         "Physical Therapy Guide to Guillain-Barré Syndrome",
         "https://www.choosept.com/guide/physical-therapy-guide-guillain-barre-syndrome",
         "Physical therapists have extensive training to help people during GBS recovery. They help patients understand how GBS affects their ability to move safely.",
         "ChoosePT",
         "https://www.choosept.com › ...",
         ""
        ],
        [
         1,
         "Guillain-Barre syndrome - Neurology",
         "https://www.emoryhealthcare.org/conditions/neurology-conditions/guillain-barre-syndrome",
         "Emory offers full diagnostic and treatment services for Guillain-Barre Syndrome, including electrodiagnosis and nerve and or muscle biopsy and lab ...",
         "Emory Healthcare",
         "https://www.emoryhealthcare.org › ...",
         ""
        ],
        [
         7,
         "Guillain-Barre Syndrome",
         "https://www.advocatehealth.com/health-services/brain-spine-institute/brain-care-center/conditions-treatments/neuromuscular-disorders/guillain-barre",
         "Physical therapists will work with you to make sure you regain strength and range of motion. It's sobering to realize that some people have permanent nerve ...",
         "Advocate Health Care",
         "https://www.advocatehealth.com › ...",
         ""
        ],
        [
         4,
         "Guillain-Barré Syndrome (for Parents)",
         "https://kidshealth.org/en/parents/gbs.html",
         "What Are the Signs & Symptoms of Guillain-Barré Syndrome? · tingling or pain in the toes and fingertips · weakness or pain in the legs that causes trouble ...",
         "KidsHealth",
         "https://kidshealth.org › ...",
         ""
        ],
        [
         5,
         "Guillain Barre Syndrome: Diagnosis, Symptoms & Care",
         "https://www.gillettechildrens.org/conditions-care/guillain-barre-syndrome",
         "What is Guillain-Barré syndrome? Guillain-Barré syndrome is an autoimmune disorder in which the body's immune system attacks the nerves. A tingling sensation is ...",
         "Gillette Children's Hospital",
         "https://www.gillettechildrens.org › ...",
         ""
        ],
        [
         1,
         "Guillain-Barré Syndrome | McGovern Medical School",
         "https://med.uth.edu/neurosciences/conditions-and-treatments/nerve-disorders/guillain-barre-syndrome/",
         "Signs Guillain-Barré Syndrome. Initial symptoms may present as pain, weakness, or tingling in the hands or feet. Patients usually experience this in one side of ...",
         "UTHealth Houston",
         "https://med.uth.edu › ...",
         ""
        ],
        [
         10,
         "Guillain-Barré Syndrome (GBS): Signs, Causes, Vaccine, ...",
         "https://www.verywellhealth.com/guillain-barre-syndrome-8387646",
         "Guillain-Barré syndrome is a rapidly progressive and dangerous nerve disease. It causes severe weakness that begins in the feet and moves up the ...",
         "Verywell Health",
         "https://www.verywellhealth.com › ...",
         ""
        ],
        [
         3,
         "India faces Guillain-Barré outbreak",
         "https://avinews.com/en/india-faces-guillain-barre-outbreak/",
         "India is currently grappling with an alarming outbreak of Guillain-Barré Syndrome (GBS), a rare neurological disorder that can lead to sudden and severe ...",
         "aviNews",
         "https://avinews.com › ...",
         ""
        ],
        [
         5,
         "Guillain–Barre syndrome and link with COVID-19 infection ...",
         "https://www.frontiersin.org/journals/neurology/articles/10.3389/fneur.2024.1396642/full",
         "Our study aims to review the literature on GBS and its epidemiological and pathophysiological association with COVID-19.",
         "Frontiers",
         "https://www.frontiersin.org › ...",
         ""
        ],
        [
         5,
         "Guillain-Barré Syndrome",
         "https://memorialhermann.org/services/conditions/guillain-barre-syndrome",
         "Given the sudden, unexpected onset and the severity of symptoms, GBS can be emotionally and physically devastating for patients and their families. It is often ...",
         "Memorial Hermann Health System",
         "https://memorialhermann.org › ...",
         ""
        ],
        [
         6,
         "Understanding and Treating Guillain-Barré Syndrome",
         "https://www.bannerhealth.com/services/neurology/diseases/guillain-barre-syndrome",
         "What are the symptoms of Guillain-Barré syndrome? · Difficulty with eye movements or double vision · Trouble swallowing, speaking or chewing · Severe cramping, ...",
         "Banner Health",
         "https://www.bannerhealth.com › ...",
         ""
        ],
        [
         7,
         "About Guillain-Barré Syndrome",
         "https://www.health.state.mn.us/diseases/gb/basics.html",
         "Guillain-Barré Syndrome (GBS) is a disease characterized by muscle weakness and sometimes paralysis. GBS can last for weeks to months. Most ...",
         "MN Dept. of Health",
         "https://www.health.state.mn.us › ...",
         ""
        ],
        [
         3,
         "Guillain-Barre Syndrome",
         "https://www.aurorahealthcare.org/services/neuroscience/neurology/neurological-conditions/neuromuscular-disorders/guillain-barre",
         "Although rare, some individuals experience permanent nerve damage, weakness, numbness, fatigue or pain after having Guillain-Barre syndrome. These long-term ...",
         "Aurora Health Care",
         "https://www.aurorahealthcare.org › ...",
         ""
        ],
        [
         9,
         "Guillain-Barré Syndrome (GBS) | NIH",
         "https://clinicalinfo.hiv.gov/en/glossary/guillain-barre-syndrome-gbs",
         "Guillain-Barré Syndrome (GBS) pronounce term ... A rare acute neurological disorder in which the immune system mistakenly attacks part of the peripheral nervous ...",
         "Clinical Info HIV.gov",
         "https://clinicalinfo.hiv.gov › ...",
         ""
        ],
        [
         2,
         "Guillain-Barré Syndrome (in Children)",
         "https://carle.org/conditions/pediatric-conditions/guillain-barre-syndrome",
         "What Are the Symptoms of Guillain-Barré Syndrome? First symptoms include weakness and tingling in the legs that often spread to the arms and upper body. These ...",
         "Carle Health",
         "https://carle.org › ...",
         ""
        ],
        [
         4,
         "Guillain-Barré Syndrome",
         "https://www.christushealth.org/get-care/services-specialties/neurology/neuromuscular-care/guillain-barre-syndrome",
         "What is Guillain-Barré Syndrome? In Guillain-Barré syndrome (GBS), the body's immune system attacks the nerves outside the brain and spinal cord (the peripheral ...",
         "CHRISTUS Health",
         "https://www.christushealth.org › ...",
         ""
        ],
        [
         8,
         "Guillain-Barre Syndrome (GBS) Symptoms, Treatment & ...",
         "https://www.emedicinehealth.com/guillain-barre_syndrome/article_em.htm",
         "Guillain-Barré Syndrome Symptoms · Weakness on both sides of the body may develop with numbness that starts in the legs and progresses into the trunk and moves ...",
         "eMedicineHealth",
         "https://www.emedicinehealth.com › ...",
         ""
        ],
        [
         4,
         "Guillain-Barre syndrome (GBS)",
         "https://gpnotebook.com/pages/infectious-disease/guillain-barre-syndrome-gbs",
         "Guillain-Barre syndrome (GBS) ... A prodromal malaise with vomiting, headache, fever and limb pains is rapidly surmounted by a progressive and ...",
         "GPnotebook",
         "https://gpnotebook.com › ...",
         ""
        ],
        [
         1,
         "Guillain-Barre Syndrome (GBS) Symptoms - Baptist Health",
         "https://www.baptisthealth.com/care-services/conditions-treatments/guillainbarre-syndrome",
         "It typically begins with a tingling sensation and feelings of weakness in the legs, and progresses quickly to more serious symptoms, including severe cramps, ...",
         "baptisthealth.com",
         "https://www.baptisthealth.com › ...",
         ""
        ],
        [
         7,
         "Guillain-Barré Syndrome",
         "https://www.childneurologyfoundation.org/disorder/guillain-barre-syndrome/",
         "The symptoms of GBS usually get worse over the first 2 to 4 weeks. Recovery usually starts after 4 weeks. Symptoms can continue to improve for 6 to 12 months.",
         "Child Neurology Foundation",
         "https://www.childneurologyfoundation.org › ...",
         ""
        ],
        [
         10,
         "Guillain-Barré Syndrome",
         "https://uvahealth.com/services/neurology/guillain-barre-syndrome",
         "GBS Treatment at UVA Health. The GBS-CIDP Foundation has designated UVA as a Center of Excellence, meaning we offer expert diagnosis and management of ...",
         "UVA Health",
         "https://uvahealth.com › ...",
         ""
        ],
        [
         6,
         "Guillain-Barre Syndrome Causes & Symptoms",
         "https://www.beaumont.org/conditions/guillain-barre-syndrome",
         "Signs and symptoms. GBS symptoms are characterized by weakness and tingling that is equal on both sides of the body, which usually affects the lower limbs and ...",
         "Beaumont.org",
         "https://www.beaumont.org › ...",
         ""
        ],
        [
         2,
         "Guillain-Barré Syndrome",
         "https://www.templehealth.org/services/conditions/guillain-barre-syndrome",
         "Symptoms · Abnormal blood pressure — Blood pressure is temporarily affected, and dangerously low pressure can occur. · Bladder incontinence — Some people with ...",
         "Temple Health",
         "https://www.templehealth.org › ...",
         ""
        ],
        [
         3,
         "When Your Child Has Guillain-Barre Syndrome (GBS)",
         "https://www.saintlukeskc.org/health-library/when-your-child-has-guillain-barre-syndrome-gbs",
         "Your child has been diagnosed with Guillain-Barré syndrome (GBS). This is an illness that affects the peripheral nerves, often both the sensory and motor ...",
         "Saint Luke's Health System Kansas City",
         "https://www.saintlukeskc.org › ...",
         ""
        ],
        [
         7,
         "Guillain-Barre syndrome | UCSF Neuromuscular Division",
         "https://neuromuscular.ucsf.edu/guillain-barre-syndrome",
         "The UCSF Neuromuscular Clinic provides comprehensive treatment for patients with various neuromuscular diseases, including Guillain-Barre syndrome. The ...",
         "UC San Francisco",
         "https://neuromuscular.ucsf.edu › ...",
         ""
        ],
        [
         5,
         "Guillain-Barré Syndrome (GBS) Facts & Resources",
         "https://www.csl.com/patients-public-health/rare-and-serious-diseases/immunodeficiency-and-autoimmune-diseases/guillain-barre-syndrome",
         "What is Guillain-Barré Syndrome (GBS)?. Guillain-Barré Syndrome (GBS; pronounced: ghee-YAN bah-RAY) is a rare autoimmune disorder in which the body's immune ...",
         "Global Biotechnology Company",
         "https://www.csl.com › ...",
         ""
        ],
        [
         8,
         "Guillain-Barre Syndrome (GBS)",
         "https://www.yalemedicine.org/clinical-keywords/guillain-barre-syndrome",
         "Definition. Guillain-Barre syndrome (GBS) is a rare neurological disorder in which the body's immune system mistakenly attacks the peripheral nerves, leading to ...",
         "Yale Medicine",
         "https://www.yalemedicine.org › ...",
         ""
        ],
        [
         9,
         "Listing: Guillain-Barré Syndrome Resources",
         "https://www.sralab.org/lifecenter/resources/listing-guillain-barre-syndrome-resources",
         "The following Guillain-Barré syndrome resources included in this listing provides information from the national and local programs level that focus primarily ...",
         "Shirley Ryan AbilityLab",
         "https://www.sralab.org › ...",
         ""
        ],
        [
         6,
         "Guillain-Barré Syndrome (GBS): Symptoms & Treatment - Health",
         "https://www.health.com/guillain-barre-syndrome-8604619",
         "Guillain-Barré syndrome (GBS) is an autoimmune disease that usually happens after a viral illness, vaccination, or infection with a specific bacteria called ...",
         "health.com",
         "https://www.health.com › ...",
         ""
        ],
        [
         4,
         "Guillain-Barré Syndrome vs. Myasthenia Gravis",
         "https://ameripharmaspecialty.com/myasthenia-gravis/guillain-barre-syndrome-vs-myasthenia-gravis/",
         "In conclusion, Guillain-barré syndrome and myasthenia gravis are both neurological autoimmune disorders and share some similarities in their ...",
         "AmeriPharma® Specialty Care",
         "https://ameripharmaspecialty.com › ...",
         ""
        ],
        [
         1,
         "Listing: Guillain-Barré Syndrome Resources",
         "https://www.sralab.org/lifecenter/resources/listing-guillain-barre-syndrome-resources",
         "The following Guillain-Barré syndrome resources included in this listing provides information from the national and local programs level that focus primarily ...",
         "Shirley Ryan AbilityLab",
         "https://www.sralab.org › ...",
         ""
        ],
        [
         8,
         "Miller Fisher variant of Guillain-Barre Syndrome",
         "https://eyewiki.org/Miller_Fisher_variant_of_Guillain-Barre_Syndrome",
         "Disease Entity · Disease. Miller Fisher syndrome (MFS), also known as Fisher syndrome and the Miller Fisher Variant of Guillain-Barré syndrome, is an autoimmune ...",
         "EyeWiki",
         "https://eyewiki.org › ...",
         ""
        ],
        [
         6,
         "Guillain-Barré Syndrome Lawyers and Lawsuits",
         "https://marlerclark.com/foodborne-illnesses/guillain-barre-syndrome",
         "We at Marler Clark provide Guillain-Barré syndrome lawyers and information to guide clients in the right direction.",
         "Marler Clark",
         "https://marlerclark.com › ...",
         ""
        ],
        [
         7,
         "Guillain-Barré Syndrome (GBS) - Neurologic Disorders",
         "https://www.msdmanuals.com/professional/neurologic-disorders/peripheral-nervous-system-and-motor-unit-disorders/guillain-barr%C3%A9-syndrome-gbs",
         "(Acute Idiopathic Polyneuritis; Acute Inflammatory Demyelinating Polyradiculoneuropathy) ... Guillain-Barré syndrome is an acute, usually rapidly progressive but ...",
         "MSD Manuals",
         "https://www.msdmanuals.com › ...",
         ""
        ],
        [
         10,
         "Guillain-Barre Syndrome - Neurology",
         "https://step2.medbullets.com/neurology/120319/guillain-barre-syndrome",
         "Definition: an immune-mediated polyneuropathy that has many variant forms. Miller Fisher syndrome.",
         "Medbullets",
         "https://step2.medbullets.com › ...",
         ""
        ],
        [
         9,
         "Guillain Barre Syndrome (GBS)",
         "https://emcrit.org/ibcc/gbs/",
         "albuminocytologic dissociation · The classic finding in GBS is albuminocytologic dissociation (elevated protein, despite normal cell count).",
         "EMCrit Blog",
         "https://emcrit.org › ...",
         ""
        ],
        [
         10,
         "Guillain–Barré Syndrome",
         "https://iapindia.org/pdf/Ch-053-stg-guillain-barre-syndrome.pdf",
         "GBS is the most common cause of acute flaccid paralysis in childhood. C linical Signs and Symptoms. ☑ Guillain–Barré syndrome presents with acute onset weakness ...",
         "Indian Academy of Pediatrics (IAP)",
         "https://iapindia.org › pdf › Ch-053-stg-guillain-b...",
         ""
        ],
        [
         9,
         "A rare paralysis syndrome is spiking in India this year. ...",
         "https://www.gavi.org/vaccineswork/cases-infection-linked-paralysis-syndrome-have-spiked-india-year-whats-story",
         "The symptoms of GBS typically begin with weakness, often starting in the legs and progressing upward, or 'ascending paralysis, says Debnath. The ...",
         "Gavi, the Vaccine Alliance",
         "https://www.gavi.org › ...",
         ""
        ],
        [
         3,
         "Guillain Barre Syndrome (GBS)",
         "https://emcrit.org/ibcc/gbs/",
         "albuminocytologic dissociation · The classic finding in GBS is albuminocytologic dissociation (elevated protein, despite normal cell count).",
         "EMCrit Blog",
         "https://emcrit.org › ...",
         ""
        ],
        [
         5,
         "Guillain-Barré syndrome related to COVID-19 infection",
         "https://www.neurology.org/doi/10.1212/NXI.0000000000000741",
         "We want to comment on a similar Guillain- Barré Syndrome (GBS) case following bilateral SARS-CoV2 pneumonia and to highlight the evolution of post-infectious ...",
         "Neurology® Journals",
         "https://www.neurology.org › ...",
         ""
        ],
        [
         2,
         "Guillain-Barré syndrome in adults: Treatment and prognosis",
         "https://www.uptodate.com/contents/guillain-barre-syndrome-in-adults-treatment-and-prognosis",
         "INTRODUCTION. The acute immune-mediated polyneuropathies are classified under the eponym Guillain-Barré syndrome (GBS), after the authors of ...",
         "Wolters Kluwer",
         "https://www.uptodate.com › ...",
         ""
        ],
        [
         1,
         "Miller Fisher variant of Guillain-Barre Syndrome",
         "https://eyewiki.org/Miller_Fisher_variant_of_Guillain-Barre_Syndrome",
         "Disease Entity · Disease. Miller Fisher syndrome (MFS), also known as Fisher syndrome and the Miller Fisher Variant of Guillain-Barré syndrome, is an autoimmune ...",
         "EyeWiki",
         "https://eyewiki.org › ...",
         ""
        ],
        [
         4,
         "Guillain–Barré Syndrome",
         "https://iapindia.org/pdf/Ch-053-stg-guillain-barre-syndrome.pdf",
         "GBS is the most common cause of acute flaccid paralysis in childhood. C linical Signs and Symptoms. ☑ Guillain–Barré syndrome presents with acute onset weakness ...",
         "Indian Academy of Pediatrics (IAP)",
         "https://iapindia.org › pdf › Ch-053-stg-guillain-b...",
         ""
        ],
        [
         8,
         "Guillain-Barré Syndrome | Upstate Neurological Institute",
         "https://www.upstate.edu/neuroinstitute/symptoms-conditions/guillain-barre-syndrome.php",
         "Symptoms · Weakness and tingling in the legs, arms, and face · Pain in the legs or back · Problems walking or climbing stairs · Problems breathing · Eyesight ...",
         "SUNY Upstate Medical University",
         "https://www.upstate.edu › ...",
         ""
        ]
       ],
       "datasetInfos": [],
       "dbfsResultPath": null,
       "isJsonSchema": true,
       "metadata": {},
       "overflow": false,
       "plotOptions": {
        "customPlotOptions": {},
        "displayType": "table",
        "pivotAggregation": null,
        "pivotColumns": null,
        "xColumns": null,
        "yColumns": null
       },
       "removedWidgets": [],
       "schema": [
        {
         "metadata": "{}",
         "name": "Position",
         "type": "\"integer\""
        },
        {
         "metadata": "{}",
         "name": "Title",
         "type": "\"string\""
        },
        {
         "metadata": "{}",
         "name": "Link",
         "type": "\"string\""
        },
        {
         "metadata": "{}",
         "name": "Snippet",
         "type": "\"string\""
        },
        {
         "metadata": "{}",
         "name": "Source",
         "type": "\"string\""
        },
        {
         "metadata": "{}",
         "name": "Displayed_Link",
         "type": "\"string\""
        },
        {
         "metadata": "{}",
         "name": "Sitelinks",
         "type": "\"string\""
        }
       ],
       "type": "table"
      }
     },
     "output_type": "display_data"
    }
   ],
   "source": [
    "# Display Cleaned Google Search Results DataFrame\n",
    "\n",
    "display(df_serpapi_spark)"
   ]
  },
  {
   "cell_type": "markdown",
   "metadata": {
    "application/vnd.databricks.v1+cell": {
     "cellMetadata": {
      "byteLimit": 2048000,
      "rowLimit": 10000
     },
     "inputWidgets": {},
     "nuid": "51c9cff9-274a-4efc-9eba-12f7defb97fd",
     "showTitle": false,
     "tableResultSettingsMap": {},
     "title": ""
    }
   },
   "source": [
    "**Exploratory Data Analysis (EDA) of Clinical Trials and Google Search Data**"
   ]
  },
  {
   "cell_type": "markdown",
   "metadata": {
    "application/vnd.databricks.v1+cell": {
     "cellMetadata": {
      "byteLimit": 2048000,
      "rowLimit": 10000
     },
     "inputWidgets": {},
     "nuid": "05d5636c-b7ec-41a0-ba38-3dcd7deb7fb2",
     "showTitle": false,
     "tableResultSettingsMap": {},
     "title": ""
    }
   },
   "source": [
    "**Distribution of Study Status in Clinical Trials (overallStatus)**"
   ]
  },
  {
   "cell_type": "code",
   "execution_count": 0,
   "metadata": {
    "application/vnd.databricks.v1+cell": {
     "cellMetadata": {
      "byteLimit": 2048000,
      "rowLimit": 10000
     },
     "inputWidgets": {},
     "nuid": "c8a8df44-70eb-4a92-bcec-32eae3eac83f",
     "showTitle": false,
     "tableResultSettingsMap": {},
     "title": ""
    }
   },
   "outputs": [
    {
     "output_type": "display_data",
     "data": {
      "text/html": [
       "<style scoped>\n",
       "  .table-result-container {\n",
       "    max-height: 300px;\n",
       "    overflow: auto;\n",
       "  }\n",
       "  table, th, td {\n",
       "    border: 1px solid black;\n",
       "    border-collapse: collapse;\n",
       "  }\n",
       "  th, td {\n",
       "    padding: 5px;\n",
       "  }\n",
       "  th {\n",
       "    text-align: left;\n",
       "  }\n",
       "</style><div class='table-result-container'><table class='table-result'><thead style='background-color: white'><tr><th>overallStatus</th><th>count</th></tr></thead><tbody><tr><td>COMPLETED</td><td>31</td></tr><tr><td>UNKNOWN</td><td>16</td></tr><tr><td>RECRUITING</td><td>12</td></tr><tr><td>NOT_YET_RECRUITING</td><td>7</td></tr><tr><td>WITHDRAWN</td><td>5</td></tr><tr><td>ENROLLING_BY_INVITATION</td><td>2</td></tr><tr><td>TERMINATED</td><td>2</td></tr><tr><td>ACTIVE_NOT_RECRUITING</td><td>1</td></tr></tbody></table></div>"
      ]
     },
     "metadata": {
      "application/vnd.databricks.v1+output": {
       "addedWidgets": {},
       "aggData": [],
       "aggError": "",
       "aggOverflow": false,
       "aggSchema": [],
       "aggSeriesLimitReached": false,
       "aggType": "",
       "arguments": {},
       "columnCustomDisplayInfos": {},
       "data": [
        [
         "COMPLETED",
         31
        ],
        [
         "UNKNOWN",
         16
        ],
        [
         "RECRUITING",
         12
        ],
        [
         "NOT_YET_RECRUITING",
         7
        ],
        [
         "WITHDRAWN",
         5
        ],
        [
         "ENROLLING_BY_INVITATION",
         2
        ],
        [
         "TERMINATED",
         2
        ],
        [
         "ACTIVE_NOT_RECRUITING",
         1
        ]
       ],
       "datasetInfos": [],
       "dbfsResultPath": null,
       "isJsonSchema": true,
       "metadata": {},
       "overflow": false,
       "plotOptions": {
        "customPlotOptions": {},
        "displayType": "table",
        "pivotAggregation": null,
        "pivotColumns": null,
        "xColumns": null,
        "yColumns": null
       },
       "removedWidgets": [],
       "schema": [
        {
         "metadata": "{}",
         "name": "overallStatus",
         "type": "\"string\""
        },
        {
         "metadata": "{}",
         "name": "count",
         "type": "\"long\""
        }
       ],
       "type": "table"
      }
     },
     "output_type": "display_data"
    }
   ],
   "source": [
    "# Understand the distribution of studies by status — e.g., completed, recruiting, withdrawn, etc.\n",
    "\n",
    "df_clinical_spark.groupBy(\"overallStatus\") \\\n",
    "    .count() \\\n",
    "    .orderBy(\"count\", ascending=False) \\\n",
    "    .display(truncate=False)\n"
   ]
  },
  {
   "cell_type": "markdown",
   "metadata": {
    "application/vnd.databricks.v1+cell": {
     "cellMetadata": {
      "byteLimit": 2048000,
      "rowLimit": 10000
     },
     "inputWidgets": {},
     "nuid": "57de2a02-0a95-4459-8f64-78d25fad99ab",
     "showTitle": false,
     "tableResultSettingsMap": {},
     "title": ""
    }
   },
   "source": [
    "**Percentage of studies with results vs without results**"
   ]
  },
  {
   "cell_type": "code",
   "execution_count": 0,
   "metadata": {
    "application/vnd.databricks.v1+cell": {
     "cellMetadata": {
      "byteLimit": 2048000,
      "rowLimit": 10000
     },
     "inputWidgets": {},
     "nuid": "ccc28280-43e8-4079-a9b8-bbfbfef1a056",
     "showTitle": false,
     "tableResultSettingsMap": {},
     "title": ""
    }
   },
   "outputs": [
    {
     "output_type": "display_data",
     "data": {
      "text/html": [
       "<style scoped>\n",
       "  .table-result-container {\n",
       "    max-height: 300px;\n",
       "    overflow: auto;\n",
       "  }\n",
       "  table, th, td {\n",
       "    border: 1px solid black;\n",
       "    border-collapse: collapse;\n",
       "  }\n",
       "  th, td {\n",
       "    padding: 5px;\n",
       "  }\n",
       "  th {\n",
       "    text-align: left;\n",
       "  }\n",
       "</style><div class='table-result-container'><table class='table-result'><thead style='background-color: white'><tr><th>hasResults</th><th>count</th><th>percentage</th></tr></thead><tbody><tr><td>true</td><td>4</td><td>5.26</td></tr><tr><td>false</td><td>72</td><td>94.74</td></tr></tbody></table></div>"
      ]
     },
     "metadata": {
      "application/vnd.databricks.v1+output": {
       "addedWidgets": {},
       "aggData": [],
       "aggError": "",
       "aggOverflow": false,
       "aggSchema": [],
       "aggSeriesLimitReached": false,
       "aggType": "",
       "arguments": {},
       "columnCustomDisplayInfos": {},
       "data": [
        [
         true,
         4,
         "5.26"
        ],
        [
         false,
         72,
         "94.74"
        ]
       ],
       "datasetInfos": [],
       "dbfsResultPath": null,
       "isJsonSchema": true,
       "metadata": {},
       "overflow": false,
       "plotOptions": {
        "customPlotOptions": {},
        "displayType": "table",
        "pivotAggregation": null,
        "pivotColumns": null,
        "xColumns": null,
        "yColumns": null
       },
       "removedWidgets": [],
       "schema": [
        {
         "metadata": "{}",
         "name": "hasResults",
         "type": "\"boolean\""
        },
        {
         "metadata": "{}",
         "name": "count",
         "type": "\"long\""
        },
        {
         "metadata": "{}",
         "name": "percentage",
         "type": "\"decimal(5,2)\""
        }
       ],
       "type": "table"
      }
     },
     "output_type": "display_data"
    }
   ],
   "source": [
    "# Quick insight into how many studies have published results — and whether most clinical trials on GBS report their findings\n",
    "from pyspark.sql.functions import col\n",
    "\n",
    "total_studies = df_clinical_spark.count()\n",
    "results_group = df_clinical_spark.groupBy(\"hasResults\").count()\n",
    "\n",
    "results_group.withColumn(\n",
    "    \"percentage\", \n",
    "    (col(\"count\") / total_studies * 100).cast(\"decimal(5,2)\")\n",
    ").display()\n"
   ]
  },
  {
   "cell_type": "markdown",
   "metadata": {
    "application/vnd.databricks.v1+cell": {
     "cellMetadata": {
      "byteLimit": 2048000,
      "rowLimit": 10000
     },
     "inputWidgets": {},
     "nuid": "e8ae1245-8672-4be6-a949-641e8d26696e",
     "showTitle": false,
     "tableResultSettingsMap": {},
     "title": ""
    }
   },
   "source": [
    "**Filter studies with results for focused analysis**"
   ]
  },
  {
   "cell_type": "code",
   "execution_count": 0,
   "metadata": {
    "application/vnd.databricks.v1+cell": {
     "cellMetadata": {
      "byteLimit": 2048000,
      "rowLimit": 10000
     },
     "inputWidgets": {},
     "nuid": "582ec39e-eb4e-4d12-bcb0-98700d75a764",
     "showTitle": false,
     "tableResultSettingsMap": {},
     "title": ""
    }
   },
   "outputs": [
    {
     "output_type": "stream",
     "name": "stdout",
     "output_type": "stream",
     "text": [
      "Studies with results: 4\n"
     ]
    },
    {
     "output_type": "display_data",
     "data": {
      "text/html": [
       "<style scoped>\n",
       "  .table-result-container {\n",
       "    max-height: 300px;\n",
       "    overflow: auto;\n",
       "  }\n",
       "  table, th, td {\n",
       "    border: 1px solid black;\n",
       "    border-collapse: collapse;\n",
       "  }\n",
       "  th, td {\n",
       "    padding: 5px;\n",
       "  }\n",
       "  th {\n",
       "    text-align: left;\n",
       "  }\n",
       "</style><div class='table-result-container'><table class='table-result'><thead style='background-color: white'><tr><th>nctId</th><th>briefTitle</th><th>overallStatus</th><th>hasResults</th></tr></thead><tbody><tr><td>NCT03943589</td><td>A Study of Imlifidase in Patients With Guillain-Barré Syndrome</td><td>COMPLETED</td><td>true</td></tr><tr><td>NCT04752566</td><td>A Study to Evaluate the Efficacy and Safety of Eculizumab in Guillain-Barré Syndrome</td><td>COMPLETED</td><td>true</td></tr><tr><td>NCT00411216</td><td>Recovery of Visual Acuity in People With Vestibular Deficits</td><td>COMPLETED</td><td>true</td></tr><tr><td>NCT04053452</td><td>Peripheral Nerve Ultrasound for Diagnosis and Prognosis of Guillain-Barre Syndrome</td><td>TERMINATED</td><td>true</td></tr></tbody></table></div>"
      ]
     },
     "metadata": {
      "application/vnd.databricks.v1+output": {
       "addedWidgets": {},
       "aggData": [],
       "aggError": "",
       "aggOverflow": false,
       "aggSchema": [],
       "aggSeriesLimitReached": false,
       "aggType": "",
       "arguments": {},
       "columnCustomDisplayInfos": {},
       "data": [
        [
         "NCT03943589",
         "A Study of Imlifidase in Patients With Guillain-Barré Syndrome",
         "COMPLETED",
         true
        ],
        [
         "NCT04752566",
         "A Study to Evaluate the Efficacy and Safety of Eculizumab in Guillain-Barré Syndrome",
         "COMPLETED",
         true
        ],
        [
         "NCT00411216",
         "Recovery of Visual Acuity in People With Vestibular Deficits",
         "COMPLETED",
         true
        ],
        [
         "NCT04053452",
         "Peripheral Nerve Ultrasound for Diagnosis and Prognosis of Guillain-Barre Syndrome",
         "TERMINATED",
         true
        ]
       ],
       "datasetInfos": [],
       "dbfsResultPath": null,
       "isJsonSchema": true,
       "metadata": {},
       "overflow": false,
       "plotOptions": {
        "customPlotOptions": {},
        "displayType": "table",
        "pivotAggregation": null,
        "pivotColumns": null,
        "xColumns": null,
        "yColumns": null
       },
       "removedWidgets": [],
       "schema": [
        {
         "metadata": "{}",
         "name": "nctId",
         "type": "\"string\""
        },
        {
         "metadata": "{}",
         "name": "briefTitle",
         "type": "\"string\""
        },
        {
         "metadata": "{}",
         "name": "overallStatus",
         "type": "\"string\""
        },
        {
         "metadata": "{}",
         "name": "hasResults",
         "type": "\"boolean\""
        }
       ],
       "type": "table"
      }
     },
     "output_type": "display_data"
    }
   ],
   "source": [
    "# Filter and preview studies that have published results for further analysis\n",
    "df_with_results = df_clinical_spark.filter(col(\"hasResults\") == True)\n",
    "print(f\"Studies with results: {df_with_results.count()}\")\n",
    "df_with_results.display(5, truncate=False)\n",
    "\n"
   ]
  },
  {
   "cell_type": "markdown",
   "metadata": {
    "application/vnd.databricks.v1+cell": {
     "cellMetadata": {
      "byteLimit": 2048000,
      "rowLimit": 10000
     },
     "inputWidgets": {},
     "nuid": "ba453e53-7453-463c-9ab9-61201512649b",
     "showTitle": false,
     "tableResultSettingsMap": {},
     "title": ""
    }
   },
   "source": [
    "**Exploratory Data Analysis of Google Search Results**"
   ]
  },
  {
   "cell_type": "markdown",
   "metadata": {
    "application/vnd.databricks.v1+cell": {
     "cellMetadata": {
      "byteLimit": 2048000,
      "rowLimit": 10000
     },
     "inputWidgets": {},
     "nuid": "7ea67b7d-1b0b-428a-b4c9-912aa4b88fdf",
     "showTitle": false,
     "tableResultSettingsMap": {},
     "title": ""
    }
   },
   "source": [
    "**Source-wise Result Count with Best Position**"
   ]
  },
  {
   "cell_type": "code",
   "execution_count": 0,
   "metadata": {
    "application/vnd.databricks.v1+cell": {
     "cellMetadata": {
      "byteLimit": 2048000,
      "rowLimit": 10000
     },
     "inputWidgets": {},
     "nuid": "316bd925-58e8-4f1d-9004-f873dee3b4ce",
     "showTitle": false,
     "tableResultSettingsMap": {},
     "title": ""
    }
   },
   "outputs": [
    {
     "output_type": "display_data",
     "data": {
      "text/html": [
       "<style scoped>\n",
       "  .table-result-container {\n",
       "    max-height: 300px;\n",
       "    overflow: auto;\n",
       "  }\n",
       "  table, th, td {\n",
       "    border: 1px solid black;\n",
       "    border-collapse: collapse;\n",
       "  }\n",
       "  th, td {\n",
       "    padding: 5px;\n",
       "  }\n",
       "  th {\n",
       "    text-align: left;\n",
       "  }\n",
       "</style><div class='table-result-container'><table class='table-result'><thead style='background-color: white'><tr><th>Source</th><th>No_of_Results</th><th>Best_Position</th></tr></thead><tbody><tr><td>Centers for Disease Control and Prevention | CDC (.gov)</td><td>3</td><td>1</td></tr><tr><td>Mayo Clinic</td><td>2</td><td>1</td></tr><tr><td>EyeWiki</td><td>2</td><td>1</td></tr><tr><td>adhikarilifeline.com</td><td>2</td><td>1</td></tr><tr><td>Emory Healthcare</td><td>2</td><td>1</td></tr><tr><td>The Lancet</td><td>2</td><td>1</td></tr><tr><td>Shirley Ryan AbilityLab</td><td>2</td><td>1</td></tr><tr><td>Wolters Kluwer</td><td>2</td><td>2</td></tr><tr><td>EMCrit Blog</td><td>2</td><td>3</td></tr><tr><td>Indian Academy of Pediatrics (IAP)</td><td>2</td><td>4</td></tr><tr><td>Neurology® Journals</td><td>2</td><td>4</td></tr><tr><td>Nature</td><td>2</td><td>4</td></tr><tr><td>ScienceDirect.com</td><td>2</td><td>5</td></tr><tr><td>MSD Manuals</td><td>2</td><td>7</td></tr><tr><td>UVA Health</td><td>2</td><td>8</td></tr><tr><td>Healthline</td><td>1</td><td>1</td></tr><tr><td>baptisthealth.com</td><td>1</td><td>1</td></tr><tr><td>UTHealth Houston</td><td>1</td><td>1</td></tr><tr><td>YouTube · Zero To Finals</td><td>1</td><td>2</td></tr><tr><td>Merriam-Webster</td><td>1</td><td>2</td></tr><tr><td>Temple Health</td><td>1</td><td>2</td></tr><tr><td>Cleveland Clinic</td><td>1</td><td>2</td></tr><tr><td>GBS/CIDP Foundation International</td><td>1</td><td>2</td></tr><tr><td>Mount Sinai</td><td>1</td><td>2</td></tr><tr><td>Medcomic</td><td>1</td><td>2</td></tr><tr><td>Carle Health</td><td>1</td><td>2</td></tr><tr><td>Mayo Clinic Proceedings</td><td>1</td><td>2</td></tr><tr><td>WebMD</td><td>1</td><td>3</td></tr><tr><td>PACE Hospitals</td><td>1</td><td>3</td></tr><tr><td>Aurora Health Care</td><td>1</td><td>3</td></tr><tr><td>Saint Luke's Health System Kansas City</td><td>1</td><td>3</td></tr><tr><td>National Organization for Rare Disorders</td><td>1</td><td>3</td></tr><tr><td>aviNews</td><td>1</td><td>3</td></tr><tr><td>National Institute of Neurological Disorders and Stroke (.gov)</td><td>1</td><td>3</td></tr><tr><td>ChoosePT</td><td>1</td><td>3</td></tr><tr><td>CHRISTUS Health</td><td>1</td><td>4</td></tr><tr><td>GPnotebook</td><td>1</td><td>4</td></tr><tr><td>KidsHealth</td><td>1</td><td>4</td></tr><tr><td>Wikipedia</td><td>1</td><td>4</td></tr><tr><td>AmeriPharma® Specialty Care</td><td>1</td><td>4</td></tr><tr><td>BrainFacts</td><td>1</td><td>4</td></tr><tr><td>World Health Organization (WHO)</td><td>1</td><td>5</td></tr><tr><td>Osmosis</td><td>1</td><td>5</td></tr><tr><td>Global Biotechnology Company</td><td>1</td><td>5</td></tr><tr><td>Frontiers</td><td>1</td><td>5</td></tr><tr><td>The New England Journal of Medicine</td><td>1</td><td>5</td></tr><tr><td>Gillette Children's Hospital</td><td>1</td><td>5</td></tr><tr><td>University of Rochester Medical Center</td><td>1</td><td>5</td></tr><tr><td>Memorial Hermann Health System</td><td>1</td><td>5</td></tr><tr><td>health.com</td><td>1</td><td>6</td></tr><tr><td>Banner Health</td><td>1</td><td>6</td></tr><tr><td>Beaumont.org</td><td>1</td><td>6</td></tr><tr><td>Johns Hopkins Medicine</td><td>1</td><td>6</td></tr><tr><td>American Brain Foundation</td><td>1</td><td>6</td></tr><tr><td>Lippincott</td><td>1</td><td>6</td></tr><tr><td>Children’s Health</td><td>1</td><td>6</td></tr><tr><td>Marler Clark</td><td>1</td><td>6</td></tr><tr><td>NPİSTANBUL</td><td>1</td><td>6</td></tr><tr><td>UC San Francisco</td><td>1</td><td>7</td></tr><tr><td>MedlinePlus (.gov)</td><td>1</td><td>7</td></tr><tr><td>Advocate Health Care</td><td>1</td><td>7</td></tr><tr><td>Pulmonology Advisor</td><td>1</td><td>7</td></tr><tr><td>Child Neurology Foundation</td><td>1</td><td>7</td></tr><tr><td>MN Dept. of Health</td><td>1</td><td>7</td></tr><tr><td>BLK-Max Hospital</td><td>1</td><td>7</td></tr><tr><td>Vax-Before-Travel</td><td>1</td><td>8</td></tr><tr><td>SUNY Upstate Medical University</td><td>1</td><td>8</td></tr><tr><td>eMedicineHealth</td><td>1</td><td>8</td></tr><tr><td>Drugs.com</td><td>1</td><td>8</td></tr><tr><td>Yale Medicine</td><td>1</td><td>8</td></tr><tr><td>Physiopedia</td><td>1</td><td>8</td></tr><tr><td>Wiley Online Library</td><td>1</td><td>8</td></tr><tr><td>DynaMed</td><td>1</td><td>9</td></tr><tr><td>Boston Children's Hospital</td><td>1</td><td>9</td></tr><tr><td>Clinical Info HIV.gov</td><td>1</td><td>9</td></tr><tr><td>Pulsenotes</td><td>1</td><td>9</td></tr><tr><td>Medscape</td><td>1</td><td>9</td></tr><tr><td>Jefferson Health</td><td>1</td><td>9</td></tr><tr><td>Gavi, the Vaccine Alliance</td><td>1</td><td>9</td></tr><tr><td>Medical News Today</td><td>1</td><td>9</td></tr><tr><td>Verywell Health</td><td>1</td><td>10</td></tr><tr><td>Medbullets</td><td>1</td><td>10</td></tr><tr><td>Life in the Fast Lane • LITFL</td><td>1</td><td>10</td></tr></tbody></table></div>"
      ]
     },
     "metadata": {
      "application/vnd.databricks.v1+output": {
       "addedWidgets": {},
       "aggData": [],
       "aggError": "",
       "aggOverflow": false,
       "aggSchema": [],
       "aggSeriesLimitReached": false,
       "aggType": "",
       "arguments": {},
       "columnCustomDisplayInfos": {},
       "data": [
        [
         "Centers for Disease Control and Prevention | CDC (.gov)",
         3,
         1
        ],
        [
         "Mayo Clinic",
         2,
         1
        ],
        [
         "EyeWiki",
         2,
         1
        ],
        [
         "adhikarilifeline.com",
         2,
         1
        ],
        [
         "Emory Healthcare",
         2,
         1
        ],
        [
         "The Lancet",
         2,
         1
        ],
        [
         "Shirley Ryan AbilityLab",
         2,
         1
        ],
        [
         "Wolters Kluwer",
         2,
         2
        ],
        [
         "EMCrit Blog",
         2,
         3
        ],
        [
         "Indian Academy of Pediatrics (IAP)",
         2,
         4
        ],
        [
         "Neurology® Journals",
         2,
         4
        ],
        [
         "Nature",
         2,
         4
        ],
        [
         "ScienceDirect.com",
         2,
         5
        ],
        [
         "MSD Manuals",
         2,
         7
        ],
        [
         "UVA Health",
         2,
         8
        ],
        [
         "Healthline",
         1,
         1
        ],
        [
         "baptisthealth.com",
         1,
         1
        ],
        [
         "UTHealth Houston",
         1,
         1
        ],
        [
         "YouTube · Zero To Finals",
         1,
         2
        ],
        [
         "Merriam-Webster",
         1,
         2
        ],
        [
         "Temple Health",
         1,
         2
        ],
        [
         "Cleveland Clinic",
         1,
         2
        ],
        [
         "GBS/CIDP Foundation International",
         1,
         2
        ],
        [
         "Mount Sinai",
         1,
         2
        ],
        [
         "Medcomic",
         1,
         2
        ],
        [
         "Carle Health",
         1,
         2
        ],
        [
         "Mayo Clinic Proceedings",
         1,
         2
        ],
        [
         "WebMD",
         1,
         3
        ],
        [
         "PACE Hospitals",
         1,
         3
        ],
        [
         "Aurora Health Care",
         1,
         3
        ],
        [
         "Saint Luke's Health System Kansas City",
         1,
         3
        ],
        [
         "National Organization for Rare Disorders",
         1,
         3
        ],
        [
         "aviNews",
         1,
         3
        ],
        [
         "National Institute of Neurological Disorders and Stroke (.gov)",
         1,
         3
        ],
        [
         "ChoosePT",
         1,
         3
        ],
        [
         "CHRISTUS Health",
         1,
         4
        ],
        [
         "GPnotebook",
         1,
         4
        ],
        [
         "KidsHealth",
         1,
         4
        ],
        [
         "Wikipedia",
         1,
         4
        ],
        [
         "AmeriPharma® Specialty Care",
         1,
         4
        ],
        [
         "BrainFacts",
         1,
         4
        ],
        [
         "World Health Organization (WHO)",
         1,
         5
        ],
        [
         "Osmosis",
         1,
         5
        ],
        [
         "Global Biotechnology Company",
         1,
         5
        ],
        [
         "Frontiers",
         1,
         5
        ],
        [
         "The New England Journal of Medicine",
         1,
         5
        ],
        [
         "Gillette Children's Hospital",
         1,
         5
        ],
        [
         "University of Rochester Medical Center",
         1,
         5
        ],
        [
         "Memorial Hermann Health System",
         1,
         5
        ],
        [
         "health.com",
         1,
         6
        ],
        [
         "Banner Health",
         1,
         6
        ],
        [
         "Beaumont.org",
         1,
         6
        ],
        [
         "Johns Hopkins Medicine",
         1,
         6
        ],
        [
         "American Brain Foundation",
         1,
         6
        ],
        [
         "Lippincott",
         1,
         6
        ],
        [
         "Children’s Health",
         1,
         6
        ],
        [
         "Marler Clark",
         1,
         6
        ],
        [
         "NPİSTANBUL",
         1,
         6
        ],
        [
         "UC San Francisco",
         1,
         7
        ],
        [
         "MedlinePlus (.gov)",
         1,
         7
        ],
        [
         "Advocate Health Care",
         1,
         7
        ],
        [
         "Pulmonology Advisor",
         1,
         7
        ],
        [
         "Child Neurology Foundation",
         1,
         7
        ],
        [
         "MN Dept. of Health",
         1,
         7
        ],
        [
         "BLK-Max Hospital",
         1,
         7
        ],
        [
         "Vax-Before-Travel",
         1,
         8
        ],
        [
         "SUNY Upstate Medical University",
         1,
         8
        ],
        [
         "eMedicineHealth",
         1,
         8
        ],
        [
         "Drugs.com",
         1,
         8
        ],
        [
         "Yale Medicine",
         1,
         8
        ],
        [
         "Physiopedia",
         1,
         8
        ],
        [
         "Wiley Online Library",
         1,
         8
        ],
        [
         "DynaMed",
         1,
         9
        ],
        [
         "Boston Children's Hospital",
         1,
         9
        ],
        [
         "Clinical Info HIV.gov",
         1,
         9
        ],
        [
         "Pulsenotes",
         1,
         9
        ],
        [
         "Medscape",
         1,
         9
        ],
        [
         "Jefferson Health",
         1,
         9
        ],
        [
         "Gavi, the Vaccine Alliance",
         1,
         9
        ],
        [
         "Medical News Today",
         1,
         9
        ],
        [
         "Verywell Health",
         1,
         10
        ],
        [
         "Medbullets",
         1,
         10
        ],
        [
         "Life in the Fast Lane • LITFL",
         1,
         10
        ]
       ],
       "datasetInfos": [],
       "dbfsResultPath": null,
       "isJsonSchema": true,
       "metadata": {},
       "overflow": false,
       "plotOptions": {
        "customPlotOptions": {},
        "displayType": "table",
        "pivotAggregation": null,
        "pivotColumns": null,
        "xColumns": null,
        "yColumns": null
       },
       "removedWidgets": [],
       "schema": [
        {
         "metadata": "{}",
         "name": "Source",
         "type": "\"string\""
        },
        {
         "metadata": "{}",
         "name": "No_of_Results",
         "type": "\"long\""
        },
        {
         "metadata": "{}",
         "name": "Best_Position",
         "type": "\"integer\""
        }
       ],
       "type": "table"
      }
     },
     "output_type": "display_data"
    }
   ],
   "source": [
    "#Source-wise count of Google Search results and their best positions\n",
    "\n",
    "from pyspark.sql.functions import col, count, min\n",
    "\n",
    "df_serpapi_spark.groupBy(\"Source\") \\\n",
    "    .agg(\n",
    "        count(\"*\").alias(\"No_of_Results\"),\n",
    "        min(\"Position\").alias(\"Best_Position\")  # Lower means higher rank\n",
    "    ) \\\n",
    "    .orderBy(col(\"No_of_Results\").desc(), col(\"Best_Position\")) \\\n",
    "    .display(truncate=False)\n"
   ]
  },
  {
   "cell_type": "markdown",
   "metadata": {
    "application/vnd.databricks.v1+cell": {
     "cellMetadata": {
      "byteLimit": 2048000,
      "rowLimit": 10000
     },
     "inputWidgets": {},
     "nuid": "0b85e18c-4f6d-4365-b9a5-b226d1c383d5",
     "showTitle": false,
     "tableResultSettingsMap": {},
     "title": ""
    }
   },
   "source": [
    "**Which Titles appear most frequently in the top 3 positions, and which sources do they come from**"
   ]
  },
  {
   "cell_type": "code",
   "execution_count": 0,
   "metadata": {
    "application/vnd.databricks.v1+cell": {
     "cellMetadata": {
      "byteLimit": 2048000,
      "rowLimit": 10000
     },
     "inputWidgets": {},
     "nuid": "3ddd40c2-3584-4187-8877-0c7ac88e8c82",
     "showTitle": false,
     "tableResultSettingsMap": {},
     "title": ""
    }
   },
   "outputs": [
    {
     "output_type": "display_data",
     "data": {
      "text/html": [
       "<style scoped>\n",
       "  .table-result-container {\n",
       "    max-height: 300px;\n",
       "    overflow: auto;\n",
       "  }\n",
       "  table, th, td {\n",
       "    border: 1px solid black;\n",
       "    border-collapse: collapse;\n",
       "  }\n",
       "  th, td {\n",
       "    padding: 5px;\n",
       "  }\n",
       "  th {\n",
       "    text-align: left;\n",
       "  }\n",
       "</style><div class='table-result-container'><table class='table-result'><thead style='background-color: white'><tr><th>Title</th><th>Count</th><th>Top_Sources</th></tr></thead><tbody><tr><td>Guillain-Barré Syndrome</td><td>4</td><td>List(National Institute of Neurological Disorders and Stroke (.gov), Temple Health, Medcomic, Mayo Clinic Proceedings)</td></tr><tr><td>Guillain-Barré Syndrome | McGovern Medical School</td><td>1</td><td>List(UTHealth Houston)</td></tr><tr><td>Guillain-Barre Syndrome</td><td>1</td><td>List(Aurora Health Care)</td></tr><tr><td>Guillain-Barré syndrome: Types, Symptoms, Causes & ...</td><td>1</td><td>List(PACE Hospitals)</td></tr><tr><td>Guillain-Barré Syndrome (GBS) and Vaccines</td><td>1</td><td>List(Centers for Disease Control and Prevention | CDC (.gov))</td></tr><tr><td>Guillain Barre Syndrome (GBS)</td><td>1</td><td>List(EMCrit Blog)</td></tr><tr><td>Listing: Guillain-Barré Syndrome Resources</td><td>1</td><td>List(Shirley Ryan AbilityLab)</td></tr><tr><td>Guillain–Barré syndrome outbreak in Pune - The Lancet</td><td>1</td><td>List(The Lancet)</td></tr><tr><td>India faces Guillain-Barré outbreak</td><td>1</td><td>List(aviNews)</td></tr><tr><td>Miller Fisher variant of Guillain-Barre Syndrome</td><td>1</td><td>List(EyeWiki)</td></tr><tr><td>GUILLAIN-BARRÉ SYNDROME Definition & Meaning</td><td>1</td><td>List(Merriam-Webster)</td></tr><tr><td>Guillain-Barré syndrome (GBS)</td><td>1</td><td>List(Healthline)</td></tr><tr><td>Physical Therapy Guide to Guillain-Barré Syndrome</td><td>1</td><td>List(ChoosePT)</td></tr><tr><td>When Your Child Has Guillain-Barre Syndrome (GBS)</td><td>1</td><td>List(Saint Luke's Health System Kansas City)</td></tr><tr><td>Guillain-Barré Syndrome | Campylobacter</td><td>1</td><td>List(Centers for Disease Control and Prevention | CDC (.gov))</td></tr><tr><td>Guillain-Barré Syndrome: Causes, Symptoms, ... - WebMD</td><td>1</td><td>List(WebMD)</td></tr><tr><td>Guillain-Barré syndrome in adults: Treatment and prognosis</td><td>1</td><td>List(Wolters Kluwer)</td></tr><tr><td>Guillain-Barré Syndrome (in Children)</td><td>1</td><td>List(Carle Health)</td></tr><tr><td>Guillain-Barré syndrome Information - Mount Sinai</td><td>1</td><td>List(Mount Sinai)</td></tr><tr><td>Guillain-Barre syndrome - Neurology</td><td>1</td><td>List(Emory Healthcare)</td></tr><tr><td>Guillain-Barre Syndrome (GBS) Symptoms - Baptist Health</td><td>1</td><td>List(baptisthealth.com)</td></tr><tr><td>Guillain-Barre syndrome - Symptoms and causes</td><td>1</td><td>List(Mayo Clinic)</td></tr><tr><td>What is Guillain-Barré Syndrome or GBS</td><td>1</td><td>List(GBS/CIDP Foundation International)</td></tr><tr><td>Understanding Guillain-Barré Syndrome</td><td>1</td><td>List(YouTube · Zero To Finals)</td></tr><tr><td>What is Guillain-Barré Syndrome (GBS)? - By Adhikari Lifeline</td><td>1</td><td>List(adhikarilifeline.com)</td></tr><tr><td>Guillain-Barré Syndrome (GBS): Symptoms & Treatment</td><td>1</td><td>List(Cleveland Clinic)</td></tr><tr><td>Guillain-Barré Syndrome - Symptoms, Causes, Treatment</td><td>1</td><td>List(National Organization for Rare Disorders)</td></tr></tbody></table></div>"
      ]
     },
     "metadata": {
      "application/vnd.databricks.v1+output": {
       "addedWidgets": {},
       "aggData": [],
       "aggError": "",
       "aggOverflow": false,
       "aggSchema": [],
       "aggSeriesLimitReached": false,
       "aggType": "",
       "arguments": {},
       "columnCustomDisplayInfos": {},
       "data": [
        [
         "Guillain-Barré Syndrome",
         4,
         [
          "National Institute of Neurological Disorders and Stroke (.gov)",
          "Temple Health",
          "Medcomic",
          "Mayo Clinic Proceedings"
         ]
        ],
        [
         "Guillain-Barré Syndrome | McGovern Medical School",
         1,
         [
          "UTHealth Houston"
         ]
        ],
        [
         "Guillain-Barre Syndrome",
         1,
         [
          "Aurora Health Care"
         ]
        ],
        [
         "Guillain-Barré syndrome: Types, Symptoms, Causes & ...",
         1,
         [
          "PACE Hospitals"
         ]
        ],
        [
         "Guillain-Barré Syndrome (GBS) and Vaccines",
         1,
         [
          "Centers for Disease Control and Prevention | CDC (.gov)"
         ]
        ],
        [
         "Guillain Barre Syndrome (GBS)",
         1,
         [
          "EMCrit Blog"
         ]
        ],
        [
         "Listing: Guillain-Barré Syndrome Resources",
         1,
         [
          "Shirley Ryan AbilityLab"
         ]
        ],
        [
         "Guillain–Barré syndrome outbreak in Pune - The Lancet",
         1,
         [
          "The Lancet"
         ]
        ],
        [
         "India faces Guillain-Barré outbreak",
         1,
         [
          "aviNews"
         ]
        ],
        [
         "Miller Fisher variant of Guillain-Barre Syndrome",
         1,
         [
          "EyeWiki"
         ]
        ],
        [
         "GUILLAIN-BARRÉ SYNDROME Definition & Meaning",
         1,
         [
          "Merriam-Webster"
         ]
        ],
        [
         "Guillain-Barré syndrome (GBS)",
         1,
         [
          "Healthline"
         ]
        ],
        [
         "Physical Therapy Guide to Guillain-Barré Syndrome",
         1,
         [
          "ChoosePT"
         ]
        ],
        [
         "When Your Child Has Guillain-Barre Syndrome (GBS)",
         1,
         [
          "Saint Luke's Health System Kansas City"
         ]
        ],
        [
         "Guillain-Barré Syndrome | Campylobacter",
         1,
         [
          "Centers for Disease Control and Prevention | CDC (.gov)"
         ]
        ],
        [
         "Guillain-Barré Syndrome: Causes, Symptoms, ... - WebMD",
         1,
         [
          "WebMD"
         ]
        ],
        [
         "Guillain-Barré syndrome in adults: Treatment and prognosis",
         1,
         [
          "Wolters Kluwer"
         ]
        ],
        [
         "Guillain-Barré Syndrome (in Children)",
         1,
         [
          "Carle Health"
         ]
        ],
        [
         "Guillain-Barré syndrome Information - Mount Sinai",
         1,
         [
          "Mount Sinai"
         ]
        ],
        [
         "Guillain-Barre syndrome - Neurology",
         1,
         [
          "Emory Healthcare"
         ]
        ],
        [
         "Guillain-Barre Syndrome (GBS) Symptoms - Baptist Health",
         1,
         [
          "baptisthealth.com"
         ]
        ],
        [
         "Guillain-Barre syndrome - Symptoms and causes",
         1,
         [
          "Mayo Clinic"
         ]
        ],
        [
         "What is Guillain-Barré Syndrome or GBS",
         1,
         [
          "GBS/CIDP Foundation International"
         ]
        ],
        [
         "Understanding Guillain-Barré Syndrome",
         1,
         [
          "YouTube · Zero To Finals"
         ]
        ],
        [
         "What is Guillain-Barré Syndrome (GBS)? - By Adhikari Lifeline",
         1,
         [
          "adhikarilifeline.com"
         ]
        ],
        [
         "Guillain-Barré Syndrome (GBS): Symptoms & Treatment",
         1,
         [
          "Cleveland Clinic"
         ]
        ],
        [
         "Guillain-Barré Syndrome - Symptoms, Causes, Treatment",
         1,
         [
          "National Organization for Rare Disorders"
         ]
        ]
       ],
       "datasetInfos": [],
       "dbfsResultPath": null,
       "isJsonSchema": true,
       "metadata": {},
       "overflow": false,
       "plotOptions": {
        "customPlotOptions": {},
        "displayType": "table",
        "pivotAggregation": null,
        "pivotColumns": null,
        "xColumns": null,
        "yColumns": null
       },
       "removedWidgets": [],
       "schema": [
        {
         "metadata": "{}",
         "name": "Title",
         "type": "\"string\""
        },
        {
         "metadata": "{}",
         "name": "Count",
         "type": "\"long\""
        },
        {
         "metadata": "{}",
         "name": "Top_Sources",
         "type": "{\"type\":\"array\",\"elementType\":\"string\",\"containsNull\":false}"
        }
       ],
       "type": "table"
      }
     },
     "output_type": "display_data"
    }
   ],
   "source": [
    "# Most frequent Titles in top 3 positions along with their Sources\n",
    "\n",
    "from pyspark.sql.functions import col, count, collect_set\n",
    "\n",
    "# Filter top 3 positions\n",
    "top_positions_df = df_serpapi_spark.filter(col(\"Position\") <= 3)\n",
    "\n",
    "# Group by Title and collect the Sources\n",
    "top_titles_with_sources = top_positions_df.groupBy(\"Title\") \\\n",
    "    .agg(\n",
    "        count(\"*\").alias(\"Count\"),\n",
    "        collect_set(\"Source\").alias(\"Top_Sources\")\n",
    "    ) \\\n",
    "    .orderBy(col(\"Count\").desc())\n",
    "\n",
    "top_titles_with_sources.display(truncate=False)\n",
    "\n"
   ]
  },
  {
   "cell_type": "markdown",
   "metadata": {
    "application/vnd.databricks.v1+cell": {
     "cellMetadata": {},
     "inputWidgets": {},
     "nuid": "d20eb39b-5e81-4933-923d-c2d12c4a183e",
     "showTitle": false,
     "tableResultSettingsMap": {},
     "title": ""
    }
   },
   "source": [
    "**Topic Categorization of Google Search Snippets**"
   ]
  },
  {
   "cell_type": "code",
   "execution_count": 0,
   "metadata": {
    "application/vnd.databricks.v1+cell": {
     "cellMetadata": {
      "byteLimit": 2048000,
      "rowLimit": 10000
     },
     "inputWidgets": {},
     "nuid": "8ac1e7e8-8e53-4e1b-8c06-e6582f69459d",
     "showTitle": false,
     "tableResultSettingsMap": {},
     "title": ""
    }
   },
   "outputs": [
    {
     "output_type": "display_data",
     "data": {
      "text/html": [
       "<style scoped>\n",
       "  .table-result-container {\n",
       "    max-height: 300px;\n",
       "    overflow: auto;\n",
       "  }\n",
       "  table, th, td {\n",
       "    border: 1px solid black;\n",
       "    border-collapse: collapse;\n",
       "  }\n",
       "  th, td {\n",
       "    padding: 5px;\n",
       "  }\n",
       "  th {\n",
       "    text-align: left;\n",
       "  }\n",
       "</style><div class='table-result-container'><table class='table-result'><thead style='background-color: white'><tr><th>Topic</th><th>count</th></tr></thead><tbody><tr><td>Other</td><td>54</td></tr><tr><td>Symptoms</td><td>20</td></tr><tr><td>Causes</td><td>14</td></tr><tr><td>Treatment</td><td>5</td></tr><tr><td>Diagnosis</td><td>3</td></tr><tr><td>Recovery</td><td>3</td></tr></tbody></table></div>"
      ]
     },
     "metadata": {
      "application/vnd.databricks.v1+output": {
       "addedWidgets": {},
       "aggData": [],
       "aggError": "",
       "aggOverflow": false,
       "aggSchema": [],
       "aggSeriesLimitReached": false,
       "aggType": "",
       "arguments": {},
       "columnCustomDisplayInfos": {},
       "data": [
        [
         "Other",
         54
        ],
        [
         "Symptoms",
         20
        ],
        [
         "Causes",
         14
        ],
        [
         "Treatment",
         5
        ],
        [
         "Diagnosis",
         3
        ],
        [
         "Recovery",
         3
        ]
       ],
       "datasetInfos": [],
       "dbfsResultPath": null,
       "isJsonSchema": true,
       "metadata": {},
       "overflow": false,
       "plotOptions": {
        "customPlotOptions": {},
        "displayType": "table",
        "pivotAggregation": null,
        "pivotColumns": null,
        "xColumns": null,
        "yColumns": null
       },
       "removedWidgets": [],
       "schema": [
        {
         "metadata": "{}",
         "name": "Topic",
         "type": "\"string\""
        },
        {
         "metadata": "{}",
         "name": "count",
         "type": "\"long\""
        }
       ],
       "type": "table"
      }
     },
     "output_type": "display_data"
    }
   ],
   "source": [
    "# Categorize search result snippets into medical topics like Symptoms, Causes, Treatment, etc. and count occurrences\n",
    "\n",
    "from pyspark.sql.functions import when, col\n",
    "\n",
    "df_tagged = df_serpapi_spark.withColumn(\"Topic\",\n",
    "    when(col(\"Snippet\").rlike(\"(?i)symptom\"), \"Symptoms\")\n",
    "    .when(col(\"Snippet\").rlike(\"(?i)cause|trigger\"), \"Causes\")\n",
    "    .when(col(\"Snippet\").rlike(\"(?i)treat|therapy|manage\"), \"Treatment\")\n",
    "    .when(col(\"Snippet\").rlike(\"(?i)recover|rehab\"), \"Recovery\")\n",
    "    .when(col(\"Snippet\").rlike(\"(?i)diagnos\"), \"Diagnosis\")\n",
    "    .otherwise(\"Other\")\n",
    ")\n",
    "\n",
    "df_tagged.groupBy(\"Topic\").count().orderBy(\"count\", ascending=False).display()\n"
   ]
  },
  {
   "cell_type": "markdown",
   "metadata": {
    "application/vnd.databricks.v1+cell": {
     "cellMetadata": {},
     "inputWidgets": {},
     "nuid": "4c80bb80-01b8-4296-9c9a-24548ff49e07",
     "showTitle": false,
     "tableResultSettingsMap": {},
     "title": ""
    }
   },
   "source": [
    "**Saving Clinical Trials and Google Search Results DataFrames as Spark Tables**"
   ]
  },
  {
   "cell_type": "code",
   "execution_count": 0,
   "metadata": {
    "application/vnd.databricks.v1+cell": {
     "cellMetadata": {
      "byteLimit": 2048000,
      "rowLimit": 10000
     },
     "inputWidgets": {},
     "nuid": "8211f76e-5ad6-476d-8ae5-705274352b48",
     "showTitle": false,
     "tableResultSettingsMap": {},
     "title": ""
    }
   },
   "outputs": [],
   "source": [
    "#Saving Clinical Trials DataFrame as a Spark Table\n",
    "df_clinical_spark.write.mode(\"overwrite\").saveAsTable(\"final_clinical_data\")\n"
   ]
  },
  {
   "cell_type": "code",
   "execution_count": 0,
   "metadata": {
    "application/vnd.databricks.v1+cell": {
     "cellMetadata": {
      "byteLimit": 2048000,
      "implicitDf": true,
      "rowLimit": 10000
     },
     "inputWidgets": {},
     "nuid": "0e9836a4-1f0e-492c-b461-34e61be5184d",
     "showTitle": false,
     "tableResultSettingsMap": {},
     "title": ""
    }
   },
   "outputs": [
    {
     "output_type": "display_data",
     "data": {
      "text/html": [
       "<style scoped>\n",
       "  .table-result-container {\n",
       "    max-height: 300px;\n",
       "    overflow: auto;\n",
       "  }\n",
       "  table, th, td {\n",
       "    border: 1px solid black;\n",
       "    border-collapse: collapse;\n",
       "  }\n",
       "  th, td {\n",
       "    padding: 5px;\n",
       "  }\n",
       "  th {\n",
       "    text-align: left;\n",
       "  }\n",
       "</style><div class='table-result-container'><table class='table-result'><thead style='background-color: white'><tr><th>nctId</th><th>briefTitle</th><th>overallStatus</th><th>hasResults</th></tr></thead><tbody><tr><td>NCT02029378</td><td>Inhibition of Complement Activation (Eculizumab) in Guillain-Barre Syndrome Study</td><td>UNKNOWN</td><td>false</td></tr><tr><td>NCT01306578</td><td>Intravenous Immunoglobulin (IVIG) Versus Plasma Exchange (PE) for Ventilated Children With Guillain Barre Syndrome (GBS)</td><td>COMPLETED</td><td>false</td></tr><tr><td>NCT03710278</td><td>The Effectiveness and Safety of Human Lumbar Puncture Assist Device (LPat)</td><td>COMPLETED</td><td>false</td></tr><tr><td>NCT03773328</td><td>A Clinical Trial of CK0801 (a New Drug) In Patients With Treatment-Resistant Guillain-Barré Syndrome (GBS)</td><td>WITHDRAWN</td><td>false</td></tr><tr><td>NCT03840928</td><td>PatientSpot Formerly Known as ArthritisPower</td><td>RECRUITING</td><td>false</td></tr><tr><td>NCT00004833</td><td>Randomized Study of Plasmapheresis or Human Immunoglobulin Infusion in Childhood Guillain-Barre Syndrome</td><td>TERMINATED</td><td>false</td></tr><tr><td>NCT06200454</td><td>Predictive Value of Neuromuscular Ultrasound of Cranial Nerves in Guillain-Barré Syndrome</td><td>NOT_YET_RECRUITING</td><td>false</td></tr><tr><td>NCT04927598</td><td>Predictors and Prognostic Factors of Gullian Barrie Syndrome Outcome</td><td>COMPLETED</td><td>false</td></tr><tr><td>NCT05461898</td><td>RehabGBs: Rehabilitation in People With Guillain-Barré Syndrome</td><td>RECRUITING</td><td>false</td></tr><tr><td>NCT02582853</td><td>sCD163 as a Potential Biomarker in Guillain- Barré Syndrome</td><td>UNKNOWN</td><td>false</td></tr><tr><td>NCT06620198</td><td>Upper Limb Robot-Assisted Therapy in Patients with Guillain-Barré Syndrome</td><td>ACTIVE_NOT_RECRUITING</td><td>false</td></tr><tr><td>NCT06041451</td><td>Early and Late Prognosis in Patients With Guillain-Barre Syndrome</td><td>UNKNOWN</td><td>false</td></tr><tr><td>NCT00575653</td><td>Safety Study of GBS Following Menactra Meningococcal Vaccination</td><td>COMPLETED</td><td>false</td></tr><tr><td>NCT02493725</td><td>JET-GBS - Japanese Eculizumab Trial for GBS</td><td>COMPLETED</td><td>false</td></tr><tr><td>NCT06167239</td><td>Ventilator Trigger Sensitivity Adjustment Versus Threshold Inspiratory Muscle Training on Arterial Blood Gases</td><td>RECRUITING</td><td>false</td></tr><tr><td>NCT05284786</td><td>Ultrasonography and Electrophysiology in GBS</td><td>UNKNOWN</td><td>false</td></tr><tr><td>NCT05701189</td><td>Evaluating Efgartigimod in Patients with Guillain-Barré Syndrome</td><td>RECRUITING</td><td>false</td></tr><tr><td>NCT06885762</td><td>Efgartigimod for the Treatment of Guillain-Barré Syndrome</td><td>NOT_YET_RECRUITING</td><td>false</td></tr><tr><td>NCT05104762</td><td>IVIG Versus Plasmapheresis in the Treatment of Guillian Barrie Syndrome Patients</td><td>COMPLETED</td><td>false</td></tr><tr><td>NCT06615622</td><td>Our Study Aims to Determine If Nerve Alterations in Acute GBS and CIDP Detectable by Ultrasound Match Electrodiagnostic Findings and If This Method Aids Early Diagnosis, Predict Their Outcomes and Differentiate Between Axonal and Demyelinating Subtypes.</td><td>RECRUITING</td><td>false</td></tr><tr><td>NCT05940922</td><td>RWE-based Treatment Patterns and Outcomes in CIDP</td><td>NOT_YET_RECRUITING</td><td>false</td></tr><tr><td>NCT06822231</td><td>High-Tech Rehabilitation Pathway for Acute Adult Neuromuscular Diseases - Fit4MedRob-Acute MND Project</td><td>NOT_YET_RECRUITING</td><td>false</td></tr><tr><td>NCT05945784</td><td>Exploring Accessible Beauty for Individuals With Upper Extremity Deficits</td><td>COMPLETED</td><td>false</td></tr><tr><td>NCT05292690</td><td>An Assistive Powered Wheelchair: Stage 2 Trial</td><td>COMPLETED</td><td>false</td></tr><tr><td>NCT04701164</td><td>Efficacy and Safety of ANX005 in Subjects With Guillain-Barré Syndrome</td><td>COMPLETED</td><td>false</td></tr><tr><td>NCT00173199</td><td>The Changes of Cytokines in Guillain Barré Syndrome: the Correlation With Clinical Manifestations and Skin Innervation</td><td>UNKNOWN</td><td>false</td></tr><tr><td>NCT05114941</td><td>Comparison of the Efficacy and Safety of Immunoadsorption and Intravenous Immunoglobulin for Guillain-Barre Syndrome</td><td>NOT_YET_RECRUITING</td><td>false</td></tr><tr><td>NCT03206541</td><td>Neurologic Manifestations of the Arbovirus Infection in Colombia</td><td>COMPLETED</td><td>false</td></tr><tr><td>NCT02422875</td><td>Comparative Autoantibody and Immunologic Cell Marker Study</td><td>ENROLLING_BY_INVITATION</td><td>false</td></tr><tr><td>NCT01370200</td><td>Regional Citrate Anticoagulation in Plasma Exchange Treatment</td><td>COMPLETED</td><td>false</td></tr><tr><td>NCT06300359</td><td>Prognostic Indicators of Gullian-Barre Syndrome</td><td>NOT_YET_RECRUITING</td><td>false</td></tr><tr><td>NCT04871035</td><td>Immunoadsorption Versus Plasma Exchange for Treatment of Guillain-Barré Syndrome (GBS)</td><td>RECRUITING</td><td>false</td></tr><tr><td>NCT04674163</td><td>Expression Profile of ERK5 and PKM2 Kinases in Neuroinflammatory Diseases.</td><td>WITHDRAWN</td><td>false</td></tr><tr><td>NCT04035135</td><td>A Clinical Study of ANX005 and IVIG in Subjects With Guillain Barré Syndrome (GBS)</td><td>COMPLETED</td><td>false</td></tr><tr><td>NCT01582763</td><td>International Guillain-Barré Syndrome Outcome Study</td><td>COMPLETED</td><td>false</td></tr><tr><td>NCT03801135</td><td>Changes in Haemostasis After Therapeutic Plasmapheresis With Citrate Anticoagulation</td><td>UNKNOWN</td><td>false</td></tr><tr><td>NCT06939634</td><td>Evaluation of Usability and Safety of the System Atalante in Patients With High Paraplegia and Tetraplegia</td><td>COMPLETED</td><td>false</td></tr><tr><td>NCT05491096</td><td>Effects of Proprioceptive Neuromuscular Training on Sensory and Motor Function in Guillain Barre Syndrome</td><td>COMPLETED</td><td>false</td></tr><tr><td>NCT06032741</td><td>Prognosis in Patients With Guillain-Barre Syndrome</td><td>UNKNOWN</td><td>false</td></tr><tr><td>NCT05494619</td><td>A Study to Evaluate the Efficacy, Safety, Pharmacokinetics, and Pharmacodynamics of Crovalimab in Participants With Guillain-Barré Syndrome (GBS)</td><td>WITHDRAWN</td><td>false</td></tr><tr><td>NCT06502015</td><td>Biomarkers in Autoimmune Disease of Nervous System</td><td>RECRUITING</td><td>false</td></tr><tr><td>NCT02780570</td><td>Small Volume Plasma Exchange (SVPE) for Guillain-Barré Syndrome (GBS) Patients</td><td>COMPLETED</td><td>false</td></tr><tr><td>NCT02883270</td><td>Effects of Robotic-assisted Gait Training In Non-Ambulatory Patients After Guillain-Barré Syndrome</td><td>COMPLETED</td><td>false</td></tr><tr><td>NCT02722070</td><td>Processing Integration in Neurological Patients Using fMRI</td><td>UNKNOWN</td><td>false</td></tr><tr><td>NCT01024088</td><td>Prospective Study on Swallowing/Breathing Interactions in Severe Guillain Barre Syndrome.</td><td>COMPLETED</td><td>false</td></tr><tr><td>NCT02221271</td><td>Phase III Clinical Trial of NPB-01 in Patients With Guillain-Barré Syndrome</td><td>COMPLETED</td><td>false</td></tr><tr><td>NCT06740656</td><td>Neuromuscular Complications of MEK Inhibitors: a French Case Series and a Systematic Review of the Literature</td><td>NOT_YET_RECRUITING</td><td>false</td></tr><tr><td>NCT03826056</td><td>Neurology Inpatient Clinical Education Trial</td><td>COMPLETED</td><td>false</td></tr><tr><td>NCT04550611</td><td>Mini-pool Intravenous Immunoglobulin (MP-IVIG) in Guillain-Barré Syndrome</td><td>UNKNOWN</td><td>false</td></tr><tr><td>NCT01469858</td><td>Perception and Multisensory Integration in Neurological Patients Using fMRI</td><td>UNKNOWN</td><td>false</td></tr><tr><td>NCT06605612</td><td>Development and Validation of the FBIndex to Determine the Risk of Falls for Patients with Neuromuscular Disorders</td><td>ENROLLING_BY_INVITATION</td><td>false</td></tr><tr><td>NCT06612242</td><td>Early vs. Late Tracheostomy in Patients With Guillain -Barre Syndrome</td><td>RECRUITING</td><td>false</td></tr><tr><td>NCT05630313</td><td>Gene Sequencing as a Strategy for Identifying Genetic Factors Associated With Serious Adverse Events After Covid-19 Vaccines in Use in Brazil</td><td>RECRUITING</td><td>false</td></tr><tr><td>NCT03941184</td><td>Spontaneous Coronary Artery Dissection (SCAD) and Autoimmunity</td><td>COMPLETED</td><td>false</td></tr><tr><td>NCT06940908</td><td>Living With Guillain-Barré Syndrome as Children.</td><td>RECRUITING</td><td>false</td></tr><tr><td>NCT04053452</td><td>Peripheral Nerve Ultrasound for Diagnosis and Prognosis of Guillain-Barre Syndrome</td><td>TERMINATED</td><td>true</td></tr><tr><td>NCT04249752</td><td>Biomarkers in Polyradiculoneuropathies</td><td>UNKNOWN</td><td>false</td></tr><tr><td>NCT02342184</td><td>Efficacy and Safety Study of GB-0998 for Guillain-Barré Syndrome</td><td>COMPLETED</td><td>false</td></tr><tr><td>NCT06334796</td><td>Artificial Intelligence-powered Virtual Assistant for Emergency Triage in Neurology</td><td>COMPLETED</td><td>false</td></tr><tr><td>NCT00411216</td><td>Recovery of Visual Acuity in People With Vestibular Deficits</td><td>COMPLETED</td><td>true</td></tr><tr><td>NCT00167622</td><td>Early Mechanical Ventilation for Guillain Barré Syndrome</td><td>COMPLETED</td><td>false</td></tr><tr><td>NCT02459808</td><td>Gastrointestinal Transit Time in Patients With Guillain-Barré Syndrome</td><td>WITHDRAWN</td><td>false</td></tr><tr><td>NCT04092140</td><td>Neuromuscular Ultrasound in Correlation to Neurophysiological Findings</td><td>UNKNOWN</td><td>false</td></tr><tr><td>NCT05095844</td><td>National Vaccine Adverse Event Reporting Survey and Etiology</td><td>UNKNOWN</td><td>false</td></tr><tr><td>NCT00056810</td><td>Assessment of Chronic Guillain-Barre Syndrome Improvement With Use of 4-aminopyridine</td><td>COMPLETED</td><td>false</td></tr><tr><td>NCT03268304</td><td>Feasibility of Two New Software Modules for the Rehabilitation of Patients With Neuromuscular Upper Limb Impairments</td><td>WITHDRAWN</td><td>false</td></tr><tr><td>NCT01005524</td><td>Brain Computer Interface for Communication in ICU: a Feasibility Study</td><td>COMPLETED</td><td>false</td></tr><tr><td>NCT05212792</td><td>Genomics and COVID-19 Vaccine Adverse Events</td><td>RECRUITING</td><td>false</td></tr><tr><td>NCT04166357</td><td>Early Prediction of Respiratory and Autonomic Complications of GBS Using Neuromuscular Ultrasound</td><td>UNKNOWN</td><td>false</td></tr><tr><td>NCT04829526</td><td>Firm Observational Clinical Unicenter Study on Guillain Barré Syndrome</td><td>RECRUITING</td><td>false</td></tr><tr><td>NCT04303962</td><td>Efficacy of Intravenous Gamma Globulin on Guillain-Barre Syndrome</td><td>UNKNOWN</td><td>false</td></tr><tr><td>NCT00271791</td><td>Prednisone Treatment for Vestibular Neuronitis</td><td>COMPLETED</td><td>false</td></tr><tr><td>NCT01655394</td><td>Change of Nerve Conduction Properties in IVIg Dependent Neuropathies</td><td>UNKNOWN</td><td>false</td></tr><tr><td>NCT05324176</td><td>Diaphragm Thickness by Ultrasonography in Neurological Disorders</td><td>COMPLETED</td><td>false</td></tr><tr><td>NCT03943589</td><td>A Study of Imlifidase in Patients With Guillain-Barré Syndrome</td><td>COMPLETED</td><td>true</td></tr><tr><td>NCT04752566</td><td>A Study to Evaluate the Efficacy and Safety of Eculizumab in Guillain-Barré Syndrome</td><td>COMPLETED</td><td>true</td></tr></tbody></table></div>"
      ]
     },
     "metadata": {
      "application/vnd.databricks.v1+output": {
       "addedWidgets": {},
       "aggData": [],
       "aggError": "",
       "aggOverflow": false,
       "aggSchema": [],
       "aggSeriesLimitReached": false,
       "aggType": "",
       "arguments": {},
       "columnCustomDisplayInfos": {},
       "data": [
        [
         "NCT02029378",
         "Inhibition of Complement Activation (Eculizumab) in Guillain-Barre Syndrome Study",
         "UNKNOWN",
         false
        ],
        [
         "NCT01306578",
         "Intravenous Immunoglobulin (IVIG) Versus Plasma Exchange (PE) for Ventilated Children With Guillain Barre Syndrome (GBS)",
         "COMPLETED",
         false
        ],
        [
         "NCT03710278",
         "The Effectiveness and Safety of Human Lumbar Puncture Assist Device (LPat)",
         "COMPLETED",
         false
        ],
        [
         "NCT03773328",
         "A Clinical Trial of CK0801 (a New Drug) In Patients With Treatment-Resistant Guillain-Barré Syndrome (GBS)",
         "WITHDRAWN",
         false
        ],
        [
         "NCT03840928",
         "PatientSpot Formerly Known as ArthritisPower",
         "RECRUITING",
         false
        ],
        [
         "NCT00004833",
         "Randomized Study of Plasmapheresis or Human Immunoglobulin Infusion in Childhood Guillain-Barre Syndrome",
         "TERMINATED",
         false
        ],
        [
         "NCT06200454",
         "Predictive Value of Neuromuscular Ultrasound of Cranial Nerves in Guillain-Barré Syndrome",
         "NOT_YET_RECRUITING",
         false
        ],
        [
         "NCT04927598",
         "Predictors and Prognostic Factors of Gullian Barrie Syndrome Outcome",
         "COMPLETED",
         false
        ],
        [
         "NCT05461898",
         "RehabGBs: Rehabilitation in People With Guillain-Barré Syndrome",
         "RECRUITING",
         false
        ],
        [
         "NCT02582853",
         "sCD163 as a Potential Biomarker in Guillain- Barré Syndrome",
         "UNKNOWN",
         false
        ],
        [
         "NCT06620198",
         "Upper Limb Robot-Assisted Therapy in Patients with Guillain-Barré Syndrome",
         "ACTIVE_NOT_RECRUITING",
         false
        ],
        [
         "NCT06041451",
         "Early and Late Prognosis in Patients With Guillain-Barre Syndrome",
         "UNKNOWN",
         false
        ],
        [
         "NCT00575653",
         "Safety Study of GBS Following Menactra Meningococcal Vaccination",
         "COMPLETED",
         false
        ],
        [
         "NCT02493725",
         "JET-GBS - Japanese Eculizumab Trial for GBS",
         "COMPLETED",
         false
        ],
        [
         "NCT06167239",
         "Ventilator Trigger Sensitivity Adjustment Versus Threshold Inspiratory Muscle Training on Arterial Blood Gases",
         "RECRUITING",
         false
        ],
        [
         "NCT05284786",
         "Ultrasonography and Electrophysiology in GBS",
         "UNKNOWN",
         false
        ],
        [
         "NCT05701189",
         "Evaluating Efgartigimod in Patients with Guillain-Barré Syndrome",
         "RECRUITING",
         false
        ],
        [
         "NCT06885762",
         "Efgartigimod for the Treatment of Guillain-Barré Syndrome",
         "NOT_YET_RECRUITING",
         false
        ],
        [
         "NCT05104762",
         "IVIG Versus Plasmapheresis in the Treatment of Guillian Barrie Syndrome Patients",
         "COMPLETED",
         false
        ],
        [
         "NCT06615622",
         "Our Study Aims to Determine If Nerve Alterations in Acute GBS and CIDP Detectable by Ultrasound Match Electrodiagnostic Findings and If This Method Aids Early Diagnosis, Predict Their Outcomes and Differentiate Between Axonal and Demyelinating Subtypes.",
         "RECRUITING",
         false
        ],
        [
         "NCT05940922",
         "RWE-based Treatment Patterns and Outcomes in CIDP",
         "NOT_YET_RECRUITING",
         false
        ],
        [
         "NCT06822231",
         "High-Tech Rehabilitation Pathway for Acute Adult Neuromuscular Diseases - Fit4MedRob-Acute MND Project",
         "NOT_YET_RECRUITING",
         false
        ],
        [
         "NCT05945784",
         "Exploring Accessible Beauty for Individuals With Upper Extremity Deficits",
         "COMPLETED",
         false
        ],
        [
         "NCT05292690",
         "An Assistive Powered Wheelchair: Stage 2 Trial",
         "COMPLETED",
         false
        ],
        [
         "NCT04701164",
         "Efficacy and Safety of ANX005 in Subjects With Guillain-Barré Syndrome",
         "COMPLETED",
         false
        ],
        [
         "NCT00173199",
         "The Changes of Cytokines in Guillain Barré Syndrome: the Correlation With Clinical Manifestations and Skin Innervation",
         "UNKNOWN",
         false
        ],
        [
         "NCT05114941",
         "Comparison of the Efficacy and Safety of Immunoadsorption and Intravenous Immunoglobulin for Guillain-Barre Syndrome",
         "NOT_YET_RECRUITING",
         false
        ],
        [
         "NCT03206541",
         "Neurologic Manifestations of the Arbovirus Infection in Colombia",
         "COMPLETED",
         false
        ],
        [
         "NCT02422875",
         "Comparative Autoantibody and Immunologic Cell Marker Study",
         "ENROLLING_BY_INVITATION",
         false
        ],
        [
         "NCT01370200",
         "Regional Citrate Anticoagulation in Plasma Exchange Treatment",
         "COMPLETED",
         false
        ],
        [
         "NCT06300359",
         "Prognostic Indicators of Gullian-Barre Syndrome",
         "NOT_YET_RECRUITING",
         false
        ],
        [
         "NCT04871035",
         "Immunoadsorption Versus Plasma Exchange for Treatment of Guillain-Barré Syndrome (GBS)",
         "RECRUITING",
         false
        ],
        [
         "NCT04674163",
         "Expression Profile of ERK5 and PKM2 Kinases in Neuroinflammatory Diseases.",
         "WITHDRAWN",
         false
        ],
        [
         "NCT04035135",
         "A Clinical Study of ANX005 and IVIG in Subjects With Guillain Barré Syndrome (GBS)",
         "COMPLETED",
         false
        ],
        [
         "NCT01582763",
         "International Guillain-Barré Syndrome Outcome Study",
         "COMPLETED",
         false
        ],
        [
         "NCT03801135",
         "Changes in Haemostasis After Therapeutic Plasmapheresis With Citrate Anticoagulation",
         "UNKNOWN",
         false
        ],
        [
         "NCT06939634",
         "Evaluation of Usability and Safety of the System Atalante in Patients With High Paraplegia and Tetraplegia",
         "COMPLETED",
         false
        ],
        [
         "NCT05491096",
         "Effects of Proprioceptive Neuromuscular Training on Sensory and Motor Function in Guillain Barre Syndrome",
         "COMPLETED",
         false
        ],
        [
         "NCT06032741",
         "Prognosis in Patients With Guillain-Barre Syndrome",
         "UNKNOWN",
         false
        ],
        [
         "NCT05494619",
         "A Study to Evaluate the Efficacy, Safety, Pharmacokinetics, and Pharmacodynamics of Crovalimab in Participants With Guillain-Barré Syndrome (GBS)",
         "WITHDRAWN",
         false
        ],
        [
         "NCT06502015",
         "Biomarkers in Autoimmune Disease of Nervous System",
         "RECRUITING",
         false
        ],
        [
         "NCT02780570",
         "Small Volume Plasma Exchange (SVPE) for Guillain-Barré Syndrome (GBS) Patients",
         "COMPLETED",
         false
        ],
        [
         "NCT02883270",
         "Effects of Robotic-assisted Gait Training In Non-Ambulatory Patients After Guillain-Barré Syndrome",
         "COMPLETED",
         false
        ],
        [
         "NCT02722070",
         "Processing Integration in Neurological Patients Using fMRI",
         "UNKNOWN",
         false
        ],
        [
         "NCT01024088",
         "Prospective Study on Swallowing/Breathing Interactions in Severe Guillain Barre Syndrome.",
         "COMPLETED",
         false
        ],
        [
         "NCT02221271",
         "Phase III Clinical Trial of NPB-01 in Patients With Guillain-Barré Syndrome",
         "COMPLETED",
         false
        ],
        [
         "NCT06740656",
         "Neuromuscular Complications of MEK Inhibitors: a French Case Series and a Systematic Review of the Literature",
         "NOT_YET_RECRUITING",
         false
        ],
        [
         "NCT03826056",
         "Neurology Inpatient Clinical Education Trial",
         "COMPLETED",
         false
        ],
        [
         "NCT04550611",
         "Mini-pool Intravenous Immunoglobulin (MP-IVIG) in Guillain-Barré Syndrome",
         "UNKNOWN",
         false
        ],
        [
         "NCT01469858",
         "Perception and Multisensory Integration in Neurological Patients Using fMRI",
         "UNKNOWN",
         false
        ],
        [
         "NCT06605612",
         "Development and Validation of the FBIndex to Determine the Risk of Falls for Patients with Neuromuscular Disorders",
         "ENROLLING_BY_INVITATION",
         false
        ],
        [
         "NCT06612242",
         "Early vs. Late Tracheostomy in Patients With Guillain -Barre Syndrome",
         "RECRUITING",
         false
        ],
        [
         "NCT05630313",
         "Gene Sequencing as a Strategy for Identifying Genetic Factors Associated With Serious Adverse Events After Covid-19 Vaccines in Use in Brazil",
         "RECRUITING",
         false
        ],
        [
         "NCT03941184",
         "Spontaneous Coronary Artery Dissection (SCAD) and Autoimmunity",
         "COMPLETED",
         false
        ],
        [
         "NCT06940908",
         "Living With Guillain-Barré Syndrome as Children.",
         "RECRUITING",
         false
        ],
        [
         "NCT04053452",
         "Peripheral Nerve Ultrasound for Diagnosis and Prognosis of Guillain-Barre Syndrome",
         "TERMINATED",
         true
        ],
        [
         "NCT04249752",
         "Biomarkers in Polyradiculoneuropathies",
         "UNKNOWN",
         false
        ],
        [
         "NCT02342184",
         "Efficacy and Safety Study of GB-0998 for Guillain-Barré Syndrome",
         "COMPLETED",
         false
        ],
        [
         "NCT06334796",
         "Artificial Intelligence-powered Virtual Assistant for Emergency Triage in Neurology",
         "COMPLETED",
         false
        ],
        [
         "NCT00411216",
         "Recovery of Visual Acuity in People With Vestibular Deficits",
         "COMPLETED",
         true
        ],
        [
         "NCT00167622",
         "Early Mechanical Ventilation for Guillain Barré Syndrome",
         "COMPLETED",
         false
        ],
        [
         "NCT02459808",
         "Gastrointestinal Transit Time in Patients With Guillain-Barré Syndrome",
         "WITHDRAWN",
         false
        ],
        [
         "NCT04092140",
         "Neuromuscular Ultrasound in Correlation to Neurophysiological Findings",
         "UNKNOWN",
         false
        ],
        [
         "NCT05095844",
         "National Vaccine Adverse Event Reporting Survey and Etiology",
         "UNKNOWN",
         false
        ],
        [
         "NCT00056810",
         "Assessment of Chronic Guillain-Barre Syndrome Improvement With Use of 4-aminopyridine",
         "COMPLETED",
         false
        ],
        [
         "NCT03268304",
         "Feasibility of Two New Software Modules for the Rehabilitation of Patients With Neuromuscular Upper Limb Impairments",
         "WITHDRAWN",
         false
        ],
        [
         "NCT01005524",
         "Brain Computer Interface for Communication in ICU: a Feasibility Study",
         "COMPLETED",
         false
        ],
        [
         "NCT05212792",
         "Genomics and COVID-19 Vaccine Adverse Events",
         "RECRUITING",
         false
        ],
        [
         "NCT04166357",
         "Early Prediction of Respiratory and Autonomic Complications of GBS Using Neuromuscular Ultrasound",
         "UNKNOWN",
         false
        ],
        [
         "NCT04829526",
         "Firm Observational Clinical Unicenter Study on Guillain Barré Syndrome",
         "RECRUITING",
         false
        ],
        [
         "NCT04303962",
         "Efficacy of Intravenous Gamma Globulin on Guillain-Barre Syndrome",
         "UNKNOWN",
         false
        ],
        [
         "NCT00271791",
         "Prednisone Treatment for Vestibular Neuronitis",
         "COMPLETED",
         false
        ],
        [
         "NCT01655394",
         "Change of Nerve Conduction Properties in IVIg Dependent Neuropathies",
         "UNKNOWN",
         false
        ],
        [
         "NCT05324176",
         "Diaphragm Thickness by Ultrasonography in Neurological Disorders",
         "COMPLETED",
         false
        ],
        [
         "NCT03943589",
         "A Study of Imlifidase in Patients With Guillain-Barré Syndrome",
         "COMPLETED",
         true
        ],
        [
         "NCT04752566",
         "A Study to Evaluate the Efficacy and Safety of Eculizumab in Guillain-Barré Syndrome",
         "COMPLETED",
         true
        ]
       ],
       "datasetInfos": [],
       "dbfsResultPath": null,
       "isJsonSchema": true,
       "metadata": {},
       "overflow": false,
       "plotOptions": {
        "customPlotOptions": {},
        "displayType": "table",
        "pivotAggregation": null,
        "pivotColumns": null,
        "xColumns": null,
        "yColumns": null
       },
       "removedWidgets": [],
       "schema": [
        {
         "metadata": "{}",
         "name": "nctId",
         "type": "\"string\""
        },
        {
         "metadata": "{}",
         "name": "briefTitle",
         "type": "\"string\""
        },
        {
         "metadata": "{}",
         "name": "overallStatus",
         "type": "\"string\""
        },
        {
         "metadata": "{}",
         "name": "hasResults",
         "type": "\"boolean\""
        }
       ],
       "type": "table"
      }
     },
     "output_type": "display_data"
    }
   ],
   "source": [
    "%sql\n",
    "select * from final_clinical_data"
   ]
  },
  {
   "cell_type": "code",
   "execution_count": 0,
   "metadata": {
    "application/vnd.databricks.v1+cell": {
     "cellMetadata": {
      "byteLimit": 2048000,
      "rowLimit": 10000
     },
     "inputWidgets": {},
     "nuid": "ff628ef1-a3fd-4758-acb5-3d61b189e330",
     "showTitle": false,
     "tableResultSettingsMap": {},
     "title": ""
    }
   },
   "outputs": [],
   "source": [
    "#Saving Google Search Results DataFrame as a Spark Table\n",
    "df_serpapi_spark.write.mode(\"overwrite\").saveAsTable(\"final_serpapi_data\")\n"
   ]
  },
  {
   "cell_type": "code",
   "execution_count": 0,
   "metadata": {
    "application/vnd.databricks.v1+cell": {
     "cellMetadata": {
      "byteLimit": 2048000,
      "implicitDf": true,
      "rowLimit": 10000
     },
     "inputWidgets": {},
     "nuid": "1a7fcd4c-444f-4dc9-9b52-5ebf1bf36e05",
     "showTitle": false,
     "tableResultSettingsMap": {},
     "title": ""
    }
   },
   "outputs": [
    {
     "output_type": "display_data",
     "data": {
      "text/html": [
       "<style scoped>\n",
       "  .table-result-container {\n",
       "    max-height: 300px;\n",
       "    overflow: auto;\n",
       "  }\n",
       "  table, th, td {\n",
       "    border: 1px solid black;\n",
       "    border-collapse: collapse;\n",
       "  }\n",
       "  th, td {\n",
       "    padding: 5px;\n",
       "  }\n",
       "  th {\n",
       "    text-align: left;\n",
       "  }\n",
       "</style><div class='table-result-container'><table class='table-result'><thead style='background-color: white'><tr><th>Position</th><th>Title</th><th>Link</th><th>Snippet</th><th>Source</th><th>Displayed_Link</th><th>Sitelinks</th></tr></thead><tbody><tr><td>6</td><td>Guillain-Barré Syndrome</td><td>https://www.hopkinsmedicine.org/health/conditions-and-diseases/guillainbarr-syndrome</td><td>Guillain-Barré syndrome (GBS) is a rare neurological disorder in which the body's immune system attacks the peripheral nervous system.</td><td>Johns Hopkins Medicine</td><td>https://www.hopkinsmedicine.org › ...</td><td></td></tr><tr><td>1</td><td>Guillain-Barré Syndrome | Campylobacter</td><td>https://www.cdc.gov/campylobacter/signs-symptoms/guillain-barre-syndrome.html</td><td>Guillain-Barré (Ghee-YAN Bah-RAY) syndrome happens when a person's immune system harms their nerves. This harm causes muscle weakness and ...</td><td>Centers for Disease Control and Prevention | CDC (.gov)</td><td>https://www.cdc.gov › ...</td><td></td></tr><tr><td>5</td><td>Guillain–Barré syndrome</td><td>https://www.who.int/news-room/fact-sheets/detail/guillain-barr%C3%A9-syndrome</td><td>Guillain-Barré syndrome (GBS) is a rare condition in which a person's immune system attacks the peripheral nerves.</td><td>World Health Organization (WHO)</td><td>https://www.who.int › ...</td><td></td></tr><tr><td>2</td><td>Guillain-Barré Syndrome (GBS): Symptoms & Treatment</td><td>https://my.clevelandclinic.org/health/diseases/15838-guillain-barre-syndrome</td><td>Guillain-Barré syndrome is a rare autoimmune condition in which your immune system attacks your peripheral nerves. It causes numbness and muscle weakness.</td><td>Cleveland Clinic</td><td>https://my.clevelandclinic.org › ...</td><td></td></tr><tr><td>1</td><td>Guillain-Barre syndrome - Symptoms and causes</td><td>https://www.mayoclinic.org/diseases-conditions/guillain-barre-syndrome/symptoms-causes/syc-20362793</td><td>Guillain-Barre syndrome often begins with tingling and weakness starting in the feet and legs and spreading to the upper body and arms. Some ...</td><td>Mayo Clinic</td><td>https://www.mayoclinic.org › ...</td><td></td></tr><tr><td>7</td><td>Guillain-Barre syndrome - Diagnosis and treatment</td><td>https://www.mayoclinic.org/diseases-conditions/guillain-barre-syndrome/diagnosis-treatment/drc-20363006</td><td>This rare autoimmune condition affects the nerves, causing weakness and tingling in the arms and legs that quickly spreads throughout the ...</td><td>Mayo Clinic</td><td>https://www.mayoclinic.org › ...</td><td>{'inline': [{'title': 'Symptoms and causes', 'link': 'https://www.mayoclinic.org/diseases-conditions/guillain-barre-syndrome/symptoms-causes/syc-20362793'}, {'title': 'Doctors and departments', 'link': 'https://www.mayoclinic.org/diseases-conditions/guillain-barre-syndrome/doctors-departments/ddc-20363037'}, {'title': 'Care at Mayo Clinic', 'link': 'https://www.mayoclinic.org/diseases-conditions/guillain-barre-syndrome/care-at-mayo-clinic/mac-20363049'}]}</td></tr><tr><td>3</td><td>Guillain-Barré Syndrome</td><td>https://www.ninds.nih.gov/health-information/disorders/guillain-barre-syndrome</td><td>Symptoms of Guillain-Barré syndrome · Difficulty with eye muscles and vision · Difficulty swallowing, speaking, or chewing · Pricking or pins ...</td><td>National Institute of Neurological Disorders and Stroke (.gov)</td><td>https://www.ninds.nih.gov › ...</td><td>{'inline': [{'title': 'What is Guillain-Barré...', 'link': 'https://www.ninds.nih.gov/health-information/disorders/guillain-barre-syndrome#toc-what-is-guillain-barr-syndrome-'}, {'title': 'How is Guillain-Barré...', 'link': 'https://www.ninds.nih.gov/health-information/disorders/guillain-barre-syndrome#toc-how-is-guillain-barr-syndrome-diagnosed-and-treated-'}, {'title': 'What are the latest updates on...', 'link': 'https://www.ninds.nih.gov/health-information/disorders/guillain-barre-syndrome#toc-what-are-the-latest-updates-on-guillain-barr-syndrome-'}]}</td></tr><tr><td>4</td><td>Guillain–Barré syndrome</td><td>https://en.wikipedia.org/wiki/Guillain%E2%80%93Barr%C3%A9_syndrome</td><td>Guillain–Barré syndrome (GBS) is a rapid-onset muscle weakness caused by the immune system damaging the peripheral nervous system.</td><td>Wikipedia</td><td>https://en.wikipedia.org › ...</td><td></td></tr><tr><td>8</td><td>Guillain-Barre Syndrome</td><td>https://www.physio-pedia.com/Guillain-Barre_Syndrome</td><td>Guillain-Barré syndrome (GBS) is a condition characterised by the autoimmune destruction of the peripheral sensory system.</td><td>Physiopedia</td><td>https://www.physio-pedia.com › ...</td><td>{'inline': [{'title': 'Case Study', 'link': 'https://www.physio-pedia.com/Case_Study:_Guillain-Barre_Syndrome_(Sub-Acute)'}, {'title': 'Acute Motor Axonal...', 'link': 'https://www.physio-pedia.com/Acute_Motor_Axonal_Neuropathy_(AMAN),_a_Variant_of_Guillain-Barre_Syndrome:_A_Case_Study'}, {'title': 'Edit', 'link': 'https://www.physio-pedia.com/Guillain-Barre_Syndrome?veaction=edit'}]}</td></tr><tr><td>2</td><td>Guillain-Barré syndrome Information - Mount Sinai</td><td>https://www.mountsinai.org/health-library/diseases-conditions/guillain-barr-syndrome</td><td>GBS damages parts of nerves. This nerve damage causes tingling, muscle weakness, loss of balance, and paralysis. GBS most often affects the nerve covering ( ...</td><td>Mount Sinai</td><td>https://www.mountsinai.org › ...</td><td></td></tr><tr><td>10</td><td>Guillain-Barré Syndrome | Campylobacter</td><td>https://www.cdc.gov/campylobacter/signs-symptoms/guillain-barre-syndrome.html</td><td>Guillain-Barré (Ghee-YAN Bah-RAY) syndrome happens when a person's immune system harms their nerves. This harm causes muscle weakness and ...</td><td>Centers for Disease Control and Prevention | CDC (.gov)</td><td>https://www.cdc.gov › ...</td><td></td></tr><tr><td>9</td><td>Guillain-Barre Syndrome: Practice Essentials, Background, ...</td><td>https://emedicine.medscape.com/article/315632-overview</td><td>Guillain-Barré syndrome (GBS) can be described as a collection of clinical syndromes that manifests as an acute inflammatory ...</td><td>Medscape</td><td>https://emedicine.medscape.com › ...</td><td></td></tr><tr><td>8</td><td>Guillain-Barré Syndrome (GBS) - Brain, Spinal Cord, and ...</td><td>https://www.msdmanuals.com/home/brain-spinal-cord-and-nerve-disorders/peripheral-nerve-and-related-disorders/guillain-barr%C3%A9-syndrome-gbs</td><td>Guillain-Barré syndrome is a form of polyneuropathy causing muscle weakness, which usually worsens over a few days to weeks, then slowly improves or returns ...</td><td>MSD Manuals</td><td>https://www.msdmanuals.com › ...</td><td></td></tr><tr><td>2</td><td>Understanding Guillain-Barré Syndrome</td><td>https://www.youtube.com/watch?v=KUEunZYZgII</td><td>26:57 Go to channel Guillain Barre Syndrome (GBS) Treatment, Pathophysiology, Symptoms, Neurology Medicine Lecture USMLE MedNerd - Dr. Waqas Fazal</td><td>YouTube · Zero To Finals</td><td>20 लाख+ व्यू · 4 वर्ष पहले</td><td></td></tr><tr><td>9</td><td>Guillain-Barré syndrome: Symptoms, causes, diagnosis, ...</td><td>https://www.medicalnewstoday.com/articles/167892</td><td>Guillain-Barré syndrome is a neurological disorder and autoimmune disease that affects the peripheral nervous system. Guillain-Barré syndrome can lead to ...</td><td>Medical News Today</td><td>https://www.medicalnewstoday.com › ...</td><td></td></tr><tr><td>5</td><td>Guillain-Barré syndrome</td><td>https://www.sciencedirect.com/science/article/abs/pii/S0140673621005171</td><td>Guillain-Barré syndrome is an immune-mediated polyradiculoneuropathy that accounts for an estimated 100 000 new cases annually worldwide.1 In ...</td><td>ScienceDirect.com</td><td>https://www.sciencedirect.com › ...</td><td></td></tr><tr><td>3</td><td>Guillain-Barré Syndrome (GBS) and Vaccines</td><td>https://www.cdc.gov/vaccine-safety/about/guillain-barre.html</td><td>Guillain-Barré syndrome (GBS) is a rare disorder where the body's immune system damages nerve. To study whether a new vaccine might be ...</td><td>Centers for Disease Control and Prevention | CDC (.gov)</td><td>https://www.cdc.gov › ...</td><td></td></tr><tr><td>5</td><td>Guillain–Barré Syndrome | NEJM</td><td>https://www.nejm.org/doi/full/10.1056/NEJMra1114525</td><td>The Guillain–Barré syndrome is the most frequent cause of acute flaccid paralysis worldwide and constitutes a neurologic emergency.</td><td>The New England Journal of Medicine</td><td>https://www.nejm.org › ...</td><td></td></tr><tr><td>1</td><td>Guillain-Barré syndrome (GBS)</td><td>https://www.healthline.com/health/guillain-barre-syndrome</td><td>The first symptom of Guillain-Barré syndrome is usually a tingling sensation in your toes, feet, and legs. The tingling spreads upward to your arms and fingers.</td><td>Healthline</td><td>https://www.healthline.com › ...</td><td></td></tr><tr><td>7</td><td>Guillain-Barre Syndrome - GBS</td><td>https://medlineplus.gov/guillainbarresyndrome.html</td><td>Guillain-Barre syndrome is a rare disorder that causes your immune system to attack your peripheral nervous system (PNS).</td><td>MedlinePlus (.gov)</td><td>https://medlineplus.gov › ...</td><td></td></tr><tr><td>4</td><td>Guillain–Barré syndrome | Nature Reviews Disease Primers</td><td>https://www.nature.com/articles/s41572-024-00580-4</td><td>Guillain–Barré syndrome (GBS) is a rare immune-mediated polyradiculoneuropathy. Patients typically develop rapidly progressive weakness and ...</td><td>Nature</td><td>https://www.nature.com › ...</td><td></td></tr><tr><td>6</td><td>Guillain-Barré Syndrome : CONTINUUM</td><td>https://journals.lww.com/continuum/fulltext/2020/10000/guillain_barr__syndrome.6.aspx</td><td>Guillain-Barré syndrome (GBS) encompasses a spectrum of acute neuropathic disorders, with muscle weakness being the cardinal manifestation in the majority of ...</td><td>Lippincott</td><td>https://journals.lww.com › ...</td><td></td></tr><tr><td>4</td><td>Diagnosis and management of Guillain–Barré syndrome ...</td><td>https://www.nature.com/articles/s41582-019-0250-9</td><td>Guillain–Barré syndrome (GBS) is a rare, but potentially fatal, immune-mediated disease of the peripheral nerves and nerve roots that is ...</td><td>Nature</td><td>https://www.nature.com › ...</td><td></td></tr><tr><td>3</td><td>Guillain-Barré Syndrome: Causes, Symptoms, ... - WebMD</td><td>https://www.webmd.com/brain/what-is-guillain-barre</td><td>Guillain-Barré Syndrome (GBS) is a rare disorder in which your immune system suddenly attacks your nerves, often after you've had a stomach ...</td><td>WebMD</td><td>https://www.webmd.com › ...</td><td></td></tr><tr><td>8</td><td>Guillain-Barré Syndrome</td><td>https://uvahealth.com/services/neurology/guillain-barre-syndrome</td><td>Guillain-Barré syndrome (GBS) is a rare autoimmune condition that causes the immune system to attack the nerves outside of the brain and spinal cord.</td><td>UVA Health</td><td>https://uvahealth.com › ...</td><td></td></tr><tr><td>7</td><td>Guillain-Barré syndrome in adults: Pathogenesis, clinical ...</td><td>https://www.uptodate.com/contents/guillain-barre-syndrome-in-adults-pathogenesis-clinical-features-and-diagnosis</td><td>Time course of symptoms · Examination findings · - Weakness · - Deep tendon reflexes · - Other findings · Variant forms of Guillain-Barré syndrome.</td><td>Wolters Kluwer</td><td>https://www.uptodate.com › ...</td><td></td></tr><tr><td>8</td><td>Guillain‐Barré syndrome: a comprehensive review - Bellanti</td><td>https://onlinelibrary.wiley.com/doi/10.1111/ene.16365</td><td>Guillain-Barré syndrome is a postinfectious, immune-mediated peripheral neuropathy. As our knowledge continues to expand, its pathophysiological ...</td><td>Wiley Online Library</td><td>https://onlinelibrary.wiley.com › ...</td><td></td></tr><tr><td>9</td><td>Guillain-Barré Syndrome (GBS)</td><td>https://www.childrenshospital.org/conditions/guillain-barre-syndrome</td><td>Guillain-Barré syndrome (GBS) occurs when the immune system attacks the peripheral nervous system. Learn more from Boston Children's Hospital.</td><td>Boston Children's Hospital</td><td>https://www.childrenshospital.org › ...</td><td></td></tr><tr><td>10</td><td>Guillain–Barré syndrome outbreak in Pune - The Lancet</td><td>https://www.thelancet.com/journals/lancet/article/PIIS0140-6736(25)00414-3/fulltext</td><td>As of March 8, 2025, the total number of Guillain–Barré syndrome cases in Pune was 225, with 197 confirmed diagnoses and 28 suspected cases, ...</td><td>The Lancet</td><td>https://www.thelancet.com › ...</td><td></td></tr><tr><td>5</td><td>Guillain-Barre syndrome: Video, Causes, & Meaning</td><td>https://www.osmosis.org/learn/Guillain-Barre_syndrome</td><td>The cause of Guillain- Barré syndrome is unknown, but it's known to develop after a bacterial infection, like Campylobacter jejuni and Mycoplasma pneumoniae, or ...</td><td>Osmosis</td><td>https://www.osmosis.org › ...</td><td></td></tr><tr><td>4</td><td>Current treatment practice of Guillain-Barré syndrome</td><td>https://www.neurology.org/doi/10.1212/WNL.0000000000007719</td><td>Plasma exchange (PE) and IV immunoglobulin (IVIg) are the only proven effective treatments for Guillain-Barré syndrome (GBS), although there has been little ...</td><td>Neurology® Journals</td><td>https://www.neurology.org › ...</td><td></td></tr><tr><td>3</td><td>Guillain-Barré Syndrome - Symptoms, Causes, Treatment</td><td>https://rarediseases.org/rare-diseases/guillain-barre-syndrome/</td><td>Guillain-Barré syndrome (GBS) is a rare, rapidly progressive disease due to inflammation of the nerves causing muscle weakness, sometimes ...</td><td>National Organization for Rare Disorders</td><td>https://rarediseases.org › ...</td><td></td></tr><tr><td>6</td><td>Guillain-Barré Syndrome</td><td>https://www.americanbrainfoundation.org/diseases/guillain-barre-syndrome/</td><td>Guillain-Barré syndrome (GBS) is a rare neurologic disorder in which the body's autoimmune response attacks the peripheral nervous system.</td><td>American Brain Foundation</td><td>https://www.americanbrainfoundation.org › ...</td><td></td></tr><tr><td>2</td><td>What is Guillain-Barré Syndrome or GBS</td><td>https://www.gbs-cidp.org/gbs/</td><td>GBS is characterized by the rapid onset of numbness, weakness, and often paralysis of the legs, arms, breathing muscles, and face. Paralysis is ascending, ...</td><td>GBS/CIDP Foundation International</td><td>https://www.gbs-cidp.org › ...</td><td></td></tr><tr><td>6</td><td>Guillain-Barré syndrome</td><td>https://www.sciencedirect.com/science/article/pii/S0140673621005171</td><td>Guillain-Barré syndrome is an immune-mediated polyradiculoneuropathy that accounts for an estimated 100 000 new cases annually worldwide.</td><td>ScienceDirect.com</td><td>https://www.sciencedirect.com › ...</td><td></td></tr><tr><td>1</td><td>Guillain–Barré syndrome outbreak in Pune - The Lancet</td><td>https://www.thelancet.com/journals/lancet/article/PIIS0140-6736(25)00414-3/fulltext</td><td>As of March 8, 2025, the total number of Guillain–Barré syndrome cases in Pune was 225, with 197 confirmed diagnoses and 28 suspected cases, ...</td><td>The Lancet</td><td>https://www.thelancet.com › ...</td><td></td></tr><tr><td>7</td><td>Guillain-Barré Syndrome | Diagnosis & Disease Information</td><td>https://www.pulmonologyadvisor.com/ddi/guillain-barre-syndrome/</td><td>Guillain-Barré syndrome is an autoimmune disorder that results in inflammatory demyelination.1 The condition was first described in 1916 by ...</td><td>Pulmonology Advisor</td><td>https://www.pulmonologyadvisor.com › ...</td><td></td></tr><tr><td>4</td><td>Guillain Barré Syndrome</td><td>https://www.brainfacts.org/diseases-and-disorders/neurological-disorders-az/diseases-a-to-z-from-ninds/guillain-barr%C3%A9-syndrome</td><td>Guillain-Barré syndrome is a disorder in which the body's immune system attacks part of the peripheral nervous system. The first symptoms of this disorder ...</td><td>BrainFacts</td><td>https://www.brainfacts.org › ...</td><td></td></tr><tr><td>6</td><td>Pediatric Guillain-Barré syndrome (GBS) - Dallas</td><td>https://www.childrens.com/specialties-services/conditions/guillain-barre-syndrome</td><td>A typical sign of GBS is muscle weakness, numbness, tingling (pins-and-needle sensation) and occasionally pain, that starts in the feet and legs. These symptoms ...</td><td>Children’s Health</td><td>https://www.childrens.com › ...</td><td></td></tr><tr><td>2</td><td>Guillain-Barré Syndrome</td><td>https://www.mayoclinicproceedings.org/article/S0025-6196(16)30818-7/fulltext</td><td>1. Guillain, G. ∙ Barré, J.A. ∙ Strohl, A. ... The disorder was first described as a “benign” form of limb weakness associated with full recovery, but we now ...</td><td>Mayo Clinic Proceedings</td><td>https://www.mayoclinicproceedings.org › ...</td><td></td></tr><tr><td>9</td><td>Guillain-Barre Syndrome (GBS)</td><td>https://www.jeffersonhealth.org/conditions-and-treatments/guillain-barre-syndrome</td><td>We're also involved in researching the underlying causes of GBS and other autoimmune neuromuscular conditions. At Jefferson Health, you can be sure you're ...</td><td>Jefferson Health</td><td>https://www.jeffersonhealth.org › ...</td><td></td></tr><tr><td>1</td><td>What is Guillain-Barré Syndrome (GBS)? - By Adhikari Lifeline</td><td>https://www.adhikarilifeline.com/what-is-guillain-barre-syndrome-gbs/</td><td>Guillain-Barré Syndrome (GBS) is a rare but serious neurological disorder in which the body's immune system mistakenly attacks the nervous system.</td><td>adhikarilifeline.com</td><td>https://www.adhikarilifeline.com › ...</td><td></td></tr><tr><td>10</td><td>Guillain-Barré Syndrome (GBS)</td><td>https://litfl.com/guillain-barre-syndrome-gbs/</td><td>Guillain-Barré Syndrome (GBS) is the most common and most severe acute paralytic neuropathy, consisting of multiple variants with distinct clinical and ...</td><td>Life in the Fast Lane • LITFL</td><td>https://litfl.com › ...</td><td></td></tr><tr><td>5</td><td>Guillain-Barré Syndrome - Neurology - Highland Hospital</td><td>https://www.urmc.rochester.edu/highland/departments-centers/neurology/conditions-we-treat/guillain-barr</td><td>Guillain-Barré (ghee-yan bah-ray) syndrome is a disorder in which the body's immune system attacks part of the peripheral nervous system.</td><td>University of Rochester Medical Center</td><td>https://www.urmc.rochester.edu › ...</td><td></td></tr><tr><td>7</td><td>Guillain-Barre Syndrome: Symptoms, Causes & Treatment</td><td>https://www.blkmaxhospital.com/blogs/guillain-barre-syndrome</td><td>Guillain-Barre Syndrome is a rare but serious neurological disorder that requires immediate medical attention. While most people recover, early ...</td><td>BLK-Max Hospital</td><td>https://www.blkmaxhospital.com › ...</td><td></td></tr><tr><td>9</td><td>Guillain-Barre Syndrome</td><td>https://www.dynamed.com/condition/guillain-barre-syndrome</td><td>Guillain-Barre Syndrome (GBS) is a rare immune-mediated acute polyradiculoneuropathy, usually following an infection or other ...</td><td>DynaMed</td><td>https://www.dynamed.com › ...</td><td></td></tr><tr><td>8</td><td>Pune's Guillain-Barré Syndrome Epidemic Related to ...</td><td>https://www.vax-before-travel.com/punes-guillain-barr-syndrome-epidemic-related-water-quality-2025-03-10</td><td>Experts have linked these GBS infections with Campylobacter jejuni. This bacteria is one of the most common causes of food poisoning.</td><td>Vax-Before-Travel</td><td>https://www.vax-before-travel.com › ...</td><td></td></tr><tr><td>10</td><td>What is Guillain-Barré Syndrome (GBS)? - By Adhikari Lifeline</td><td>https://www.adhikarilifeline.com/what-is-guillain-barre-syndrome-gbs/</td><td>Guillain-Barré Syndrome (GBS) is a rare but serious neurological disorder in which the body's immune system mistakenly attacks the nervous system.</td><td>adhikarilifeline.com</td><td>https://www.adhikarilifeline.com › ...</td><td></td></tr><tr><td>3</td><td>Guillain-Barré syndrome: Types, Symptoms, Causes & ...</td><td>https://www.pacehospital.com/guillain-barre-syndrome-symptoms-causes-diagnosis-treatment</td><td>Guillain-Barré syndrome (GBS) in children is an autoimmune disorder where the body's immune system mistakenly attacks the peripheral nervous system. The exact ...</td><td>PACE Hospitals</td><td>https://www.pacehospital.com › ...</td><td></td></tr><tr><td>10</td><td>Guillain-Barre syndrome - Neurology</td><td>https://www.emoryhealthcare.org/conditions/neurology-conditions/guillain-barre-syndrome</td><td>Emory offers full diagnostic and treatment services for Guillain-Barre Syndrome, including electrodiagnosis and nerve and or muscle biopsy and lab ...</td><td>Emory Healthcare</td><td>https://www.emoryhealthcare.org › ...</td><td></td></tr><tr><td>6</td><td>What is Guillain-Barre Syndrome (GBS)?</td><td>https://npistanbul.com/en/what-is-guillain-barre-syndrome-gbs</td><td>What is Guillain-Barre Syndrome (GBS)?. Guillain-Barre Syndrome (GBS) is an autoimmune disease in which the immune system attacks the peripheral ...</td><td>NPİSTANBUL</td><td>https://npistanbul.com › ...</td><td></td></tr><tr><td>8</td><td>Guillain-Barre Syndrome - What You Need to Know</td><td>https://www.drugs.com/cg/guillain-barre-syndrome.html</td><td>GBS is a rare condition that causes damage to nerves that control movement and your sense of touch.</td><td>Drugs.com</td><td>https://www.drugs.com › ...</td><td></td></tr><tr><td>2</td><td>Guillain-Barré Syndrome</td><td>https://www.medcomic.com/medcomic/guillain-barre-syndrome</td><td>Guillain-Barré syndrome (GBS) is an acute, inflammatory demyelinating polyneuropathy with ascending muscle weakness that is autoimmune in nature.</td><td>Medcomic</td><td>https://www.medcomic.com › ...</td><td></td></tr><tr><td>2</td><td>GUILLAIN-BARRÉ SYNDROME Definition & Meaning</td><td>https://www.merriam-webster.com/dictionary/Guillain-Barr%C3%A9%20syndrome</td><td>noun ... Note: The cause of Guillain-Barré syndrome is unknown but individuals often experience onset a few weeks after a respiratory or gastrointestinal illness.</td><td>Merriam-Webster</td><td>https://www.merriam-webster.com › ...</td><td></td></tr><tr><td>9</td><td>Guillain-Barré syndrome notes</td><td>https://app.pulsenotes.com/medicine/neurology/notes/guillain-barre-syndrome</td><td>Overview. Guillain-Barré syndrome is an acute, inflammatory polyneuropathy typically characterised by a progressive, ascending neuropathy resulting in weakness ...</td><td>Pulsenotes</td><td>https://app.pulsenotes.com › ...</td><td></td></tr><tr><td>3</td><td>Physical Therapy Guide to Guillain-Barré Syndrome</td><td>https://www.choosept.com/guide/physical-therapy-guide-guillain-barre-syndrome</td><td>Physical therapists have extensive training to help people during GBS recovery. They help patients understand how GBS affects their ability to move safely.</td><td>ChoosePT</td><td>https://www.choosept.com › ...</td><td></td></tr><tr><td>1</td><td>Guillain-Barre syndrome - Neurology</td><td>https://www.emoryhealthcare.org/conditions/neurology-conditions/guillain-barre-syndrome</td><td>Emory offers full diagnostic and treatment services for Guillain-Barre Syndrome, including electrodiagnosis and nerve and or muscle biopsy and lab ...</td><td>Emory Healthcare</td><td>https://www.emoryhealthcare.org › ...</td><td></td></tr><tr><td>7</td><td>Guillain-Barre Syndrome</td><td>https://www.advocatehealth.com/health-services/brain-spine-institute/brain-care-center/conditions-treatments/neuromuscular-disorders/guillain-barre</td><td>Physical therapists will work with you to make sure you regain strength and range of motion. It's sobering to realize that some people have permanent nerve ...</td><td>Advocate Health Care</td><td>https://www.advocatehealth.com › ...</td><td></td></tr><tr><td>4</td><td>Guillain-Barré Syndrome (for Parents)</td><td>https://kidshealth.org/en/parents/gbs.html</td><td>What Are the Signs & Symptoms of Guillain-Barré Syndrome? · tingling or pain in the toes and fingertips · weakness or pain in the legs that causes trouble ...</td><td>KidsHealth</td><td>https://kidshealth.org › ...</td><td></td></tr><tr><td>5</td><td>Guillain Barre Syndrome: Diagnosis, Symptoms & Care</td><td>https://www.gillettechildrens.org/conditions-care/guillain-barre-syndrome</td><td>What is Guillain-Barré syndrome? Guillain-Barré syndrome is an autoimmune disorder in which the body's immune system attacks the nerves. A tingling sensation is ...</td><td>Gillette Children's Hospital</td><td>https://www.gillettechildrens.org › ...</td><td></td></tr><tr><td>1</td><td>Guillain-Barré Syndrome | McGovern Medical School</td><td>https://med.uth.edu/neurosciences/conditions-and-treatments/nerve-disorders/guillain-barre-syndrome/</td><td>Signs Guillain-Barré Syndrome. Initial symptoms may present as pain, weakness, or tingling in the hands or feet. Patients usually experience this in one side of ...</td><td>UTHealth Houston</td><td>https://med.uth.edu › ...</td><td></td></tr><tr><td>10</td><td>Guillain-Barré Syndrome (GBS): Signs, Causes, Vaccine, ...</td><td>https://www.verywellhealth.com/guillain-barre-syndrome-8387646</td><td>Guillain-Barré syndrome is a rapidly progressive and dangerous nerve disease. It causes severe weakness that begins in the feet and moves up the ...</td><td>Verywell Health</td><td>https://www.verywellhealth.com › ...</td><td></td></tr><tr><td>3</td><td>India faces Guillain-Barré outbreak</td><td>https://avinews.com/en/india-faces-guillain-barre-outbreak/</td><td>India is currently grappling with an alarming outbreak of Guillain-Barré Syndrome (GBS), a rare neurological disorder that can lead to sudden and severe ...</td><td>aviNews</td><td>https://avinews.com › ...</td><td></td></tr><tr><td>5</td><td>Guillain–Barre syndrome and link with COVID-19 infection ...</td><td>https://www.frontiersin.org/journals/neurology/articles/10.3389/fneur.2024.1396642/full</td><td>Our study aims to review the literature on GBS and its epidemiological and pathophysiological association with COVID-19.</td><td>Frontiers</td><td>https://www.frontiersin.org › ...</td><td></td></tr><tr><td>5</td><td>Guillain-Barré Syndrome</td><td>https://memorialhermann.org/services/conditions/guillain-barre-syndrome</td><td>Given the sudden, unexpected onset and the severity of symptoms, GBS can be emotionally and physically devastating for patients and their families. It is often ...</td><td>Memorial Hermann Health System</td><td>https://memorialhermann.org › ...</td><td></td></tr><tr><td>6</td><td>Understanding and Treating Guillain-Barré Syndrome</td><td>https://www.bannerhealth.com/services/neurology/diseases/guillain-barre-syndrome</td><td>What are the symptoms of Guillain-Barré syndrome? · Difficulty with eye movements or double vision · Trouble swallowing, speaking or chewing · Severe cramping, ...</td><td>Banner Health</td><td>https://www.bannerhealth.com › ...</td><td></td></tr><tr><td>7</td><td>About Guillain-Barré Syndrome</td><td>https://www.health.state.mn.us/diseases/gb/basics.html</td><td>Guillain-Barré Syndrome (GBS) is a disease characterized by muscle weakness and sometimes paralysis. GBS can last for weeks to months. Most ...</td><td>MN Dept. of Health</td><td>https://www.health.state.mn.us › ...</td><td></td></tr><tr><td>3</td><td>Guillain-Barre Syndrome</td><td>https://www.aurorahealthcare.org/services/neuroscience/neurology/neurological-conditions/neuromuscular-disorders/guillain-barre</td><td>Although rare, some individuals experience permanent nerve damage, weakness, numbness, fatigue or pain after having Guillain-Barre syndrome. These long-term ...</td><td>Aurora Health Care</td><td>https://www.aurorahealthcare.org › ...</td><td></td></tr><tr><td>9</td><td>Guillain-Barré Syndrome (GBS) | NIH</td><td>https://clinicalinfo.hiv.gov/en/glossary/guillain-barre-syndrome-gbs</td><td>Guillain-Barré Syndrome (GBS) pronounce term ... A rare acute neurological disorder in which the immune system mistakenly attacks part of the peripheral nervous ...</td><td>Clinical Info HIV.gov</td><td>https://clinicalinfo.hiv.gov › ...</td><td></td></tr><tr><td>2</td><td>Guillain-Barré Syndrome (in Children)</td><td>https://carle.org/conditions/pediatric-conditions/guillain-barre-syndrome</td><td>What Are the Symptoms of Guillain-Barré Syndrome? First symptoms include weakness and tingling in the legs that often spread to the arms and upper body. These ...</td><td>Carle Health</td><td>https://carle.org › ...</td><td></td></tr><tr><td>4</td><td>Guillain-Barré Syndrome</td><td>https://www.christushealth.org/get-care/services-specialties/neurology/neuromuscular-care/guillain-barre-syndrome</td><td>What is Guillain-Barré Syndrome? In Guillain-Barré syndrome (GBS), the body's immune system attacks the nerves outside the brain and spinal cord (the peripheral ...</td><td>CHRISTUS Health</td><td>https://www.christushealth.org › ...</td><td></td></tr><tr><td>8</td><td>Guillain-Barre Syndrome (GBS) Symptoms, Treatment & ...</td><td>https://www.emedicinehealth.com/guillain-barre_syndrome/article_em.htm</td><td>Guillain-Barré Syndrome Symptoms · Weakness on both sides of the body may develop with numbness that starts in the legs and progresses into the trunk and moves ...</td><td>eMedicineHealth</td><td>https://www.emedicinehealth.com › ...</td><td></td></tr><tr><td>4</td><td>Guillain-Barre syndrome (GBS)</td><td>https://gpnotebook.com/pages/infectious-disease/guillain-barre-syndrome-gbs</td><td>Guillain-Barre syndrome (GBS) ... A prodromal malaise with vomiting, headache, fever and limb pains is rapidly surmounted by a progressive and ...</td><td>GPnotebook</td><td>https://gpnotebook.com › ...</td><td></td></tr><tr><td>1</td><td>Guillain-Barre Syndrome (GBS) Symptoms - Baptist Health</td><td>https://www.baptisthealth.com/care-services/conditions-treatments/guillainbarre-syndrome</td><td>It typically begins with a tingling sensation and feelings of weakness in the legs, and progresses quickly to more serious symptoms, including severe cramps, ...</td><td>baptisthealth.com</td><td>https://www.baptisthealth.com › ...</td><td></td></tr><tr><td>7</td><td>Guillain-Barré Syndrome</td><td>https://www.childneurologyfoundation.org/disorder/guillain-barre-syndrome/</td><td>The symptoms of GBS usually get worse over the first 2 to 4 weeks. Recovery usually starts after 4 weeks. Symptoms can continue to improve for 6 to 12 months.</td><td>Child Neurology Foundation</td><td>https://www.childneurologyfoundation.org › ...</td><td></td></tr><tr><td>10</td><td>Guillain-Barré Syndrome</td><td>https://uvahealth.com/services/neurology/guillain-barre-syndrome</td><td>GBS Treatment at UVA Health. The GBS-CIDP Foundation has designated UVA as a Center of Excellence, meaning we offer expert diagnosis and management of ...</td><td>UVA Health</td><td>https://uvahealth.com › ...</td><td></td></tr><tr><td>6</td><td>Guillain-Barre Syndrome Causes & Symptoms</td><td>https://www.beaumont.org/conditions/guillain-barre-syndrome</td><td>Signs and symptoms. GBS symptoms are characterized by weakness and tingling that is equal on both sides of the body, which usually affects the lower limbs and ...</td><td>Beaumont.org</td><td>https://www.beaumont.org › ...</td><td></td></tr><tr><td>2</td><td>Guillain-Barré Syndrome</td><td>https://www.templehealth.org/services/conditions/guillain-barre-syndrome</td><td>Symptoms · Abnormal blood pressure — Blood pressure is temporarily affected, and dangerously low pressure can occur. · Bladder incontinence — Some people with ...</td><td>Temple Health</td><td>https://www.templehealth.org › ...</td><td></td></tr><tr><td>3</td><td>When Your Child Has Guillain-Barre Syndrome (GBS)</td><td>https://www.saintlukeskc.org/health-library/when-your-child-has-guillain-barre-syndrome-gbs</td><td>Your child has been diagnosed with Guillain-Barré syndrome (GBS). This is an illness that affects the peripheral nerves, often both the sensory and motor ...</td><td>Saint Luke's Health System Kansas City</td><td>https://www.saintlukeskc.org › ...</td><td></td></tr><tr><td>7</td><td>Guillain-Barre syndrome | UCSF Neuromuscular Division</td><td>https://neuromuscular.ucsf.edu/guillain-barre-syndrome</td><td>The UCSF Neuromuscular Clinic provides comprehensive treatment for patients with various neuromuscular diseases, including Guillain-Barre syndrome. The ...</td><td>UC San Francisco</td><td>https://neuromuscular.ucsf.edu › ...</td><td></td></tr><tr><td>5</td><td>Guillain-Barré Syndrome (GBS) Facts & Resources</td><td>https://www.csl.com/patients-public-health/rare-and-serious-diseases/immunodeficiency-and-autoimmune-diseases/guillain-barre-syndrome</td><td>What is Guillain-Barré Syndrome (GBS)?. Guillain-Barré Syndrome (GBS; pronounced: ghee-YAN bah-RAY) is a rare autoimmune disorder in which the body's immune ...</td><td>Global Biotechnology Company</td><td>https://www.csl.com › ...</td><td></td></tr><tr><td>8</td><td>Guillain-Barre Syndrome (GBS)</td><td>https://www.yalemedicine.org/clinical-keywords/guillain-barre-syndrome</td><td>Definition. Guillain-Barre syndrome (GBS) is a rare neurological disorder in which the body's immune system mistakenly attacks the peripheral nerves, leading to ...</td><td>Yale Medicine</td><td>https://www.yalemedicine.org › ...</td><td></td></tr><tr><td>9</td><td>Listing: Guillain-Barré Syndrome Resources</td><td>https://www.sralab.org/lifecenter/resources/listing-guillain-barre-syndrome-resources</td><td>The following Guillain-Barré syndrome resources included in this listing provides information from the national and local programs level that focus primarily ...</td><td>Shirley Ryan AbilityLab</td><td>https://www.sralab.org › ...</td><td></td></tr><tr><td>6</td><td>Guillain-Barré Syndrome (GBS): Symptoms & Treatment - Health</td><td>https://www.health.com/guillain-barre-syndrome-8604619</td><td>Guillain-Barré syndrome (GBS) is an autoimmune disease that usually happens after a viral illness, vaccination, or infection with a specific bacteria called ...</td><td>health.com</td><td>https://www.health.com › ...</td><td></td></tr><tr><td>4</td><td>Guillain-Barré Syndrome vs. Myasthenia Gravis</td><td>https://ameripharmaspecialty.com/myasthenia-gravis/guillain-barre-syndrome-vs-myasthenia-gravis/</td><td>In conclusion, Guillain-barré syndrome and myasthenia gravis are both neurological autoimmune disorders and share some similarities in their ...</td><td>AmeriPharma® Specialty Care</td><td>https://ameripharmaspecialty.com › ...</td><td></td></tr><tr><td>1</td><td>Listing: Guillain-Barré Syndrome Resources</td><td>https://www.sralab.org/lifecenter/resources/listing-guillain-barre-syndrome-resources</td><td>The following Guillain-Barré syndrome resources included in this listing provides information from the national and local programs level that focus primarily ...</td><td>Shirley Ryan AbilityLab</td><td>https://www.sralab.org › ...</td><td></td></tr><tr><td>8</td><td>Miller Fisher variant of Guillain-Barre Syndrome</td><td>https://eyewiki.org/Miller_Fisher_variant_of_Guillain-Barre_Syndrome</td><td>Disease Entity · Disease. Miller Fisher syndrome (MFS), also known as Fisher syndrome and the Miller Fisher Variant of Guillain-Barré syndrome, is an autoimmune ...</td><td>EyeWiki</td><td>https://eyewiki.org › ...</td><td></td></tr><tr><td>6</td><td>Guillain-Barré Syndrome Lawyers and Lawsuits</td><td>https://marlerclark.com/foodborne-illnesses/guillain-barre-syndrome</td><td>We at Marler Clark provide Guillain-Barré syndrome lawyers and information to guide clients in the right direction.</td><td>Marler Clark</td><td>https://marlerclark.com › ...</td><td></td></tr><tr><td>7</td><td>Guillain-Barré Syndrome (GBS) - Neurologic Disorders</td><td>https://www.msdmanuals.com/professional/neurologic-disorders/peripheral-nervous-system-and-motor-unit-disorders/guillain-barr%C3%A9-syndrome-gbs</td><td>(Acute Idiopathic Polyneuritis; Acute Inflammatory Demyelinating Polyradiculoneuropathy) ... Guillain-Barré syndrome is an acute, usually rapidly progressive but ...</td><td>MSD Manuals</td><td>https://www.msdmanuals.com › ...</td><td></td></tr><tr><td>10</td><td>Guillain-Barre Syndrome - Neurology</td><td>https://step2.medbullets.com/neurology/120319/guillain-barre-syndrome</td><td>Definition: an immune-mediated polyneuropathy that has many variant forms. Miller Fisher syndrome.</td><td>Medbullets</td><td>https://step2.medbullets.com › ...</td><td></td></tr><tr><td>9</td><td>Guillain Barre Syndrome (GBS)</td><td>https://emcrit.org/ibcc/gbs/</td><td>albuminocytologic dissociation · The classic finding in GBS is albuminocytologic dissociation (elevated protein, despite normal cell count).</td><td>EMCrit Blog</td><td>https://emcrit.org › ...</td><td></td></tr><tr><td>10</td><td>Guillain–Barré Syndrome</td><td>https://iapindia.org/pdf/Ch-053-stg-guillain-barre-syndrome.pdf</td><td>GBS is the most common cause of acute flaccid paralysis in childhood. C linical Signs and Symptoms. ☑ Guillain–Barré syndrome presents with acute onset weakness ...</td><td>Indian Academy of Pediatrics (IAP)</td><td>https://iapindia.org › pdf › Ch-053-stg-guillain-b...</td><td></td></tr><tr><td>9</td><td>A rare paralysis syndrome is spiking in India this year. ...</td><td>https://www.gavi.org/vaccineswork/cases-infection-linked-paralysis-syndrome-have-spiked-india-year-whats-story</td><td>The symptoms of GBS typically begin with weakness, often starting in the legs and progressing upward, or 'ascending paralysis, says Debnath. The ...</td><td>Gavi, the Vaccine Alliance</td><td>https://www.gavi.org › ...</td><td></td></tr><tr><td>3</td><td>Guillain Barre Syndrome (GBS)</td><td>https://emcrit.org/ibcc/gbs/</td><td>albuminocytologic dissociation · The classic finding in GBS is albuminocytologic dissociation (elevated protein, despite normal cell count).</td><td>EMCrit Blog</td><td>https://emcrit.org › ...</td><td></td></tr><tr><td>5</td><td>Guillain-Barré syndrome related to COVID-19 infection</td><td>https://www.neurology.org/doi/10.1212/NXI.0000000000000741</td><td>We want to comment on a similar Guillain- Barré Syndrome (GBS) case following bilateral SARS-CoV2 pneumonia and to highlight the evolution of post-infectious ...</td><td>Neurology® Journals</td><td>https://www.neurology.org › ...</td><td></td></tr><tr><td>2</td><td>Guillain-Barré syndrome in adults: Treatment and prognosis</td><td>https://www.uptodate.com/contents/guillain-barre-syndrome-in-adults-treatment-and-prognosis</td><td>INTRODUCTION. The acute immune-mediated polyneuropathies are classified under the eponym Guillain-Barré syndrome (GBS), after the authors of ...</td><td>Wolters Kluwer</td><td>https://www.uptodate.com › ...</td><td></td></tr><tr><td>1</td><td>Miller Fisher variant of Guillain-Barre Syndrome</td><td>https://eyewiki.org/Miller_Fisher_variant_of_Guillain-Barre_Syndrome</td><td>Disease Entity · Disease. Miller Fisher syndrome (MFS), also known as Fisher syndrome and the Miller Fisher Variant of Guillain-Barré syndrome, is an autoimmune ...</td><td>EyeWiki</td><td>https://eyewiki.org › ...</td><td></td></tr><tr><td>4</td><td>Guillain–Barré Syndrome</td><td>https://iapindia.org/pdf/Ch-053-stg-guillain-barre-syndrome.pdf</td><td>GBS is the most common cause of acute flaccid paralysis in childhood. C linical Signs and Symptoms. ☑ Guillain–Barré syndrome presents with acute onset weakness ...</td><td>Indian Academy of Pediatrics (IAP)</td><td>https://iapindia.org › pdf › Ch-053-stg-guillain-b...</td><td></td></tr><tr><td>8</td><td>Guillain-Barré Syndrome | Upstate Neurological Institute</td><td>https://www.upstate.edu/neuroinstitute/symptoms-conditions/guillain-barre-syndrome.php</td><td>Symptoms · Weakness and tingling in the legs, arms, and face · Pain in the legs or back · Problems walking or climbing stairs · Problems breathing · Eyesight ...</td><td>SUNY Upstate Medical University</td><td>https://www.upstate.edu › ...</td><td></td></tr></tbody></table></div>"
      ]
     },
     "metadata": {
      "application/vnd.databricks.v1+output": {
       "addedWidgets": {},
       "aggData": [],
       "aggError": "",
       "aggOverflow": false,
       "aggSchema": [],
       "aggSeriesLimitReached": false,
       "aggType": "",
       "arguments": {},
       "columnCustomDisplayInfos": {},
       "data": [
        [
         6,
         "Guillain-Barré Syndrome",
         "https://www.hopkinsmedicine.org/health/conditions-and-diseases/guillainbarr-syndrome",
         "Guillain-Barré syndrome (GBS) is a rare neurological disorder in which the body's immune system attacks the peripheral nervous system.",
         "Johns Hopkins Medicine",
         "https://www.hopkinsmedicine.org › ...",
         ""
        ],
        [
         1,
         "Guillain-Barré Syndrome | Campylobacter",
         "https://www.cdc.gov/campylobacter/signs-symptoms/guillain-barre-syndrome.html",
         "Guillain-Barré (Ghee-YAN Bah-RAY) syndrome happens when a person's immune system harms their nerves. This harm causes muscle weakness and ...",
         "Centers for Disease Control and Prevention | CDC (.gov)",
         "https://www.cdc.gov › ...",
         ""
        ],
        [
         5,
         "Guillain–Barré syndrome",
         "https://www.who.int/news-room/fact-sheets/detail/guillain-barr%C3%A9-syndrome",
         "Guillain-Barré syndrome (GBS) is a rare condition in which a person's immune system attacks the peripheral nerves.",
         "World Health Organization (WHO)",
         "https://www.who.int › ...",
         ""
        ],
        [
         2,
         "Guillain-Barré Syndrome (GBS): Symptoms & Treatment",
         "https://my.clevelandclinic.org/health/diseases/15838-guillain-barre-syndrome",
         "Guillain-Barré syndrome is a rare autoimmune condition in which your immune system attacks your peripheral nerves. It causes numbness and muscle weakness.",
         "Cleveland Clinic",
         "https://my.clevelandclinic.org › ...",
         ""
        ],
        [
         1,
         "Guillain-Barre syndrome - Symptoms and causes",
         "https://www.mayoclinic.org/diseases-conditions/guillain-barre-syndrome/symptoms-causes/syc-20362793",
         "Guillain-Barre syndrome often begins with tingling and weakness starting in the feet and legs and spreading to the upper body and arms. Some ...",
         "Mayo Clinic",
         "https://www.mayoclinic.org › ...",
         ""
        ],
        [
         7,
         "Guillain-Barre syndrome - Diagnosis and treatment",
         "https://www.mayoclinic.org/diseases-conditions/guillain-barre-syndrome/diagnosis-treatment/drc-20363006",
         "This rare autoimmune condition affects the nerves, causing weakness and tingling in the arms and legs that quickly spreads throughout the ...",
         "Mayo Clinic",
         "https://www.mayoclinic.org › ...",
         "{'inline': [{'title': 'Symptoms and causes', 'link': 'https://www.mayoclinic.org/diseases-conditions/guillain-barre-syndrome/symptoms-causes/syc-20362793'}, {'title': 'Doctors and departments', 'link': 'https://www.mayoclinic.org/diseases-conditions/guillain-barre-syndrome/doctors-departments/ddc-20363037'}, {'title': 'Care at Mayo Clinic', 'link': 'https://www.mayoclinic.org/diseases-conditions/guillain-barre-syndrome/care-at-mayo-clinic/mac-20363049'}]}"
        ],
        [
         3,
         "Guillain-Barré Syndrome",
         "https://www.ninds.nih.gov/health-information/disorders/guillain-barre-syndrome",
         "Symptoms of Guillain-Barré syndrome · Difficulty with eye muscles and vision · Difficulty swallowing, speaking, or chewing · Pricking or pins ...",
         "National Institute of Neurological Disorders and Stroke (.gov)",
         "https://www.ninds.nih.gov › ...",
         "{'inline': [{'title': 'What is Guillain-Barré...', 'link': 'https://www.ninds.nih.gov/health-information/disorders/guillain-barre-syndrome#toc-what-is-guillain-barr-syndrome-'}, {'title': 'How is Guillain-Barré...', 'link': 'https://www.ninds.nih.gov/health-information/disorders/guillain-barre-syndrome#toc-how-is-guillain-barr-syndrome-diagnosed-and-treated-'}, {'title': 'What are the latest updates on...', 'link': 'https://www.ninds.nih.gov/health-information/disorders/guillain-barre-syndrome#toc-what-are-the-latest-updates-on-guillain-barr-syndrome-'}]}"
        ],
        [
         4,
         "Guillain–Barré syndrome",
         "https://en.wikipedia.org/wiki/Guillain%E2%80%93Barr%C3%A9_syndrome",
         "Guillain–Barré syndrome (GBS) is a rapid-onset muscle weakness caused by the immune system damaging the peripheral nervous system.",
         "Wikipedia",
         "https://en.wikipedia.org › ...",
         ""
        ],
        [
         8,
         "Guillain-Barre Syndrome",
         "https://www.physio-pedia.com/Guillain-Barre_Syndrome",
         "Guillain-Barré syndrome (GBS) is a condition characterised by the autoimmune destruction of the peripheral sensory system.",
         "Physiopedia",
         "https://www.physio-pedia.com › ...",
         "{'inline': [{'title': 'Case Study', 'link': 'https://www.physio-pedia.com/Case_Study:_Guillain-Barre_Syndrome_(Sub-Acute)'}, {'title': 'Acute Motor Axonal...', 'link': 'https://www.physio-pedia.com/Acute_Motor_Axonal_Neuropathy_(AMAN),_a_Variant_of_Guillain-Barre_Syndrome:_A_Case_Study'}, {'title': 'Edit', 'link': 'https://www.physio-pedia.com/Guillain-Barre_Syndrome?veaction=edit'}]}"
        ],
        [
         2,
         "Guillain-Barré syndrome Information - Mount Sinai",
         "https://www.mountsinai.org/health-library/diseases-conditions/guillain-barr-syndrome",
         "GBS damages parts of nerves. This nerve damage causes tingling, muscle weakness, loss of balance, and paralysis. GBS most often affects the nerve covering ( ...",
         "Mount Sinai",
         "https://www.mountsinai.org › ...",
         ""
        ],
        [
         10,
         "Guillain-Barré Syndrome | Campylobacter",
         "https://www.cdc.gov/campylobacter/signs-symptoms/guillain-barre-syndrome.html",
         "Guillain-Barré (Ghee-YAN Bah-RAY) syndrome happens when a person's immune system harms their nerves. This harm causes muscle weakness and ...",
         "Centers for Disease Control and Prevention | CDC (.gov)",
         "https://www.cdc.gov › ...",
         ""
        ],
        [
         9,
         "Guillain-Barre Syndrome: Practice Essentials, Background, ...",
         "https://emedicine.medscape.com/article/315632-overview",
         "Guillain-Barré syndrome (GBS) can be described as a collection of clinical syndromes that manifests as an acute inflammatory ...",
         "Medscape",
         "https://emedicine.medscape.com › ...",
         ""
        ],
        [
         8,
         "Guillain-Barré Syndrome (GBS) - Brain, Spinal Cord, and ...",
         "https://www.msdmanuals.com/home/brain-spinal-cord-and-nerve-disorders/peripheral-nerve-and-related-disorders/guillain-barr%C3%A9-syndrome-gbs",
         "Guillain-Barré syndrome is a form of polyneuropathy causing muscle weakness, which usually worsens over a few days to weeks, then slowly improves or returns ...",
         "MSD Manuals",
         "https://www.msdmanuals.com › ...",
         ""
        ],
        [
         2,
         "Understanding Guillain-Barré Syndrome",
         "https://www.youtube.com/watch?v=KUEunZYZgII",
         "26:57 Go to channel Guillain Barre Syndrome (GBS) Treatment, Pathophysiology, Symptoms, Neurology Medicine Lecture USMLE MedNerd - Dr. Waqas Fazal",
         "YouTube · Zero To Finals",
         "20 लाख+ व्यू · 4 वर्ष पहले",
         ""
        ],
        [
         9,
         "Guillain-Barré syndrome: Symptoms, causes, diagnosis, ...",
         "https://www.medicalnewstoday.com/articles/167892",
         "Guillain-Barré syndrome is a neurological disorder and autoimmune disease that affects the peripheral nervous system. Guillain-Barré syndrome can lead to ...",
         "Medical News Today",
         "https://www.medicalnewstoday.com › ...",
         ""
        ],
        [
         5,
         "Guillain-Barré syndrome",
         "https://www.sciencedirect.com/science/article/abs/pii/S0140673621005171",
         "Guillain-Barré syndrome is an immune-mediated polyradiculoneuropathy that accounts for an estimated 100 000 new cases annually worldwide.1 In ...",
         "ScienceDirect.com",
         "https://www.sciencedirect.com › ...",
         ""
        ],
        [
         3,
         "Guillain-Barré Syndrome (GBS) and Vaccines",
         "https://www.cdc.gov/vaccine-safety/about/guillain-barre.html",
         "Guillain-Barré syndrome (GBS) is a rare disorder where the body's immune system damages nerve. To study whether a new vaccine might be ...",
         "Centers for Disease Control and Prevention | CDC (.gov)",
         "https://www.cdc.gov › ...",
         ""
        ],
        [
         5,
         "Guillain–Barré Syndrome | NEJM",
         "https://www.nejm.org/doi/full/10.1056/NEJMra1114525",
         "The Guillain–Barré syndrome is the most frequent cause of acute flaccid paralysis worldwide and constitutes a neurologic emergency.",
         "The New England Journal of Medicine",
         "https://www.nejm.org › ...",
         ""
        ],
        [
         1,
         "Guillain-Barré syndrome (GBS)",
         "https://www.healthline.com/health/guillain-barre-syndrome",
         "The first symptom of Guillain-Barré syndrome is usually a tingling sensation in your toes, feet, and legs. The tingling spreads upward to your arms and fingers.",
         "Healthline",
         "https://www.healthline.com › ...",
         ""
        ],
        [
         7,
         "Guillain-Barre Syndrome - GBS",
         "https://medlineplus.gov/guillainbarresyndrome.html",
         "Guillain-Barre syndrome is a rare disorder that causes your immune system to attack your peripheral nervous system (PNS).",
         "MedlinePlus (.gov)",
         "https://medlineplus.gov › ...",
         ""
        ],
        [
         4,
         "Guillain–Barré syndrome | Nature Reviews Disease Primers",
         "https://www.nature.com/articles/s41572-024-00580-4",
         "Guillain–Barré syndrome (GBS) is a rare immune-mediated polyradiculoneuropathy. Patients typically develop rapidly progressive weakness and ...",
         "Nature",
         "https://www.nature.com › ...",
         ""
        ],
        [
         6,
         "Guillain-Barré Syndrome : CONTINUUM",
         "https://journals.lww.com/continuum/fulltext/2020/10000/guillain_barr__syndrome.6.aspx",
         "Guillain-Barré syndrome (GBS) encompasses a spectrum of acute neuropathic disorders, with muscle weakness being the cardinal manifestation in the majority of ...",
         "Lippincott",
         "https://journals.lww.com › ...",
         ""
        ],
        [
         4,
         "Diagnosis and management of Guillain–Barré syndrome ...",
         "https://www.nature.com/articles/s41582-019-0250-9",
         "Guillain–Barré syndrome (GBS) is a rare, but potentially fatal, immune-mediated disease of the peripheral nerves and nerve roots that is ...",
         "Nature",
         "https://www.nature.com › ...",
         ""
        ],
        [
         3,
         "Guillain-Barré Syndrome: Causes, Symptoms, ... - WebMD",
         "https://www.webmd.com/brain/what-is-guillain-barre",
         "Guillain-Barré Syndrome (GBS) is a rare disorder in which your immune system suddenly attacks your nerves, often after you've had a stomach ...",
         "WebMD",
         "https://www.webmd.com › ...",
         ""
        ],
        [
         8,
         "Guillain-Barré Syndrome",
         "https://uvahealth.com/services/neurology/guillain-barre-syndrome",
         "Guillain-Barré syndrome (GBS) is a rare autoimmune condition that causes the immune system to attack the nerves outside of the brain and spinal cord.",
         "UVA Health",
         "https://uvahealth.com › ...",
         ""
        ],
        [
         7,
         "Guillain-Barré syndrome in adults: Pathogenesis, clinical ...",
         "https://www.uptodate.com/contents/guillain-barre-syndrome-in-adults-pathogenesis-clinical-features-and-diagnosis",
         "Time course of symptoms · Examination findings · - Weakness · - Deep tendon reflexes · - Other findings · Variant forms of Guillain-Barré syndrome.",
         "Wolters Kluwer",
         "https://www.uptodate.com › ...",
         ""
        ],
        [
         8,
         "Guillain‐Barré syndrome: a comprehensive review - Bellanti",
         "https://onlinelibrary.wiley.com/doi/10.1111/ene.16365",
         "Guillain-Barré syndrome is a postinfectious, immune-mediated peripheral neuropathy. As our knowledge continues to expand, its pathophysiological ...",
         "Wiley Online Library",
         "https://onlinelibrary.wiley.com › ...",
         ""
        ],
        [
         9,
         "Guillain-Barré Syndrome (GBS)",
         "https://www.childrenshospital.org/conditions/guillain-barre-syndrome",
         "Guillain-Barré syndrome (GBS) occurs when the immune system attacks the peripheral nervous system. Learn more from Boston Children's Hospital.",
         "Boston Children's Hospital",
         "https://www.childrenshospital.org › ...",
         ""
        ],
        [
         10,
         "Guillain–Barré syndrome outbreak in Pune - The Lancet",
         "https://www.thelancet.com/journals/lancet/article/PIIS0140-6736(25)00414-3/fulltext",
         "As of March 8, 2025, the total number of Guillain–Barré syndrome cases in Pune was 225, with 197 confirmed diagnoses and 28 suspected cases, ...",
         "The Lancet",
         "https://www.thelancet.com › ...",
         ""
        ],
        [
         5,
         "Guillain-Barre syndrome: Video, Causes, & Meaning",
         "https://www.osmosis.org/learn/Guillain-Barre_syndrome",
         "The cause of Guillain- Barré syndrome is unknown, but it's known to develop after a bacterial infection, like Campylobacter jejuni and Mycoplasma pneumoniae, or ...",
         "Osmosis",
         "https://www.osmosis.org › ...",
         ""
        ],
        [
         4,
         "Current treatment practice of Guillain-Barré syndrome",
         "https://www.neurology.org/doi/10.1212/WNL.0000000000007719",
         "Plasma exchange (PE) and IV immunoglobulin (IVIg) are the only proven effective treatments for Guillain-Barré syndrome (GBS), although there has been little ...",
         "Neurology® Journals",
         "https://www.neurology.org › ...",
         ""
        ],
        [
         3,
         "Guillain-Barré Syndrome - Symptoms, Causes, Treatment",
         "https://rarediseases.org/rare-diseases/guillain-barre-syndrome/",
         "Guillain-Barré syndrome (GBS) is a rare, rapidly progressive disease due to inflammation of the nerves causing muscle weakness, sometimes ...",
         "National Organization for Rare Disorders",
         "https://rarediseases.org › ...",
         ""
        ],
        [
         6,
         "Guillain-Barré Syndrome",
         "https://www.americanbrainfoundation.org/diseases/guillain-barre-syndrome/",
         "Guillain-Barré syndrome (GBS) is a rare neurologic disorder in which the body's autoimmune response attacks the peripheral nervous system.",
         "American Brain Foundation",
         "https://www.americanbrainfoundation.org › ...",
         ""
        ],
        [
         2,
         "What is Guillain-Barré Syndrome or GBS",
         "https://www.gbs-cidp.org/gbs/",
         "GBS is characterized by the rapid onset of numbness, weakness, and often paralysis of the legs, arms, breathing muscles, and face. Paralysis is ascending, ...",
         "GBS/CIDP Foundation International",
         "https://www.gbs-cidp.org › ...",
         ""
        ],
        [
         6,
         "Guillain-Barré syndrome",
         "https://www.sciencedirect.com/science/article/pii/S0140673621005171",
         "Guillain-Barré syndrome is an immune-mediated polyradiculoneuropathy that accounts for an estimated 100 000 new cases annually worldwide.",
         "ScienceDirect.com",
         "https://www.sciencedirect.com › ...",
         ""
        ],
        [
         1,
         "Guillain–Barré syndrome outbreak in Pune - The Lancet",
         "https://www.thelancet.com/journals/lancet/article/PIIS0140-6736(25)00414-3/fulltext",
         "As of March 8, 2025, the total number of Guillain–Barré syndrome cases in Pune was 225, with 197 confirmed diagnoses and 28 suspected cases, ...",
         "The Lancet",
         "https://www.thelancet.com › ...",
         ""
        ],
        [
         7,
         "Guillain-Barré Syndrome | Diagnosis & Disease Information",
         "https://www.pulmonologyadvisor.com/ddi/guillain-barre-syndrome/",
         "Guillain-Barré syndrome is an autoimmune disorder that results in inflammatory demyelination.1 The condition was first described in 1916 by ...",
         "Pulmonology Advisor",
         "https://www.pulmonologyadvisor.com › ...",
         ""
        ],
        [
         4,
         "Guillain Barré Syndrome",
         "https://www.brainfacts.org/diseases-and-disorders/neurological-disorders-az/diseases-a-to-z-from-ninds/guillain-barr%C3%A9-syndrome",
         "Guillain-Barré syndrome is a disorder in which the body's immune system attacks part of the peripheral nervous system. The first symptoms of this disorder ...",
         "BrainFacts",
         "https://www.brainfacts.org › ...",
         ""
        ],
        [
         6,
         "Pediatric Guillain-Barré syndrome (GBS) - Dallas",
         "https://www.childrens.com/specialties-services/conditions/guillain-barre-syndrome",
         "A typical sign of GBS is muscle weakness, numbness, tingling (pins-and-needle sensation) and occasionally pain, that starts in the feet and legs. These symptoms ...",
         "Children’s Health",
         "https://www.childrens.com › ...",
         ""
        ],
        [
         2,
         "Guillain-Barré Syndrome",
         "https://www.mayoclinicproceedings.org/article/S0025-6196(16)30818-7/fulltext",
         "1. Guillain, G. ∙ Barré, J.A. ∙ Strohl, A. ... The disorder was first described as a “benign” form of limb weakness associated with full recovery, but we now ...",
         "Mayo Clinic Proceedings",
         "https://www.mayoclinicproceedings.org › ...",
         ""
        ],
        [
         9,
         "Guillain-Barre Syndrome (GBS)",
         "https://www.jeffersonhealth.org/conditions-and-treatments/guillain-barre-syndrome",
         "We're also involved in researching the underlying causes of GBS and other autoimmune neuromuscular conditions. At Jefferson Health, you can be sure you're ...",
         "Jefferson Health",
         "https://www.jeffersonhealth.org › ...",
         ""
        ],
        [
         1,
         "What is Guillain-Barré Syndrome (GBS)? - By Adhikari Lifeline",
         "https://www.adhikarilifeline.com/what-is-guillain-barre-syndrome-gbs/",
         "Guillain-Barré Syndrome (GBS) is a rare but serious neurological disorder in which the body's immune system mistakenly attacks the nervous system.",
         "adhikarilifeline.com",
         "https://www.adhikarilifeline.com › ...",
         ""
        ],
        [
         10,
         "Guillain-Barré Syndrome (GBS)",
         "https://litfl.com/guillain-barre-syndrome-gbs/",
         "Guillain-Barré Syndrome (GBS) is the most common and most severe acute paralytic neuropathy, consisting of multiple variants with distinct clinical and ...",
         "Life in the Fast Lane • LITFL",
         "https://litfl.com › ...",
         ""
        ],
        [
         5,
         "Guillain-Barré Syndrome - Neurology - Highland Hospital",
         "https://www.urmc.rochester.edu/highland/departments-centers/neurology/conditions-we-treat/guillain-barr",
         "Guillain-Barré (ghee-yan bah-ray) syndrome is a disorder in which the body's immune system attacks part of the peripheral nervous system.",
         "University of Rochester Medical Center",
         "https://www.urmc.rochester.edu › ...",
         ""
        ],
        [
         7,
         "Guillain-Barre Syndrome: Symptoms, Causes & Treatment",
         "https://www.blkmaxhospital.com/blogs/guillain-barre-syndrome",
         "Guillain-Barre Syndrome is a rare but serious neurological disorder that requires immediate medical attention. While most people recover, early ...",
         "BLK-Max Hospital",
         "https://www.blkmaxhospital.com › ...",
         ""
        ],
        [
         9,
         "Guillain-Barre Syndrome",
         "https://www.dynamed.com/condition/guillain-barre-syndrome",
         "Guillain-Barre Syndrome (GBS) is a rare immune-mediated acute polyradiculoneuropathy, usually following an infection or other ...",
         "DynaMed",
         "https://www.dynamed.com › ...",
         ""
        ],
        [
         8,
         "Pune's Guillain-Barré Syndrome Epidemic Related to ...",
         "https://www.vax-before-travel.com/punes-guillain-barr-syndrome-epidemic-related-water-quality-2025-03-10",
         "Experts have linked these GBS infections with Campylobacter jejuni. This bacteria is one of the most common causes of food poisoning.",
         "Vax-Before-Travel",
         "https://www.vax-before-travel.com › ...",
         ""
        ],
        [
         10,
         "What is Guillain-Barré Syndrome (GBS)? - By Adhikari Lifeline",
         "https://www.adhikarilifeline.com/what-is-guillain-barre-syndrome-gbs/",
         "Guillain-Barré Syndrome (GBS) is a rare but serious neurological disorder in which the body's immune system mistakenly attacks the nervous system.",
         "adhikarilifeline.com",
         "https://www.adhikarilifeline.com › ...",
         ""
        ],
        [
         3,
         "Guillain-Barré syndrome: Types, Symptoms, Causes & ...",
         "https://www.pacehospital.com/guillain-barre-syndrome-symptoms-causes-diagnosis-treatment",
         "Guillain-Barré syndrome (GBS) in children is an autoimmune disorder where the body's immune system mistakenly attacks the peripheral nervous system. The exact ...",
         "PACE Hospitals",
         "https://www.pacehospital.com › ...",
         ""
        ],
        [
         10,
         "Guillain-Barre syndrome - Neurology",
         "https://www.emoryhealthcare.org/conditions/neurology-conditions/guillain-barre-syndrome",
         "Emory offers full diagnostic and treatment services for Guillain-Barre Syndrome, including electrodiagnosis and nerve and or muscle biopsy and lab ...",
         "Emory Healthcare",
         "https://www.emoryhealthcare.org › ...",
         ""
        ],
        [
         6,
         "What is Guillain-Barre Syndrome (GBS)?",
         "https://npistanbul.com/en/what-is-guillain-barre-syndrome-gbs",
         "What is Guillain-Barre Syndrome (GBS)?. Guillain-Barre Syndrome (GBS) is an autoimmune disease in which the immune system attacks the peripheral ...",
         "NPİSTANBUL",
         "https://npistanbul.com › ...",
         ""
        ],
        [
         8,
         "Guillain-Barre Syndrome - What You Need to Know",
         "https://www.drugs.com/cg/guillain-barre-syndrome.html",
         "GBS is a rare condition that causes damage to nerves that control movement and your sense of touch.",
         "Drugs.com",
         "https://www.drugs.com › ...",
         ""
        ],
        [
         2,
         "Guillain-Barré Syndrome",
         "https://www.medcomic.com/medcomic/guillain-barre-syndrome",
         "Guillain-Barré syndrome (GBS) is an acute, inflammatory demyelinating polyneuropathy with ascending muscle weakness that is autoimmune in nature.",
         "Medcomic",
         "https://www.medcomic.com › ...",
         ""
        ],
        [
         2,
         "GUILLAIN-BARRÉ SYNDROME Definition & Meaning",
         "https://www.merriam-webster.com/dictionary/Guillain-Barr%C3%A9%20syndrome",
         "noun ... Note: The cause of Guillain-Barré syndrome is unknown but individuals often experience onset a few weeks after a respiratory or gastrointestinal illness.",
         "Merriam-Webster",
         "https://www.merriam-webster.com › ...",
         ""
        ],
        [
         9,
         "Guillain-Barré syndrome notes",
         "https://app.pulsenotes.com/medicine/neurology/notes/guillain-barre-syndrome",
         "Overview. Guillain-Barré syndrome is an acute, inflammatory polyneuropathy typically characterised by a progressive, ascending neuropathy resulting in weakness ...",
         "Pulsenotes",
         "https://app.pulsenotes.com › ...",
         ""
        ],
        [
         3,
         "Physical Therapy Guide to Guillain-Barré Syndrome",
         "https://www.choosept.com/guide/physical-therapy-guide-guillain-barre-syndrome",
         "Physical therapists have extensive training to help people during GBS recovery. They help patients understand how GBS affects their ability to move safely.",
         "ChoosePT",
         "https://www.choosept.com › ...",
         ""
        ],
        [
         1,
         "Guillain-Barre syndrome - Neurology",
         "https://www.emoryhealthcare.org/conditions/neurology-conditions/guillain-barre-syndrome",
         "Emory offers full diagnostic and treatment services for Guillain-Barre Syndrome, including electrodiagnosis and nerve and or muscle biopsy and lab ...",
         "Emory Healthcare",
         "https://www.emoryhealthcare.org › ...",
         ""
        ],
        [
         7,
         "Guillain-Barre Syndrome",
         "https://www.advocatehealth.com/health-services/brain-spine-institute/brain-care-center/conditions-treatments/neuromuscular-disorders/guillain-barre",
         "Physical therapists will work with you to make sure you regain strength and range of motion. It's sobering to realize that some people have permanent nerve ...",
         "Advocate Health Care",
         "https://www.advocatehealth.com › ...",
         ""
        ],
        [
         4,
         "Guillain-Barré Syndrome (for Parents)",
         "https://kidshealth.org/en/parents/gbs.html",
         "What Are the Signs & Symptoms of Guillain-Barré Syndrome? · tingling or pain in the toes and fingertips · weakness or pain in the legs that causes trouble ...",
         "KidsHealth",
         "https://kidshealth.org › ...",
         ""
        ],
        [
         5,
         "Guillain Barre Syndrome: Diagnosis, Symptoms & Care",
         "https://www.gillettechildrens.org/conditions-care/guillain-barre-syndrome",
         "What is Guillain-Barré syndrome? Guillain-Barré syndrome is an autoimmune disorder in which the body's immune system attacks the nerves. A tingling sensation is ...",
         "Gillette Children's Hospital",
         "https://www.gillettechildrens.org › ...",
         ""
        ],
        [
         1,
         "Guillain-Barré Syndrome | McGovern Medical School",
         "https://med.uth.edu/neurosciences/conditions-and-treatments/nerve-disorders/guillain-barre-syndrome/",
         "Signs Guillain-Barré Syndrome. Initial symptoms may present as pain, weakness, or tingling in the hands or feet. Patients usually experience this in one side of ...",
         "UTHealth Houston",
         "https://med.uth.edu › ...",
         ""
        ],
        [
         10,
         "Guillain-Barré Syndrome (GBS): Signs, Causes, Vaccine, ...",
         "https://www.verywellhealth.com/guillain-barre-syndrome-8387646",
         "Guillain-Barré syndrome is a rapidly progressive and dangerous nerve disease. It causes severe weakness that begins in the feet and moves up the ...",
         "Verywell Health",
         "https://www.verywellhealth.com › ...",
         ""
        ],
        [
         3,
         "India faces Guillain-Barré outbreak",
         "https://avinews.com/en/india-faces-guillain-barre-outbreak/",
         "India is currently grappling with an alarming outbreak of Guillain-Barré Syndrome (GBS), a rare neurological disorder that can lead to sudden and severe ...",
         "aviNews",
         "https://avinews.com › ...",
         ""
        ],
        [
         5,
         "Guillain–Barre syndrome and link with COVID-19 infection ...",
         "https://www.frontiersin.org/journals/neurology/articles/10.3389/fneur.2024.1396642/full",
         "Our study aims to review the literature on GBS and its epidemiological and pathophysiological association with COVID-19.",
         "Frontiers",
         "https://www.frontiersin.org › ...",
         ""
        ],
        [
         5,
         "Guillain-Barré Syndrome",
         "https://memorialhermann.org/services/conditions/guillain-barre-syndrome",
         "Given the sudden, unexpected onset and the severity of symptoms, GBS can be emotionally and physically devastating for patients and their families. It is often ...",
         "Memorial Hermann Health System",
         "https://memorialhermann.org › ...",
         ""
        ],
        [
         6,
         "Understanding and Treating Guillain-Barré Syndrome",
         "https://www.bannerhealth.com/services/neurology/diseases/guillain-barre-syndrome",
         "What are the symptoms of Guillain-Barré syndrome? · Difficulty with eye movements or double vision · Trouble swallowing, speaking or chewing · Severe cramping, ...",
         "Banner Health",
         "https://www.bannerhealth.com › ...",
         ""
        ],
        [
         7,
         "About Guillain-Barré Syndrome",
         "https://www.health.state.mn.us/diseases/gb/basics.html",
         "Guillain-Barré Syndrome (GBS) is a disease characterized by muscle weakness and sometimes paralysis. GBS can last for weeks to months. Most ...",
         "MN Dept. of Health",
         "https://www.health.state.mn.us › ...",
         ""
        ],
        [
         3,
         "Guillain-Barre Syndrome",
         "https://www.aurorahealthcare.org/services/neuroscience/neurology/neurological-conditions/neuromuscular-disorders/guillain-barre",
         "Although rare, some individuals experience permanent nerve damage, weakness, numbness, fatigue or pain after having Guillain-Barre syndrome. These long-term ...",
         "Aurora Health Care",
         "https://www.aurorahealthcare.org › ...",
         ""
        ],
        [
         9,
         "Guillain-Barré Syndrome (GBS) | NIH",
         "https://clinicalinfo.hiv.gov/en/glossary/guillain-barre-syndrome-gbs",
         "Guillain-Barré Syndrome (GBS) pronounce term ... A rare acute neurological disorder in which the immune system mistakenly attacks part of the peripheral nervous ...",
         "Clinical Info HIV.gov",
         "https://clinicalinfo.hiv.gov › ...",
         ""
        ],
        [
         2,
         "Guillain-Barré Syndrome (in Children)",
         "https://carle.org/conditions/pediatric-conditions/guillain-barre-syndrome",
         "What Are the Symptoms of Guillain-Barré Syndrome? First symptoms include weakness and tingling in the legs that often spread to the arms and upper body. These ...",
         "Carle Health",
         "https://carle.org › ...",
         ""
        ],
        [
         4,
         "Guillain-Barré Syndrome",
         "https://www.christushealth.org/get-care/services-specialties/neurology/neuromuscular-care/guillain-barre-syndrome",
         "What is Guillain-Barré Syndrome? In Guillain-Barré syndrome (GBS), the body's immune system attacks the nerves outside the brain and spinal cord (the peripheral ...",
         "CHRISTUS Health",
         "https://www.christushealth.org › ...",
         ""
        ],
        [
         8,
         "Guillain-Barre Syndrome (GBS) Symptoms, Treatment & ...",
         "https://www.emedicinehealth.com/guillain-barre_syndrome/article_em.htm",
         "Guillain-Barré Syndrome Symptoms · Weakness on both sides of the body may develop with numbness that starts in the legs and progresses into the trunk and moves ...",
         "eMedicineHealth",
         "https://www.emedicinehealth.com › ...",
         ""
        ],
        [
         4,
         "Guillain-Barre syndrome (GBS)",
         "https://gpnotebook.com/pages/infectious-disease/guillain-barre-syndrome-gbs",
         "Guillain-Barre syndrome (GBS) ... A prodromal malaise with vomiting, headache, fever and limb pains is rapidly surmounted by a progressive and ...",
         "GPnotebook",
         "https://gpnotebook.com › ...",
         ""
        ],
        [
         1,
         "Guillain-Barre Syndrome (GBS) Symptoms - Baptist Health",
         "https://www.baptisthealth.com/care-services/conditions-treatments/guillainbarre-syndrome",
         "It typically begins with a tingling sensation and feelings of weakness in the legs, and progresses quickly to more serious symptoms, including severe cramps, ...",
         "baptisthealth.com",
         "https://www.baptisthealth.com › ...",
         ""
        ],
        [
         7,
         "Guillain-Barré Syndrome",
         "https://www.childneurologyfoundation.org/disorder/guillain-barre-syndrome/",
         "The symptoms of GBS usually get worse over the first 2 to 4 weeks. Recovery usually starts after 4 weeks. Symptoms can continue to improve for 6 to 12 months.",
         "Child Neurology Foundation",
         "https://www.childneurologyfoundation.org › ...",
         ""
        ],
        [
         10,
         "Guillain-Barré Syndrome",
         "https://uvahealth.com/services/neurology/guillain-barre-syndrome",
         "GBS Treatment at UVA Health. The GBS-CIDP Foundation has designated UVA as a Center of Excellence, meaning we offer expert diagnosis and management of ...",
         "UVA Health",
         "https://uvahealth.com › ...",
         ""
        ],
        [
         6,
         "Guillain-Barre Syndrome Causes & Symptoms",
         "https://www.beaumont.org/conditions/guillain-barre-syndrome",
         "Signs and symptoms. GBS symptoms are characterized by weakness and tingling that is equal on both sides of the body, which usually affects the lower limbs and ...",
         "Beaumont.org",
         "https://www.beaumont.org › ...",
         ""
        ],
        [
         2,
         "Guillain-Barré Syndrome",
         "https://www.templehealth.org/services/conditions/guillain-barre-syndrome",
         "Symptoms · Abnormal blood pressure — Blood pressure is temporarily affected, and dangerously low pressure can occur. · Bladder incontinence — Some people with ...",
         "Temple Health",
         "https://www.templehealth.org › ...",
         ""
        ],
        [
         3,
         "When Your Child Has Guillain-Barre Syndrome (GBS)",
         "https://www.saintlukeskc.org/health-library/when-your-child-has-guillain-barre-syndrome-gbs",
         "Your child has been diagnosed with Guillain-Barré syndrome (GBS). This is an illness that affects the peripheral nerves, often both the sensory and motor ...",
         "Saint Luke's Health System Kansas City",
         "https://www.saintlukeskc.org › ...",
         ""
        ],
        [
         7,
         "Guillain-Barre syndrome | UCSF Neuromuscular Division",
         "https://neuromuscular.ucsf.edu/guillain-barre-syndrome",
         "The UCSF Neuromuscular Clinic provides comprehensive treatment for patients with various neuromuscular diseases, including Guillain-Barre syndrome. The ...",
         "UC San Francisco",
         "https://neuromuscular.ucsf.edu › ...",
         ""
        ],
        [
         5,
         "Guillain-Barré Syndrome (GBS) Facts & Resources",
         "https://www.csl.com/patients-public-health/rare-and-serious-diseases/immunodeficiency-and-autoimmune-diseases/guillain-barre-syndrome",
         "What is Guillain-Barré Syndrome (GBS)?. Guillain-Barré Syndrome (GBS; pronounced: ghee-YAN bah-RAY) is a rare autoimmune disorder in which the body's immune ...",
         "Global Biotechnology Company",
         "https://www.csl.com › ...",
         ""
        ],
        [
         8,
         "Guillain-Barre Syndrome (GBS)",
         "https://www.yalemedicine.org/clinical-keywords/guillain-barre-syndrome",
         "Definition. Guillain-Barre syndrome (GBS) is a rare neurological disorder in which the body's immune system mistakenly attacks the peripheral nerves, leading to ...",
         "Yale Medicine",
         "https://www.yalemedicine.org › ...",
         ""
        ],
        [
         9,
         "Listing: Guillain-Barré Syndrome Resources",
         "https://www.sralab.org/lifecenter/resources/listing-guillain-barre-syndrome-resources",
         "The following Guillain-Barré syndrome resources included in this listing provides information from the national and local programs level that focus primarily ...",
         "Shirley Ryan AbilityLab",
         "https://www.sralab.org › ...",
         ""
        ],
        [
         6,
         "Guillain-Barré Syndrome (GBS): Symptoms & Treatment - Health",
         "https://www.health.com/guillain-barre-syndrome-8604619",
         "Guillain-Barré syndrome (GBS) is an autoimmune disease that usually happens after a viral illness, vaccination, or infection with a specific bacteria called ...",
         "health.com",
         "https://www.health.com › ...",
         ""
        ],
        [
         4,
         "Guillain-Barré Syndrome vs. Myasthenia Gravis",
         "https://ameripharmaspecialty.com/myasthenia-gravis/guillain-barre-syndrome-vs-myasthenia-gravis/",
         "In conclusion, Guillain-barré syndrome and myasthenia gravis are both neurological autoimmune disorders and share some similarities in their ...",
         "AmeriPharma® Specialty Care",
         "https://ameripharmaspecialty.com › ...",
         ""
        ],
        [
         1,
         "Listing: Guillain-Barré Syndrome Resources",
         "https://www.sralab.org/lifecenter/resources/listing-guillain-barre-syndrome-resources",
         "The following Guillain-Barré syndrome resources included in this listing provides information from the national and local programs level that focus primarily ...",
         "Shirley Ryan AbilityLab",
         "https://www.sralab.org › ...",
         ""
        ],
        [
         8,
         "Miller Fisher variant of Guillain-Barre Syndrome",
         "https://eyewiki.org/Miller_Fisher_variant_of_Guillain-Barre_Syndrome",
         "Disease Entity · Disease. Miller Fisher syndrome (MFS), also known as Fisher syndrome and the Miller Fisher Variant of Guillain-Barré syndrome, is an autoimmune ...",
         "EyeWiki",
         "https://eyewiki.org › ...",
         ""
        ],
        [
         6,
         "Guillain-Barré Syndrome Lawyers and Lawsuits",
         "https://marlerclark.com/foodborne-illnesses/guillain-barre-syndrome",
         "We at Marler Clark provide Guillain-Barré syndrome lawyers and information to guide clients in the right direction.",
         "Marler Clark",
         "https://marlerclark.com › ...",
         ""
        ],
        [
         7,
         "Guillain-Barré Syndrome (GBS) - Neurologic Disorders",
         "https://www.msdmanuals.com/professional/neurologic-disorders/peripheral-nervous-system-and-motor-unit-disorders/guillain-barr%C3%A9-syndrome-gbs",
         "(Acute Idiopathic Polyneuritis; Acute Inflammatory Demyelinating Polyradiculoneuropathy) ... Guillain-Barré syndrome is an acute, usually rapidly progressive but ...",
         "MSD Manuals",
         "https://www.msdmanuals.com › ...",
         ""
        ],
        [
         10,
         "Guillain-Barre Syndrome - Neurology",
         "https://step2.medbullets.com/neurology/120319/guillain-barre-syndrome",
         "Definition: an immune-mediated polyneuropathy that has many variant forms. Miller Fisher syndrome.",
         "Medbullets",
         "https://step2.medbullets.com › ...",
         ""
        ],
        [
         9,
         "Guillain Barre Syndrome (GBS)",
         "https://emcrit.org/ibcc/gbs/",
         "albuminocytologic dissociation · The classic finding in GBS is albuminocytologic dissociation (elevated protein, despite normal cell count).",
         "EMCrit Blog",
         "https://emcrit.org › ...",
         ""
        ],
        [
         10,
         "Guillain–Barré Syndrome",
         "https://iapindia.org/pdf/Ch-053-stg-guillain-barre-syndrome.pdf",
         "GBS is the most common cause of acute flaccid paralysis in childhood. C linical Signs and Symptoms. ☑ Guillain–Barré syndrome presents with acute onset weakness ...",
         "Indian Academy of Pediatrics (IAP)",
         "https://iapindia.org › pdf › Ch-053-stg-guillain-b...",
         ""
        ],
        [
         9,
         "A rare paralysis syndrome is spiking in India this year. ...",
         "https://www.gavi.org/vaccineswork/cases-infection-linked-paralysis-syndrome-have-spiked-india-year-whats-story",
         "The symptoms of GBS typically begin with weakness, often starting in the legs and progressing upward, or 'ascending paralysis, says Debnath. The ...",
         "Gavi, the Vaccine Alliance",
         "https://www.gavi.org › ...",
         ""
        ],
        [
         3,
         "Guillain Barre Syndrome (GBS)",
         "https://emcrit.org/ibcc/gbs/",
         "albuminocytologic dissociation · The classic finding in GBS is albuminocytologic dissociation (elevated protein, despite normal cell count).",
         "EMCrit Blog",
         "https://emcrit.org › ...",
         ""
        ],
        [
         5,
         "Guillain-Barré syndrome related to COVID-19 infection",
         "https://www.neurology.org/doi/10.1212/NXI.0000000000000741",
         "We want to comment on a similar Guillain- Barré Syndrome (GBS) case following bilateral SARS-CoV2 pneumonia and to highlight the evolution of post-infectious ...",
         "Neurology® Journals",
         "https://www.neurology.org › ...",
         ""
        ],
        [
         2,
         "Guillain-Barré syndrome in adults: Treatment and prognosis",
         "https://www.uptodate.com/contents/guillain-barre-syndrome-in-adults-treatment-and-prognosis",
         "INTRODUCTION. The acute immune-mediated polyneuropathies are classified under the eponym Guillain-Barré syndrome (GBS), after the authors of ...",
         "Wolters Kluwer",
         "https://www.uptodate.com › ...",
         ""
        ],
        [
         1,
         "Miller Fisher variant of Guillain-Barre Syndrome",
         "https://eyewiki.org/Miller_Fisher_variant_of_Guillain-Barre_Syndrome",
         "Disease Entity · Disease. Miller Fisher syndrome (MFS), also known as Fisher syndrome and the Miller Fisher Variant of Guillain-Barré syndrome, is an autoimmune ...",
         "EyeWiki",
         "https://eyewiki.org › ...",
         ""
        ],
        [
         4,
         "Guillain–Barré Syndrome",
         "https://iapindia.org/pdf/Ch-053-stg-guillain-barre-syndrome.pdf",
         "GBS is the most common cause of acute flaccid paralysis in childhood. C linical Signs and Symptoms. ☑ Guillain–Barré syndrome presents with acute onset weakness ...",
         "Indian Academy of Pediatrics (IAP)",
         "https://iapindia.org › pdf › Ch-053-stg-guillain-b...",
         ""
        ],
        [
         8,
         "Guillain-Barré Syndrome | Upstate Neurological Institute",
         "https://www.upstate.edu/neuroinstitute/symptoms-conditions/guillain-barre-syndrome.php",
         "Symptoms · Weakness and tingling in the legs, arms, and face · Pain in the legs or back · Problems walking or climbing stairs · Problems breathing · Eyesight ...",
         "SUNY Upstate Medical University",
         "https://www.upstate.edu › ...",
         ""
        ]
       ],
       "datasetInfos": [],
       "dbfsResultPath": null,
       "isJsonSchema": true,
       "metadata": {},
       "overflow": false,
       "plotOptions": {
        "customPlotOptions": {},
        "displayType": "table",
        "pivotAggregation": null,
        "pivotColumns": null,
        "xColumns": null,
        "yColumns": null
       },
       "removedWidgets": [],
       "schema": [
        {
         "metadata": "{}",
         "name": "Position",
         "type": "\"integer\""
        },
        {
         "metadata": "{}",
         "name": "Title",
         "type": "\"string\""
        },
        {
         "metadata": "{}",
         "name": "Link",
         "type": "\"string\""
        },
        {
         "metadata": "{}",
         "name": "Snippet",
         "type": "\"string\""
        },
        {
         "metadata": "{}",
         "name": "Source",
         "type": "\"string\""
        },
        {
         "metadata": "{}",
         "name": "Displayed_Link",
         "type": "\"string\""
        },
        {
         "metadata": "{}",
         "name": "Sitelinks",
         "type": "\"string\""
        }
       ],
       "type": "table"
      }
     },
     "output_type": "display_data"
    }
   ],
   "source": [
    "%sql\n",
    "select * from final_serpapi_data"
   ]
  },
  {
   "cell_type": "markdown",
   "metadata": {
    "application/vnd.databricks.v1+cell": {
     "cellMetadata": {},
     "inputWidgets": {},
     "nuid": "62f73f3e-71d0-463a-a8f1-79c9966af0a7",
     "showTitle": false,
     "tableResultSettingsMap": {},
     "title": ""
    }
   },
   "source": [
    "**Derived Results Summary**"
   ]
  },
  {
   "cell_type": "markdown",
   "metadata": {
    "application/vnd.databricks.v1+cell": {
     "cellMetadata": {},
     "inputWidgets": {},
     "nuid": "d7248521-6976-44ff-a6bd-51d7d4c767a0",
     "showTitle": false,
     "tableResultSettingsMap": {},
     "title": ""
    }
   },
   "source": [
    "**Clinical Trials Data Insights:**\n",
    "\n",
    "- The majority of clinical trials related to Guillain-Barré Syndrome (GBS) are completed (31 studies), while a significant portion remains unknown or recruiting.\n",
    "\n",
    "- Only about 5.26% of the studies have published results, indicating that most clinical trials on GBS have yet to report their findings.\n",
    "\n",
    "- A filtered subset of studies with results was created for focused analysis, highlighting the available data for deeper examination.\n",
    "\n",
    "**SERP API Search Results Insights:**\n",
    "\n",
    "- The most frequent sources in Google search results include authoritative health organizations such as the Centers for Disease Control and Prevention (CDC), Mayo Clinic, and The Lancet, often appearing at top ranks.\n",
    "\n",
    "- Titles related to Guillain-Barré Syndrome appearing in the top 3 search positions are mostly from reputable medical institutions, emphasizing the dominance of credible sources in search results.\n",
    "\n",
    "- Search snippets are mainly focused on Symptoms, followed by Causes and Treatment, suggesting public interest and information availability centers on understanding and managing the condition."
   ]
  },
  {
   "cell_type": "markdown",
   "metadata": {
    "application/vnd.databricks.v1+cell": {
     "cellMetadata": {},
     "inputWidgets": {},
     "nuid": "d4b44630-4417-43e4-9a40-9e33d6f8cc00",
     "showTitle": false,
     "tableResultSettingsMap": {},
     "title": ""
    }
   },
   "source": []
  }
 ],
 "metadata": {
  "application/vnd.databricks.v1+notebook": {
   "computePreferences": null,
   "dashboards": [],
   "environmentMetadata": {
    "base_environment": "",
    "environment_version": "1"
   },
   "inputWidgetPreferences": null,
   "language": "python",
   "notebookMetadata": {
    "mostRecentlyExecutedCommandWithImplicitDF": {
     "commandId": 1502206967976473,
     "dataframes": [
      "_sqldf"
     ]
    },
    "pythonIndentUnit": 4
   },
   "notebookName": "Guillain-Barré Syndrome: Data Exploration with Clinical and Search Data",
   "widgets": {}
  }
 },
 "nbformat": 4,
 "nbformat_minor": 0
}